{
 "cells": [
  {
   "cell_type": "code",
   "execution_count": 132,
   "id": "d8b5acde",
   "metadata": {
    "execution": {
     "iopub.execute_input": "2024-10-27T05:51:00.569974Z",
     "iopub.status.busy": "2024-10-27T05:51:00.569611Z",
     "iopub.status.idle": "2024-10-27T05:51:00.576994Z",
     "shell.execute_reply": "2024-10-27T05:51:00.576064Z",
     "shell.execute_reply.started": "2024-10-27T05:51:00.569940Z"
    },
    "id": "579e9c4f-bb81-401a-9280-d215be513669"
   },
   "outputs": [],
   "source": [
    "import torch\n",
    "import torch.nn as nn\n",
    "import math\n",
    "import torch.utils.model_zoo as model_zoo\n",
    "import torchvision.transforms as transforms\n",
    "from torchvision.datasets import ImageFolder\n",
    "from torch.utils.data import DataLoader, Dataset\n",
    "import os\n",
    "import pandas as pd\n",
    "from PIL import Image\n",
    "import torch.optim as optim\n",
    "from torch.optim import AdamW\n",
    "from tqdm import tqdm\n",
    "import numpy as np \n",
    "from sklearn.metrics import accuracy_score, confusion_matrix, ConfusionMatrixDisplay\n",
    "import matplotlib.pyplot as plt\n",
    "import seaborn as sns\n",
    "import torch.nn.functional as F"
   ]
  },
  {
   "cell_type": "code",
   "execution_count": 133,
   "id": "3820d51b",
   "metadata": {
    "execution": {
     "iopub.execute_input": "2024-10-27T05:51:01.060583Z",
     "iopub.status.busy": "2024-10-27T05:51:01.060225Z",
     "iopub.status.idle": "2024-10-27T05:51:01.065567Z",
     "shell.execute_reply": "2024-10-27T05:51:01.064250Z",
     "shell.execute_reply.started": "2024-10-27T05:51:01.060545Z"
    },
    "id": "18e6d001-c057-4580-a5ff-d1f20c1b1f1b"
   },
   "outputs": [],
   "source": [
    "model_urls = {\n",
    "    'resnet18': 'https://download.pytorch.org/models/resnet18-5c106cde.pth',\n",
    "    # 'resnet34': 'https://download.pytorch.org/models/resnet34-333f7ec4.pth',\n",
    "    # 'resnet50': 'https://download.pytorch.org/models/resnet50-19c8e357.pth',\n",
    "    # 'resnet101': 'https://download.pytorch.org/models/resnet101-5d3b4d8f.pth',\n",
    "    # 'resnet152': 'https://download.pytorch.org/models/resnet152-b121ed2d.pth',\n",
    "}"
   ]
  },
  {
   "cell_type": "code",
   "execution_count": 134,
   "id": "efe78a43",
   "metadata": {
    "execution": {
     "iopub.execute_input": "2024-10-27T05:51:01.422556Z",
     "iopub.status.busy": "2024-10-27T05:51:01.422235Z",
     "iopub.status.idle": "2024-10-27T05:51:01.427246Z",
     "shell.execute_reply": "2024-10-27T05:51:01.426374Z",
     "shell.execute_reply.started": "2024-10-27T05:51:01.422524Z"
    },
    "id": "489ff69f-8164-49fa-b930-ca293d6bf96a"
   },
   "outputs": [],
   "source": [
    "def conv3x3(in_planes, out_planes, stride=1):\n",
    "    \"3x3 convolution with padding\"\n",
    "    return nn.Conv2d(in_planes, out_planes, kernel_size=3, stride=stride,\n",
    "                     padding=1, bias=False)"
   ]
  },
  {
   "cell_type": "code",
   "execution_count": 135,
   "id": "00e5fc60",
   "metadata": {
    "execution": {
     "iopub.execute_input": "2024-10-27T05:51:01.736307Z",
     "iopub.status.busy": "2024-10-27T05:51:01.735987Z",
     "iopub.status.idle": "2024-10-27T05:51:01.743586Z",
     "shell.execute_reply": "2024-10-27T05:51:01.742695Z",
     "shell.execute_reply.started": "2024-10-27T05:51:01.736273Z"
    },
    "id": "ddcf8890-3b5f-4cf2-9556-2396fc691ed9"
   },
   "outputs": [],
   "source": [
    "class ChannelAttention(nn.Module):\n",
    "    def __init__(self, in_planes, ratio=16):\n",
    "        super(ChannelAttention, self).__init__()\n",
    "        self.avg_pool = nn.AdaptiveAvgPool2d(1) # 1×1×64\n",
    "        self.max_pool = nn.AdaptiveMaxPool2d(1) # 1×1×64\n",
    "\n",
    "        self.fc = nn.Sequential(nn.Conv2d(in_planes, in_planes // 16, 1, bias=False), # 1×1×4\n",
    "                               nn.ReLU(), # 1×1×4\n",
    "                               nn.Conv2d(in_planes // 16, in_planes, 1, bias=False)) # 1×1×64\n",
    "        self.sigmoid = nn.Sigmoid() # 1×1×64\n",
    "\n",
    "    def forward(self, x):\n",
    "        avg_out = self.fc(self.avg_pool(x)) # 1×1×64\n",
    "        max_out = self.fc(self.max_pool(x)) # 1×1×64\n",
    "        out = avg_out + max_out # 1×1×64\n",
    "        return self.sigmoid(out) # 1×1×64"
   ]
  },
  {
   "cell_type": "code",
   "execution_count": 136,
   "id": "1e920ac1",
   "metadata": {
    "execution": {
     "iopub.execute_input": "2024-10-27T05:51:02.086191Z",
     "iopub.status.busy": "2024-10-27T05:51:02.085888Z",
     "iopub.status.idle": "2024-10-27T05:51:02.092974Z",
     "shell.execute_reply": "2024-10-27T05:51:02.091973Z",
     "shell.execute_reply.started": "2024-10-27T05:51:02.086160Z"
    },
    "id": "0260a2df-76c8-413f-a7bf-a1c3b6b97c1f"
   },
   "outputs": [],
   "source": [
    "class SpatialAttention(nn.Module):\n",
    "    def __init__(self, kernel_size=7):\n",
    "        super(SpatialAttention, self).__init__()\n",
    "\n",
    "        self.conv1 = nn.Conv2d(2, 1, kernel_size, padding=kernel_size//2, bias=False)\n",
    "        self.sigmoid = nn.Sigmoid()\n",
    "\n",
    "    def forward(self, x):\n",
    "        avg_out = torch.mean(x, dim=1, keepdim=True) # 56×56×1\n",
    "        max_out, _ = torch.max(x, dim=1, keepdim=True) # 56×56×1\n",
    "        x = torch.cat([avg_out, max_out], dim=1) # 56×56×2\n",
    "        x = self.conv1(x) # 56×56×1\n",
    "        return self.sigmoid(x) # 56×56×1"
   ]
  },
  {
   "cell_type": "code",
   "execution_count": 137,
   "id": "b0a6fa85",
   "metadata": {
    "execution": {
     "iopub.execute_input": "2024-10-27T05:51:02.457762Z",
     "iopub.status.busy": "2024-10-27T05:51:02.457056Z",
     "iopub.status.idle": "2024-10-27T05:51:02.467592Z",
     "shell.execute_reply": "2024-10-27T05:51:02.466549Z",
     "shell.execute_reply.started": "2024-10-27T05:51:02.457713Z"
    },
    "id": "41fecb88-333e-4ba1-86e9-a86fd507c273"
   },
   "outputs": [],
   "source": [
    "class BasicBlock(nn.Module):\n",
    "    expansion = 1\n",
    "\n",
    "    def __init__(self, inplanes, planes, stride=1, downsample=None):\n",
    "        super(BasicBlock, self).__init__()\n",
    "        self.conv1 = conv3x3(inplanes, planes, stride) # 56*56*64 \n",
    "        self.bn1 = nn.BatchNorm2d(planes) # 56*56*64 \n",
    "        self.relu = nn.ReLU(inplace=True) # 56*56*64 \n",
    "        self.conv2 = conv3x3(planes, planes) # 56*56*64 \n",
    "        self.bn2 = nn.BatchNorm2d(planes)\n",
    "\n",
    "        self.ca = ChannelAttention(planes)\n",
    "        self.sa = SpatialAttention()\n",
    "\n",
    "        self.downsample = downsample\n",
    "        self.stride = stride\n",
    "\n",
    "    def forward(self, x):\n",
    "        residual = x # (56×56×64, 56×56×64), (56×56×64, 28x28x128), (28x28x128, 14x14x256)\n",
    "\n",
    "        out = self.conv1(x) # (56*56*64, 56×56×64), (28*28*128, 28*28*128), (14x14x256, 14x14x256)\n",
    "        out = self.bn1(out) # (56*56*64, 56×56×64), (28*28*128, 28*28*128), (14x14x256, 14x14x256)\n",
    "        out = self.relu(out) # (56*56*64, 56×56×64), (28*28*128, 28*28*128), (14x14x256, 14x14x256)\n",
    "\n",
    "        out = self.conv2(out) # (56*56*64, 56×56×64), (28*28*128, 28*28*128), (14x14x256, 14x14x256)\n",
    "        out = self.bn2(out) # (56*56*64, 56×56×64), (28*28*128, 28*28*128), (14x14x256, 14x14x256)\n",
    "\n",
    "        out = self.ca(out) * out # (1*1*64) * (56*56*64) = (56*56*64; 56×56×64); (28*28*128; 28*28*128); (14x14x256, 14x14x256);\n",
    "        out = self.sa(out) * out # (56×56×1) * (56×56×64) = (56×56×64; 56×56×64); (28x28x128; 28*28*128); (14x14x256, 14x14x256);\n",
    "\n",
    "        if self.downsample is not None:\n",
    "            residual = self.downsample(x) # 28*28*128, 14x14x256 \n",
    "\n",
    "        out += residual # (56×56×64, 56×56×64), (28*28*128, 28*28*128), (14x14x256, 14x14x256)\n",
    "        out = self.relu(out) # (56×56×64, 56×56×64), (28*28*128, 28*28*128), (14x14x256, 14x14x256)\n",
    "\n",
    "        return out"
   ]
  },
  {
   "cell_type": "code",
   "execution_count": 138,
   "id": "4d586a30",
   "metadata": {
    "execution": {
     "iopub.execute_input": "2024-10-27T05:51:02.900969Z",
     "iopub.status.busy": "2024-10-27T05:51:02.900215Z",
     "iopub.status.idle": "2024-10-27T05:51:02.909622Z",
     "shell.execute_reply": "2024-10-27T05:51:02.908770Z",
     "shell.execute_reply.started": "2024-10-27T05:51:02.900936Z"
    }
   },
   "outputs": [],
   "source": [
    "class PatchExtraction(nn.Module):\n",
    "    def __init__(self):\n",
    "        super(PatchExtraction, self).__init__()\n",
    "\n",
    "        self.depthwise_conv1 = nn.Conv2d(256, 256, kernel_size=4, stride=4, padding=1, groups=256)  # Input: 14x14x256, Output: 4×4×256     \n",
    "        self.pointwise_conv1 = nn.Conv2d(256, 256, kernel_size=1, stride=1, padding=0)  # Output: 4×4×256\n",
    "        \n",
    "        self.depthwise_conv2 = nn.Conv2d(256, 256, kernel_size=2, stride=2, padding=0, groups=256)  # Output: 2×2×256\n",
    "        self.pointwise_conv2 = nn.Conv2d(256, 256, kernel_size=1, stride=1, padding=0)  # Output: 2×2×256\n",
    "\n",
    "        self.conv3 = nn.Conv2d(256, 256, kernel_size=1, stride=1, padding=0)  # Output: 2×2×256\n",
    "\n",
    "    def forward(self, x):\n",
    "        x = F.relu(self.depthwise_conv1(x))\n",
    "        x = F.relu(self.pointwise_conv1(x))\n",
    "\n",
    "        x = F.relu(self.depthwise_conv2(x))\n",
    "        x = F.relu(self.pointwise_conv2(x))\n",
    "\n",
    "        x = F.relu(self.conv3(x))\n",
    "        \n",
    "        return x"
   ]
  },
  {
   "cell_type": "code",
   "execution_count": 139,
   "id": "27eefd53",
   "metadata": {
    "execution": {
     "iopub.execute_input": "2024-10-27T05:51:03.505986Z",
     "iopub.status.busy": "2024-10-27T05:51:03.505131Z",
     "iopub.status.idle": "2024-10-27T05:51:03.525409Z",
     "shell.execute_reply": "2024-10-27T05:51:03.524407Z",
     "shell.execute_reply.started": "2024-10-27T05:51:03.505946Z"
    },
    "id": "42b16778-f805-4570-8455-179026a3c972"
   },
   "outputs": [],
   "source": [
    "class ResNet(nn.Module):\n",
    "\n",
    "    def __init__(self, block, layers, num_heads, num_classes=7):\n",
    "        self.inplanes = 64\n",
    "        self.num_heads = num_heads\n",
    "        super(ResNet, self).__init__()\n",
    "        self.conv1 = nn.Conv2d(3, 64, kernel_size=7, stride=2, padding=3,\n",
    "                               bias=False) # 112*112*64\n",
    "        self.bn1 = nn.BatchNorm2d(64) # 112*112*64\n",
    "        self.relu = nn.ReLU(inplace=True) # 112*112*64\n",
    "        self.maxpool = nn.MaxPool2d(kernel_size=3, stride=2, padding=1) # 56*56*64\n",
    "        self.layer1 = self._make_layer(block, 64, layers[0]) # 56×56×64\n",
    "        self.layer2 = self._make_layer(block, 128, layers[1], stride=2) # 28*28*128\n",
    "        self.layer3 = self._make_layer(block, 256, layers[2], stride=2) # 14*14*256 \n",
    "        self.patch_extraction = PatchExtraction() #  2×2×256\n",
    "\n",
    "        self.attention = nn.MultiheadAttention(256, num_heads)\n",
    "        # Input will be changed to the size 4x32x256 (see below forward code) which will be used as query key value \n",
    "        # weight matrix will have the size 256*(256) as default value (256) is default value we can change this by using vdim and kdim attributes of the class\n",
    "        # else weight matrix will have embed_dim * kdim for key matrix , after multiplying 4x32x256 will be the ouptut like this we will be having key query \n",
    "        # value matrix (Q)x(K.T)  query and key transpose multiplication will produce of size 4x32x4 and dividing it with sqrt(256) , this dividing saves the \n",
    "        # variance and makes it around 1 and also it gets trained without gradient saturation and finally it applies soft max on to this making each row value\n",
    "        #sum up to 1 of 4x4 matrix this for 32 batch size and multiplying it with 4x32x256 i.e 4x32x4 with 4x32x256 value matrix outputs the matrix 4x32x256\n",
    "        self.layer_norm = nn.LayerNorm(256)\n",
    "        self.global_avg_pool = nn.AdaptiveAvgPool2d(1) \n",
    "\n",
    "        self.classifier = nn.Linear(256, num_classes)\n",
    "\n",
    "        for m in self.classifier.modules():\n",
    "            if isinstance(m, nn.Linear):\n",
    "                fan_out = m.weight.size(0)  \n",
    "                fan_in = m.weight.size(1) if m.weight.dim() > 1 else 0  \n",
    "                init_range = 1.0 / math.sqrt(fan_in + fan_out)\n",
    "                m.weight.data.uniform_(-init_range, init_range)\n",
    "                if m.bias is not None:\n",
    "                    m.bias.data.zero_()\n",
    "\n",
    "    def _make_layer(self, block, planes, blocks, stride=1):\n",
    "        downsample = None\n",
    "        if stride != 1 or self.inplanes != planes * block.expansion:\n",
    "            downsample = nn.Sequential(\n",
    "                nn.Conv2d(self.inplanes, planes * block.expansion,\n",
    "                          kernel_size=1, stride=stride, bias=False), # 28*28*128, 14×14×256, \n",
    "                nn.BatchNorm2d(planes * block.expansion), # 28*28*128, 14×14×256\n",
    "            )\n",
    "\n",
    "        layers = []\n",
    "        layers.append(block(self.inplanes, planes, stride, downsample))\n",
    "        self.inplanes = planes * block.expansion\n",
    "        for i in range(1, blocks):\n",
    "            layers.append(block(self.inplanes, planes))\n",
    "\n",
    "        return nn.Sequential(*layers)\n",
    "\n",
    "    def forward(self, x):\n",
    "        x = self.conv1(x)\n",
    "        x = self.bn1(x)\n",
    "        x = self.relu(x)\n",
    "        x = self.maxpool(x)\n",
    "\n",
    "        x = self.layer1(x)\n",
    "        x = self.layer2(x)\n",
    "        x = self.layer3(x)\n",
    "\n",
    "        x = self.patch_extraction(x) \n",
    "\n",
    "        batch_size, channels, height, width = x.shape\n",
    "        x = x.view(batch_size, channels, height*width).permute(2,0,1)\n",
    "\n",
    "        query = x\n",
    "        key = x\n",
    "        value = x\n",
    "\n",
    "        attn_output, _ = self.attention(query, key, value)\n",
    "        x = self.layer_norm(attn_output + x)\n",
    "        x = x.permute(1,2,0).view(batch_size, channels, height, width) # 32*256*2*2\n",
    "        x = self.global_avg_pool(x).view(batch_size, -1) # 32*256\n",
    "\n",
    "        logits = self.classifier(x)\n",
    "\n",
    "        return logits"
   ]
  },
  {
   "cell_type": "code",
   "execution_count": 288,
   "id": "d09ec97b",
   "metadata": {
    "execution": {
     "iopub.execute_input": "2024-10-27T08:34:56.687318Z",
     "iopub.status.busy": "2024-10-27T08:34:56.686517Z",
     "iopub.status.idle": "2024-10-27T08:34:56.693444Z",
     "shell.execute_reply": "2024-10-27T08:34:56.692553Z",
     "shell.execute_reply.started": "2024-10-27T08:34:56.687276Z"
    }
   },
   "outputs": [],
   "source": [
    "def resnet18_cbam(pretrained=True, **kwargs):\n",
    "    \"\"\"Constructs a ResNet-18 model.\n",
    "\n",
    "    Args:\n",
    "        pretrained (bool): If True, returns a model pre-trained on ImageNet\n",
    "    \"\"\"\n",
    "    num_heads = 1\n",
    "    model = ResNet(BasicBlock, [2, 2, 2, 2], num_heads)\n",
    "#     if pretrained:\n",
    "#         pretrained_state_dict = model_zoo.load_url(model_urls['resnet18'])\n",
    "#         now_state_dict        = model.state_dict()\n",
    "#         now_state_dict.update(pretrained_state_dict)\n",
    "#         model.load_state_dict(now_state_dict, strict=False)\n",
    "    \n",
    "    if pretrained:\n",
    "        checkpoint = torch.load(r\"/kaggle/input/qdawsfegdrhfjghk/aug_epoch_12_acc_82.20_newmodel.pth\")\n",
    "        model.load_state_dict(checkpoint['model_state_dict'],strict=False)\n",
    "\n",
    "    \n",
    "    return model"
   ]
  },
  {
   "cell_type": "code",
   "execution_count": 289,
   "id": "6ecdcac2",
   "metadata": {
    "execution": {
     "iopub.execute_input": "2024-10-27T08:34:58.017229Z",
     "iopub.status.busy": "2024-10-27T08:34:58.016577Z",
     "iopub.status.idle": "2024-10-27T08:34:58.719346Z",
     "shell.execute_reply": "2024-10-27T08:34:58.718015Z",
     "shell.execute_reply.started": "2024-10-27T08:34:58.017190Z"
    }
   },
   "outputs": [
    {
     "name": "stderr",
     "output_type": "stream",
     "text": [
      "/tmp/ipykernel_30/3634161233.py:17: FutureWarning: You are using `torch.load` with `weights_only=False` (the current default value), which uses the default pickle module implicitly. It is possible to construct malicious pickle data which will execute arbitrary code during unpickling (See https://github.com/pytorch/pytorch/blob/main/SECURITY.md#untrusted-models for more details). In a future release, the default value for `weights_only` will be flipped to `True`. This limits the functions that could be executed during unpickling. Arbitrary objects will no longer be allowed to be loaded via this mode unless they are explicitly allowlisted by the user via `torch.serialization.add_safe_globals`. We recommend you start setting `weights_only=True` for any use case where you don't have full control of the loaded file. Please open an issue on GitHub for any issues related to this experimental feature.\n",
      "  checkpoint = torch.load(r\"/kaggle/input/qdawsfegdrhfjghk/aug_epoch_12_acc_82.20_newmodel.pth\")\n"
     ]
    }
   ],
   "source": [
    "model = resnet18_cbam()"
   ]
  },
  {
   "cell_type": "code",
   "execution_count": 292,
   "id": "e5efb0f7",
   "metadata": {
    "execution": {
     "iopub.execute_input": "2024-10-27T08:35:02.860040Z",
     "iopub.status.busy": "2024-10-27T08:35:02.859301Z",
     "iopub.status.idle": "2024-10-27T08:35:02.866377Z",
     "shell.execute_reply": "2024-10-27T08:35:02.865273Z",
     "shell.execute_reply.started": "2024-10-27T08:35:02.859998Z"
    }
   },
   "outputs": [
    {
     "data": {
      "text/plain": [
       "device(type='cuda')"
      ]
     },
     "execution_count": 292,
     "metadata": {},
     "output_type": "execute_result"
    }
   ],
   "source": [
    "device = torch.device('cuda' if torch.cuda.is_available() else 'cpu')\n",
    "device"
   ]
  },
  {
   "cell_type": "code",
   "execution_count": 293,
   "id": "f8a0158b",
   "metadata": {
    "execution": {
     "iopub.execute_input": "2024-10-27T08:35:03.079002Z",
     "iopub.status.busy": "2024-10-27T08:35:03.078669Z",
     "iopub.status.idle": "2024-10-27T08:35:03.093381Z",
     "shell.execute_reply": "2024-10-27T08:35:03.091715Z",
     "shell.execute_reply.started": "2024-10-27T08:35:03.078969Z"
    },
    "scrolled": true
   },
   "outputs": [],
   "source": [
    "model = model.to(device)"
   ]
  },
  {
   "cell_type": "code",
   "execution_count": 294,
   "id": "64b143e8",
   "metadata": {
    "execution": {
     "iopub.execute_input": "2024-10-27T08:35:06.297608Z",
     "iopub.status.busy": "2024-10-27T08:35:06.297226Z",
     "iopub.status.idle": "2024-10-27T08:35:06.302558Z",
     "shell.execute_reply": "2024-10-27T08:35:06.301587Z",
     "shell.execute_reply.started": "2024-10-27T08:35:06.297570Z"
    },
    "id": "03cd3076-fd58-4de5-a993-fac853812bce"
   },
   "outputs": [],
   "source": [
    "transform = transforms.Compose([\n",
    "    transforms.Resize((224, 224)),\n",
    "    transforms.ToTensor(),\n",
    "])"
   ]
  },
  {
   "cell_type": "code",
   "execution_count": 295,
   "id": "6ccab0f6",
   "metadata": {
    "execution": {
     "iopub.execute_input": "2024-10-27T08:35:06.687934Z",
     "iopub.status.busy": "2024-10-27T08:35:06.687232Z",
     "iopub.status.idle": "2024-10-27T08:35:06.693388Z",
     "shell.execute_reply": "2024-10-27T08:35:06.692358Z",
     "shell.execute_reply.started": "2024-10-27T08:35:06.687894Z"
    }
   },
   "outputs": [],
   "source": [
    "aug_transform = transforms.Compose([\n",
    "    transforms.Resize((224, 224)),  # Resize the image to 224x224\n",
    "    transforms.RandomHorizontalFlip(),  # Randomly flip the image horizontally\n",
    "    transforms.RandomRotation(10),  # Randomly rotate the image by up to 5 degrees\n",
    "    transforms.ColorJitter(brightness=0.2, contrast=0.2, saturation=0.2, hue=0.1),  # Slightly change brightness and contrast\n",
    "    transforms.ToTensor(),  # Convert the image to a PyTorch tensor\n",
    "])"
   ]
  },
  {
   "cell_type": "markdown",
   "id": "0c86a09c",
   "metadata": {
    "id": "a2eb0ecd-292c-41ab-b5ee-d250558f39d9"
   },
   "source": [
    "# Class Labels are 0-Indexed CAREFULL"
   ]
  },
  {
   "cell_type": "code",
   "execution_count": 150,
   "id": "c08cc324",
   "metadata": {
    "execution": {
     "iopub.execute_input": "2024-10-27T05:51:13.052087Z",
     "iopub.status.busy": "2024-10-27T05:51:13.051799Z",
     "iopub.status.idle": "2024-10-27T05:51:13.060228Z",
     "shell.execute_reply": "2024-10-27T05:51:13.059406Z",
     "shell.execute_reply.started": "2024-10-27T05:51:13.052055Z"
    },
    "id": "b7badb95-b47f-42ab-85dc-d1e02aa63d0b"
   },
   "outputs": [],
   "source": [
    "class CustomImageDataset(Dataset):\n",
    "    def __init__(self, image_dir, csv_file, transform=None):\n",
    "        self.image_dir = image_dir\n",
    "        self.transform = transform\n",
    "\n",
    "        self.data_frame = pd.read_csv(csv_file)\n",
    "\n",
    "        assert 'image' in self.data_frame.columns\n",
    "        assert 'label' in self.data_frame.columns\n",
    "\n",
    "    def __len__(self):\n",
    "        return len(self.data_frame)\n",
    "\n",
    "    def __getitem__(self, idx):\n",
    "        img_name = self.data_frame.iloc[idx, 0]  \n",
    "        class_label = self.data_frame.iloc[idx, 1] - 1  \n",
    "\n",
    "        class_folder = os.path.join(self.image_dir, str(class_label+1))  \n",
    "        img_path = os.path.join(class_folder, img_name)\n",
    "\n",
    "        image = Image.open(img_path).convert('RGB')\n",
    "\n",
    "        if self.transform:\n",
    "            image = self.transform(image)\n",
    "\n",
    "        return image, class_label"
   ]
  },
  {
   "cell_type": "code",
   "execution_count": 151,
   "id": "96b29e69",
   "metadata": {
    "execution": {
     "iopub.execute_input": "2024-10-27T05:51:13.839968Z",
     "iopub.status.busy": "2024-10-27T05:51:13.839215Z",
     "iopub.status.idle": "2024-10-27T05:51:13.844305Z",
     "shell.execute_reply": "2024-10-27T05:51:13.843304Z",
     "shell.execute_reply.started": "2024-10-27T05:51:13.839928Z"
    },
    "id": "aa27ec16-927e-4e09-b749-8a6d18011972"
   },
   "outputs": [],
   "source": [
    "image_directory = r\"/kaggle/input/raf-db-dataset/DATASET/train\"  \n",
    "csv_file_path = r\"/kaggle/input/raf-db-dataset/train_labels.csv\""
   ]
  },
  {
   "cell_type": "code",
   "execution_count": 152,
   "id": "913926b7",
   "metadata": {
    "execution": {
     "iopub.execute_input": "2024-10-27T05:51:14.083946Z",
     "iopub.status.busy": "2024-10-27T05:51:14.083624Z",
     "iopub.status.idle": "2024-10-27T05:51:14.107421Z",
     "shell.execute_reply": "2024-10-27T05:51:14.106413Z",
     "shell.execute_reply.started": "2024-10-27T05:51:14.083913Z"
    },
    "id": "a4ebf758-cb70-4921-aac6-3fc093533fc4"
   },
   "outputs": [],
   "source": [
    "train_dataset = CustomImageDataset(image_dir=image_directory, csv_file=csv_file_path, transform=transform)"
   ]
  },
  {
   "cell_type": "code",
   "execution_count": 153,
   "id": "a968594f",
   "metadata": {
    "execution": {
     "iopub.execute_input": "2024-10-27T05:51:14.311729Z",
     "iopub.status.busy": "2024-10-27T05:51:14.311402Z",
     "iopub.status.idle": "2024-10-27T05:51:14.327427Z",
     "shell.execute_reply": "2024-10-27T05:51:14.326669Z",
     "shell.execute_reply.started": "2024-10-27T05:51:14.311694Z"
    }
   },
   "outputs": [],
   "source": [
    "aug_train_dataset = CustomImageDataset(image_directory, csv_file_path, aug_transform)"
   ]
  },
  {
   "cell_type": "code",
   "execution_count": 154,
   "id": "824f4f5d",
   "metadata": {
    "execution": {
     "iopub.execute_input": "2024-10-27T05:51:14.537851Z",
     "iopub.status.busy": "2024-10-27T05:51:14.537532Z",
     "iopub.status.idle": "2024-10-27T05:51:14.543088Z",
     "shell.execute_reply": "2024-10-27T05:51:14.542215Z",
     "shell.execute_reply.started": "2024-10-27T05:51:14.537818Z"
    }
   },
   "outputs": [],
   "source": [
    "train_loader = DataLoader(train_dataset, batch_size=32, num_workers=4, pin_memory=True, shuffle=True)"
   ]
  },
  {
   "cell_type": "code",
   "execution_count": 155,
   "id": "035eb1d2",
   "metadata": {
    "execution": {
     "iopub.execute_input": "2024-10-27T05:51:15.360306Z",
     "iopub.status.busy": "2024-10-27T05:51:15.359963Z",
     "iopub.status.idle": "2024-10-27T05:51:15.364743Z",
     "shell.execute_reply": "2024-10-27T05:51:15.363880Z",
     "shell.execute_reply.started": "2024-10-27T05:51:15.360270Z"
    }
   },
   "outputs": [],
   "source": [
    "aug_train_loader = DataLoader(aug_train_dataset, batch_size=32, num_workers=4, pin_memory=True, shuffle=True)"
   ]
  },
  {
   "cell_type": "code",
   "execution_count": 156,
   "id": "7fbcf0c4",
   "metadata": {
    "execution": {
     "iopub.execute_input": "2024-10-27T05:51:15.596907Z",
     "iopub.status.busy": "2024-10-27T05:51:15.596586Z",
     "iopub.status.idle": "2024-10-27T05:51:15.617450Z",
     "shell.execute_reply": "2024-10-27T05:51:15.616523Z",
     "shell.execute_reply.started": "2024-10-27T05:51:15.596873Z"
    },
    "id": "f74qGWRn4mYD"
   },
   "outputs": [],
   "source": [
    "torch.cuda.empty_cache()"
   ]
  },
  {
   "cell_type": "code",
   "execution_count": 158,
   "id": "aafce9d5",
   "metadata": {
    "execution": {
     "iopub.execute_input": "2024-10-27T05:51:16.023477Z",
     "iopub.status.busy": "2024-10-27T05:51:16.023182Z",
     "iopub.status.idle": "2024-10-27T05:51:16.028979Z",
     "shell.execute_reply": "2024-10-27T05:51:16.028012Z",
     "shell.execute_reply.started": "2024-10-27T05:51:16.023441Z"
    },
    "id": "e6c77aa4-7e13-483f-938a-64df57fea96f"
   },
   "outputs": [],
   "source": [
    "criterion = nn.CrossEntropyLoss()\n",
    "optimizer = optim.AdamW(model.parameters(), lr=0.001, weight_decay=0.01)"
   ]
  },
  {
   "cell_type": "code",
   "execution_count": 159,
   "id": "17ac4e6c",
   "metadata": {
    "execution": {
     "iopub.execute_input": "2024-10-27T05:51:16.240805Z",
     "iopub.status.busy": "2024-10-27T05:51:16.240241Z",
     "iopub.status.idle": "2024-10-27T05:51:16.244986Z",
     "shell.execute_reply": "2024-10-27T05:51:16.244184Z",
     "shell.execute_reply.started": "2024-10-27T05:51:16.240758Z"
    },
    "id": "6BiC9Ry0nqd-"
   },
   "outputs": [],
   "source": [
    "os.makedirs('models', exist_ok=True)"
   ]
  },
  {
   "cell_type": "code",
   "execution_count": 160,
   "id": "bdbab063",
   "metadata": {
    "colab": {
     "base_uri": "https://localhost:8080/",
     "height": 55
    },
    "execution": {
     "iopub.execute_input": "2024-10-27T05:51:16.469988Z",
     "iopub.status.busy": "2024-10-27T05:51:16.469275Z",
     "iopub.status.idle": "2024-10-27T05:51:16.479674Z",
     "shell.execute_reply": "2024-10-27T05:51:16.478510Z",
     "shell.execute_reply.started": "2024-10-27T05:51:16.469935Z"
    },
    "id": "TOE5GMazqsMl",
    "outputId": "c30bc8a6-b2f4-42ae-9b4c-73bda762e30a"
   },
   "outputs": [
    {
     "data": {
      "text/plain": [
       "'/kaggle/working'"
      ]
     },
     "execution_count": 160,
     "metadata": {},
     "output_type": "execute_result"
    }
   ],
   "source": [
    "os.getcwd()"
   ]
  },
  {
   "cell_type": "code",
   "execution_count": 161,
   "id": "2d59d8b4",
   "metadata": {
    "execution": {
     "iopub.execute_input": "2024-10-27T05:51:16.681009Z",
     "iopub.status.busy": "2024-10-27T05:51:16.680632Z",
     "iopub.status.idle": "2024-10-27T05:51:16.686669Z",
     "shell.execute_reply": "2024-10-27T05:51:16.685939Z",
     "shell.execute_reply.started": "2024-10-27T05:51:16.680973Z"
    }
   },
   "outputs": [],
   "source": [
    "test_image_directory = r\"/kaggle/input/raf-db-dataset/DATASET/test\"\n",
    "test_csv_file_path = r\"/kaggle/input/raf-db-dataset/test_labels.csv\""
   ]
  },
  {
   "cell_type": "code",
   "execution_count": 162,
   "id": "59163cc5",
   "metadata": {
    "execution": {
     "iopub.execute_input": "2024-10-27T05:51:17.547383Z",
     "iopub.status.busy": "2024-10-27T05:51:17.546676Z",
     "iopub.status.idle": "2024-10-27T05:51:17.557433Z",
     "shell.execute_reply": "2024-10-27T05:51:17.556322Z",
     "shell.execute_reply.started": "2024-10-27T05:51:17.547343Z"
    }
   },
   "outputs": [],
   "source": [
    "test_dataset = CustomImageDataset(test_image_directory, test_csv_file_path, transform)"
   ]
  },
  {
   "cell_type": "code",
   "execution_count": 163,
   "id": "c865f0d6",
   "metadata": {
    "execution": {
     "iopub.execute_input": "2024-10-27T05:51:17.808044Z",
     "iopub.status.busy": "2024-10-27T05:51:17.807698Z",
     "iopub.status.idle": "2024-10-27T05:51:17.812527Z",
     "shell.execute_reply": "2024-10-27T05:51:17.811666Z",
     "shell.execute_reply.started": "2024-10-27T05:51:17.808011Z"
    }
   },
   "outputs": [],
   "source": [
    "test_loader = DataLoader(test_dataset, batch_size=32, num_workers=4, pin_memory=True, shuffle=True)"
   ]
  },
  {
   "cell_type": "code",
   "execution_count": 164,
   "id": "815efa56",
   "metadata": {
    "execution": {
     "iopub.execute_input": "2024-10-27T05:51:18.541843Z",
     "iopub.status.busy": "2024-10-27T05:51:18.541430Z",
     "iopub.status.idle": "2024-10-27T05:51:18.553907Z",
     "shell.execute_reply": "2024-10-27T05:51:18.552969Z",
     "shell.execute_reply.started": "2024-10-27T05:51:18.541803Z"
    },
    "id": "29a08383-0aa7-4122-86ae-3bcf8da03420"
   },
   "outputs": [],
   "source": [
    "def train(model, train_loader, test_loader, criterion, optimizer, device, num_epochs=20):\n",
    "    best_accuracy = 75\n",
    "    model.train()\n",
    "    for epoch in range(1, num_epochs+1):\n",
    "        running_loss = 0.0\n",
    "\n",
    "        for images, labels in tqdm(train_loader):\n",
    "            images, labels = images.to(device), labels.to(device)\n",
    "\n",
    "            optimizer.zero_grad()\n",
    "\n",
    "            outputs=model(images)\n",
    "            loss = criterion(outputs,labels)\n",
    "\n",
    "            loss.backward()\n",
    "            optimizer.step()\n",
    "\n",
    "            running_loss += loss.item()\n",
    "        epoch_loss = running_loss / len(train_loader)\n",
    "        print(f'Epoch [{epoch}/{num_epochs}], Loss: {epoch_loss:.4f}')\n",
    "        if epoch > 1 :\n",
    "            model.eval()\n",
    "            correct = 0\n",
    "            total = 0\n",
    "            with torch.no_grad():\n",
    "                for images, labels in tqdm(test_loader):\n",
    "                    images = images.to(device)\n",
    "                    labels = labels.to(device)\n",
    "                    \n",
    "                    logits = model(images)\n",
    "                    \n",
    "                    _, predicted = torch.max(logits, 1)\n",
    "                    total += labels.size(0)  \n",
    "                    correct += (predicted == labels).sum().item()\n",
    "            accuracy = 100*(correct/total)\n",
    "            print(f\"test_Acc : {accuracy}\")\n",
    "                \n",
    "            if accuracy > best_accuracy or epoch%20==0:\n",
    "                best_accuracy = accuracy\n",
    "                torch.save({'iter': epoch,\n",
    "                        'model_state_dict': model.state_dict(),\n",
    "                        'optimizer_state_dict': optimizer.state_dict(),},\n",
    "                        os.path.join('models', f\"aug_epoch_{epoch}_acc_{accuracy:.2f}_newmodel.pth\"))\n",
    "                print('Model saved.')\n",
    "            model.train()"
   ]
  },
  {
   "cell_type": "code",
   "execution_count": 95,
   "id": "31ed7bab",
   "metadata": {
    "colab": {
     "base_uri": "https://localhost:8080/"
    },
    "execution": {
     "iopub.execute_input": "2024-10-27T05:02:29.106272Z",
     "iopub.status.busy": "2024-10-27T05:02:29.105879Z",
     "iopub.status.idle": "2024-10-27T05:16:14.963501Z",
     "shell.execute_reply": "2024-10-27T05:16:14.962452Z",
     "shell.execute_reply.started": "2024-10-27T05:02:29.106232Z"
    },
    "id": "58970af0-2447-4401-aeee-de55d874ca94",
    "outputId": "b138da59-58d3-410c-a550-7dfb98216bd1"
   },
   "outputs": [
    {
     "name": "stderr",
     "output_type": "stream",
     "text": [
      "100%|██████████| 384/384 [00:37<00:00, 10.14it/s]\n"
     ]
    },
    {
     "name": "stdout",
     "output_type": "stream",
     "text": [
      "Epoch [1/20], Loss: 1.3731\n"
     ]
    },
    {
     "name": "stderr",
     "output_type": "stream",
     "text": [
      "100%|██████████| 384/384 [00:37<00:00, 10.31it/s]\n"
     ]
    },
    {
     "name": "stdout",
     "output_type": "stream",
     "text": [
      "Epoch [2/20], Loss: 0.9905\n"
     ]
    },
    {
     "name": "stderr",
     "output_type": "stream",
     "text": [
      "100%|██████████| 96/96 [00:05<00:00, 18.99it/s]\n"
     ]
    },
    {
     "name": "stdout",
     "output_type": "stream",
     "text": [
      "test_Acc : 68.48109517601043\n"
     ]
    },
    {
     "name": "stderr",
     "output_type": "stream",
     "text": [
      "100%|██████████| 384/384 [00:37<00:00, 10.29it/s]\n"
     ]
    },
    {
     "name": "stdout",
     "output_type": "stream",
     "text": [
      "Epoch [3/20], Loss: 0.7745\n"
     ]
    },
    {
     "name": "stderr",
     "output_type": "stream",
     "text": [
      "100%|██████████| 96/96 [00:04<00:00, 23.95it/s]\n"
     ]
    },
    {
     "name": "stdout",
     "output_type": "stream",
     "text": [
      "test_Acc : 70.73011734028684\n",
      "Model saved.\n"
     ]
    },
    {
     "name": "stderr",
     "output_type": "stream",
     "text": [
      "100%|██████████| 384/384 [00:37<00:00, 10.28it/s]\n"
     ]
    },
    {
     "name": "stdout",
     "output_type": "stream",
     "text": [
      "Epoch [4/20], Loss: 0.6318\n"
     ]
    },
    {
     "name": "stderr",
     "output_type": "stream",
     "text": [
      "100%|██████████| 96/96 [00:03<00:00, 24.03it/s]\n"
     ]
    },
    {
     "name": "stdout",
     "output_type": "stream",
     "text": [
      "test_Acc : 73.82659713168188\n",
      "Model saved.\n"
     ]
    },
    {
     "name": "stderr",
     "output_type": "stream",
     "text": [
      "100%|██████████| 384/384 [00:37<00:00, 10.29it/s]\n"
     ]
    },
    {
     "name": "stdout",
     "output_type": "stream",
     "text": [
      "Epoch [5/20], Loss: 0.5022\n"
     ]
    },
    {
     "name": "stderr",
     "output_type": "stream",
     "text": [
      "100%|██████████| 96/96 [00:03<00:00, 24.45it/s]\n"
     ]
    },
    {
     "name": "stdout",
     "output_type": "stream",
     "text": [
      "test_Acc : 75.91264667535854\n",
      "Model saved.\n"
     ]
    },
    {
     "name": "stderr",
     "output_type": "stream",
     "text": [
      "100%|██████████| 384/384 [00:37<00:00, 10.29it/s]\n"
     ]
    },
    {
     "name": "stdout",
     "output_type": "stream",
     "text": [
      "Epoch [6/20], Loss: 0.3788\n"
     ]
    },
    {
     "name": "stderr",
     "output_type": "stream",
     "text": [
      "100%|██████████| 96/96 [00:03<00:00, 24.32it/s]\n"
     ]
    },
    {
     "name": "stdout",
     "output_type": "stream",
     "text": [
      "test_Acc : 76.17340286831812\n",
      "Model saved.\n"
     ]
    },
    {
     "name": "stderr",
     "output_type": "stream",
     "text": [
      "100%|██████████| 384/384 [00:37<00:00, 10.29it/s]\n"
     ]
    },
    {
     "name": "stdout",
     "output_type": "stream",
     "text": [
      "Epoch [7/20], Loss: 0.2866\n"
     ]
    },
    {
     "name": "stderr",
     "output_type": "stream",
     "text": [
      "100%|██████████| 96/96 [00:04<00:00, 23.42it/s]\n"
     ]
    },
    {
     "name": "stdout",
     "output_type": "stream",
     "text": [
      "test_Acc : 76.49934810951761\n",
      "Model saved.\n"
     ]
    },
    {
     "name": "stderr",
     "output_type": "stream",
     "text": [
      "100%|██████████| 384/384 [00:37<00:00, 10.28it/s]\n"
     ]
    },
    {
     "name": "stdout",
     "output_type": "stream",
     "text": [
      "Epoch [8/20], Loss: 0.2066\n"
     ]
    },
    {
     "name": "stderr",
     "output_type": "stream",
     "text": [
      "100%|██████████| 96/96 [00:03<00:00, 24.18it/s]\n"
     ]
    },
    {
     "name": "stdout",
     "output_type": "stream",
     "text": [
      "test_Acc : 76.76010430247719\n",
      "Model saved.\n"
     ]
    },
    {
     "name": "stderr",
     "output_type": "stream",
     "text": [
      "100%|██████████| 384/384 [00:37<00:00, 10.29it/s]\n"
     ]
    },
    {
     "name": "stdout",
     "output_type": "stream",
     "text": [
      "Epoch [9/20], Loss: 0.1458\n"
     ]
    },
    {
     "name": "stderr",
     "output_type": "stream",
     "text": [
      "100%|██████████| 96/96 [00:04<00:00, 23.49it/s]\n"
     ]
    },
    {
     "name": "stdout",
     "output_type": "stream",
     "text": [
      "test_Acc : 75.19556714471969\n"
     ]
    },
    {
     "name": "stderr",
     "output_type": "stream",
     "text": [
      "100%|██████████| 384/384 [00:37<00:00, 10.27it/s]\n"
     ]
    },
    {
     "name": "stdout",
     "output_type": "stream",
     "text": [
      "Epoch [10/20], Loss: 0.1244\n"
     ]
    },
    {
     "name": "stderr",
     "output_type": "stream",
     "text": [
      "100%|██████████| 96/96 [00:04<00:00, 23.39it/s]\n"
     ]
    },
    {
     "name": "stdout",
     "output_type": "stream",
     "text": [
      "test_Acc : 75.13037809647979\n"
     ]
    },
    {
     "name": "stderr",
     "output_type": "stream",
     "text": [
      "100%|██████████| 384/384 [00:37<00:00, 10.27it/s]\n"
     ]
    },
    {
     "name": "stdout",
     "output_type": "stream",
     "text": [
      "Epoch [11/20], Loss: 0.0999\n"
     ]
    },
    {
     "name": "stderr",
     "output_type": "stream",
     "text": [
      "100%|██████████| 96/96 [00:03<00:00, 24.35it/s]\n"
     ]
    },
    {
     "name": "stdout",
     "output_type": "stream",
     "text": [
      "test_Acc : 76.53194263363756\n"
     ]
    },
    {
     "name": "stderr",
     "output_type": "stream",
     "text": [
      "100%|██████████| 384/384 [00:37<00:00, 10.29it/s]\n"
     ]
    },
    {
     "name": "stdout",
     "output_type": "stream",
     "text": [
      "Epoch [12/20], Loss: 0.0575\n"
     ]
    },
    {
     "name": "stderr",
     "output_type": "stream",
     "text": [
      "100%|██████████| 96/96 [00:04<00:00, 22.59it/s]\n"
     ]
    },
    {
     "name": "stdout",
     "output_type": "stream",
     "text": [
      "test_Acc : 76.36897001303781\n"
     ]
    },
    {
     "name": "stderr",
     "output_type": "stream",
     "text": [
      "100%|██████████| 384/384 [00:37<00:00, 10.28it/s]\n"
     ]
    },
    {
     "name": "stdout",
     "output_type": "stream",
     "text": [
      "Epoch [13/20], Loss: 0.0656\n"
     ]
    },
    {
     "name": "stderr",
     "output_type": "stream",
     "text": [
      "100%|██████████| 96/96 [00:03<00:00, 24.31it/s]\n"
     ]
    },
    {
     "name": "stdout",
     "output_type": "stream",
     "text": [
      "test_Acc : 77.15123859191657\n",
      "Model saved.\n"
     ]
    },
    {
     "name": "stderr",
     "output_type": "stream",
     "text": [
      "100%|██████████| 384/384 [00:37<00:00, 10.29it/s]\n"
     ]
    },
    {
     "name": "stdout",
     "output_type": "stream",
     "text": [
      "Epoch [14/20], Loss: 0.0921\n"
     ]
    },
    {
     "name": "stderr",
     "output_type": "stream",
     "text": [
      "100%|██████████| 96/96 [00:03<00:00, 24.05it/s]\n"
     ]
    },
    {
     "name": "stdout",
     "output_type": "stream",
     "text": [
      "test_Acc : 77.73794002607562\n",
      "Model saved.\n"
     ]
    },
    {
     "name": "stderr",
     "output_type": "stream",
     "text": [
      "100%|██████████| 384/384 [00:37<00:00, 10.27it/s]\n"
     ]
    },
    {
     "name": "stdout",
     "output_type": "stream",
     "text": [
      "Epoch [15/20], Loss: 0.0495\n"
     ]
    },
    {
     "name": "stderr",
     "output_type": "stream",
     "text": [
      "100%|██████████| 96/96 [00:03<00:00, 24.33it/s]\n"
     ]
    },
    {
     "name": "stdout",
     "output_type": "stream",
     "text": [
      "test_Acc : 78.16166883963494\n",
      "Model saved.\n"
     ]
    },
    {
     "name": "stderr",
     "output_type": "stream",
     "text": [
      "100%|██████████| 384/384 [00:37<00:00, 10.29it/s]\n"
     ]
    },
    {
     "name": "stdout",
     "output_type": "stream",
     "text": [
      "Epoch [16/20], Loss: 0.0695\n"
     ]
    },
    {
     "name": "stderr",
     "output_type": "stream",
     "text": [
      "100%|██████████| 96/96 [00:04<00:00, 23.93it/s]\n"
     ]
    },
    {
     "name": "stdout",
     "output_type": "stream",
     "text": [
      "test_Acc : 75.65189048239895\n"
     ]
    },
    {
     "name": "stderr",
     "output_type": "stream",
     "text": [
      "100%|██████████| 384/384 [00:37<00:00, 10.30it/s]\n"
     ]
    },
    {
     "name": "stdout",
     "output_type": "stream",
     "text": [
      "Epoch [17/20], Loss: 0.0451\n"
     ]
    },
    {
     "name": "stderr",
     "output_type": "stream",
     "text": [
      "100%|██████████| 96/96 [00:04<00:00, 23.85it/s]\n"
     ]
    },
    {
     "name": "stdout",
     "output_type": "stream",
     "text": [
      "test_Acc : 77.11864406779661\n"
     ]
    },
    {
     "name": "stderr",
     "output_type": "stream",
     "text": [
      "100%|██████████| 384/384 [00:37<00:00, 10.30it/s]\n"
     ]
    },
    {
     "name": "stdout",
     "output_type": "stream",
     "text": [
      "Epoch [18/20], Loss: 0.0422\n"
     ]
    },
    {
     "name": "stderr",
     "output_type": "stream",
     "text": [
      "100%|██████████| 96/96 [00:04<00:00, 23.79it/s]\n"
     ]
    },
    {
     "name": "stdout",
     "output_type": "stream",
     "text": [
      "test_Acc : 75.78226857887876\n"
     ]
    },
    {
     "name": "stderr",
     "output_type": "stream",
     "text": [
      "100%|██████████| 384/384 [00:37<00:00, 10.29it/s]\n"
     ]
    },
    {
     "name": "stdout",
     "output_type": "stream",
     "text": [
      "Epoch [19/20], Loss: 0.0545\n"
     ]
    },
    {
     "name": "stderr",
     "output_type": "stream",
     "text": [
      "100%|██████████| 96/96 [00:04<00:00, 22.00it/s]\n"
     ]
    },
    {
     "name": "stdout",
     "output_type": "stream",
     "text": [
      "test_Acc : 76.95567144719688\n"
     ]
    },
    {
     "name": "stderr",
     "output_type": "stream",
     "text": [
      "100%|██████████| 384/384 [00:37<00:00, 10.30it/s]\n"
     ]
    },
    {
     "name": "stdout",
     "output_type": "stream",
     "text": [
      "Epoch [20/20], Loss: 0.0529\n"
     ]
    },
    {
     "name": "stderr",
     "output_type": "stream",
     "text": [
      "100%|██████████| 96/96 [00:04<00:00, 23.82it/s]"
     ]
    },
    {
     "name": "stdout",
     "output_type": "stream",
     "text": [
      "test_Acc : 77.54237288135593\n",
      "Model saved.\n"
     ]
    },
    {
     "name": "stderr",
     "output_type": "stream",
     "text": [
      "\n"
     ]
    }
   ],
   "source": [
    "train(model, train_loader, test_loader, criterion, optimizer, device, num_epochs=20)"
   ]
  },
  {
   "cell_type": "code",
   "execution_count": 165,
   "id": "abc15593",
   "metadata": {
    "execution": {
     "iopub.execute_input": "2024-10-27T05:51:24.845573Z",
     "iopub.status.busy": "2024-10-27T05:51:24.845197Z",
     "iopub.status.idle": "2024-10-27T06:24:28.463593Z",
     "shell.execute_reply": "2024-10-27T06:24:28.462456Z",
     "shell.execute_reply.started": "2024-10-27T05:51:24.845535Z"
    }
   },
   "outputs": [
    {
     "name": "stderr",
     "output_type": "stream",
     "text": [
      "100%|██████████| 384/384 [00:47<00:00,  8.11it/s]\n"
     ]
    },
    {
     "name": "stdout",
     "output_type": "stream",
     "text": [
      "Epoch [1/40], Loss: 0.6193\n"
     ]
    },
    {
     "name": "stderr",
     "output_type": "stream",
     "text": [
      "100%|██████████| 384/384 [00:45<00:00,  8.42it/s]\n"
     ]
    },
    {
     "name": "stdout",
     "output_type": "stream",
     "text": [
      "Epoch [2/40], Loss: 0.5053\n"
     ]
    },
    {
     "name": "stderr",
     "output_type": "stream",
     "text": [
      "100%|██████████| 96/96 [00:04<00:00, 19.97it/s]\n"
     ]
    },
    {
     "name": "stdout",
     "output_type": "stream",
     "text": [
      "test_Acc : 79.5632333767927\n",
      "Model saved.\n"
     ]
    },
    {
     "name": "stderr",
     "output_type": "stream",
     "text": [
      "100%|██████████| 384/384 [00:45<00:00,  8.44it/s]\n"
     ]
    },
    {
     "name": "stdout",
     "output_type": "stream",
     "text": [
      "Epoch [3/40], Loss: 0.4596\n"
     ]
    },
    {
     "name": "stderr",
     "output_type": "stream",
     "text": [
      "100%|██████████| 96/96 [00:04<00:00, 22.85it/s]\n"
     ]
    },
    {
     "name": "stdout",
     "output_type": "stream",
     "text": [
      "test_Acc : 80.24771838331161\n",
      "Model saved.\n"
     ]
    },
    {
     "name": "stderr",
     "output_type": "stream",
     "text": [
      "100%|██████████| 384/384 [00:45<00:00,  8.45it/s]\n"
     ]
    },
    {
     "name": "stdout",
     "output_type": "stream",
     "text": [
      "Epoch [4/40], Loss: 0.4096\n"
     ]
    },
    {
     "name": "stderr",
     "output_type": "stream",
     "text": [
      "100%|██████████| 96/96 [00:03<00:00, 24.39it/s]\n"
     ]
    },
    {
     "name": "stdout",
     "output_type": "stream",
     "text": [
      "test_Acc : 79.85658409387223\n"
     ]
    },
    {
     "name": "stderr",
     "output_type": "stream",
     "text": [
      "100%|██████████| 384/384 [00:45<00:00,  8.46it/s]\n"
     ]
    },
    {
     "name": "stdout",
     "output_type": "stream",
     "text": [
      "Epoch [5/40], Loss: 0.3955\n"
     ]
    },
    {
     "name": "stderr",
     "output_type": "stream",
     "text": [
      "100%|██████████| 96/96 [00:04<00:00, 22.03it/s]\n"
     ]
    },
    {
     "name": "stdout",
     "output_type": "stream",
     "text": [
      "test_Acc : 79.40026075619296\n"
     ]
    },
    {
     "name": "stderr",
     "output_type": "stream",
     "text": [
      "100%|██████████| 384/384 [00:45<00:00,  8.44it/s]\n"
     ]
    },
    {
     "name": "stdout",
     "output_type": "stream",
     "text": [
      "Epoch [6/40], Loss: 0.3616\n"
     ]
    },
    {
     "name": "stderr",
     "output_type": "stream",
     "text": [
      "100%|██████████| 96/96 [00:03<00:00, 24.13it/s]\n"
     ]
    },
    {
     "name": "stdout",
     "output_type": "stream",
     "text": [
      "test_Acc : 78.0638852672751\n"
     ]
    },
    {
     "name": "stderr",
     "output_type": "stream",
     "text": [
      "100%|██████████| 384/384 [00:45<00:00,  8.36it/s]\n"
     ]
    },
    {
     "name": "stdout",
     "output_type": "stream",
     "text": [
      "Epoch [7/40], Loss: 0.3418\n"
     ]
    },
    {
     "name": "stderr",
     "output_type": "stream",
     "text": [
      "100%|██████████| 96/96 [00:04<00:00, 23.87it/s]\n"
     ]
    },
    {
     "name": "stdout",
     "output_type": "stream",
     "text": [
      "test_Acc : 79.23728813559322\n"
     ]
    },
    {
     "name": "stderr",
     "output_type": "stream",
     "text": [
      "100%|██████████| 384/384 [00:45<00:00,  8.45it/s]\n"
     ]
    },
    {
     "name": "stdout",
     "output_type": "stream",
     "text": [
      "Epoch [8/40], Loss: 0.3234\n"
     ]
    },
    {
     "name": "stderr",
     "output_type": "stream",
     "text": [
      "100%|██████████| 96/96 [00:03<00:00, 24.29it/s]\n"
     ]
    },
    {
     "name": "stdout",
     "output_type": "stream",
     "text": [
      "test_Acc : 79.13950456323337\n"
     ]
    },
    {
     "name": "stderr",
     "output_type": "stream",
     "text": [
      "100%|██████████| 384/384 [00:46<00:00,  8.34it/s]\n"
     ]
    },
    {
     "name": "stdout",
     "output_type": "stream",
     "text": [
      "Epoch [9/40], Loss: 0.2921\n"
     ]
    },
    {
     "name": "stderr",
     "output_type": "stream",
     "text": [
      "100%|██████████| 96/96 [00:03<00:00, 24.45it/s]\n"
     ]
    },
    {
     "name": "stdout",
     "output_type": "stream",
     "text": [
      "test_Acc : 80.50847457627118\n",
      "Model saved.\n"
     ]
    },
    {
     "name": "stderr",
     "output_type": "stream",
     "text": [
      "100%|██████████| 384/384 [00:45<00:00,  8.46it/s]\n"
     ]
    },
    {
     "name": "stdout",
     "output_type": "stream",
     "text": [
      "Epoch [10/40], Loss: 0.2692\n"
     ]
    },
    {
     "name": "stderr",
     "output_type": "stream",
     "text": [
      "100%|██████████| 96/96 [00:03<00:00, 24.08it/s]\n"
     ]
    },
    {
     "name": "stdout",
     "output_type": "stream",
     "text": [
      "test_Acc : 79.79139504563233\n"
     ]
    },
    {
     "name": "stderr",
     "output_type": "stream",
     "text": [
      "100%|██████████| 384/384 [00:46<00:00,  8.32it/s]\n"
     ]
    },
    {
     "name": "stdout",
     "output_type": "stream",
     "text": [
      "Epoch [11/40], Loss: 0.2696\n"
     ]
    },
    {
     "name": "stderr",
     "output_type": "stream",
     "text": [
      "100%|██████████| 96/96 [00:03<00:00, 24.29it/s]\n"
     ]
    },
    {
     "name": "stdout",
     "output_type": "stream",
     "text": [
      "test_Acc : 79.82398956975229\n"
     ]
    },
    {
     "name": "stderr",
     "output_type": "stream",
     "text": [
      "100%|██████████| 384/384 [00:45<00:00,  8.45it/s]\n"
     ]
    },
    {
     "name": "stdout",
     "output_type": "stream",
     "text": [
      "Epoch [12/40], Loss: 0.2412\n"
     ]
    },
    {
     "name": "stderr",
     "output_type": "stream",
     "text": [
      "100%|██████████| 96/96 [00:04<00:00, 23.98it/s]\n"
     ]
    },
    {
     "name": "stdout",
     "output_type": "stream",
     "text": [
      "test_Acc : 82.20338983050848\n",
      "Model saved.\n"
     ]
    },
    {
     "name": "stderr",
     "output_type": "stream",
     "text": [
      "100%|██████████| 384/384 [00:45<00:00,  8.37it/s]\n"
     ]
    },
    {
     "name": "stdout",
     "output_type": "stream",
     "text": [
      "Epoch [13/40], Loss: 0.2327\n"
     ]
    },
    {
     "name": "stderr",
     "output_type": "stream",
     "text": [
      "100%|██████████| 96/96 [00:03<00:00, 24.04it/s]\n"
     ]
    },
    {
     "name": "stdout",
     "output_type": "stream",
     "text": [
      "test_Acc : 79.4328552803129\n"
     ]
    },
    {
     "name": "stderr",
     "output_type": "stream",
     "text": [
      "100%|██████████| 384/384 [00:45<00:00,  8.47it/s]\n"
     ]
    },
    {
     "name": "stdout",
     "output_type": "stream",
     "text": [
      "Epoch [14/40], Loss: 0.2184\n"
     ]
    },
    {
     "name": "stderr",
     "output_type": "stream",
     "text": [
      "100%|██████████| 96/96 [00:04<00:00, 23.98it/s]\n"
     ]
    },
    {
     "name": "stdout",
     "output_type": "stream",
     "text": [
      "test_Acc : 81.16036505867015\n"
     ]
    },
    {
     "name": "stderr",
     "output_type": "stream",
     "text": [
      "100%|██████████| 384/384 [00:46<00:00,  8.31it/s]\n"
     ]
    },
    {
     "name": "stdout",
     "output_type": "stream",
     "text": [
      "Epoch [15/40], Loss: 0.2104\n"
     ]
    },
    {
     "name": "stderr",
     "output_type": "stream",
     "text": [
      "100%|██████████| 96/96 [00:03<00:00, 24.28it/s]\n"
     ]
    },
    {
     "name": "stdout",
     "output_type": "stream",
     "text": [
      "test_Acc : 81.25814863103\n"
     ]
    },
    {
     "name": "stderr",
     "output_type": "stream",
     "text": [
      "100%|██████████| 384/384 [00:45<00:00,  8.46it/s]\n"
     ]
    },
    {
     "name": "stdout",
     "output_type": "stream",
     "text": [
      "Epoch [16/40], Loss: 0.1949\n"
     ]
    },
    {
     "name": "stderr",
     "output_type": "stream",
     "text": [
      "100%|██████████| 96/96 [00:04<00:00, 21.90it/s]\n"
     ]
    },
    {
     "name": "stdout",
     "output_type": "stream",
     "text": [
      "test_Acc : 81.87744458930901\n"
     ]
    },
    {
     "name": "stderr",
     "output_type": "stream",
     "text": [
      "100%|██████████| 384/384 [00:45<00:00,  8.47it/s]\n"
     ]
    },
    {
     "name": "stdout",
     "output_type": "stream",
     "text": [
      "Epoch [17/40], Loss: 0.1816\n"
     ]
    },
    {
     "name": "stderr",
     "output_type": "stream",
     "text": [
      "100%|██████████| 96/96 [00:04<00:00, 23.77it/s]\n"
     ]
    },
    {
     "name": "stdout",
     "output_type": "stream",
     "text": [
      "test_Acc : 79.33507170795306\n"
     ]
    },
    {
     "name": "stderr",
     "output_type": "stream",
     "text": [
      "100%|██████████| 384/384 [00:45<00:00,  8.39it/s]\n"
     ]
    },
    {
     "name": "stdout",
     "output_type": "stream",
     "text": [
      "Epoch [18/40], Loss: 0.1769\n"
     ]
    },
    {
     "name": "stderr",
     "output_type": "stream",
     "text": [
      "100%|██████████| 96/96 [00:04<00:00, 23.87it/s]\n"
     ]
    },
    {
     "name": "stdout",
     "output_type": "stream",
     "text": [
      "test_Acc : 81.87744458930901\n"
     ]
    },
    {
     "name": "stderr",
     "output_type": "stream",
     "text": [
      "100%|██████████| 384/384 [00:45<00:00,  8.46it/s]\n"
     ]
    },
    {
     "name": "stdout",
     "output_type": "stream",
     "text": [
      "Epoch [19/40], Loss: 0.1810\n"
     ]
    },
    {
     "name": "stderr",
     "output_type": "stream",
     "text": [
      "100%|██████████| 96/96 [00:04<00:00, 23.91it/s]\n"
     ]
    },
    {
     "name": "stdout",
     "output_type": "stream",
     "text": [
      "test_Acc : 81.25814863103\n"
     ]
    },
    {
     "name": "stderr",
     "output_type": "stream",
     "text": [
      "100%|██████████| 384/384 [00:46<00:00,  8.35it/s]\n"
     ]
    },
    {
     "name": "stdout",
     "output_type": "stream",
     "text": [
      "Epoch [20/40], Loss: 0.1646\n"
     ]
    },
    {
     "name": "stderr",
     "output_type": "stream",
     "text": [
      "100%|██████████| 96/96 [00:03<00:00, 24.19it/s]\n"
     ]
    },
    {
     "name": "stdout",
     "output_type": "stream",
     "text": [
      "test_Acc : 79.82398956975229\n",
      "Model saved.\n"
     ]
    },
    {
     "name": "stderr",
     "output_type": "stream",
     "text": [
      "100%|██████████| 384/384 [00:45<00:00,  8.41it/s]\n"
     ]
    },
    {
     "name": "stdout",
     "output_type": "stream",
     "text": [
      "Epoch [21/40], Loss: 0.1539\n"
     ]
    },
    {
     "name": "stderr",
     "output_type": "stream",
     "text": [
      "100%|██████████| 96/96 [00:03<00:00, 24.33it/s]\n"
     ]
    },
    {
     "name": "stdout",
     "output_type": "stream",
     "text": [
      "test_Acc : 80.14993481095176\n",
      "Model saved.\n"
     ]
    },
    {
     "name": "stderr",
     "output_type": "stream",
     "text": [
      "100%|██████████| 384/384 [00:46<00:00,  8.34it/s]\n"
     ]
    },
    {
     "name": "stdout",
     "output_type": "stream",
     "text": [
      "Epoch [22/40], Loss: 0.1509\n"
     ]
    },
    {
     "name": "stderr",
     "output_type": "stream",
     "text": [
      "100%|██████████| 96/96 [00:04<00:00, 24.00it/s]\n"
     ]
    },
    {
     "name": "stdout",
     "output_type": "stream",
     "text": [
      "test_Acc : 80.80182529335072\n",
      "Model saved.\n"
     ]
    },
    {
     "name": "stderr",
     "output_type": "stream",
     "text": [
      "100%|██████████| 384/384 [00:45<00:00,  8.46it/s]\n"
     ]
    },
    {
     "name": "stdout",
     "output_type": "stream",
     "text": [
      "Epoch [23/40], Loss: 0.1530\n"
     ]
    },
    {
     "name": "stderr",
     "output_type": "stream",
     "text": [
      "100%|██████████| 96/96 [00:03<00:00, 24.04it/s]\n"
     ]
    },
    {
     "name": "stdout",
     "output_type": "stream",
     "text": [
      "test_Acc : 79.46544980443285\n"
     ]
    },
    {
     "name": "stderr",
     "output_type": "stream",
     "text": [
      "100%|██████████| 384/384 [00:45<00:00,  8.36it/s]\n"
     ]
    },
    {
     "name": "stdout",
     "output_type": "stream",
     "text": [
      "Epoch [24/40], Loss: 0.1493\n"
     ]
    },
    {
     "name": "stderr",
     "output_type": "stream",
     "text": [
      "100%|██████████| 96/96 [00:04<00:00, 23.75it/s]\n"
     ]
    },
    {
     "name": "stdout",
     "output_type": "stream",
     "text": [
      "test_Acc : 78.78096479791395\n"
     ]
    },
    {
     "name": "stderr",
     "output_type": "stream",
     "text": [
      "100%|██████████| 384/384 [00:45<00:00,  8.52it/s]\n"
     ]
    },
    {
     "name": "stdout",
     "output_type": "stream",
     "text": [
      "Epoch [25/40], Loss: 0.1278\n"
     ]
    },
    {
     "name": "stderr",
     "output_type": "stream",
     "text": [
      "100%|██████████| 96/96 [00:03<00:00, 24.21it/s]\n"
     ]
    },
    {
     "name": "stdout",
     "output_type": "stream",
     "text": [
      "test_Acc : 80.01955671447197\n"
     ]
    },
    {
     "name": "stderr",
     "output_type": "stream",
     "text": [
      "100%|██████████| 384/384 [00:45<00:00,  8.42it/s]\n"
     ]
    },
    {
     "name": "stdout",
     "output_type": "stream",
     "text": [
      "Epoch [26/40], Loss: 0.1265\n"
     ]
    },
    {
     "name": "stderr",
     "output_type": "stream",
     "text": [
      "100%|██████████| 96/96 [00:03<00:00, 24.42it/s]\n"
     ]
    },
    {
     "name": "stdout",
     "output_type": "stream",
     "text": [
      "test_Acc : 80.76923076923077\n"
     ]
    },
    {
     "name": "stderr",
     "output_type": "stream",
     "text": [
      "100%|██████████| 384/384 [00:45<00:00,  8.50it/s]\n"
     ]
    },
    {
     "name": "stdout",
     "output_type": "stream",
     "text": [
      "Epoch [27/40], Loss: 0.1238\n"
     ]
    },
    {
     "name": "stderr",
     "output_type": "stream",
     "text": [
      "100%|██████████| 96/96 [00:03<00:00, 24.14it/s]\n"
     ]
    },
    {
     "name": "stdout",
     "output_type": "stream",
     "text": [
      "test_Acc : 80.34550195567145\n"
     ]
    },
    {
     "name": "stderr",
     "output_type": "stream",
     "text": [
      "100%|██████████| 384/384 [00:45<00:00,  8.42it/s]\n"
     ]
    },
    {
     "name": "stdout",
     "output_type": "stream",
     "text": [
      "Epoch [28/40], Loss: 0.1267\n"
     ]
    },
    {
     "name": "stderr",
     "output_type": "stream",
     "text": [
      "100%|██████████| 96/96 [00:04<00:00, 23.86it/s]\n"
     ]
    },
    {
     "name": "stdout",
     "output_type": "stream",
     "text": [
      "test_Acc : 81.51890482398957\n",
      "Model saved.\n"
     ]
    },
    {
     "name": "stderr",
     "output_type": "stream",
     "text": [
      "100%|██████████| 384/384 [00:45<00:00,  8.49it/s]\n"
     ]
    },
    {
     "name": "stdout",
     "output_type": "stream",
     "text": [
      "Epoch [29/40], Loss: 0.1182\n"
     ]
    },
    {
     "name": "stderr",
     "output_type": "stream",
     "text": [
      "100%|██████████| 96/96 [00:04<00:00, 22.45it/s]\n"
     ]
    },
    {
     "name": "stdout",
     "output_type": "stream",
     "text": [
      "test_Acc : 80.14993481095176\n"
     ]
    },
    {
     "name": "stderr",
     "output_type": "stream",
     "text": [
      "100%|██████████| 384/384 [00:45<00:00,  8.50it/s]\n"
     ]
    },
    {
     "name": "stdout",
     "output_type": "stream",
     "text": [
      "Epoch [30/40], Loss: 0.1071\n"
     ]
    },
    {
     "name": "stderr",
     "output_type": "stream",
     "text": [
      "100%|██████████| 96/96 [00:03<00:00, 24.39it/s]\n"
     ]
    },
    {
     "name": "stdout",
     "output_type": "stream",
     "text": [
      "test_Acc : 80.80182529335072\n"
     ]
    },
    {
     "name": "stderr",
     "output_type": "stream",
     "text": [
      "100%|██████████| 384/384 [00:45<00:00,  8.48it/s]\n"
     ]
    },
    {
     "name": "stdout",
     "output_type": "stream",
     "text": [
      "Epoch [31/40], Loss: 0.1120\n"
     ]
    },
    {
     "name": "stderr",
     "output_type": "stream",
     "text": [
      "100%|██████████| 96/96 [00:04<00:00, 23.31it/s]\n"
     ]
    },
    {
     "name": "stdout",
     "output_type": "stream",
     "text": [
      "test_Acc : 81.97522816166884\n",
      "Model saved.\n"
     ]
    },
    {
     "name": "stderr",
     "output_type": "stream",
     "text": [
      "100%|██████████| 384/384 [00:45<00:00,  8.46it/s]\n"
     ]
    },
    {
     "name": "stdout",
     "output_type": "stream",
     "text": [
      "Epoch [32/40], Loss: 0.1087\n"
     ]
    },
    {
     "name": "stderr",
     "output_type": "stream",
     "text": [
      "100%|██████████| 96/96 [00:03<00:00, 24.49it/s]\n"
     ]
    },
    {
     "name": "stdout",
     "output_type": "stream",
     "text": [
      "test_Acc : 81.58409387222947\n"
     ]
    },
    {
     "name": "stderr",
     "output_type": "stream",
     "text": [
      "100%|██████████| 384/384 [00:45<00:00,  8.38it/s]\n"
     ]
    },
    {
     "name": "stdout",
     "output_type": "stream",
     "text": [
      "Epoch [33/40], Loss: 0.1094\n"
     ]
    },
    {
     "name": "stderr",
     "output_type": "stream",
     "text": [
      "100%|██████████| 96/96 [00:03<00:00, 24.53it/s]\n"
     ]
    },
    {
     "name": "stdout",
     "output_type": "stream",
     "text": [
      "test_Acc : 81.77966101694916\n"
     ]
    },
    {
     "name": "stderr",
     "output_type": "stream",
     "text": [
      "100%|██████████| 384/384 [00:45<00:00,  8.49it/s]\n"
     ]
    },
    {
     "name": "stdout",
     "output_type": "stream",
     "text": [
      "Epoch [34/40], Loss: 0.1145\n"
     ]
    },
    {
     "name": "stderr",
     "output_type": "stream",
     "text": [
      "100%|██████████| 96/96 [00:03<00:00, 24.37it/s]\n"
     ]
    },
    {
     "name": "stdout",
     "output_type": "stream",
     "text": [
      "test_Acc : 81.58409387222947\n"
     ]
    },
    {
     "name": "stderr",
     "output_type": "stream",
     "text": [
      "100%|██████████| 384/384 [00:46<00:00,  8.32it/s]\n"
     ]
    },
    {
     "name": "stdout",
     "output_type": "stream",
     "text": [
      "Epoch [35/40], Loss: 0.1000\n"
     ]
    },
    {
     "name": "stderr",
     "output_type": "stream",
     "text": [
      "100%|██████████| 96/96 [00:04<00:00, 23.71it/s]\n"
     ]
    },
    {
     "name": "stdout",
     "output_type": "stream",
     "text": [
      "test_Acc : 82.13820078226858\n",
      "Model saved.\n"
     ]
    },
    {
     "name": "stderr",
     "output_type": "stream",
     "text": [
      "100%|██████████| 384/384 [00:45<00:00,  8.44it/s]\n"
     ]
    },
    {
     "name": "stdout",
     "output_type": "stream",
     "text": [
      "Epoch [36/40], Loss: 0.0966\n"
     ]
    },
    {
     "name": "stderr",
     "output_type": "stream",
     "text": [
      "100%|██████████| 96/96 [00:04<00:00, 23.62it/s]\n"
     ]
    },
    {
     "name": "stdout",
     "output_type": "stream",
     "text": [
      "test_Acc : 80.47588005215124\n"
     ]
    },
    {
     "name": "stderr",
     "output_type": "stream",
     "text": [
      "100%|██████████| 384/384 [00:45<00:00,  8.40it/s]\n"
     ]
    },
    {
     "name": "stdout",
     "output_type": "stream",
     "text": [
      "Epoch [37/40], Loss: 0.0955\n"
     ]
    },
    {
     "name": "stderr",
     "output_type": "stream",
     "text": [
      "100%|██████████| 96/96 [00:03<00:00, 24.42it/s]\n"
     ]
    },
    {
     "name": "stdout",
     "output_type": "stream",
     "text": [
      "test_Acc : 80.60625814863103\n"
     ]
    },
    {
     "name": "stderr",
     "output_type": "stream",
     "text": [
      "100%|██████████| 384/384 [00:45<00:00,  8.48it/s]\n"
     ]
    },
    {
     "name": "stdout",
     "output_type": "stream",
     "text": [
      "Epoch [38/40], Loss: 0.1049\n"
     ]
    },
    {
     "name": "stderr",
     "output_type": "stream",
     "text": [
      "100%|██████████| 96/96 [00:03<00:00, 24.27it/s]\n"
     ]
    },
    {
     "name": "stdout",
     "output_type": "stream",
     "text": [
      "test_Acc : 79.49804432855281\n"
     ]
    },
    {
     "name": "stderr",
     "output_type": "stream",
     "text": [
      "100%|██████████| 384/384 [00:45<00:00,  8.41it/s]\n"
     ]
    },
    {
     "name": "stdout",
     "output_type": "stream",
     "text": [
      "Epoch [39/40], Loss: 0.0929\n"
     ]
    },
    {
     "name": "stderr",
     "output_type": "stream",
     "text": [
      "100%|██████████| 96/96 [00:03<00:00, 24.33it/s]\n"
     ]
    },
    {
     "name": "stdout",
     "output_type": "stream",
     "text": [
      "test_Acc : 81.45371577574967\n"
     ]
    },
    {
     "name": "stderr",
     "output_type": "stream",
     "text": [
      "100%|██████████| 384/384 [00:45<00:00,  8.46it/s]\n"
     ]
    },
    {
     "name": "stdout",
     "output_type": "stream",
     "text": [
      "Epoch [40/40], Loss: 0.0984\n"
     ]
    },
    {
     "name": "stderr",
     "output_type": "stream",
     "text": [
      "100%|██████████| 96/96 [00:04<00:00, 23.74it/s]\n"
     ]
    },
    {
     "name": "stdout",
     "output_type": "stream",
     "text": [
      "test_Acc : 79.79139504563233\n",
      "Model saved.\n"
     ]
    }
   ],
   "source": [
    "train(model, aug_train_loader, test_loader, criterion, optimizer, device, num_epochs=40)"
   ]
  },
  {
   "cell_type": "code",
   "execution_count": 296,
   "id": "379231eb",
   "metadata": {
    "execution": {
     "iopub.execute_input": "2024-10-27T08:35:25.743105Z",
     "iopub.status.busy": "2024-10-27T08:35:25.742673Z",
     "iopub.status.idle": "2024-10-27T08:35:31.244657Z",
     "shell.execute_reply": "2024-10-27T08:35:31.243351Z",
     "shell.execute_reply.started": "2024-10-27T08:35:25.743064Z"
    }
   },
   "outputs": [
    {
     "name": "stderr",
     "output_type": "stream",
     "text": [
      "100%|██████████| 96/96 [00:05<00:00, 17.50it/s]\n"
     ]
    },
    {
     "data": {
      "text/plain": [
       "82.20338983050848"
      ]
     },
     "execution_count": 296,
     "metadata": {},
     "output_type": "execute_result"
    }
   ],
   "source": [
    "model.eval()\n",
    "correct = 0\n",
    "total = 0\n",
    "with torch.no_grad():\n",
    "    for images, labels in tqdm(test_loader):\n",
    "        images = images.to(device)\n",
    "        labels = labels.to(device)\n",
    "        \n",
    "        logits = model(images)\n",
    "        \n",
    "        _, predicted = torch.max(logits, 1)\n",
    "        total += labels.size(0) \n",
    "        correct += (predicted == labels).sum().item()\n",
    "accuracy = 100*(correct/total)\n",
    "\n",
    "\n",
    "\n",
    "\n",
    "accuracy\n"
   ]
  },
  {
   "cell_type": "code",
   "execution_count": 298,
   "id": "2ed8d849",
   "metadata": {
    "execution": {
     "iopub.execute_input": "2024-10-27T08:36:02.001317Z",
     "iopub.status.busy": "2024-10-27T08:36:02.000397Z",
     "iopub.status.idle": "2024-10-27T08:36:06.303899Z",
     "shell.execute_reply": "2024-10-27T08:36:06.302695Z",
     "shell.execute_reply.started": "2024-10-27T08:36:02.001253Z"
    },
    "id": "3f08e78f-164c-44f4-ab33-76d3355754af"
   },
   "outputs": [
    {
     "name": "stderr",
     "output_type": "stream",
     "text": [
      "100%|██████████| 96/96 [00:04<00:00, 22.38it/s]\n"
     ]
    }
   ],
   "source": [
    "all_preds=[]\n",
    "all_labels=[]\n",
    "with torch.no_grad():\n",
    "    for images, labels in tqdm(test_loader):\n",
    "        images = images.to(device)\n",
    "        labels = labels.to(device)\n",
    "        outputs = model(images)\n",
    "        _, predicted = torch.max(outputs,1)\n",
    "#         predicted+=1\n",
    "        \n",
    "        all_preds.extend(predicted.cpu().numpy())\n",
    "        all_labels.extend(labels.cpu().numpy())\n",
    "\n",
    "all_preds = np.array(all_preds)\n",
    "all_labels = np.array(all_labels)"
   ]
  },
  {
   "cell_type": "code",
   "execution_count": 299,
   "id": "4446c79b",
   "metadata": {
    "execution": {
     "iopub.execute_input": "2024-10-27T08:36:07.415844Z",
     "iopub.status.busy": "2024-10-27T08:36:07.415433Z",
     "iopub.status.idle": "2024-10-27T08:36:07.433482Z",
     "shell.execute_reply": "2024-10-27T08:36:07.432595Z",
     "shell.execute_reply.started": "2024-10-27T08:36:07.415802Z"
    }
   },
   "outputs": [
    {
     "data": {
      "text/plain": [
       "0.8220338983050848"
      ]
     },
     "execution_count": 299,
     "metadata": {},
     "output_type": "execute_result"
    }
   ],
   "source": [
    "accuracy = accuracy_score(all_labels, all_preds)\n",
    "accuracy"
   ]
  },
  {
   "cell_type": "code",
   "execution_count": 300,
   "id": "2ae8a128",
   "metadata": {
    "execution": {
     "iopub.execute_input": "2024-10-27T08:36:10.563002Z",
     "iopub.status.busy": "2024-10-27T08:36:10.562342Z",
     "iopub.status.idle": "2024-10-27T08:36:10.572364Z",
     "shell.execute_reply": "2024-10-27T08:36:10.571158Z",
     "shell.execute_reply.started": "2024-10-27T08:36:10.562959Z"
    }
   },
   "outputs": [
    {
     "data": {
      "text/plain": [
       "array([[ 258,    8,    4,   12,   14,    5,   28],\n",
       "       [  13,   39,    2,    3,   10,    3,    4],\n",
       "       [   1,    2,   76,   12,   24,   12,   33],\n",
       "       [   8,    0,   14, 1093,   15,    3,   52],\n",
       "       [   2,    2,   18,   22,  364,    3,   67],\n",
       "       [   5,   10,   13,   14,   10,  102,    8],\n",
       "       [  10,    1,   18,   29,   30,    2,  590]])"
      ]
     },
     "execution_count": 300,
     "metadata": {},
     "output_type": "execute_result"
    }
   ],
   "source": [
    "cm = confusion_matrix(all_labels, all_preds)\n",
    "cm"
   ]
  },
  {
   "cell_type": "code",
   "execution_count": 301,
   "id": "086747fd",
   "metadata": {
    "execution": {
     "iopub.execute_input": "2024-10-27T08:36:12.395566Z",
     "iopub.status.busy": "2024-10-27T08:36:12.395156Z",
     "iopub.status.idle": "2024-10-27T08:36:12.829087Z",
     "shell.execute_reply": "2024-10-27T08:36:12.828191Z",
     "shell.execute_reply.started": "2024-10-27T08:36:12.395522Z"
    }
   },
   "outputs": [
    {
     "data": {
      "image/png": "[encoded data removed]",
      "text/plain": [
       "<Figure size 1000x700 with 2 Axes>"
      ]
     },
     "metadata": {},
     "output_type": "display_data"
    }
   ],
   "source": [
    "plt.figure(figsize=(10, 7))\n",
    "sns.heatmap(cm, annot=True, fmt='d', cmap='Blues', xticklabels=[f'Class {i}' for i in range(6)], yticklabels=[f'Class {i}' for i in range(6)])\n",
    "plt.ylabel('True Label')\n",
    "plt.xlabel('Predicted Label')\n",
    "plt.title('Confusion Matrix')\n",
    "plt.show()"
   ]
  },
  {
   "cell_type": "code",
   "execution_count": null,
   "id": "93edcc25",
   "metadata": {},
   "outputs": [],
   "source": []
  }
 ],
 "metadata": {
  "accelerator": "GPU",
  "colab": {
   "gpuType": "T4",
   "provenance": []
  },
  "kaggle": {
   "accelerator": "nvidiaTeslaT4",
   "dataSources": [
    {
     "datasetId": 3758654,
     "sourceId": 6504606,
     "sourceType": "datasetVersion"
    },
    {
     "datasetId": 5956378,
     "sourceId": 9732886,
     "sourceType": "datasetVersion"
    },
    {
     "datasetId": 5956988,
     "sourceId": 9733710,
     "sourceType": "datasetVersion"
    }
   ],
   "dockerImageVersionId": 30787,
   "isGpuEnabled": true,
   "isInternetEnabled": true,
   "language": "python",
   "sourceType": "notebook"
  },
  "kernelspec": {
   "display_name": "Python 3 (ipykernel)",
   "language": "python",
   "name": "python3"
  },
  "language_info": {
   "codemirror_mode": {
    "name": "ipython",
    "version": 3
   },
   "file_extension": ".py",
   "mimetype": "text/x-python",
   "name": "python",
   "nbconvert_exporter": "python",
   "pygments_lexer": "ipython3",
   "version": "3.11.7"
  }
 },
 "nbformat": 4,
 "nbformat_minor": 5
}
