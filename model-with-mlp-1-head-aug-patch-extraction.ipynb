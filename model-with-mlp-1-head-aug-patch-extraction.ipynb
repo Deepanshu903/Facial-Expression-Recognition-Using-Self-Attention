





<!DOCTYPE html>
<html
  lang="en"
  
  data-color-mode="auto" data-light-theme="light" data-dark-theme="dark"
  data-a11y-animated-images="system" data-a11y-link-underlines="true"
  
  >

    <style>
:root {
  --fontStack-monospace: "Monaspace Neon", ui-monospace, SFMono-Regular, SF Mono, Menlo, Consolas, Liberation Mono, monospace !important;
}
</style>



  <head>
    <meta charset="utf-8">
  <link rel="dns-prefetch" href="https://github.githubassets.com">
  <link rel="dns-prefetch" href="https://avatars.githubusercontent.com">
  <link rel="dns-prefetch" href="https://github-cloud.s3.amazonaws.com">
  <link rel="dns-prefetch" href="https://user-images.githubusercontent.com/">
  <link rel="preconnect" href="https://github.githubassets.com" crossorigin>
  <link rel="preconnect" href="https://avatars.githubusercontent.com">

  


  <link crossorigin="anonymous" media="all" rel="stylesheet" href="https://github.githubassets.com/assets/light_experimental-d0637bbdaa51.css" /><link crossorigin="anonymous" media="all" rel="stylesheet" href="https://github.githubassets.com/assets/dark_experimental-b3eb81810916.css" /><link data-color-theme="light_high_contrast" crossorigin="anonymous" media="all" rel="stylesheet" data-href="https://github.githubassets.com/assets/light_high_contrast_experimental-10abdc3747c3.css" /><link data-color-theme="light_colorblind" crossorigin="anonymous" media="all" rel="stylesheet" data-href="https://github.githubassets.com/assets/light_colorblind_experimental-49cf0efe982a.css" /><link data-color-theme="light_colorblind_high_contrast" crossorigin="anonymous" media="all" rel="stylesheet" data-href="https://github.githubassets.com/assets/light_colorblind_high_contrast_experimental-e379dad4f96f.css" /><link data-color-theme="light_tritanopia" crossorigin="anonymous" media="all" rel="stylesheet" data-href="https://github.githubassets.com/assets/light_tritanopia_experimental-73918b3a2f64.css" /><link data-color-theme="light_tritanopia_high_contrast" crossorigin="anonymous" media="all" rel="stylesheet" data-href="https://github.githubassets.com/assets/light_tritanopia_high_contrast_experimental-b843cf381204.css" /><link data-color-theme="dark_high_contrast" crossorigin="anonymous" media="all" rel="stylesheet" data-href="https://github.githubassets.com/assets/dark_high_contrast_experimental-5748739a6b50.css" /><link data-color-theme="dark_colorblind" crossorigin="anonymous" media="all" rel="stylesheet" data-href="https://github.githubassets.com/assets/dark_colorblind_experimental-c45cc62af0e7.css" /><link data-color-theme="dark_colorblind_high_contrast" crossorigin="anonymous" media="all" rel="stylesheet" data-href="https://github.githubassets.com/assets/dark_colorblind_high_contrast_experimental-32b00a22b284.css" /><link data-color-theme="dark_tritanopia" crossorigin="anonymous" media="all" rel="stylesheet" data-href="https://github.githubassets.com/assets/dark_tritanopia_experimental-dfdb41647a89.css" /><link data-color-theme="dark_tritanopia_high_contrast" crossorigin="anonymous" media="all" rel="stylesheet" data-href="https://github.githubassets.com/assets/dark_tritanopia_high_contrast_experimental-66cec90757f5.css" /><link data-color-theme="dark_dimmed" crossorigin="anonymous" media="all" rel="stylesheet" data-href="https://github.githubassets.com/assets/dark_dimmed_experimental-a537244628ca.css" /><link data-color-theme="dark_dimmed_high_contrast" crossorigin="anonymous" media="all" rel="stylesheet" data-href="https://github.githubassets.com/assets/dark_dimmed_high_contrast_experimental-dc9a2a96cdc6.css" />


    <link crossorigin="anonymous" media="all" rel="stylesheet" href="https://github.githubassets.com/assets/primer-primitives-225433424a87.css" />
    <link crossorigin="anonymous" media="all" rel="stylesheet" href="https://github.githubassets.com/assets/primer-b4bd0459f984.css" />
    <link crossorigin="anonymous" media="all" rel="stylesheet" href="https://github.githubassets.com/assets/global-d0507817f2fa.css" />
    <link crossorigin="anonymous" media="all" rel="stylesheet" href="https://github.githubassets.com/assets/github-58ac3ad6cb3f.css" />
  <link crossorigin="anonymous" media="all" rel="stylesheet" href="https://github.githubassets.com/assets/repository-fa462f1c51f1.css" />
<link crossorigin="anonymous" media="all" rel="stylesheet" href="https://github.githubassets.com/assets/code-5aa9e25e0a2c.css" />

  


  <script type="application/json" id="client-env">{"locale":"en","featureFlags":["alternate_user_config_repo","api_insights_show_missing_data_banner","appearance_settings","billingplatform_copilot_premium_sku","client_version_header","codespaces_prebuild_region_target_update","contact_requests_implicit_opt_in","contentful_lp_copilot_extensions","contentful_lp_flex_features","contentful_lp_footnotes","copilot_chat_attach_images","copilot_chat_attach_multiple_images","copilot_chat_attachments","copilot_chat_custom_instructions","copilot_chat_disable_model_picker_while_streaming","copilot_chat_opening_thread_switch","copilot_chat_reduce_quota_checks","copilot_chat_repo_custom_instructions_preview","copilot_chat_vision_in_claude","copilot_chat_vision_skip_thread_create","copilot_chat_wholearea_dd","copilot_custom_copilots_feature_preview","copilot_dotcom_chat_file_upload","copilot_duplicate_thread","copilot_free_to_paid_telem","copilot_ftp_settings_upgrade","copilot_ftp_upgrade_to_pro_from_models","copilot_ftp_your_copilot_settings","copilot_immersive_structured_model_picker","copilot_new_conversation_starters","copilot_new_immersive_references_ui","copilot_no_floating_button","copilot_paste_text_files","copilot_premium_request_quotas","copilot_read_shared_conversation","copilot_share_active_subthread","copilot_showcase_icebreakers","copilot_spaces_support_forks","copilot_task_oriented_assistive_prompts","copilot_topics_as_references","copilot_workbench_iterate_panel","copilot_workbench_preview_analytics","copilot_workbench_refresh_on_wsod","copilot_workbench_user_limits","custom_copilots_128k_window","custom_copilots_capi_mode","custom_copilots_issues_prs","direct_to_salesforce","dnd_no_touch_device_check","dotcom_chat_client_side_skills","failbot_report_error_react_apps_on_page","ghost_pilot_confidence_truncation_25","ghost_pilot_confidence_truncation_40","insert_before_patch","issues_catch_non_json_graphql_response","issues_preserve_tokens_in_urls","issues_react_blur_item_picker_on_close","issues_react_bots_timeline_pagination","issues_react_create_milestone","issues_react_include_bots_in_pickers","issues_react_prohibit_title_fallback","issues_react_remove_placeholders","issues_tab_counter_updates","lifecycle_label_name_updates","link_contact_sales_swp_marketo","marketing_pages_search_explore_provider","memex_mwl_filter_field_delimiter","memex_roadmap_drag_style","nonreporting_relay_graphql_status_codes","primer_primitives_experimental","primer_react_css_modules_ga","primer_react_select_panel_with_modern_action_list","remove_child_patch","repository_suggester_elastic_search","sample_network_conn_type","sanitize_nested_mathjax_macros","scheduled_reminders_updated_limits","site_homepage_contentful","site_msbuild_hide_integrations","site_msbuild_launch","site_msbuild_webgl_hero","spark_commit_on_default_branch","swp_enterprise_contact_form","use_copilot_avatar","use_paginated_org_picker_cost_center_form","use_paginated_repo_picker_cost_center_form","viewscreen_sandbox"],"login":"14deephub"}</script>
<script crossorigin="anonymous" type="application/javascript" src="https://github.githubassets.com/assets/wp-runtime-9f0da43dd7ea.js" defer="defer"></script>
<script crossorigin="anonymous" type="application/javascript" src="https://github.githubassets.com/assets/vendors-node_modules_oddbird_popover-polyfill_dist_popover-fn_js-a8c266e5f126.js" defer="defer"></script>
<script crossorigin="anonymous" type="application/javascript" src="https://github.githubassets.com/assets/vendors-node_modules_github_mini-throttle_dist_index_js-node_modules_stacktrace-parser_dist_s-1d3d52-babac9434833.js" defer="defer"></script>
<script crossorigin="anonymous" type="application/javascript" src="https://github.githubassets.com/assets/ui_packages_failbot_failbot_ts-e5d2c833e290.js" defer="defer"></script>
<script crossorigin="anonymous" type="application/javascript" src="https://github.githubassets.com/assets/environment-89128d48c6ff.js" defer="defer"></script>
<script crossorigin="anonymous" type="application/javascript" src="https://github.githubassets.com/assets/vendors-node_modules_primer_behaviors_dist_esm_index_mjs-c44edfed7f0d.js" defer="defer"></script>
<script crossorigin="anonymous" type="application/javascript" src="https://github.githubassets.com/assets/vendors-node_modules_github_selector-observer_dist_index_esm_js-cdf2757bd188.js" defer="defer"></script>
<script crossorigin="anonymous" type="application/javascript" src="https://github.githubassets.com/assets/vendors-node_modules_github_relative-time-element_dist_index_js-5913bc24f35d.js" defer="defer"></script>
<script crossorigin="anonymous" type="application/javascript" src="https://github.githubassets.com/assets/vendors-node_modules_github_auto-complete-element_dist_index_js-node_modules_github_catalyst_-8e9f78-c1e2fb329866.js" defer="defer"></script>
<script crossorigin="anonymous" type="application/javascript" src="https://github.githubassets.com/assets/vendors-node_modules_github_text-expander-element_dist_index_js-e50fb7a5fe8c.js" defer="defer"></script>
<script crossorigin="anonymous" type="application/javascript" src="https://github.githubassets.com/assets/vendors-node_modules_github_filter-input-element_dist_index_js-node_modules_github_remote-inp-d8c643-251bc3964eb6.js" defer="defer"></script>
<script crossorigin="anonymous" type="application/javascript" src="https://github.githubassets.com/assets/vendors-node_modules_github_markdown-toolbar-element_dist_index_js-6a8c7d9a08fe.js" defer="defer"></script>
<script crossorigin="anonymous" type="application/javascript" src="https://github.githubassets.com/assets/vendors-node_modules_github_file-attachment-element_dist_index_js-node_modules_primer_view-co-cadbad-fad3eaf3c7ec.js" defer="defer"></script>
<script crossorigin="anonymous" type="application/javascript" src="https://github.githubassets.com/assets/github-elements-61d697359136.js" defer="defer"></script>
<script crossorigin="anonymous" type="application/javascript" src="https://github.githubassets.com/assets/element-registry-ab7eae08a321.js" defer="defer"></script>
<script crossorigin="anonymous" type="application/javascript" src="https://github.githubassets.com/assets/vendors-node_modules_braintree_browser-detection_dist_browser-detection_js-node_modules_githu-bb80ec-34c4b68b1dd3.js" defer="defer"></script>
<script crossorigin="anonymous" type="application/javascript" src="https://github.githubassets.com/assets/vendors-node_modules_lit-html_lit-html_js-b93a87060d31.js" defer="defer"></script>
<script crossorigin="anonymous" type="application/javascript" src="https://github.githubassets.com/assets/vendors-node_modules_morphdom_dist_morphdom-esm_js-300e8e4e0414.js" defer="defer"></script>
<script crossorigin="anonymous" type="application/javascript" src="https://github.githubassets.com/assets/vendors-node_modules_fzy_js_index_js-node_modules_github_paste-markdown_dist_index_js-63a26702fa42.js" defer="defer"></script>
<script crossorigin="anonymous" type="application/javascript" src="https://github.githubassets.com/assets/vendors-node_modules_github_turbo_dist_turbo_es2017-esm_js-595819d3686f.js" defer="defer"></script>
<script crossorigin="anonymous" type="application/javascript" src="https://github.githubassets.com/assets/vendors-node_modules_github_remote-form_dist_index_js-node_modules_delegated-events_dist_inde-893f9f-1bcf38e06f01.js" defer="defer"></script>
<script crossorigin="anonymous" type="application/javascript" src="https://github.githubassets.com/assets/vendors-node_modules_color-convert_index_js-1a149db8dc99.js" defer="defer"></script>
<script crossorigin="anonymous" type="application/javascript" src="https://github.githubassets.com/assets/vendors-node_modules_github_quote-selection_dist_index_js-node_modules_github_session-resume_-c1aa61-91618cb63471.js" defer="defer"></script>
<script crossorigin="anonymous" type="application/javascript" src="https://github.githubassets.com/assets/ui_packages_updatable-content_updatable-content_ts-a5daa16ae903.js" defer="defer"></script>
<script crossorigin="anonymous" type="application/javascript" src="https://github.githubassets.com/assets/app_assets_modules_github_behaviors_task-list_ts-app_assets_modules_github_sso_ts-ui_packages-900dde-f953ddf42948.js" defer="defer"></script>
<script crossorigin="anonymous" type="application/javascript" src="https://github.githubassets.com/assets/app_assets_modules_github_sticky-scroll-into-view_ts-e45aabc67d13.js" defer="defer"></script>
<script crossorigin="anonymous" type="application/javascript" src="https://github.githubassets.com/assets/app_assets_modules_github_behaviors_ajax-error_ts-app_assets_modules_github_behaviors_include-d0d0a6-a7da4270c5f4.js" defer="defer"></script>
<script crossorigin="anonymous" type="application/javascript" src="https://github.githubassets.com/assets/app_assets_modules_github_behaviors_commenting_edit_ts-app_assets_modules_github_behaviors_ht-83c235-567e0f340e27.js" defer="defer"></script>
<script crossorigin="anonymous" type="application/javascript" src="https://github.githubassets.com/assets/behaviors-32202e664ad2.js" defer="defer"></script>
<script crossorigin="anonymous" type="application/javascript" src="https://github.githubassets.com/assets/vendors-node_modules_delegated-events_dist_index_js-node_modules_github_catalyst_lib_index_js-ea8eaa-eefe25567449.js" defer="defer"></script>
<script crossorigin="anonymous" type="application/javascript" src="https://github.githubassets.com/assets/notifications-global-eadae94940d6.js" defer="defer"></script>
<script crossorigin="anonymous" type="application/javascript" src="https://github.githubassets.com/assets/vendors-node_modules_github_mini-throttle_dist_index_js-node_modules_github_catalyst_lib_inde-dbbea9-558c1f223d1d.js" defer="defer"></script>
<script crossorigin="anonymous" type="application/javascript" src="https://github.githubassets.com/assets/code-menu-1c74865ebca2.js" defer="defer"></script>
  
  <script crossorigin="anonymous" type="application/javascript" src="https://github.githubassets.com/assets/primer-react-a57080a0a6e8.js" defer="defer"></script>
<script crossorigin="anonymous" type="application/javascript" src="https://github.githubassets.com/assets/react-core-442d3988d6da.js" defer="defer"></script>
<script crossorigin="anonymous" type="application/javascript" src="https://github.githubassets.com/assets/react-lib-8705026b409a.js" defer="defer"></script>
<script crossorigin="anonymous" type="application/javascript" src="https://github.githubassets.com/assets/octicons-react-9fd6ca6872cc.js" defer="defer"></script>
<script crossorigin="anonymous" type="application/javascript" src="https://github.githubassets.com/assets/vendors-node_modules_emotion_is-prop-valid_dist_emotion-is-prop-valid_esm_js-node_modules_emo-b1c483-b5947865157f.js" defer="defer"></script>
<script crossorigin="anonymous" type="application/javascript" src="https://github.githubassets.com/assets/vendors-node_modules_cookie_index_js-node_modules_primer_live-region-element_dist_esm_index_j-1ca8f6-89ab81577c38.js" defer="defer"></script>
<script crossorigin="anonymous" type="application/javascript" src="https://github.githubassets.com/assets/vendors-node_modules_dompurify_dist_purify_es_mjs-7457ebdd1a1f.js" defer="defer"></script>
<script crossorigin="anonymous" type="application/javascript" src="https://github.githubassets.com/assets/vendors-node_modules_lodash-es__Stack_js-node_modules_lodash-es__Uint8Array_js-node_modules_l-4faaa6-16c4e2c524de.js" defer="defer"></script>
<script crossorigin="anonymous" type="application/javascript" src="https://github.githubassets.com/assets/vendors-node_modules_lodash-es_isEqual_js-a0841ced23fc.js" defer="defer"></script>
<script crossorigin="anonymous" type="application/javascript" src="https://github.githubassets.com/assets/vendors-node_modules_tanstack_react-virtual_dist_esm_index_js-807aab04afeb.js" defer="defer"></script>
<script crossorigin="anonymous" type="application/javascript" src="https://github.githubassets.com/assets/vendors-node_modules_github_catalyst_lib_index_js-node_modules_github_hydro-analytics-client_-189aa3-aa0d1c491a18.js" defer="defer"></script>
<script crossorigin="anonymous" type="application/javascript" src="https://github.githubassets.com/assets/vendors-node_modules_focus-visible_dist_focus-visible_js-node_modules_fzy_js_index_js-node_mo-296806-a0e432a5dd85.js" defer="defer"></script>
<script crossorigin="anonymous" type="application/javascript" src="https://github.githubassets.com/assets/ui_packages_document-metadata_document-metadata_ts-ui_packages_history_history_ts-ui_packages-417c81-00e1a3522739.js" defer="defer"></script>
<script crossorigin="anonymous" type="application/javascript" src="https://github.githubassets.com/assets/ui_packages_paths_index_ts-30c9ce58481b.js" defer="defer"></script>
<script crossorigin="anonymous" type="application/javascript" src="https://github.githubassets.com/assets/ui_packages_ref-selector_RefSelector_tsx-d5cdb50eb045.js" defer="defer"></script>
<script crossorigin="anonymous" type="application/javascript" src="https://github.githubassets.com/assets/ui_packages_commit-attribution_index_ts-ui_packages_commit-checks-status_index_ts-ui_packages-762eaa-7383c64c0bfd.js" defer="defer"></script>
<script crossorigin="anonymous" type="application/javascript" src="https://github.githubassets.com/assets/ui_packages_app-uuid_app-uuid_ts-ui_packages_fetch-headers_fetch-headers_ts-ui_packages_repos-0cd8c2-327b1ed47b4e.js" defer="defer"></script>
<script crossorigin="anonymous" type="application/javascript" src="https://github.githubassets.com/assets/ui_packages_diffs_diff-parts_ts-d15c96aca8c4.js" defer="defer"></script>
<script crossorigin="anonymous" type="application/javascript" src="https://github.githubassets.com/assets/ui_packages_code-view-shared_hooks_use-canonical-object_ts-ui_packages_code-view-shared_hooks-6097ef-062d8d9cda55.js" defer="defer"></script>
<script crossorigin="anonymous" type="application/javascript" src="https://github.githubassets.com/assets/app_assets_modules_github_blob-anchor_ts-ui_packages_code-nav_code-nav_ts-ui_packages_filter--8253c1-5fde020dbad1.js" defer="defer"></script>
<script crossorigin="anonymous" type="application/javascript" src="https://github.githubassets.com/assets/react-code-view-2855e25d4af6.js" defer="defer"></script>
<link crossorigin="anonymous" media="all" rel="stylesheet" href="https://github.githubassets.com/assets/primer-react.56caf1a9ff4a5de8a71f.module.css" />
<link crossorigin="anonymous" media="all" rel="stylesheet" href="https://github.githubassets.com/assets/react-code-view.4915ca2c68d1510cb07c.module.css" />


  <title>Facial-Expression-Recognition-Using-Self-Attention/model-with-mlp-1-head-aug-patch-extraction.ipynb at main · 37nomad/Facial-Expression-Recognition-Using-Self-Attention</title>



  <meta name="route-pattern" content="/:user_id/:repository/blob/*name(/*path)" data-turbo-transient>
  <meta name="route-controller" content="blob" data-turbo-transient>
  <meta name="route-action" content="show" data-turbo-transient>
  <meta name="fetch-nonce" content="v2:e95418c8-7dba-b59e-f4b9-9856e61841c3">

    
  <meta name="current-catalog-service-hash" content="f3abb0cc802f3d7b95fc8762b94bdcb13bf39634c40c357301c4aa1d67a256fb">


  <meta name="request-id" content="C5E4:3D3A52:1EB8D:2D2B3:685F10CA" data-turbo-transient="true" /><meta name="html-safe-nonce" content="36974fc08f27aac2fb818fae0ac420b5909dc0ab38e97d65975b959fb2c56348" data-turbo-transient="true" /><meta name="visitor-payload" content="eyJyZWZlcnJlciI6bnVsbCwicmVxdWVzdF9pZCI6IkM1RTQ6M0QzQTUyOjFFQjhEOjJEMkIzOjY4NUYxMENBIiwidmlzaXRvcl9pZCI6IjcxOTY4NTAyNzMyNzQ3NzQzMDgiLCJyZWdpb25fZWRnZSI6ImNlbnRyYWxpbmRpYSIsInJlZ2lvbl9yZW5kZXIiOiJpYWQifQ==" data-turbo-transient="true" /><meta name="visitor-hmac" content="aaa1a3a0f99e3dcfd2f89953664df0a85a9299e8bb2277a674905c9310ea854c" data-turbo-transient="true" />


    <meta name="hovercard-subject-tag" content="repository:864053225" data-turbo-transient>


  <meta name="github-keyboard-shortcuts" content="repository,source-code,file-tree,copilot" data-turbo-transient="true" />
  

  <meta name="selected-link" value="repo_source" data-turbo-transient>
  <link rel="assets" href="https://github.githubassets.com/">

    <meta name="google-site-verification" content="Apib7-x98H0j5cPqHWwSMm6dNU4GmODRoqxLiDzdx9I">

<meta name="octolytics-url" content="https://collector.github.com/github/collect" /><meta name="octolytics-actor-id" content="141177822" /><meta name="octolytics-actor-login" content="14deephub" /><meta name="octolytics-actor-hash" content="76b5f6ce8054b6df607c9ab4543c2ee048b8dc51bf32332b0288dcfd24c26bb9" />

  <meta name="analytics-location" content="/&lt;user-name&gt;/&lt;repo-name&gt;/blob/show" data-turbo-transient="true" />

  




    <meta name="user-login" content="14deephub">

  <link rel="sudo-modal" href="/sessions/sudo_modal">

    <meta name="viewport" content="width=device-width">

    

      <meta name="description" content="Detection of facial expressions using deep learning architecture encorporating self attention. - Facial-Expression-Recognition-Using-Self-Attention/model-with-mlp-1-head-aug-patch-extraction.ipynb at main · 37nomad/Facial-Expression-Recognition-Using-Self-Attention">

      <link rel="search" type="application/opensearchdescription+xml" href="/opensearch.xml" title="GitHub">

    <link rel="fluid-icon" href="https://github.com/fluidicon.png" title="GitHub">
    <meta property="fb:app_id" content="1401488693436528">
    <meta name="apple-itunes-app" content="app-id=1477376905, app-argument=https://github.com/37nomad/Facial-Expression-Recognition-Using-Self-Attention/blob/main/model-with-mlp-1-head-aug-patch-extraction.ipynb" />

      <meta name="twitter:image" content="https://opengraph.githubassets.com/34070842915637e18c5272811206966a1ec375c0c9c2224664e61f82c8f023f1/37nomad/Facial-Expression-Recognition-Using-Self-Attention" /><meta name="twitter:site" content="@github" /><meta name="twitter:card" content="summary_large_image" /><meta name="twitter:title" content="Facial-Expression-Recognition-Using-Self-Attention/model-with-mlp-1-head-aug-patch-extraction.ipynb at main · 37nomad/Facial-Expression-Recognition-Using-Self-Attention" /><meta name="twitter:description" content="Detection of facial expressions using deep learning architecture encorporating self attention. - 37nomad/Facial-Expression-Recognition-Using-Self-Attention" />
  <meta property="og:image" content="https://opengraph.githubassets.com/34070842915637e18c5272811206966a1ec375c0c9c2224664e61f82c8f023f1/37nomad/Facial-Expression-Recognition-Using-Self-Attention" /><meta property="og:image:alt" content="Detection of facial expressions using deep learning architecture encorporating self attention. - 37nomad/Facial-Expression-Recognition-Using-Self-Attention" /><meta property="og:image:width" content="1200" /><meta property="og:image:height" content="600" /><meta property="og:site_name" content="GitHub" /><meta property="og:type" content="object" /><meta property="og:title" content="Facial-Expression-Recognition-Using-Self-Attention/model-with-mlp-1-head-aug-patch-extraction.ipynb at main · 37nomad/Facial-Expression-Recognition-Using-Self-Attention" /><meta property="og:url" content="https://github.com/37nomad/Facial-Expression-Recognition-Using-Self-Attention/blob/main/model-with-mlp-1-head-aug-patch-extraction.ipynb" /><meta property="og:description" content="Detection of facial expressions using deep learning architecture encorporating self attention. - 37nomad/Facial-Expression-Recognition-Using-Self-Attention" />
  


      <link rel="shared-web-socket" href="wss://alive.github.com/_sockets/u/141177822/ws?session=eyJ2IjoiVjMiLCJ1IjoxNDExNzc4MjIsInMiOjE3MTI3MjE4NzIsImMiOjYyMTEyMDY3NCwidCI6MTc1MTA2MDY5NH0=--3d34c92ece6393d53c742d4deed7da73451b2059668e6d6fc2c1540008d63c87" data-refresh-url="/_alive" data-session-id="3d35df813d75e4223049107f6c2f42d40a5367ec9b8a8b35c95ee8fcabbfb21b">
      <link rel="shared-web-socket-src" href="/assets-cdn/worker/socket-worker-161dc6a0040b.js">


      <meta name="hostname" content="github.com">


      <meta name="keyboard-shortcuts-preference" content="all">
      <meta name="hovercards-preference" content="true">
      <meta name="announcement-preference-hovercard" content="true">

        <meta name="expected-hostname" content="github.com">


  <meta http-equiv="x-pjax-version" content="6d3a105e0a3c596344e08fc9629be05a85d60c0838911c144a459789ac6bef69" data-turbo-track="reload">
  <meta http-equiv="x-pjax-csp-version" content="352e51c42d5f5727a7c545752bf34d1f83f40219e7036c6959817149a51651bc" data-turbo-track="reload">
  <meta http-equiv="x-pjax-css-version" content="22b135707950ffc7e6dc910262d606e7151b8a2d616438fd5ca7df7d9cf67956" data-turbo-track="reload">
  <meta http-equiv="x-pjax-js-version" content="d73cec596b02c9eb59a31eaffe1669f5ca68841d441bf4dd0026ecc508cd571f" data-turbo-track="reload">

  <meta name="turbo-cache-control" content="no-preview" data-turbo-transient="">

      <meta name="turbo-cache-control" content="no-cache" data-turbo-transient>

    <meta data-hydrostats="publish">

  <meta name="go-import" content="github.com/37nomad/Facial-Expression-Recognition-Using-Self-Attention git https://github.com/37nomad/Facial-Expression-Recognition-Using-Self-Attention.git">

  <meta name="octolytics-dimension-user_id" content="145599837" /><meta name="octolytics-dimension-user_login" content="37nomad" /><meta name="octolytics-dimension-repository_id" content="864053225" /><meta name="octolytics-dimension-repository_nwo" content="37nomad/Facial-Expression-Recognition-Using-Self-Attention" /><meta name="octolytics-dimension-repository_public" content="true" /><meta name="octolytics-dimension-repository_is_fork" content="false" /><meta name="octolytics-dimension-repository_network_root_id" content="864053225" /><meta name="octolytics-dimension-repository_network_root_nwo" content="37nomad/Facial-Expression-Recognition-Using-Self-Attention" />



    

    <meta name="turbo-body-classes" content="logged-in env-production page-responsive">


  <meta name="browser-stats-url" content="https://api.github.com/_private/browser/stats">

  <meta name="browser-errors-url" content="https://api.github.com/_private/browser/errors">

  <meta name="release" content="4225e41448cce61cdd5fece7c78b03e1e5386bc8">
  <meta name="ui-target" content="full">

  <link rel="mask-icon" href="https://github.githubassets.com/assets/pinned-octocat-093da3e6fa40.svg" color="#000000">
  <link rel="alternate icon" class="js-site-favicon" type="image/png" href="https://github.githubassets.com/favicons/favicon.png">
  <link rel="icon" class="js-site-favicon" type="image/svg+xml" href="https://github.githubassets.com/favicons/favicon.svg" data-base-href="https://github.githubassets.com/favicons/favicon">

<meta name="theme-color" content="#1e2327">
<meta name="color-scheme" content="light dark" />

  <link rel="apple-touch-icon" href="https://github.githubassets.com/assets/apple-touch-icon-92bd46d04241.png">
  <link rel="apple-touch-icon" sizes="180x180" href="https://github.githubassets.com/assets/apple-touch-icon-180x180-a80b8e11abe2.png">
  <meta name="apple-mobile-web-app-title" content="GitHub">

  <link rel="manifest" href="/manifest.json" crossOrigin="use-credentials">

  </head>

  <body class="logged-in env-production page-responsive" style="word-wrap: break-word;">
    <div data-turbo-body class="logged-in env-production page-responsive" style="word-wrap: break-word;">
      



    <div class="position-relative header-wrapper js-header-wrapper ">
      <a href="#start-of-content" data-skip-target-assigned="false" class="p-3 color-bg-accent-emphasis color-fg-on-emphasis show-on-focus js-skip-to-content">Skip to content</a>

      <span data-view-component="true" class="progress-pjax-loader Progress position-fixed width-full">
    <span style="width: 0%;" data-view-component="true" class="Progress-item progress-pjax-loader-bar left-0 top-0 color-bg-accent-emphasis"></span>
</span>      
      
      <script crossorigin="anonymous" type="application/javascript" src="https://github.githubassets.com/assets/ui_packages_ui-commands_ui-commands_ts-b755d908e0b1.js" defer="defer"></script>
<script crossorigin="anonymous" type="application/javascript" src="https://github.githubassets.com/assets/keyboard-shortcuts-dialog-b3dd4b1cb532.js" defer="defer"></script>
<link crossorigin="anonymous" media="all" rel="stylesheet" href="https://github.githubassets.com/assets/primer-react.56caf1a9ff4a5de8a71f.module.css" />
<link crossorigin="anonymous" media="all" rel="stylesheet" href="https://github.githubassets.com/assets/keyboard-shortcuts-dialog.47de85e2c17af43cefd5.module.css" />

<react-partial
  partial-name="keyboard-shortcuts-dialog"
  data-ssr="false"
  data-attempted-ssr="false"
  data-react-profiling="false"
>
  
  <script type="application/json" data-target="react-partial.embeddedData">{"props":{"docsUrl":"https://docs.github.com/get-started/accessibility/keyboard-shortcuts"}}</script>
  <div data-target="react-partial.reactRoot"></div>
</react-partial>




      

          

              <header class="AppHeader" role="banner">
  <h2 class="sr-only">Navigation Menu</h2>


    

    <div class="AppHeader-globalBar pb-2 js-global-bar">
      <div class="AppHeader-globalBar-start responsive-context-region">
        <div class="">
            <deferred-side-panel data-url="/_side-panels/global">
  <include-fragment data-target="deferred-side-panel.fragment" data-nonce="v2:e95418c8-7dba-b59e-f4b9-9856e61841c3" data-view-component="true">
  
      <button aria-label="Open global navigation menu" data-action="click:deferred-side-panel#loadPanel click:deferred-side-panel#panelOpened" data-show-dialog-id="dialog-300f20a2-4cfd-4a8f-81e8-b9ea13a1da2c" id="dialog-show-dialog-300f20a2-4cfd-4a8f-81e8-b9ea13a1da2c" type="button" data-view-component="true" class="Button Button--iconOnly Button--secondary Button--medium AppHeader-button p-0 color-fg-muted">  <svg aria-hidden="true" height="16" viewBox="0 0 16 16" version="1.1" width="16" data-view-component="true" class="octicon octicon-three-bars Button-visual">
    <path d="M1 2.75A.75.75 0 0 1 1.75 2h12.5a.75.75 0 0 1 0 1.5H1.75A.75.75 0 0 1 1 2.75Zm0 5A.75.75 0 0 1 1.75 7h12.5a.75.75 0 0 1 0 1.5H1.75A.75.75 0 0 1 1 7.75ZM1.75 12h12.5a.75.75 0 0 1 0 1.5H1.75a.75.75 0 0 1 0-1.5Z"></path>
</svg>
</button>

<dialog-helper>
  <dialog data-target="deferred-side-panel.panel" id="dialog-300f20a2-4cfd-4a8f-81e8-b9ea13a1da2c" aria-modal="true" aria-labelledby="dialog-300f20a2-4cfd-4a8f-81e8-b9ea13a1da2c-title" aria-describedby="dialog-300f20a2-4cfd-4a8f-81e8-b9ea13a1da2c-description" data-view-component="true" class="Overlay Overlay-whenNarrow Overlay--size-small-portrait Overlay--motion-scaleFade Overlay--placement-left SidePanel Overlay--disableScroll">
    <div styles="flex-direction: row;" data-view-component="true" class="Overlay-header">
  <div class="Overlay-headerContentWrap">
    <div class="Overlay-titleWrap">
      <h1 class="Overlay-title sr-only" id="dialog-300f20a2-4cfd-4a8f-81e8-b9ea13a1da2c-title">
        Global navigation
      </h1>
            <div data-view-component="true" class="d-flex">
      <div data-view-component="true" class="AppHeader-logo position-relative">
        <svg aria-hidden="true" height="24" viewBox="0 0 24 24" version="1.1" width="24" data-view-component="true" class="octicon octicon-mark-github">
    <path d="M12 1C5.923 1 1 5.923 1 12c0 4.867 3.149 8.979 7.521 10.436.55.096.756-.233.756-.522 0-.262-.013-1.128-.013-2.049-2.764.509-3.479-.674-3.699-1.292-.124-.317-.66-1.293-1.127-1.554-.385-.207-.936-.715-.014-.729.866-.014 1.485.797 1.691 1.128.99 1.663 2.571 1.196 3.204.907.096-.715.385-1.196.701-1.471-2.448-.275-5.005-1.224-5.005-5.432 0-1.196.426-2.186 1.128-2.956-.111-.275-.496-1.402.11-2.915 0 0 .921-.288 3.024 1.128a10.193 10.193 0 0 1 2.75-.371c.936 0 1.871.123 2.75.371 2.104-1.43 3.025-1.128 3.025-1.128.605 1.513.221 2.64.111 2.915.701.77 1.127 1.747 1.127 2.956 0 4.222-2.571 5.157-5.019 5.432.399.344.743 1.004.743 2.035 0 1.471-.014 2.654-.014 3.025 0 .289.206.632.756.522C19.851 20.979 23 16.854 23 12c0-6.077-4.922-11-11-11Z"></path>
</svg>
</div></div>
    </div>
    <div class="Overlay-actionWrap">
      <button data-close-dialog-id="dialog-300f20a2-4cfd-4a8f-81e8-b9ea13a1da2c" aria-label="Close" aria-label="Close" type="button" data-view-component="true" class="close-button Overlay-closeButton"><svg aria-hidden="true" height="16" viewBox="0 0 16 16" version="1.1" width="16" data-view-component="true" class="octicon octicon-x">
    <path d="M3.72 3.72a.75.75 0 0 1 1.06 0L8 6.94l3.22-3.22a.749.749 0 0 1 1.275.326.749.749 0 0 1-.215.734L9.06 8l3.22 3.22a.749.749 0 0 1-.326 1.275.749.749 0 0 1-.734-.215L8 9.06l-3.22 3.22a.751.751 0 0 1-1.042-.018.751.751 0 0 1-.018-1.042L6.94 8 3.72 4.78a.75.75 0 0 1 0-1.06Z"></path>
</svg></button>
    </div>
  </div>
  
</div>
      <scrollable-region data-labelled-by="dialog-300f20a2-4cfd-4a8f-81e8-b9ea13a1da2c-title">
        <div data-view-component="true" class="Overlay-body d-flex flex-column px-2">    <div data-view-component="true" class="d-flex flex-column mb-3">
        <nav aria-label="Site navigation" data-view-component="true" class="ActionList">
  
  <nav-list>
    <ul data-target="nav-list.topLevelList" data-view-component="true" class="ActionListWrap">
        
          
<li data-item-id="" data-targets="nav-list.items" data-view-component="true" class="ActionListItem">
    
    
    <a data-hotkey="g d" data-analytics-event="{&quot;category&quot;:&quot;Global navigation&quot;,&quot;action&quot;:&quot;HOME&quot;,&quot;label&quot;:null}" id="item-605150d9-f5ec-42d3-9fd4-4119f0eb7782" href="/dashboard" data-view-component="true" class="ActionListContent ActionListContent--visual16">
        <span class="ActionListItem-visual ActionListItem-visual--leading">
          <svg aria-hidden="true" height="16" viewBox="0 0 16 16" version="1.1" width="16" data-view-component="true" class="octicon octicon-home">
    <path d="M6.906.664a1.749 1.749 0 0 1 2.187 0l5.25 4.2c.415.332.657.835.657 1.367v7.019A1.75 1.75 0 0 1 13.25 15h-3.5a.75.75 0 0 1-.75-.75V9H7v5.25a.75.75 0 0 1-.75.75h-3.5A1.75 1.75 0 0 1 1 13.25V6.23c0-.531.242-1.034.657-1.366l5.25-4.2Zm1.25 1.171a.25.25 0 0 0-.312 0l-5.25 4.2a.25.25 0 0 0-.094.196v7.019c0 .138.112.25.25.25H5.5V8.25a.75.75 0 0 1 .75-.75h3.5a.75.75 0 0 1 .75.75v5.25h2.75a.25.25 0 0 0 .25-.25V6.23a.25.25 0 0 0-.094-.195Z"></path>
</svg>
        </span>
      
        <span data-view-component="true" class="ActionListItem-label">
          Home
</span>      
</a>
  
</li>

        
          
<li data-item-id="" data-targets="nav-list.items" data-view-component="true" class="ActionListItem">
    
    
    <a data-hotkey="g i" data-analytics-event="{&quot;category&quot;:&quot;Global navigation&quot;,&quot;action&quot;:&quot;ISSUES&quot;,&quot;label&quot;:null}" id="item-0a5a3c3f-5879-48e9-993d-d52db710cb19" href="/issues" data-view-component="true" class="ActionListContent ActionListContent--visual16">
        <span class="ActionListItem-visual ActionListItem-visual--leading">
          <svg aria-hidden="true" height="16" viewBox="0 0 16 16" version="1.1" width="16" data-view-component="true" class="octicon octicon-issue-opened">
    <path d="M8 9.5a1.5 1.5 0 1 0 0-3 1.5 1.5 0 0 0 0 3Z"></path><path d="M8 0a8 8 0 1 1 0 16A8 8 0 0 1 8 0ZM1.5 8a6.5 6.5 0 1 0 13 0 6.5 6.5 0 0 0-13 0Z"></path>
</svg>
        </span>
      
        <span data-view-component="true" class="ActionListItem-label">
          Issues
</span>      
</a>
  
</li>

        
          
<li data-item-id="" data-targets="nav-list.items" data-view-component="true" class="ActionListItem">
    
    
    <a data-hotkey="g p" data-analytics-event="{&quot;category&quot;:&quot;Global navigation&quot;,&quot;action&quot;:&quot;PULL_REQUESTS&quot;,&quot;label&quot;:null}" id="item-cfb65988-96ce-4654-aac0-e88ff848d5cd" href="/pulls" data-view-component="true" class="ActionListContent ActionListContent--visual16">
        <span class="ActionListItem-visual ActionListItem-visual--leading">
          <svg aria-hidden="true" height="16" viewBox="0 0 16 16" version="1.1" width="16" data-view-component="true" class="octicon octicon-git-pull-request">
    <path d="M1.5 3.25a2.25 2.25 0 1 1 3 2.122v5.256a2.251 2.251 0 1 1-1.5 0V5.372A2.25 2.25 0 0 1 1.5 3.25Zm5.677-.177L9.573.677A.25.25 0 0 1 10 .854V2.5h1A2.5 2.5 0 0 1 13.5 5v5.628a2.251 2.251 0 1 1-1.5 0V5a1 1 0 0 0-1-1h-1v1.646a.25.25 0 0 1-.427.177L7.177 3.427a.25.25 0 0 1 0-.354ZM3.75 2.5a.75.75 0 1 0 0 1.5.75.75 0 0 0 0-1.5Zm0 9.5a.75.75 0 1 0 0 1.5.75.75 0 0 0 0-1.5Zm8.25.75a.75.75 0 1 0 1.5 0 .75.75 0 0 0-1.5 0Z"></path>
</svg>
        </span>
      
        <span data-view-component="true" class="ActionListItem-label">
          Pull requests
</span>      
</a>
  
</li>

        
          
<li data-item-id="" data-targets="nav-list.items" data-item-id="projects" data-view-component="true" class="ActionListItem">
    
    
    <a data-analytics-event="{&quot;category&quot;:&quot;Global navigation&quot;,&quot;action&quot;:&quot;PROJECTS&quot;,&quot;label&quot;:null}" id="item-b808a759-72d7-4295-82a9-b1e0abe8f93e" href="/projects" data-view-component="true" class="ActionListContent ActionListContent--visual16">
        <span class="ActionListItem-visual ActionListItem-visual--leading">
          <svg aria-hidden="true" height="16" viewBox="0 0 16 16" version="1.1" width="16" data-view-component="true" class="octicon octicon-table">
    <path d="M0 1.75C0 .784.784 0 1.75 0h12.5C15.216 0 16 .784 16 1.75v12.5A1.75 1.75 0 0 1 14.25 16H1.75A1.75 1.75 0 0 1 0 14.25ZM6.5 6.5v8h7.75a.25.25 0 0 0 .25-.25V6.5Zm8-1.5V1.75a.25.25 0 0 0-.25-.25H6.5V5Zm-13 1.5v7.75c0 .138.112.25.25.25H5v-8ZM5 5V1.5H1.75a.25.25 0 0 0-.25.25V5Z"></path>
</svg>
        </span>
      
        <span data-view-component="true" class="ActionListItem-label">
          Projects
</span>      
</a>
  
</li>

        
          
<li data-item-id="" data-targets="nav-list.items" data-view-component="true" class="ActionListItem">
    
    
    <a data-analytics-event="{&quot;category&quot;:&quot;Global navigation&quot;,&quot;action&quot;:&quot;DISCUSSIONS&quot;,&quot;label&quot;:null}" id="item-797ac188-ee7c-4695-9d30-3048614bfa46" href="/discussions" data-view-component="true" class="ActionListContent ActionListContent--visual16">
        <span class="ActionListItem-visual ActionListItem-visual--leading">
          <svg aria-hidden="true" height="16" viewBox="0 0 16 16" version="1.1" width="16" data-view-component="true" class="octicon octicon-comment-discussion">
    <path d="M1.75 1h8.5c.966 0 1.75.784 1.75 1.75v5.5A1.75 1.75 0 0 1 10.25 10H7.061l-2.574 2.573A1.458 1.458 0 0 1 2 11.543V10h-.25A1.75 1.75 0 0 1 0 8.25v-5.5C0 1.784.784 1 1.75 1ZM1.5 2.75v5.5c0 .138.112.25.25.25h1a.75.75 0 0 1 .75.75v2.19l2.72-2.72a.749.749 0 0 1 .53-.22h3.5a.25.25 0 0 0 .25-.25v-5.5a.25.25 0 0 0-.25-.25h-8.5a.25.25 0 0 0-.25.25Zm13 2a.25.25 0 0 0-.25-.25h-.5a.75.75 0 0 1 0-1.5h.5c.966 0 1.75.784 1.75 1.75v5.5A1.75 1.75 0 0 1 14.25 12H14v1.543a1.458 1.458 0 0 1-2.487 1.03L9.22 12.28a.749.749 0 0 1 .326-1.275.749.749 0 0 1 .734.215l2.22 2.22v-2.19a.75.75 0 0 1 .75-.75h1a.25.25 0 0 0 .25-.25Z"></path>
</svg>
        </span>
      
        <span data-view-component="true" class="ActionListItem-label">
          Discussions
</span>      
</a>
  
</li>

        
          
<li data-item-id="" data-targets="nav-list.items" data-view-component="true" class="ActionListItem">
    
    
    <a data-analytics-event="{&quot;category&quot;:&quot;Global navigation&quot;,&quot;action&quot;:&quot;CODESPACES&quot;,&quot;label&quot;:null}" id="item-93044661-c353-4046-abe8-51ea3b3a2a6b" href="https://github.com/codespaces" data-view-component="true" class="ActionListContent ActionListContent--visual16">
        <span class="ActionListItem-visual ActionListItem-visual--leading">
          <svg aria-hidden="true" height="16" viewBox="0 0 16 16" version="1.1" width="16" data-view-component="true" class="octicon octicon-codespaces">
    <path d="M0 11.25c0-.966.784-1.75 1.75-1.75h12.5c.966 0 1.75.784 1.75 1.75v3A1.75 1.75 0 0 1 14.25 16H1.75A1.75 1.75 0 0 1 0 14.25Zm2-9.5C2 .784 2.784 0 3.75 0h8.5C13.216 0 14 .784 14 1.75v5a1.75 1.75 0 0 1-1.75 1.75h-8.5A1.75 1.75 0 0 1 2 6.75Zm1.75-.25a.25.25 0 0 0-.25.25v5c0 .138.112.25.25.25h8.5a.25.25 0 0 0 .25-.25v-5a.25.25 0 0 0-.25-.25Zm-2 9.5a.25.25 0 0 0-.25.25v3c0 .138.112.25.25.25h12.5a.25.25 0 0 0 .25-.25v-3a.25.25 0 0 0-.25-.25Z"></path><path d="M7 12.75a.75.75 0 0 1 .75-.75h4.5a.75.75 0 0 1 0 1.5h-4.5a.75.75 0 0 1-.75-.75Zm-4 0a.75.75 0 0 1 .75-.75h.5a.75.75 0 0 1 0 1.5h-.5a.75.75 0 0 1-.75-.75Z"></path>
</svg>
        </span>
      
        <span data-view-component="true" class="ActionListItem-label">
          Codespaces
</span>      
</a>
  
</li>

        
          
<li data-item-id="" data-targets="nav-list.items" data-view-component="true" class="ActionListItem">
    
    
    <a data-analytics-event="{&quot;category&quot;:&quot;Global navigation&quot;,&quot;action&quot;:&quot;COPILOT&quot;,&quot;label&quot;:null}" id="item-5cc23e35-73bc-4772-93f1-eab1962bdae2" href="/copilot" data-view-component="true" class="ActionListContent ActionListContent--visual16">
        <span class="ActionListItem-visual ActionListItem-visual--leading">
          <svg aria-hidden="true" height="16" viewBox="0 0 16 16" version="1.1" width="16" data-view-component="true" class="octicon octicon-copilot">
    <path d="M7.998 15.035c-4.562 0-7.873-2.914-7.998-3.749V9.338c.085-.628.677-1.686 1.588-2.065.013-.07.024-.143.036-.218.029-.183.06-.384.126-.612-.201-.508-.254-1.084-.254-1.656 0-.87.128-1.769.693-2.484.579-.733 1.494-1.124 2.724-1.261 1.206-.134 2.262.034 2.944.765.05.053.096.108.139.165.044-.057.094-.112.143-.165.682-.731 1.738-.899 2.944-.765 1.23.137 2.145.528 2.724 1.261.566.715.693 1.614.693 2.484 0 .572-.053 1.148-.254 1.656.066.228.098.429.126.612.012.076.024.148.037.218.924.385 1.522 1.471 1.591 2.095v1.872c0 .766-3.351 3.795-8.002 3.795Zm0-1.485c2.28 0 4.584-1.11 5.002-1.433V7.862l-.023-.116c-.49.21-1.075.291-1.727.291-1.146 0-2.059-.327-2.71-.991A3.222 3.222 0 0 1 8 6.303a3.24 3.24 0 0 1-.544.743c-.65.664-1.563.991-2.71.991-.652 0-1.236-.081-1.727-.291l-.023.116v4.255c.419.323 2.722 1.433 5.002 1.433ZM6.762 2.83c-.193-.206-.637-.413-1.682-.297-1.019.113-1.479.404-1.713.7-.247.312-.369.789-.369 1.554 0 .793.129 1.171.308 1.371.162.181.519.379 1.442.379.853 0 1.339-.235 1.638-.54.315-.322.527-.827.617-1.553.117-.935-.037-1.395-.241-1.614Zm4.155-.297c-1.044-.116-1.488.091-1.681.297-.204.219-.359.679-.242 1.614.091.726.303 1.231.618 1.553.299.305.784.54 1.638.54.922 0 1.28-.198 1.442-.379.179-.2.308-.578.308-1.371 0-.765-.123-1.242-.37-1.554-.233-.296-.693-.587-1.713-.7Z"></path><path d="M6.25 9.037a.75.75 0 0 1 .75.75v1.501a.75.75 0 0 1-1.5 0V9.787a.75.75 0 0 1 .75-.75Zm4.25.75v1.501a.75.75 0 0 1-1.5 0V9.787a.75.75 0 0 1 1.5 0Z"></path>
</svg>
        </span>
      
        <span data-view-component="true" class="ActionListItem-label">
          Copilot
</span>      
</a>
  
</li>

        
          <li role="presentation" aria-hidden="true" data-view-component="true" class="ActionList-sectionDivider"></li>
        
          
<li data-item-id="" data-targets="nav-list.items" data-view-component="true" class="ActionListItem">
    
    
    <a data-analytics-event="{&quot;category&quot;:&quot;Global navigation&quot;,&quot;action&quot;:&quot;EXPLORE&quot;,&quot;label&quot;:null}" id="item-0d61040e-f449-4bfa-a741-776639441751" href="/explore" data-view-component="true" class="ActionListContent ActionListContent--visual16">
        <span class="ActionListItem-visual ActionListItem-visual--leading">
          <svg aria-hidden="true" height="16" viewBox="0 0 16 16" version="1.1" width="16" data-view-component="true" class="octicon octicon-telescope">
    <path d="M14.184 1.143v-.001l1.422 2.464a1.75 1.75 0 0 1-.757 2.451L3.104 11.713a1.75 1.75 0 0 1-2.275-.702l-.447-.775a1.75 1.75 0 0 1 .53-2.32L11.682.573a1.748 1.748 0 0 1 2.502.57Zm-4.709 9.32h-.001l2.644 3.863a.75.75 0 1 1-1.238.848l-1.881-2.75v2.826a.75.75 0 0 1-1.5 0v-2.826l-1.881 2.75a.75.75 0 1 1-1.238-.848l2.049-2.992a.746.746 0 0 1 .293-.253l1.809-.87a.749.749 0 0 1 .944.252ZM9.436 3.92h-.001l-4.97 3.39.942 1.63 5.42-2.61Zm3.091-2.108h.001l-1.85 1.26 1.505 2.605 2.016-.97a.247.247 0 0 0 .13-.151.247.247 0 0 0-.022-.199l-1.422-2.464a.253.253 0 0 0-.161-.119.254.254 0 0 0-.197.038ZM1.756 9.157a.25.25 0 0 0-.075.33l.447.775a.25.25 0 0 0 .325.1l1.598-.769-.83-1.436-1.465 1Z"></path>
</svg>
        </span>
      
        <span data-view-component="true" class="ActionListItem-label">
          Explore
</span>      
</a>
  
</li>

        
          
<li data-item-id="" data-targets="nav-list.items" data-view-component="true" class="ActionListItem">
    
    
    <a data-analytics-event="{&quot;category&quot;:&quot;Global navigation&quot;,&quot;action&quot;:&quot;MARKETPLACE&quot;,&quot;label&quot;:null}" id="item-ad1c5957-1089-43c9-b882-c3240539da14" href="/marketplace" data-view-component="true" class="ActionListContent ActionListContent--visual16">
        <span class="ActionListItem-visual ActionListItem-visual--leading">
          <svg aria-hidden="true" height="16" viewBox="0 0 16 16" version="1.1" width="16" data-view-component="true" class="octicon octicon-gift">
    <path d="M2 2.75A2.75 2.75 0 0 1 4.75 0c.983 0 1.873.42 2.57 1.232.268.318.497.668.68 1.042.183-.375.411-.725.68-1.044C9.376.42 10.266 0 11.25 0a2.75 2.75 0 0 1 2.45 4h.55c.966 0 1.75.784 1.75 1.75v2c0 .698-.409 1.301-1 1.582v4.918A1.75 1.75 0 0 1 13.25 16H2.75A1.75 1.75 0 0 1 1 14.25V9.332C.409 9.05 0 8.448 0 7.75v-2C0 4.784.784 4 1.75 4h.55c-.192-.375-.3-.8-.3-1.25ZM7.25 9.5H2.5v4.75c0 .138.112.25.25.25h4.5Zm1.5 0v5h4.5a.25.25 0 0 0 .25-.25V9.5Zm0-4V8h5.5a.25.25 0 0 0 .25-.25v-2a.25.25 0 0 0-.25-.25Zm-7 0a.25.25 0 0 0-.25.25v2c0 .138.112.25.25.25h5.5V5.5h-5.5Zm3-4a1.25 1.25 0 0 0 0 2.5h2.309c-.233-.818-.542-1.401-.878-1.793-.43-.502-.915-.707-1.431-.707ZM8.941 4h2.309a1.25 1.25 0 0 0 0-2.5c-.516 0-1 .205-1.43.707-.337.392-.646.975-.879 1.793Z"></path>
</svg>
        </span>
      
        <span data-view-component="true" class="ActionListItem-label">
          Marketplace
</span>      
</a>
  
</li>

</ul>  </nav-list>
</nav>

        <div data-view-component="true" class="my-3 d-flex flex-justify-center height-full">
          <span data-view-component="true">
  <svg style="box-sizing: content-box; color: var(--color-icon-primary);" width="16" height="16" viewBox="0 0 16 16" fill="none" aria-hidden="true" data-view-component="true" class="anim-rotate">
    <circle cx="8" cy="8" r="7" stroke="currentColor" stroke-opacity="0.25" stroke-width="2" vector-effect="non-scaling-stroke" fill="none" />
    <path d="M15 8a7.002 7.002 0 00-7-7" stroke="currentColor" stroke-width="2" stroke-linecap="round" vector-effect="non-scaling-stroke" />
</svg>    <span class="sr-only">Loading</span>
</span>
</div>
</div>
      <div data-view-component="true" class="flex-1"></div>


      <div data-view-component="true" class="px-2">      <p class="color-fg-subtle text-small text-light">&copy; 2025 GitHub, Inc.</p>

      <div data-view-component="true" class="d-flex flex-wrap text-small text-light">
          <a target="_blank" href="https://github.com/about" data-view-component="true" class="Link mr-2">About</a>
          <a target="_blank" href="https://github.blog" data-view-component="true" class="Link mr-2">Blog</a>
          <a target="_blank" href="https://docs.github.com/site-policy/github-terms/github-terms-of-service" data-view-component="true" class="Link mr-2">Terms</a>
          <a target="_blank" href="https://docs.github.com/site-policy/privacy-policies/github-privacy-statement" data-view-component="true" class="Link mr-2">Privacy</a>
          <a target="_blank" href="https://github.com/security" data-view-component="true" class="Link mr-2">Security</a>
          <a target="_blank" href="https://www.githubstatus.com/" data-view-component="true" class="Link mr-3">Status</a>

</div></div>
</div>
      </scrollable-region>
      
</dialog></dialog-helper>


  <div data-show-on-forbidden-error hidden>
    <div class="Box">
  <div class="blankslate-container">
    <div data-view-component="true" class="blankslate blankslate-spacious color-bg-default rounded-2">
      

      <h3 data-view-component="true" class="blankslate-heading">        Uh oh!
</h3>
      <p data-view-component="true">        <p class="color-fg-muted my-2 mb-2 ws-normal">There was an error while loading. <a class="Link--inTextBlock" data-turbo="false" href="" aria-label="Please reload this page">Please reload this page</a>.</p>
</p>

</div>  </div>
</div>  </div>
</include-fragment></deferred-side-panel>
        </div>

        <a class="AppHeader-logo ml-1 "
          href="https://github.com/"
          data-hotkey="g d"
          aria-label="Homepage "
          data-turbo="false"
          data-analytics-event="{&quot;category&quot;:&quot;Header&quot;,&quot;action&quot;:&quot;go to dashboard&quot;,&quot;label&quot;:&quot;icon:logo&quot;}"
        >
          <svg height="32" aria-hidden="true" viewBox="0 0 24 24" version="1.1" width="32" data-view-component="true" class="octicon octicon-mark-github v-align-middle">
    <path d="M12 1C5.923 1 1 5.923 1 12c0 4.867 3.149 8.979 7.521 10.436.55.096.756-.233.756-.522 0-.262-.013-1.128-.013-2.049-2.764.509-3.479-.674-3.699-1.292-.124-.317-.66-1.293-1.127-1.554-.385-.207-.936-.715-.014-.729.866-.014 1.485.797 1.691 1.128.99 1.663 2.571 1.196 3.204.907.096-.715.385-1.196.701-1.471-2.448-.275-5.005-1.224-5.005-5.432 0-1.196.426-2.186 1.128-2.956-.111-.275-.496-1.402.11-2.915 0 0 .921-.288 3.024 1.128a10.193 10.193 0 0 1 2.75-.371c.936 0 1.871.123 2.75.371 2.104-1.43 3.025-1.128 3.025-1.128.605 1.513.221 2.64.111 2.915.701.77 1.127 1.747 1.127 2.956 0 4.222-2.571 5.157-5.019 5.432.399.344.743 1.004.743 2.035 0 1.471-.014 2.654-.014 3.025 0 .289.206.632.756.522C19.851 20.979 23 16.854 23 12c0-6.077-4.922-11-11-11Z"></path>
</svg>
        </a>

          <context-region-controller
  class="AppHeader-context responsive-context-region"
  data-max-items="5"
  
>
  <div class="AppHeader-context-full">
    <nav role="navigation" aria-label="GitHub Breadcrumb">
      
<context-region data-target="context-region-controller.contextRegion" role="list"  data-action="context-region-changed:context-region-controller#crumbsChanged">
    <context-region-crumb
      data-crumb-id="contextregion-usercrumb-37nomad"
      data-targets="context-region.crumbs"
      data-label="37nomad"
      data-href="/37nomad"
      data-pre-rendered
      role="listitem"
      
    >
      <a data-target="context-region-crumb.linkElement" data-analytics-event="{&quot;category&quot;:&quot;SiteHeaderComponent&quot;,&quot;action&quot;:&quot;context_region_crumb&quot;,&quot;label&quot;:&quot;37nomad&quot;,&quot;screen_size&quot;:&quot;full&quot;}" data-hovercard-type="user" data-hovercard-url="/users/37nomad/hovercard" data-octo-click="hovercard-link-click" data-octo-dimensions="link_type:self" href="/37nomad" id="contextregion-usercrumb-37nomad-link" data-view-component="true" class="AppHeader-context-item">
        <span data-target="context-region-crumb.labelElement" class="AppHeader-context-item-label ">
          37nomad
        </span>

</a>
      <context-region-divider data-target="context-region-crumb.dividerElement" data-pre-rendered >
  <span class="AppHeader-context-item-separator">
    <span class="sr-only">/</span>
    <svg width="16" height="16" viewBox="0 0 16 16" xmlns="http://www.w3.org/2000/svg" aria-hidden="true">
      <path d="M10.956 1.27994L6.06418 14.7201L5 14.7201L9.89181 1.27994L10.956 1.27994Z" fill="currentcolor" />
    </svg>
  </span>
</context-region-divider>

    </context-region-crumb>

      <li data-target="context-region-controller.overflowMenuContainer context-region.overflowMenuContainer" role="listitem" hidden>
        <action-menu data-target="context-region-controller.overflowActionMenu" data-select-variant="none" data-view-component="true">
  <focus-group direction="vertical" mnemonics retain>
    <button id="action-menu-9cfb55cf-0ba5-49fa-86f0-95953fcc83aa-button" popovertarget="action-menu-9cfb55cf-0ba5-49fa-86f0-95953fcc83aa-overlay" aria-controls="action-menu-9cfb55cf-0ba5-49fa-86f0-95953fcc83aa-list" aria-haspopup="true" aria-labelledby="tooltip-90ef8369-f461-41bb-a208-9e9e8e506401" type="button" data-view-component="true" class="Button Button--iconOnly Button--secondary Button--medium">  <svg aria-hidden="true" height="16" viewBox="0 0 16 16" version="1.1" width="16" data-view-component="true" class="octicon octicon-kebab-horizontal Button-visual">
    <path d="M8 9a1.5 1.5 0 1 0 0-3 1.5 1.5 0 0 0 0 3ZM1.5 9a1.5 1.5 0 1 0 0-3 1.5 1.5 0 0 0 0 3Zm13 0a1.5 1.5 0 1 0 0-3 1.5 1.5 0 0 0 0 3Z"></path>
</svg>
</button><tool-tip id="tooltip-90ef8369-f461-41bb-a208-9e9e8e506401" for="action-menu-9cfb55cf-0ba5-49fa-86f0-95953fcc83aa-button" popover="manual" data-direction="s" data-type="label" data-view-component="true" class="sr-only position-absolute">Show more breadcrumb items</tool-tip>


<anchored-position data-target="action-menu.overlay" id="action-menu-9cfb55cf-0ba5-49fa-86f0-95953fcc83aa-overlay" anchor="action-menu-9cfb55cf-0ba5-49fa-86f0-95953fcc83aa-button" align="start" side="outside-bottom" anchor-offset="normal" popover="auto" data-view-component="true">
  <div data-view-component="true" class="Overlay Overlay--size-auto">
    
      <div data-view-component="true" class="Overlay-body Overlay-body--paddingNone">          <action-list>
  <div data-view-component="true">
    <ul aria-labelledby="action-menu-9cfb55cf-0ba5-49fa-86f0-95953fcc83aa-button" id="action-menu-9cfb55cf-0ba5-49fa-86f0-95953fcc83aa-list" role="menu" data-view-component="true" class="ActionListWrap--inset ActionListWrap">
        <li hidden="hidden" data-crumb-id="contextregion-usercrumb-37nomad" data-targets="context-region.overflowCrumbs action-list.items" data-analytics-event="{&quot;category&quot;:&quot;SiteHeaderComponent&quot;,&quot;action&quot;:&quot;context_region_overflow_menu_crumb&quot;,&quot;label&quot;:&quot;global-navigation&quot;}" role="none" data-view-component="true" class="ActionListItem">
    
    
    <a tabindex="-1" id="item-5cb38a51-bbd5-4b21-bb9f-112bca6159c5" href="/37nomad" role="menuitem" data-view-component="true" class="ActionListContent">
      
        <span data-view-component="true" class="ActionListItem-label">
          37nomad
</span>      
</a>
  
</li>
        <li hidden="hidden" data-crumb-id="contextregion-repositorycrumb-facial-expression-recognition-using-self-attention" data-targets="context-region.overflowCrumbs action-list.items" data-analytics-event="{&quot;category&quot;:&quot;SiteHeaderComponent&quot;,&quot;action&quot;:&quot;context_region_overflow_menu_crumb&quot;,&quot;label&quot;:&quot;global-navigation&quot;}" role="none" data-view-component="true" class="ActionListItem">
    
    
    <a tabindex="-1" id="item-bf55fc89-56c1-48d5-a595-2f4c12dda001" href="/37nomad/Facial-Expression-Recognition-Using-Self-Attention" role="menuitem" data-view-component="true" class="ActionListContent">
      
        <span data-view-component="true" class="ActionListItem-label">
          Facial-Expression-Recognition-Using-Self-Attention
</span>      
</a>
  
</li>
</ul>    
</div></action-list>


</div>
      
</div></anchored-position>  </focus-group>
</action-menu>
  <context-region-divider data-target="context-region-crumb.dividerElement" data-pre-rendered >
  <span class="AppHeader-context-item-separator">
    <span class="sr-only">/</span>
    <svg width="16" height="16" viewBox="0 0 16 16" xmlns="http://www.w3.org/2000/svg" aria-hidden="true">
      <path d="M10.956 1.27994L6.06418 14.7201L5 14.7201L9.89181 1.27994L10.956 1.27994Z" fill="currentcolor" />
    </svg>
  </span>
</context-region-divider>


      </li>
    <context-region-crumb
      data-crumb-id="contextregion-repositorycrumb-facial-expression-recognition-using-self-attention"
      data-targets="context-region.crumbs"
      data-label="Facial-Expression-Recognition-Using-Self-Attention"
      data-href="/37nomad/Facial-Expression-Recognition-Using-Self-Attention"
      data-pre-rendered
      role="listitem"
      
    >
      <a data-target="context-region-crumb.linkElement" data-analytics-event="{&quot;category&quot;:&quot;SiteHeaderComponent&quot;,&quot;action&quot;:&quot;context_region_crumb&quot;,&quot;label&quot;:&quot;Facial-Expression-Recognition-Using-Self-Attention&quot;,&quot;screen_size&quot;:&quot;full&quot;}" href="/37nomad/Facial-Expression-Recognition-Using-Self-Attention" id="contextregion-repositorycrumb-facial-expression-recognition-using-self-attention-link" data-view-component="true" class="AppHeader-context-item">
        <span data-target="context-region-crumb.labelElement" class="AppHeader-context-item-label ">
          Facial-Expression-Recognition-Using-Self-Attention
        </span>

</a>
      <context-region-divider data-target="context-region-crumb.dividerElement" data-pre-rendered >
  <span class="AppHeader-context-item-separator">
    <span class="sr-only">/</span>
    <svg width="16" height="16" viewBox="0 0 16 16" xmlns="http://www.w3.org/2000/svg" aria-hidden="true">
      <path d="M10.956 1.27994L6.06418 14.7201L5 14.7201L9.89181 1.27994L10.956 1.27994Z" fill="currentcolor" />
    </svg>
  </span>
</context-region-divider>

    </context-region-crumb>

</context-region>

    </nav>
  </div>
</context-region-controller>

      </div>
      <div class="AppHeader-globalBar-end">
          <div class="AppHeader-search" >
              


<qbsearch-input class="search-input" data-scope="repo:37nomad/Facial-Expression-Recognition-Using-Self-Attention" data-custom-scopes-path="/search/custom_scopes" data-delete-custom-scopes-csrf="t7R0gQe2Jf7OXMhA8VtfadZ4VROxKrJYcSDh2zb_3JjefiWBpRubfEp9fQKmyLpfk8RYBMoEAnSGLT1eNVQLaA" data-max-custom-scopes="10" data-header-redesign-enabled="true" data-initial-value="" data-blackbird-suggestions-path="/search/suggestions" data-jump-to-suggestions-path="/_graphql/GetSuggestedNavigationDestinations" data-current-repository="37nomad/Facial-Expression-Recognition-Using-Self-Attention" data-current-org="" data-current-owner="37nomad" data-logged-in="true" data-copilot-chat-enabled="false" data-nl-search-enabled="false">
  <div
    class="search-input-container search-with-dialog position-relative d-flex flex-row flex-items-center height-auto color-bg-transparent border-0 color-fg-subtle mx-0"
    data-action="click:qbsearch-input#searchInputContainerClicked"
  >
      
            <button type="button" data-action="click:qbsearch-input#handleExpand" class="AppHeader-button AppHeader-search-whenNarrow" aria-label="Search or jump to…" aria-expanded="false" aria-haspopup="dialog">
            <svg aria-hidden="true" height="16" viewBox="0 0 16 16" version="1.1" width="16" data-view-component="true" class="octicon octicon-search">
    <path d="M10.68 11.74a6 6 0 0 1-7.922-8.982 6 6 0 0 1 8.982 7.922l3.04 3.04a.749.749 0 0 1-.326 1.275.749.749 0 0 1-.734-.215ZM11.5 7a4.499 4.499 0 1 0-8.997 0A4.499 4.499 0 0 0 11.5 7Z"></path>
</svg>
          </button>


<div class="AppHeader-search-whenRegular">
  <div class="AppHeader-search-wrap AppHeader-search-wrap--hasTrailing">
    <div class="AppHeader-search-control AppHeader-search-control-overflow">
      <label
        for="AppHeader-searchInput"
        aria-label="Search or jump to…"
        class="AppHeader-search-visual--leading"
      >
        <svg aria-hidden="true" height="16" viewBox="0 0 16 16" version="1.1" width="16" data-view-component="true" class="octicon octicon-search">
    <path d="M10.68 11.74a6 6 0 0 1-7.922-8.982 6 6 0 0 1 8.982 7.922l3.04 3.04a.749.749 0 0 1-.326 1.275.749.749 0 0 1-.734-.215ZM11.5 7a4.499 4.499 0 1 0-8.997 0A4.499 4.499 0 0 0 11.5 7Z"></path>
</svg>
      </label>

                <button
            type="button"
            data-target="qbsearch-input.inputButton"
            data-action="click:qbsearch-input#handleExpand"
            class="AppHeader-searchButton form-control input-contrast text-left color-fg-subtle no-wrap"
            data-hotkey="s,/"
            data-analytics-event="{&quot;location&quot;:&quot;navbar&quot;,&quot;action&quot;:&quot;searchbar&quot;,&quot;context&quot;:&quot;global&quot;,&quot;tag&quot;:&quot;input&quot;,&quot;label&quot;:&quot;searchbar_input_global_navbar&quot;}"
            aria-describedby="search-error-message-flash"
          >
            <div class="overflow-hidden">
              <span id="qb-input-query" data-target="qbsearch-input.inputButtonText">
                  Type <kbd class="AppHeader-search-kbd">/</kbd> to search
              </span>
            </div>
          </button>

    </div>


  </div>
</div>

    <input type="hidden" name="type" class="js-site-search-type-field">

    
<div class="Overlay--hidden " data-modal-dialog-overlay>
  <modal-dialog data-action="close:qbsearch-input#handleClose cancel:qbsearch-input#handleClose" data-target="qbsearch-input.searchSuggestionsDialog" role="dialog" id="search-suggestions-dialog" aria-modal="true" aria-labelledby="search-suggestions-dialog-header" data-view-component="true" class="Overlay Overlay--width-medium Overlay--height-auto">
      <h1 id="search-suggestions-dialog-header" class="sr-only">Search code, repositories, users, issues, pull requests...</h1>
    <div class="Overlay-body Overlay-body--paddingNone">
      
          <div data-view-component="true">        <div class="search-suggestions position-absolute width-full color-shadow-large border color-fg-default color-bg-default overflow-hidden d-flex flex-column query-builder-container"
          style="border-radius: 12px;"
          data-target="qbsearch-input.queryBuilderContainer"
          hidden
        >
          <!-- '"` --><!-- </textarea></xmp> --></option></form><form id="query-builder-test-form" action="" accept-charset="UTF-8" method="get">
  <query-builder data-target="qbsearch-input.queryBuilder" id="query-builder-query-builder-test" data-filter-key=":" data-view-component="true" class="QueryBuilder search-query-builder">
    <div class="FormControl FormControl--fullWidth">
      <label id="query-builder-test-label" for="query-builder-test" class="FormControl-label sr-only">
        Search
      </label>
      <div
        class="QueryBuilder-StyledInput width-fit "
        data-target="query-builder.styledInput"
      >
          <span id="query-builder-test-leadingvisual-wrap" class="FormControl-input-leadingVisualWrap QueryBuilder-leadingVisualWrap">
            <svg aria-hidden="true" height="16" viewBox="0 0 16 16" version="1.1" width="16" data-view-component="true" class="octicon octicon-search FormControl-input-leadingVisual">
    <path d="M10.68 11.74a6 6 0 0 1-7.922-8.982 6 6 0 0 1 8.982 7.922l3.04 3.04a.749.749 0 0 1-.326 1.275.749.749 0 0 1-.734-.215ZM11.5 7a4.499 4.499 0 1 0-8.997 0A4.499 4.499 0 0 0 11.5 7Z"></path>
</svg>
          </span>
        <div data-target="query-builder.styledInputContainer" class="QueryBuilder-StyledInputContainer">
          <div
            aria-hidden="true"
            class="QueryBuilder-StyledInputContent"
            data-target="query-builder.styledInputContent"
          ></div>
          <div class="QueryBuilder-InputWrapper">
            <div aria-hidden="true" class="QueryBuilder-Sizer" data-target="query-builder.sizer"></div>
            <input id="query-builder-test" name="query-builder-test" value="" autocomplete="off" type="text" role="combobox" spellcheck="false" aria-expanded="false" aria-describedby="validation-7256c9f9-d78f-4e49-bb93-711d88f1c945" data-target="query-builder.input" data-action="
          input:query-builder#inputChange
          blur:query-builder#inputBlur
          keydown:query-builder#inputKeydown
          focus:query-builder#inputFocus
        " data-view-component="true" class="FormControl-input QueryBuilder-Input FormControl-medium" />
          </div>
        </div>
          <span class="sr-only" id="query-builder-test-clear">Clear</span>
          <button role="button" id="query-builder-test-clear-button" aria-labelledby="query-builder-test-clear query-builder-test-label" data-target="query-builder.clearButton" data-action="
                click:query-builder#clear
                focus:query-builder#clearButtonFocus
                blur:query-builder#clearButtonBlur
              " variant="small" hidden="hidden" type="button" data-view-component="true" class="Button Button--iconOnly Button--invisible Button--medium mr-1 px-2 py-0 d-flex flex-items-center rounded-1 color-fg-muted">  <svg aria-hidden="true" height="16" viewBox="0 0 16 16" version="1.1" width="16" data-view-component="true" class="octicon octicon-x-circle-fill Button-visual">
    <path d="M2.343 13.657A8 8 0 1 1 13.658 2.343 8 8 0 0 1 2.343 13.657ZM6.03 4.97a.751.751 0 0 0-1.042.018.751.751 0 0 0-.018 1.042L6.94 8 4.97 9.97a.749.749 0 0 0 .326 1.275.749.749 0 0 0 .734-.215L8 9.06l1.97 1.97a.749.749 0 0 0 1.275-.326.749.749 0 0 0-.215-.734L9.06 8l1.97-1.97a.749.749 0 0 0-.326-1.275.749.749 0 0 0-.734.215L8 6.94Z"></path>
</svg>
</button>

      </div>
      <template id="search-icon">
  <svg aria-hidden="true" height="16" viewBox="0 0 16 16" version="1.1" width="16" data-view-component="true" class="octicon octicon-search">
    <path d="M10.68 11.74a6 6 0 0 1-7.922-8.982 6 6 0 0 1 8.982 7.922l3.04 3.04a.749.749 0 0 1-.326 1.275.749.749 0 0 1-.734-.215ZM11.5 7a4.499 4.499 0 1 0-8.997 0A4.499 4.499 0 0 0 11.5 7Z"></path>
</svg>
</template>

<template id="code-icon">
  <svg aria-hidden="true" height="16" viewBox="0 0 16 16" version="1.1" width="16" data-view-component="true" class="octicon octicon-code">
    <path d="m11.28 3.22 4.25 4.25a.75.75 0 0 1 0 1.06l-4.25 4.25a.749.749 0 0 1-1.275-.326.749.749 0 0 1 .215-.734L13.94 8l-3.72-3.72a.749.749 0 0 1 .326-1.275.749.749 0 0 1 .734.215Zm-6.56 0a.751.751 0 0 1 1.042.018.751.751 0 0 1 .018 1.042L2.06 8l3.72 3.72a.749.749 0 0 1-.326 1.275.749.749 0 0 1-.734-.215L.47 8.53a.75.75 0 0 1 0-1.06Z"></path>
</svg>
</template>

<template id="file-code-icon">
  <svg aria-hidden="true" height="16" viewBox="0 0 16 16" version="1.1" width="16" data-view-component="true" class="octicon octicon-file-code">
    <path d="M4 1.75C4 .784 4.784 0 5.75 0h5.586c.464 0 .909.184 1.237.513l2.914 2.914c.329.328.513.773.513 1.237v8.586A1.75 1.75 0 0 1 14.25 15h-9a.75.75 0 0 1 0-1.5h9a.25.25 0 0 0 .25-.25V6h-2.75A1.75 1.75 0 0 1 10 4.25V1.5H5.75a.25.25 0 0 0-.25.25v2.5a.75.75 0 0 1-1.5 0Zm1.72 4.97a.75.75 0 0 1 1.06 0l2 2a.75.75 0 0 1 0 1.06l-2 2a.749.749 0 0 1-1.275-.326.749.749 0 0 1 .215-.734l1.47-1.47-1.47-1.47a.75.75 0 0 1 0-1.06ZM3.28 7.78 1.81 9.25l1.47 1.47a.751.751 0 0 1-.018 1.042.751.751 0 0 1-1.042.018l-2-2a.75.75 0 0 1 0-1.06l2-2a.751.751 0 0 1 1.042.018.751.751 0 0 1 .018 1.042Zm8.22-6.218V4.25c0 .138.112.25.25.25h2.688l-.011-.013-2.914-2.914-.013-.011Z"></path>
</svg>
</template>

<template id="history-icon">
  <svg aria-hidden="true" height="16" viewBox="0 0 16 16" version="1.1" width="16" data-view-component="true" class="octicon octicon-history">
    <path d="m.427 1.927 1.215 1.215a8.002 8.002 0 1 1-1.6 5.685.75.75 0 1 1 1.493-.154 6.5 6.5 0 1 0 1.18-4.458l1.358 1.358A.25.25 0 0 1 3.896 6H.25A.25.25 0 0 1 0 5.75V2.104a.25.25 0 0 1 .427-.177ZM7.75 4a.75.75 0 0 1 .75.75v2.992l2.028.812a.75.75 0 0 1-.557 1.392l-2.5-1A.751.751 0 0 1 7 8.25v-3.5A.75.75 0 0 1 7.75 4Z"></path>
</svg>
</template>

<template id="repo-icon">
  <svg aria-hidden="true" height="16" viewBox="0 0 16 16" version="1.1" width="16" data-view-component="true" class="octicon octicon-repo">
    <path d="M2 2.5A2.5 2.5 0 0 1 4.5 0h8.75a.75.75 0 0 1 .75.75v12.5a.75.75 0 0 1-.75.75h-2.5a.75.75 0 0 1 0-1.5h1.75v-2h-8a1 1 0 0 0-.714 1.7.75.75 0 1 1-1.072 1.05A2.495 2.495 0 0 1 2 11.5Zm10.5-1h-8a1 1 0 0 0-1 1v6.708A2.486 2.486 0 0 1 4.5 9h8ZM5 12.25a.25.25 0 0 1 .25-.25h3.5a.25.25 0 0 1 .25.25v3.25a.25.25 0 0 1-.4.2l-1.45-1.087a.249.249 0 0 0-.3 0L5.4 15.7a.25.25 0 0 1-.4-.2Z"></path>
</svg>
</template>

<template id="bookmark-icon">
  <svg aria-hidden="true" height="16" viewBox="0 0 16 16" version="1.1" width="16" data-view-component="true" class="octicon octicon-bookmark">
    <path d="M3 2.75C3 1.784 3.784 1 4.75 1h6.5c.966 0 1.75.784 1.75 1.75v11.5a.75.75 0 0 1-1.227.579L8 11.722l-3.773 3.107A.751.751 0 0 1 3 14.25Zm1.75-.25a.25.25 0 0 0-.25.25v9.91l3.023-2.489a.75.75 0 0 1 .954 0l3.023 2.49V2.75a.25.25 0 0 0-.25-.25Z"></path>
</svg>
</template>

<template id="plus-circle-icon">
  <svg aria-hidden="true" height="16" viewBox="0 0 16 16" version="1.1" width="16" data-view-component="true" class="octicon octicon-plus-circle">
    <path d="M8 0a8 8 0 1 1 0 16A8 8 0 0 1 8 0ZM1.5 8a6.5 6.5 0 1 0 13 0 6.5 6.5 0 0 0-13 0Zm7.25-3.25v2.5h2.5a.75.75 0 0 1 0 1.5h-2.5v2.5a.75.75 0 0 1-1.5 0v-2.5h-2.5a.75.75 0 0 1 0-1.5h2.5v-2.5a.75.75 0 0 1 1.5 0Z"></path>
</svg>
</template>

<template id="circle-icon">
  <svg aria-hidden="true" height="16" viewBox="0 0 16 16" version="1.1" width="16" data-view-component="true" class="octicon octicon-dot-fill">
    <path d="M8 4a4 4 0 1 1 0 8 4 4 0 0 1 0-8Z"></path>
</svg>
</template>

<template id="trash-icon">
  <svg aria-hidden="true" height="16" viewBox="0 0 16 16" version="1.1" width="16" data-view-component="true" class="octicon octicon-trash">
    <path d="M11 1.75V3h2.25a.75.75 0 0 1 0 1.5H2.75a.75.75 0 0 1 0-1.5H5V1.75C5 .784 5.784 0 6.75 0h2.5C10.216 0 11 .784 11 1.75ZM4.496 6.675l.66 6.6a.25.25 0 0 0 .249.225h5.19a.25.25 0 0 0 .249-.225l.66-6.6a.75.75 0 0 1 1.492.149l-.66 6.6A1.748 1.748 0 0 1 10.595 15h-5.19a1.75 1.75 0 0 1-1.741-1.575l-.66-6.6a.75.75 0 1 1 1.492-.15ZM6.5 1.75V3h3V1.75a.25.25 0 0 0-.25-.25h-2.5a.25.25 0 0 0-.25.25Z"></path>
</svg>
</template>

<template id="team-icon">
  <svg aria-hidden="true" height="16" viewBox="0 0 16 16" version="1.1" width="16" data-view-component="true" class="octicon octicon-people">
    <path d="M2 5.5a3.5 3.5 0 1 1 5.898 2.549 5.508 5.508 0 0 1 3.034 4.084.75.75 0 1 1-1.482.235 4 4 0 0 0-7.9 0 .75.75 0 0 1-1.482-.236A5.507 5.507 0 0 1 3.102 8.05 3.493 3.493 0 0 1 2 5.5ZM11 4a3.001 3.001 0 0 1 2.22 5.018 5.01 5.01 0 0 1 2.56 3.012.749.749 0 0 1-.885.954.752.752 0 0 1-.549-.514 3.507 3.507 0 0 0-2.522-2.372.75.75 0 0 1-.574-.73v-.352a.75.75 0 0 1 .416-.672A1.5 1.5 0 0 0 11 5.5.75.75 0 0 1 11 4Zm-5.5-.5a2 2 0 1 0-.001 3.999A2 2 0 0 0 5.5 3.5Z"></path>
</svg>
</template>

<template id="project-icon">
  <svg aria-hidden="true" height="16" viewBox="0 0 16 16" version="1.1" width="16" data-view-component="true" class="octicon octicon-project">
    <path d="M1.75 0h12.5C15.216 0 16 .784 16 1.75v12.5A1.75 1.75 0 0 1 14.25 16H1.75A1.75 1.75 0 0 1 0 14.25V1.75C0 .784.784 0 1.75 0ZM1.5 1.75v12.5c0 .138.112.25.25.25h12.5a.25.25 0 0 0 .25-.25V1.75a.25.25 0 0 0-.25-.25H1.75a.25.25 0 0 0-.25.25ZM11.75 3a.75.75 0 0 1 .75.75v7.5a.75.75 0 0 1-1.5 0v-7.5a.75.75 0 0 1 .75-.75Zm-8.25.75a.75.75 0 0 1 1.5 0v5.5a.75.75 0 0 1-1.5 0ZM8 3a.75.75 0 0 1 .75.75v3.5a.75.75 0 0 1-1.5 0v-3.5A.75.75 0 0 1 8 3Z"></path>
</svg>
</template>

<template id="pencil-icon">
  <svg aria-hidden="true" height="16" viewBox="0 0 16 16" version="1.1" width="16" data-view-component="true" class="octicon octicon-pencil">
    <path d="M11.013 1.427a1.75 1.75 0 0 1 2.474 0l1.086 1.086a1.75 1.75 0 0 1 0 2.474l-8.61 8.61c-.21.21-.47.364-.756.445l-3.251.93a.75.75 0 0 1-.927-.928l.929-3.25c.081-.286.235-.547.445-.758l8.61-8.61Zm.176 4.823L9.75 4.81l-6.286 6.287a.253.253 0 0 0-.064.108l-.558 1.953 1.953-.558a.253.253 0 0 0 .108-.064Zm1.238-3.763a.25.25 0 0 0-.354 0L10.811 3.75l1.439 1.44 1.263-1.263a.25.25 0 0 0 0-.354Z"></path>
</svg>
</template>

<template id="copilot-icon">
  <svg aria-hidden="true" height="16" viewBox="0 0 16 16" version="1.1" width="16" data-view-component="true" class="octicon octicon-copilot">
    <path d="M7.998 15.035c-4.562 0-7.873-2.914-7.998-3.749V9.338c.085-.628.677-1.686 1.588-2.065.013-.07.024-.143.036-.218.029-.183.06-.384.126-.612-.201-.508-.254-1.084-.254-1.656 0-.87.128-1.769.693-2.484.579-.733 1.494-1.124 2.724-1.261 1.206-.134 2.262.034 2.944.765.05.053.096.108.139.165.044-.057.094-.112.143-.165.682-.731 1.738-.899 2.944-.765 1.23.137 2.145.528 2.724 1.261.566.715.693 1.614.693 2.484 0 .572-.053 1.148-.254 1.656.066.228.098.429.126.612.012.076.024.148.037.218.924.385 1.522 1.471 1.591 2.095v1.872c0 .766-3.351 3.795-8.002 3.795Zm0-1.485c2.28 0 4.584-1.11 5.002-1.433V7.862l-.023-.116c-.49.21-1.075.291-1.727.291-1.146 0-2.059-.327-2.71-.991A3.222 3.222 0 0 1 8 6.303a3.24 3.24 0 0 1-.544.743c-.65.664-1.563.991-2.71.991-.652 0-1.236-.081-1.727-.291l-.023.116v4.255c.419.323 2.722 1.433 5.002 1.433ZM6.762 2.83c-.193-.206-.637-.413-1.682-.297-1.019.113-1.479.404-1.713.7-.247.312-.369.789-.369 1.554 0 .793.129 1.171.308 1.371.162.181.519.379 1.442.379.853 0 1.339-.235 1.638-.54.315-.322.527-.827.617-1.553.117-.935-.037-1.395-.241-1.614Zm4.155-.297c-1.044-.116-1.488.091-1.681.297-.204.219-.359.679-.242 1.614.091.726.303 1.231.618 1.553.299.305.784.54 1.638.54.922 0 1.28-.198 1.442-.379.179-.2.308-.578.308-1.371 0-.765-.123-1.242-.37-1.554-.233-.296-.693-.587-1.713-.7Z"></path><path d="M6.25 9.037a.75.75 0 0 1 .75.75v1.501a.75.75 0 0 1-1.5 0V9.787a.75.75 0 0 1 .75-.75Zm4.25.75v1.501a.75.75 0 0 1-1.5 0V9.787a.75.75 0 0 1 1.5 0Z"></path>
</svg>
</template>

<template id="copilot-error-icon">
  <svg aria-hidden="true" height="16" viewBox="0 0 16 16" version="1.1" width="16" data-view-component="true" class="octicon octicon-copilot-error">
    <path d="M16 11.24c0 .112-.072.274-.21.467L13 9.688V7.862l-.023-.116c-.49.21-1.075.291-1.727.291-.198 0-.388-.009-.571-.029L6.833 5.226a4.01 4.01 0 0 0 .17-.782c.117-.935-.037-1.395-.241-1.614-.193-.206-.637-.413-1.682-.297-.683.076-1.115.231-1.395.415l-1.257-.91c.579-.564 1.413-.877 2.485-.996 1.206-.134 2.262.034 2.944.765.05.053.096.108.139.165.044-.057.094-.112.143-.165.682-.731 1.738-.899 2.944-.765 1.23.137 2.145.528 2.724 1.261.566.715.693 1.614.693 2.484 0 .572-.053 1.148-.254 1.656.066.228.098.429.126.612.012.076.024.148.037.218.924.385 1.522 1.471 1.591 2.095Zm-5.083-8.707c-1.044-.116-1.488.091-1.681.297-.204.219-.359.679-.242 1.614.091.726.303 1.231.618 1.553.299.305.784.54 1.638.54.922 0 1.28-.198 1.442-.379.179-.2.308-.578.308-1.371 0-.765-.123-1.242-.37-1.554-.233-.296-.693-.587-1.713-.7Zm2.511 11.074c-1.393.776-3.272 1.428-5.43 1.428-4.562 0-7.873-2.914-7.998-3.749V9.338c.085-.628.677-1.686 1.588-2.065.013-.07.024-.143.036-.218.029-.183.06-.384.126-.612-.18-.455-.241-.963-.252-1.475L.31 4.107A.747.747 0 0 1 0 3.509V3.49a.748.748 0 0 1 .625-.73c.156-.026.306.047.435.139l14.667 10.578a.592.592 0 0 1 .227.264.752.752 0 0 1 .046.249v.022a.75.75 0 0 1-1.19.596Zm-1.367-.991L5.635 7.964a5.128 5.128 0 0 1-.889.073c-.652 0-1.236-.081-1.727-.291l-.023.116v4.255c.419.323 2.722 1.433 5.002 1.433 1.539 0 3.089-.505 4.063-.934Z"></path>
</svg>
</template>

<template id="workflow-icon">
  <svg aria-hidden="true" height="16" viewBox="0 0 16 16" version="1.1" width="16" data-view-component="true" class="octicon octicon-workflow">
    <path d="M0 1.75C0 .784.784 0 1.75 0h3.5C6.216 0 7 .784 7 1.75v3.5A1.75 1.75 0 0 1 5.25 7H4v4a1 1 0 0 0 1 1h4v-1.25C9 9.784 9.784 9 10.75 9h3.5c.966 0 1.75.784 1.75 1.75v3.5A1.75 1.75 0 0 1 14.25 16h-3.5A1.75 1.75 0 0 1 9 14.25v-.75H5A2.5 2.5 0 0 1 2.5 11V7h-.75A1.75 1.75 0 0 1 0 5.25Zm1.75-.25a.25.25 0 0 0-.25.25v3.5c0 .138.112.25.25.25h3.5a.25.25 0 0 0 .25-.25v-3.5a.25.25 0 0 0-.25-.25Zm9 9a.25.25 0 0 0-.25.25v3.5c0 .138.112.25.25.25h3.5a.25.25 0 0 0 .25-.25v-3.5a.25.25 0 0 0-.25-.25Z"></path>
</svg>
</template>

<template id="book-icon">
  <svg aria-hidden="true" height="16" viewBox="0 0 16 16" version="1.1" width="16" data-view-component="true" class="octicon octicon-book">
    <path d="M0 1.75A.75.75 0 0 1 .75 1h4.253c1.227 0 2.317.59 3 1.501A3.743 3.743 0 0 1 11.006 1h4.245a.75.75 0 0 1 .75.75v10.5a.75.75 0 0 1-.75.75h-4.507a2.25 2.25 0 0 0-1.591.659l-.622.621a.75.75 0 0 1-1.06 0l-.622-.621A2.25 2.25 0 0 0 5.258 13H.75a.75.75 0 0 1-.75-.75Zm7.251 10.324.004-5.073-.002-2.253A2.25 2.25 0 0 0 5.003 2.5H1.5v9h3.757a3.75 3.75 0 0 1 1.994.574ZM8.755 4.75l-.004 7.322a3.752 3.752 0 0 1 1.992-.572H14.5v-9h-3.495a2.25 2.25 0 0 0-2.25 2.25Z"></path>
</svg>
</template>

<template id="code-review-icon">
  <svg aria-hidden="true" height="16" viewBox="0 0 16 16" version="1.1" width="16" data-view-component="true" class="octicon octicon-code-review">
    <path d="M1.75 1h12.5c.966 0 1.75.784 1.75 1.75v8.5A1.75 1.75 0 0 1 14.25 13H8.061l-2.574 2.573A1.458 1.458 0 0 1 3 14.543V13H1.75A1.75 1.75 0 0 1 0 11.25v-8.5C0 1.784.784 1 1.75 1ZM1.5 2.75v8.5c0 .138.112.25.25.25h2a.75.75 0 0 1 .75.75v2.19l2.72-2.72a.749.749 0 0 1 .53-.22h6.5a.25.25 0 0 0 .25-.25v-8.5a.25.25 0 0 0-.25-.25H1.75a.25.25 0 0 0-.25.25Zm5.28 1.72a.75.75 0 0 1 0 1.06L5.31 7l1.47 1.47a.751.751 0 0 1-.018 1.042.751.751 0 0 1-1.042.018l-2-2a.75.75 0 0 1 0-1.06l2-2a.75.75 0 0 1 1.06 0Zm2.44 0a.75.75 0 0 1 1.06 0l2 2a.75.75 0 0 1 0 1.06l-2 2a.751.751 0 0 1-1.042-.018.751.751 0 0 1-.018-1.042L10.69 7 9.22 5.53a.75.75 0 0 1 0-1.06Z"></path>
</svg>
</template>

<template id="codespaces-icon">
  <svg aria-hidden="true" height="16" viewBox="0 0 16 16" version="1.1" width="16" data-view-component="true" class="octicon octicon-codespaces">
    <path d="M0 11.25c0-.966.784-1.75 1.75-1.75h12.5c.966 0 1.75.784 1.75 1.75v3A1.75 1.75 0 0 1 14.25 16H1.75A1.75 1.75 0 0 1 0 14.25Zm2-9.5C2 .784 2.784 0 3.75 0h8.5C13.216 0 14 .784 14 1.75v5a1.75 1.75 0 0 1-1.75 1.75h-8.5A1.75 1.75 0 0 1 2 6.75Zm1.75-.25a.25.25 0 0 0-.25.25v5c0 .138.112.25.25.25h8.5a.25.25 0 0 0 .25-.25v-5a.25.25 0 0 0-.25-.25Zm-2 9.5a.25.25 0 0 0-.25.25v3c0 .138.112.25.25.25h12.5a.25.25 0 0 0 .25-.25v-3a.25.25 0 0 0-.25-.25Z"></path><path d="M7 12.75a.75.75 0 0 1 .75-.75h4.5a.75.75 0 0 1 0 1.5h-4.5a.75.75 0 0 1-.75-.75Zm-4 0a.75.75 0 0 1 .75-.75h.5a.75.75 0 0 1 0 1.5h-.5a.75.75 0 0 1-.75-.75Z"></path>
</svg>
</template>

<template id="comment-icon">
  <svg aria-hidden="true" height="16" viewBox="0 0 16 16" version="1.1" width="16" data-view-component="true" class="octicon octicon-comment">
    <path d="M1 2.75C1 1.784 1.784 1 2.75 1h10.5c.966 0 1.75.784 1.75 1.75v7.5A1.75 1.75 0 0 1 13.25 12H9.06l-2.573 2.573A1.458 1.458 0 0 1 4 13.543V12H2.75A1.75 1.75 0 0 1 1 10.25Zm1.75-.25a.25.25 0 0 0-.25.25v7.5c0 .138.112.25.25.25h2a.75.75 0 0 1 .75.75v2.19l2.72-2.72a.749.749 0 0 1 .53-.22h4.5a.25.25 0 0 0 .25-.25v-7.5a.25.25 0 0 0-.25-.25Z"></path>
</svg>
</template>

<template id="comment-discussion-icon">
  <svg aria-hidden="true" height="16" viewBox="0 0 16 16" version="1.1" width="16" data-view-component="true" class="octicon octicon-comment-discussion">
    <path d="M1.75 1h8.5c.966 0 1.75.784 1.75 1.75v5.5A1.75 1.75 0 0 1 10.25 10H7.061l-2.574 2.573A1.458 1.458 0 0 1 2 11.543V10h-.25A1.75 1.75 0 0 1 0 8.25v-5.5C0 1.784.784 1 1.75 1ZM1.5 2.75v5.5c0 .138.112.25.25.25h1a.75.75 0 0 1 .75.75v2.19l2.72-2.72a.749.749 0 0 1 .53-.22h3.5a.25.25 0 0 0 .25-.25v-5.5a.25.25 0 0 0-.25-.25h-8.5a.25.25 0 0 0-.25.25Zm13 2a.25.25 0 0 0-.25-.25h-.5a.75.75 0 0 1 0-1.5h.5c.966 0 1.75.784 1.75 1.75v5.5A1.75 1.75 0 0 1 14.25 12H14v1.543a1.458 1.458 0 0 1-2.487 1.03L9.22 12.28a.749.749 0 0 1 .326-1.275.749.749 0 0 1 .734.215l2.22 2.22v-2.19a.75.75 0 0 1 .75-.75h1a.25.25 0 0 0 .25-.25Z"></path>
</svg>
</template>

<template id="organization-icon">
  <svg aria-hidden="true" height="16" viewBox="0 0 16 16" version="1.1" width="16" data-view-component="true" class="octicon octicon-organization">
    <path d="M1.75 16A1.75 1.75 0 0 1 0 14.25V1.75C0 .784.784 0 1.75 0h8.5C11.216 0 12 .784 12 1.75v12.5c0 .085-.006.168-.018.25h2.268a.25.25 0 0 0 .25-.25V8.285a.25.25 0 0 0-.111-.208l-1.055-.703a.749.749 0 1 1 .832-1.248l1.055.703c.487.325.779.871.779 1.456v5.965A1.75 1.75 0 0 1 14.25 16h-3.5a.766.766 0 0 1-.197-.026c-.099.017-.2.026-.303.026h-3a.75.75 0 0 1-.75-.75V14h-1v1.25a.75.75 0 0 1-.75.75Zm-.25-1.75c0 .138.112.25.25.25H4v-1.25a.75.75 0 0 1 .75-.75h2.5a.75.75 0 0 1 .75.75v1.25h2.25a.25.25 0 0 0 .25-.25V1.75a.25.25 0 0 0-.25-.25h-8.5a.25.25 0 0 0-.25.25ZM3.75 6h.5a.75.75 0 0 1 0 1.5h-.5a.75.75 0 0 1 0-1.5ZM3 3.75A.75.75 0 0 1 3.75 3h.5a.75.75 0 0 1 0 1.5h-.5A.75.75 0 0 1 3 3.75Zm4 3A.75.75 0 0 1 7.75 6h.5a.75.75 0 0 1 0 1.5h-.5A.75.75 0 0 1 7 6.75ZM7.75 3h.5a.75.75 0 0 1 0 1.5h-.5a.75.75 0 0 1 0-1.5ZM3 9.75A.75.75 0 0 1 3.75 9h.5a.75.75 0 0 1 0 1.5h-.5A.75.75 0 0 1 3 9.75ZM7.75 9h.5a.75.75 0 0 1 0 1.5h-.5a.75.75 0 0 1 0-1.5Z"></path>
</svg>
</template>

<template id="rocket-icon">
  <svg aria-hidden="true" height="16" viewBox="0 0 16 16" version="1.1" width="16" data-view-component="true" class="octicon octicon-rocket">
    <path d="M14.064 0h.186C15.216 0 16 .784 16 1.75v.186a8.752 8.752 0 0 1-2.564 6.186l-.458.459c-.314.314-.641.616-.979.904v3.207c0 .608-.315 1.172-.833 1.49l-2.774 1.707a.749.749 0 0 1-1.11-.418l-.954-3.102a1.214 1.214 0 0 1-.145-.125L3.754 9.816a1.218 1.218 0 0 1-.124-.145L.528 8.717a.749.749 0 0 1-.418-1.11l1.71-2.774A1.748 1.748 0 0 1 3.31 4h3.204c.288-.338.59-.665.904-.979l.459-.458A8.749 8.749 0 0 1 14.064 0ZM8.938 3.623h-.002l-.458.458c-.76.76-1.437 1.598-2.02 2.5l-1.5 2.317 2.143 2.143 2.317-1.5c.902-.583 1.74-1.26 2.499-2.02l.459-.458a7.25 7.25 0 0 0 2.123-5.127V1.75a.25.25 0 0 0-.25-.25h-.186a7.249 7.249 0 0 0-5.125 2.123ZM3.56 14.56c-.732.732-2.334 1.045-3.005 1.148a.234.234 0 0 1-.201-.064.234.234 0 0 1-.064-.201c.103-.671.416-2.273 1.15-3.003a1.502 1.502 0 1 1 2.12 2.12Zm6.94-3.935c-.088.06-.177.118-.266.175l-2.35 1.521.548 1.783 1.949-1.2a.25.25 0 0 0 .119-.213ZM3.678 8.116 5.2 5.766c.058-.09.117-.178.176-.266H3.309a.25.25 0 0 0-.213.119l-1.2 1.95ZM12 5a1 1 0 1 1-2 0 1 1 0 0 1 2 0Z"></path>
</svg>
</template>

<template id="shield-check-icon">
  <svg aria-hidden="true" height="16" viewBox="0 0 16 16" version="1.1" width="16" data-view-component="true" class="octicon octicon-shield-check">
    <path d="m8.533.133 5.25 1.68A1.75 1.75 0 0 1 15 3.48V7c0 1.566-.32 3.182-1.303 4.682-.983 1.498-2.585 2.813-5.032 3.855a1.697 1.697 0 0 1-1.33 0c-2.447-1.042-4.049-2.357-5.032-3.855C1.32 10.182 1 8.566 1 7V3.48a1.75 1.75 0 0 1 1.217-1.667l5.25-1.68a1.748 1.748 0 0 1 1.066 0Zm-.61 1.429.001.001-5.25 1.68a.251.251 0 0 0-.174.237V7c0 1.36.275 2.666 1.057 3.859.784 1.194 2.121 2.342 4.366 3.298a.196.196 0 0 0 .154 0c2.245-.957 3.582-2.103 4.366-3.297C13.225 9.666 13.5 8.358 13.5 7V3.48a.25.25 0 0 0-.174-.238l-5.25-1.68a.25.25 0 0 0-.153 0ZM11.28 6.28l-3.5 3.5a.75.75 0 0 1-1.06 0l-1.5-1.5a.749.749 0 0 1 .326-1.275.749.749 0 0 1 .734.215l.97.97 2.97-2.97a.751.751 0 0 1 1.042.018.751.751 0 0 1 .018 1.042Z"></path>
</svg>
</template>

<template id="heart-icon">
  <svg aria-hidden="true" height="16" viewBox="0 0 16 16" version="1.1" width="16" data-view-component="true" class="octicon octicon-heart">
    <path d="m8 14.25.345.666a.75.75 0 0 1-.69 0l-.008-.004-.018-.01a7.152 7.152 0 0 1-.31-.17 22.055 22.055 0 0 1-3.434-2.414C2.045 10.731 0 8.35 0 5.5 0 2.836 2.086 1 4.25 1 5.797 1 7.153 1.802 8 3.02 8.847 1.802 10.203 1 11.75 1 13.914 1 16 2.836 16 5.5c0 2.85-2.045 5.231-3.885 6.818a22.066 22.066 0 0 1-3.744 2.584l-.018.01-.006.003h-.002ZM4.25 2.5c-1.336 0-2.75 1.164-2.75 3 0 2.15 1.58 4.144 3.365 5.682A20.58 20.58 0 0 0 8 13.393a20.58 20.58 0 0 0 3.135-2.211C12.92 9.644 14.5 7.65 14.5 5.5c0-1.836-1.414-3-2.75-3-1.373 0-2.609.986-3.029 2.456a.749.749 0 0 1-1.442 0C6.859 3.486 5.623 2.5 4.25 2.5Z"></path>
</svg>
</template>

<template id="server-icon">
  <svg aria-hidden="true" height="16" viewBox="0 0 16 16" version="1.1" width="16" data-view-component="true" class="octicon octicon-server">
    <path d="M1.75 1h12.5c.966 0 1.75.784 1.75 1.75v4c0 .372-.116.717-.314 1 .198.283.314.628.314 1v4a1.75 1.75 0 0 1-1.75 1.75H1.75A1.75 1.75 0 0 1 0 12.75v-4c0-.358.109-.707.314-1a1.739 1.739 0 0 1-.314-1v-4C0 1.784.784 1 1.75 1ZM1.5 2.75v4c0 .138.112.25.25.25h12.5a.25.25 0 0 0 .25-.25v-4a.25.25 0 0 0-.25-.25H1.75a.25.25 0 0 0-.25.25Zm.25 5.75a.25.25 0 0 0-.25.25v4c0 .138.112.25.25.25h12.5a.25.25 0 0 0 .25-.25v-4a.25.25 0 0 0-.25-.25ZM7 4.75A.75.75 0 0 1 7.75 4h4.5a.75.75 0 0 1 0 1.5h-4.5A.75.75 0 0 1 7 4.75ZM7.75 10h4.5a.75.75 0 0 1 0 1.5h-4.5a.75.75 0 0 1 0-1.5ZM3 4.75A.75.75 0 0 1 3.75 4h.5a.75.75 0 0 1 0 1.5h-.5A.75.75 0 0 1 3 4.75ZM3.75 10h.5a.75.75 0 0 1 0 1.5h-.5a.75.75 0 0 1 0-1.5Z"></path>
</svg>
</template>

<template id="globe-icon">
  <svg aria-hidden="true" height="16" viewBox="0 0 16 16" version="1.1" width="16" data-view-component="true" class="octicon octicon-globe">
    <path d="M8 0a8 8 0 1 1 0 16A8 8 0 0 1 8 0ZM5.78 8.75a9.64 9.64 0 0 0 1.363 4.177c.255.426.542.832.857 1.215.245-.296.551-.705.857-1.215A9.64 9.64 0 0 0 10.22 8.75Zm4.44-1.5a9.64 9.64 0 0 0-1.363-4.177c-.307-.51-.612-.919-.857-1.215a9.927 9.927 0 0 0-.857 1.215A9.64 9.64 0 0 0 5.78 7.25Zm-5.944 1.5H1.543a6.507 6.507 0 0 0 4.666 5.5c-.123-.181-.24-.365-.352-.552-.715-1.192-1.437-2.874-1.581-4.948Zm-2.733-1.5h2.733c.144-2.074.866-3.756 1.58-4.948.12-.197.237-.381.353-.552a6.507 6.507 0 0 0-4.666 5.5Zm10.181 1.5c-.144 2.074-.866 3.756-1.58 4.948-.12.197-.237.381-.353.552a6.507 6.507 0 0 0 4.666-5.5Zm2.733-1.5a6.507 6.507 0 0 0-4.666-5.5c.123.181.24.365.353.552.714 1.192 1.436 2.874 1.58 4.948Z"></path>
</svg>
</template>

<template id="issue-opened-icon">
  <svg aria-hidden="true" height="16" viewBox="0 0 16 16" version="1.1" width="16" data-view-component="true" class="octicon octicon-issue-opened">
    <path d="M8 9.5a1.5 1.5 0 1 0 0-3 1.5 1.5 0 0 0 0 3Z"></path><path d="M8 0a8 8 0 1 1 0 16A8 8 0 0 1 8 0ZM1.5 8a6.5 6.5 0 1 0 13 0 6.5 6.5 0 0 0-13 0Z"></path>
</svg>
</template>

<template id="device-mobile-icon">
  <svg aria-hidden="true" height="16" viewBox="0 0 16 16" version="1.1" width="16" data-view-component="true" class="octicon octicon-device-mobile">
    <path d="M3.75 0h8.5C13.216 0 14 .784 14 1.75v12.5A1.75 1.75 0 0 1 12.25 16h-8.5A1.75 1.75 0 0 1 2 14.25V1.75C2 .784 2.784 0 3.75 0ZM3.5 1.75v12.5c0 .138.112.25.25.25h8.5a.25.25 0 0 0 .25-.25V1.75a.25.25 0 0 0-.25-.25h-8.5a.25.25 0 0 0-.25.25ZM8 13a1 1 0 1 1 0-2 1 1 0 0 1 0 2Z"></path>
</svg>
</template>

<template id="package-icon">
  <svg aria-hidden="true" height="16" viewBox="0 0 16 16" version="1.1" width="16" data-view-component="true" class="octicon octicon-package">
    <path d="m8.878.392 5.25 3.045c.54.314.872.89.872 1.514v6.098a1.75 1.75 0 0 1-.872 1.514l-5.25 3.045a1.75 1.75 0 0 1-1.756 0l-5.25-3.045A1.75 1.75 0 0 1 1 11.049V4.951c0-.624.332-1.201.872-1.514L7.122.392a1.75 1.75 0 0 1 1.756 0ZM7.875 1.69l-4.63 2.685L8 7.133l4.755-2.758-4.63-2.685a.248.248 0 0 0-.25 0ZM2.5 5.677v5.372c0 .09.047.171.125.216l4.625 2.683V8.432Zm6.25 8.271 4.625-2.683a.25.25 0 0 0 .125-.216V5.677L8.75 8.432Z"></path>
</svg>
</template>

<template id="credit-card-icon">
  <svg aria-hidden="true" height="16" viewBox="0 0 16 16" version="1.1" width="16" data-view-component="true" class="octicon octicon-credit-card">
    <path d="M10.75 9a.75.75 0 0 0 0 1.5h1.5a.75.75 0 0 0 0-1.5h-1.5Z"></path><path d="M0 3.75C0 2.784.784 2 1.75 2h12.5c.966 0 1.75.784 1.75 1.75v8.5A1.75 1.75 0 0 1 14.25 14H1.75A1.75 1.75 0 0 1 0 12.25ZM14.5 6.5h-13v5.75c0 .138.112.25.25.25h12.5a.25.25 0 0 0 .25-.25Zm0-2.75a.25.25 0 0 0-.25-.25H1.75a.25.25 0 0 0-.25.25V5h13Z"></path>
</svg>
</template>

<template id="play-icon">
  <svg aria-hidden="true" height="16" viewBox="0 0 16 16" version="1.1" width="16" data-view-component="true" class="octicon octicon-play">
    <path d="M8 0a8 8 0 1 1 0 16A8 8 0 0 1 8 0ZM1.5 8a6.5 6.5 0 1 0 13 0 6.5 6.5 0 0 0-13 0Zm4.879-2.773 4.264 2.559a.25.25 0 0 1 0 .428l-4.264 2.559A.25.25 0 0 1 6 10.559V5.442a.25.25 0 0 1 .379-.215Z"></path>
</svg>
</template>

<template id="gift-icon">
  <svg aria-hidden="true" height="16" viewBox="0 0 16 16" version="1.1" width="16" data-view-component="true" class="octicon octicon-gift">
    <path d="M2 2.75A2.75 2.75 0 0 1 4.75 0c.983 0 1.873.42 2.57 1.232.268.318.497.668.68 1.042.183-.375.411-.725.68-1.044C9.376.42 10.266 0 11.25 0a2.75 2.75 0 0 1 2.45 4h.55c.966 0 1.75.784 1.75 1.75v2c0 .698-.409 1.301-1 1.582v4.918A1.75 1.75 0 0 1 13.25 16H2.75A1.75 1.75 0 0 1 1 14.25V9.332C.409 9.05 0 8.448 0 7.75v-2C0 4.784.784 4 1.75 4h.55c-.192-.375-.3-.8-.3-1.25ZM7.25 9.5H2.5v4.75c0 .138.112.25.25.25h4.5Zm1.5 0v5h4.5a.25.25 0 0 0 .25-.25V9.5Zm0-4V8h5.5a.25.25 0 0 0 .25-.25v-2a.25.25 0 0 0-.25-.25Zm-7 0a.25.25 0 0 0-.25.25v2c0 .138.112.25.25.25h5.5V5.5h-5.5Zm3-4a1.25 1.25 0 0 0 0 2.5h2.309c-.233-.818-.542-1.401-.878-1.793-.43-.502-.915-.707-1.431-.707ZM8.941 4h2.309a1.25 1.25 0 0 0 0-2.5c-.516 0-1 .205-1.43.707-.337.392-.646.975-.879 1.793Z"></path>
</svg>
</template>

<template id="code-square-icon">
  <svg aria-hidden="true" height="16" viewBox="0 0 16 16" version="1.1" width="16" data-view-component="true" class="octicon octicon-code-square">
    <path d="M0 1.75C0 .784.784 0 1.75 0h12.5C15.216 0 16 .784 16 1.75v12.5A1.75 1.75 0 0 1 14.25 16H1.75A1.75 1.75 0 0 1 0 14.25Zm1.75-.25a.25.25 0 0 0-.25.25v12.5c0 .138.112.25.25.25h12.5a.25.25 0 0 0 .25-.25V1.75a.25.25 0 0 0-.25-.25Zm7.47 3.97a.75.75 0 0 1 1.06 0l2 2a.75.75 0 0 1 0 1.06l-2 2a.749.749 0 0 1-1.275-.326.749.749 0 0 1 .215-.734L10.69 8 9.22 6.53a.75.75 0 0 1 0-1.06ZM6.78 6.53 5.31 8l1.47 1.47a.749.749 0 0 1-.326 1.275.749.749 0 0 1-.734-.215l-2-2a.75.75 0 0 1 0-1.06l2-2a.751.751 0 0 1 1.042.018.751.751 0 0 1 .018 1.042Z"></path>
</svg>
</template>

<template id="device-desktop-icon">
  <svg aria-hidden="true" height="16" viewBox="0 0 16 16" version="1.1" width="16" data-view-component="true" class="octicon octicon-device-desktop">
    <path d="M14.25 1c.966 0 1.75.784 1.75 1.75v7.5A1.75 1.75 0 0 1 14.25 12h-3.727c.099 1.041.52 1.872 1.292 2.757A.752.752 0 0 1 11.25 16h-6.5a.75.75 0 0 1-.565-1.243c.772-.885 1.192-1.716 1.292-2.757H1.75A1.75 1.75 0 0 1 0 10.25v-7.5C0 1.784.784 1 1.75 1ZM1.75 2.5a.25.25 0 0 0-.25.25v7.5c0 .138.112.25.25.25h12.5a.25.25 0 0 0 .25-.25v-7.5a.25.25 0 0 0-.25-.25ZM9.018 12H6.982a5.72 5.72 0 0 1-.765 2.5h3.566a5.72 5.72 0 0 1-.765-2.5Z"></path>
</svg>
</template>

        <div class="position-relative">
                <ul
                  role="listbox"
                  class="ActionListWrap QueryBuilder-ListWrap"
                  aria-label="Suggestions"
                  data-action="
                    combobox-commit:query-builder#comboboxCommit
                    mousedown:query-builder#resultsMousedown
                  "
                  data-target="query-builder.resultsList"
                  data-persist-list=false
                  id="query-builder-test-results"
                ></ul>
        </div>
      <div class="FormControl-inlineValidation" id="validation-7256c9f9-d78f-4e49-bb93-711d88f1c945" hidden="hidden">
        <span class="FormControl-inlineValidation--visual">
          <svg aria-hidden="true" height="12" viewBox="0 0 12 12" version="1.1" width="12" data-view-component="true" class="octicon octicon-alert-fill">
    <path d="M4.855.708c.5-.896 1.79-.896 2.29 0l4.675 8.351a1.312 1.312 0 0 1-1.146 1.954H1.33A1.313 1.313 0 0 1 .183 9.058ZM7 7V3H5v4Zm-1 3a1 1 0 1 0 0-2 1 1 0 0 0 0 2Z"></path>
</svg>
        </span>
        <span></span>
</div>    </div>
    <div data-target="query-builder.screenReaderFeedback" aria-live="polite" aria-atomic="true" class="sr-only"></div>
</query-builder></form>
          <div class="d-flex flex-row color-fg-muted px-3 text-small color-bg-default search-feedback-prompt">
            <a target="_blank" href="https://docs.github.com/search-github/github-code-search/understanding-github-code-search-syntax" data-view-component="true" class="Link color-fg-accent text-normal ml-2">Search syntax tips</a>            <div class="d-flex flex-1"></div>
              <button data-action="click:qbsearch-input#showFeedbackDialog" type="button" data-view-component="true" class="Button--link Button--medium Button color-fg-accent text-normal ml-2">  <span class="Button-content">
    <span class="Button-label">Give feedback</span>
  </span>
</button>
          </div>
        </div>
</div>

    </div>
</modal-dialog></div>
  </div>
  <div data-action="click:qbsearch-input#retract" class="dark-backdrop position-fixed" hidden data-target="qbsearch-input.darkBackdrop"></div>
  <div class="color-fg-default">
    
<dialog-helper>
  <dialog data-target="qbsearch-input.feedbackDialog" data-action="close:qbsearch-input#handleDialogClose cancel:qbsearch-input#handleDialogClose" id="feedback-dialog" aria-modal="true" aria-labelledby="feedback-dialog-title" aria-describedby="feedback-dialog-description" data-view-component="true" class="Overlay Overlay-whenNarrow Overlay--size-medium Overlay--motion-scaleFade Overlay--disableScroll">
    <div data-view-component="true" class="Overlay-header">
  <div class="Overlay-headerContentWrap">
    <div class="Overlay-titleWrap">
      <h1 class="Overlay-title " id="feedback-dialog-title">
        Provide feedback
      </h1>
        
    </div>
    <div class="Overlay-actionWrap">
      <button data-close-dialog-id="feedback-dialog" aria-label="Close" aria-label="Close" type="button" data-view-component="true" class="close-button Overlay-closeButton"><svg aria-hidden="true" height="16" viewBox="0 0 16 16" version="1.1" width="16" data-view-component="true" class="octicon octicon-x">
    <path d="M3.72 3.72a.75.75 0 0 1 1.06 0L8 6.94l3.22-3.22a.749.749 0 0 1 1.275.326.749.749 0 0 1-.215.734L9.06 8l3.22 3.22a.749.749 0 0 1-.326 1.275.749.749 0 0 1-.734-.215L8 9.06l-3.22 3.22a.751.751 0 0 1-1.042-.018.751.751 0 0 1-.018-1.042L6.94 8 3.72 4.78a.75.75 0 0 1 0-1.06Z"></path>
</svg></button>
    </div>
  </div>
  
</div>
      <scrollable-region data-labelled-by="feedback-dialog-title">
        <div data-view-component="true" class="Overlay-body">        <!-- '"` --><!-- </textarea></xmp> --></option></form><form id="code-search-feedback-form" data-turbo="false" action="/search/feedback" accept-charset="UTF-8" method="post"><input type="hidden" name="authenticity_token" value="rQ-ssSo37FFp_U8d2z1l9hUygzUmxRwSCWw-wRdJUx-8RfVPZL9KXA3CjafUlO536VrGqOHgIRjtRqfvmiK3Xg" />
          <p>We read every piece of feedback, and take your input very seriously.</p>
          <textarea name="feedback" class="form-control width-full mb-2" style="height: 120px" id="feedback"></textarea>
          <input name="include_email" id="include_email" aria-label="Include my email address so I can be contacted" class="form-control mr-2" type="checkbox">
          <label for="include_email" style="font-weight: normal">Include my email address so I can be contacted</label>
</form></div>
      </scrollable-region>
      <div data-view-component="true" class="Overlay-footer Overlay-footer--alignEnd">          <button data-close-dialog-id="feedback-dialog" type="button" data-view-component="true" class="btn">    Cancel
</button>
          <button form="code-search-feedback-form" data-action="click:qbsearch-input#submitFeedback" type="submit" data-view-component="true" class="btn-primary btn">    Submit feedback
</button>
</div>
</dialog></dialog-helper>

    <custom-scopes data-target="qbsearch-input.customScopesManager">
    
<dialog-helper>
  <dialog data-target="custom-scopes.customScopesModalDialog" data-action="close:qbsearch-input#handleDialogClose cancel:qbsearch-input#handleDialogClose" id="custom-scopes-dialog" aria-modal="true" aria-labelledby="custom-scopes-dialog-title" aria-describedby="custom-scopes-dialog-description" data-view-component="true" class="Overlay Overlay-whenNarrow Overlay--size-medium Overlay--motion-scaleFade Overlay--disableScroll">
    <div data-view-component="true" class="Overlay-header Overlay-header--divided">
  <div class="Overlay-headerContentWrap">
    <div class="Overlay-titleWrap">
      <h1 class="Overlay-title " id="custom-scopes-dialog-title">
        Saved searches
      </h1>
        <h2 id="custom-scopes-dialog-description" class="Overlay-description">Use saved searches to filter your results more quickly</h2>
    </div>
    <div class="Overlay-actionWrap">
      <button data-close-dialog-id="custom-scopes-dialog" aria-label="Close" aria-label="Close" type="button" data-view-component="true" class="close-button Overlay-closeButton"><svg aria-hidden="true" height="16" viewBox="0 0 16 16" version="1.1" width="16" data-view-component="true" class="octicon octicon-x">
    <path d="M3.72 3.72a.75.75 0 0 1 1.06 0L8 6.94l3.22-3.22a.749.749 0 0 1 1.275.326.749.749 0 0 1-.215.734L9.06 8l3.22 3.22a.749.749 0 0 1-.326 1.275.749.749 0 0 1-.734-.215L8 9.06l-3.22 3.22a.751.751 0 0 1-1.042-.018.751.751 0 0 1-.018-1.042L6.94 8 3.72 4.78a.75.75 0 0 1 0-1.06Z"></path>
</svg></button>
    </div>
  </div>
  
</div>
      <scrollable-region data-labelled-by="custom-scopes-dialog-title">
        <div data-view-component="true" class="Overlay-body">        <div data-target="custom-scopes.customScopesModalDialogFlash"></div>

        <div hidden class="create-custom-scope-form" data-target="custom-scopes.createCustomScopeForm">
        <!-- '"` --><!-- </textarea></xmp> --></option></form><form id="custom-scopes-dialog-form" data-turbo="false" action="/search/custom_scopes" accept-charset="UTF-8" method="post"><input type="hidden" name="authenticity_token" value="bLNqhUDt5WFU_wNHIo7eMRDVGVHreOOAwf5-YZ88i5FH_HrRvHpN0HvhjCTmEdG2TMDKOiUGP1RgRIXmqjA2qg" />
          <div data-target="custom-scopes.customScopesModalDialogFlash"></div>

          <input type="hidden" id="custom_scope_id" name="custom_scope_id" data-target="custom-scopes.customScopesIdField">

          <div class="form-group">
            <label for="custom_scope_name">Name</label>
            <auto-check src="/search/custom_scopes/check_name" required>
              <input
                type="text"
                name="custom_scope_name"
                id="custom_scope_name"
                data-target="custom-scopes.customScopesNameField"
                class="form-control"
                autocomplete="off"
                placeholder="github-ruby"
                required
                maxlength="50">
              <input type="hidden" value="eQbWQ9fEVf7ZNcYObTHoI74E_gFE0XUYcvMkDhNY-AHuO00-Q2Mpzw0hXqGchmOzFj4ZDxLIPDopXjk7mVkEPg" data-csrf="true" />
            </auto-check>
          </div>

          <div class="form-group">
            <label for="custom_scope_query">Query</label>
            <input
              type="text"
              name="custom_scope_query"
              id="custom_scope_query"
              data-target="custom-scopes.customScopesQueryField"
              class="form-control"
              autocomplete="off"
              placeholder="(repo:mona/a OR repo:mona/b) AND lang:python"
              required
              maxlength="500">
          </div>

          <p class="text-small color-fg-muted">
            To see all available qualifiers, see our <a class="Link--inTextBlock" href="https://docs.github.com/search-github/github-code-search/understanding-github-code-search-syntax">documentation</a>.
          </p>
</form>        </div>

        <div data-target="custom-scopes.manageCustomScopesForm">
          <div data-target="custom-scopes.list"></div>
        </div>

</div>
      </scrollable-region>
      <div data-view-component="true" class="Overlay-footer Overlay-footer--alignEnd Overlay-footer--divided">          <button data-action="click:custom-scopes#customScopesCancel" type="button" data-view-component="true" class="btn">    Cancel
</button>
          <button form="custom-scopes-dialog-form" data-action="click:custom-scopes#customScopesSubmit" data-target="custom-scopes.customScopesSubmitButton" type="submit" data-view-component="true" class="btn-primary btn">    Create saved search
</button>
</div>
</dialog></dialog-helper>
    </custom-scopes>
  </div>
</qbsearch-input>  <input type="hidden" value="yXTey_SESbRyg_wjneeU1Ms7wHj0zQ_uTVp95Yzfory4vHGW_41CyEita8gPyVoNUfxxxIqQ1wT9pei532Iw-A" data-csrf="true" class="js-data-jump-to-suggestions-path-csrf" />


          </div>

        
          <div class="AppHeader-CopilotChat hide-sm hide-md">
  <react-partial-anchor>
      <a href="/copilot" data-target="react-partial-anchor.anchor" id="copilot-chat-header-button" aria-labelledby="tooltip-519a82e2-583c-4aa6-85ba-078ed57b3b0b" data-view-component="true" class="Button Button--iconOnly Button--secondary Button--medium AppHeader-button AppHeader-buttonLeft cursor-wait">  <svg aria-hidden="true" height="16" viewBox="0 0 16 16" version="1.1" width="16" data-view-component="true" class="octicon octicon-copilot Button-visual">
    <path d="M7.998 15.035c-4.562 0-7.873-2.914-7.998-3.749V9.338c.085-.628.677-1.686 1.588-2.065.013-.07.024-.143.036-.218.029-.183.06-.384.126-.612-.201-.508-.254-1.084-.254-1.656 0-.87.128-1.769.693-2.484.579-.733 1.494-1.124 2.724-1.261 1.206-.134 2.262.034 2.944.765.05.053.096.108.139.165.044-.057.094-.112.143-.165.682-.731 1.738-.899 2.944-.765 1.23.137 2.145.528 2.724 1.261.566.715.693 1.614.693 2.484 0 .572-.053 1.148-.254 1.656.066.228.098.429.126.612.012.076.024.148.037.218.924.385 1.522 1.471 1.591 2.095v1.872c0 .766-3.351 3.795-8.002 3.795Zm0-1.485c2.28 0 4.584-1.11 5.002-1.433V7.862l-.023-.116c-.49.21-1.075.291-1.727.291-1.146 0-2.059-.327-2.71-.991A3.222 3.222 0 0 1 8 6.303a3.24 3.24 0 0 1-.544.743c-.65.664-1.563.991-2.71.991-.652 0-1.236-.081-1.727-.291l-.023.116v4.255c.419.323 2.722 1.433 5.002 1.433ZM6.762 2.83c-.193-.206-.637-.413-1.682-.297-1.019.113-1.479.404-1.713.7-.247.312-.369.789-.369 1.554 0 .793.129 1.171.308 1.371.162.181.519.379 1.442.379.853 0 1.339-.235 1.638-.54.315-.322.527-.827.617-1.553.117-.935-.037-1.395-.241-1.614Zm4.155-.297c-1.044-.116-1.488.091-1.681.297-.204.219-.359.679-.242 1.614.091.726.303 1.231.618 1.553.299.305.784.54 1.638.54.922 0 1.28-.198 1.442-.379.179-.2.308-.578.308-1.371 0-.765-.123-1.242-.37-1.554-.233-.296-.693-.587-1.713-.7Z"></path><path d="M6.25 9.037a.75.75 0 0 1 .75.75v1.501a.75.75 0 0 1-1.5 0V9.787a.75.75 0 0 1 .75-.75Zm4.25.75v1.501a.75.75 0 0 1-1.5 0V9.787a.75.75 0 0 1 1.5 0Z"></path>
</svg>
</a><tool-tip id="tooltip-519a82e2-583c-4aa6-85ba-078ed57b3b0b" for="copilot-chat-header-button" popover="manual" data-direction="s" data-type="label" data-view-component="true" class="sr-only position-absolute">Chat with Copilot</tool-tip>

    <template data-target="react-partial-anchor.template">
      <script crossorigin="anonymous" type="application/javascript" src="https://github.githubassets.com/assets/vendors-node_modules_tanstack_query-core_build_modern_queryObserver_js-node_modules_tanstack_-defd52-0024bc0658ed.js" defer="defer"></script>
<script crossorigin="anonymous" type="application/javascript" src="https://github.githubassets.com/assets/vendors-node_modules_react-relay_index_js-cce72ae26cdb.js" defer="defer"></script>
<script crossorigin="anonymous" type="application/javascript" src="https://github.githubassets.com/assets/vendors-node_modules_remark-gfm_lib_index_js-node_modules_remark-parse_lib_index_js-node_modu-44d0fc-a919845a804c.js" defer="defer"></script>
<script crossorigin="anonymous" type="application/javascript" src="https://github.githubassets.com/assets/vendors-node_modules_hastscript_lib_index_js-node_modules_lowlight_lib_all_js-node_modules_re-713cc1-b7c90cd7720d.js" defer="defer"></script>
<script crossorigin="anonymous" type="application/javascript" src="https://github.githubassets.com/assets/vendors-node_modules_tanstack_react-query_build_modern_useQuery_js-node_modules_diff_lib_index_mjs-d9d23a889d2d.js" defer="defer"></script>
<script crossorigin="anonymous" type="application/javascript" src="https://github.githubassets.com/assets/vendors-node_modules_github_mini-throttle_dist_decorators_js-node_modules_accname_dist_access-64d9bd-34432c2ba5bb.js" defer="defer"></script>
<script crossorigin="anonymous" type="application/javascript" src="https://github.githubassets.com/assets/vendors-node_modules_focus-visible_dist_focus-visible_js-node_modules_github_hotkey_dist_inde-fab449-09bc26988189.js" defer="defer"></script>
<script crossorigin="anonymous" type="application/javascript" src="https://github.githubassets.com/assets/ui_packages_relay-environment_relay-environment_ts-26ae9840ccf4.js" defer="defer"></script>
<script crossorigin="anonymous" type="application/javascript" src="https://github.githubassets.com/assets/ui_packages_item-picker_components_RepositoryPicker_tsx-ui_packages_safe-html_VerifiedHTML_tsx-65dd85b44c84.js" defer="defer"></script>
<script crossorigin="anonymous" type="application/javascript" src="https://github.githubassets.com/assets/ui_packages_copilot-chat_utils_copilot-chat-helpers_ts-7126748a3a8d.js" defer="defer"></script>
<script crossorigin="anonymous" type="application/javascript" src="https://github.githubassets.com/assets/ui_packages_copilot-markdown_MarkdownRenderer_tsx-85364292eba3.js" defer="defer"></script>
<script crossorigin="anonymous" type="application/javascript" src="https://github.githubassets.com/assets/ui_packages_copilot-chat_utils_CopilotChatContext_tsx-407f11ff9f00.js" defer="defer"></script>
<script crossorigin="anonymous" type="application/javascript" src="https://github.githubassets.com/assets/ui_packages_copilot-chat_components_LegalDisclaimer_tsx-ui_packages_copilot-chat_components_M-a4e33b-66ccdd68ae41.js" defer="defer"></script>
<script crossorigin="anonymous" type="application/javascript" src="https://github.githubassets.com/assets/ui_packages_copilot-chat_components_CopilotIconAnimation_tsx-6220e0241178.js" defer="defer"></script>
<script crossorigin="anonymous" type="application/javascript" src="https://github.githubassets.com/assets/ui_packages_copilot-chat_components_Chat_tsx-ui_packages_icon-button-with-tooltip_IconButtonW-1ba5d9-fa4e8aa026bc.js" defer="defer"></script>
<script crossorigin="anonymous" type="application/javascript" src="https://github.githubassets.com/assets/copilot-chat-368e29a6ab9d.js" defer="defer"></script>
<link crossorigin="anonymous" media="all" rel="stylesheet" href="https://github.githubassets.com/assets/primer-react.56caf1a9ff4a5de8a71f.module.css" />
<link crossorigin="anonymous" media="all" rel="stylesheet" href="https://github.githubassets.com/assets/copilot-chat.83853d87a0a6f0247d86.module.css" />
      <link crossorigin="anonymous" media="all" rel="stylesheet" href="https://github.githubassets.com/assets/copilot-markdown-rendering-f6845e8f5d6b.css" />
      <include-fragment src="/github-copilot/chat?skip_anchor=true" data-nonce="v2:e95418c8-7dba-b59e-f4b9-9856e61841c3" data-view-component="true">
  
  <div data-show-on-forbidden-error hidden>
    <div class="Box">
  <div class="blankslate-container">
    <div data-view-component="true" class="blankslate blankslate-spacious color-bg-default rounded-2">
      

      <h3 data-view-component="true" class="blankslate-heading">        Uh oh!
</h3>
      <p data-view-component="true">        <p class="color-fg-muted my-2 mb-2 ws-normal">There was an error while loading. <a class="Link--inTextBlock" data-turbo="false" href="" aria-label="Please reload this page">Please reload this page</a>.</p>
</p>

</div>  </div>
</div>  </div>
</include-fragment>
    </template>
  </react-partial-anchor>
  <react-partial-anchor>
    <button id="global-copilot-menu-button" data-target="react-partial-anchor.anchor" aria-expanded="false" aria-labelledby="tooltip-ba930f28-104c-4825-b10a-c72e0174fded" type="button" data-view-component="true" class="Button Button--iconOnly Button--secondary Button--medium AppHeader-button AppHeader-buttonRight">  <svg aria-hidden="true" height="16" viewBox="0 0 16 16" version="1.1" width="16" data-view-component="true" class="octicon octicon-triangle-down Button-visual">
    <path d="m4.427 7.427 3.396 3.396a.25.25 0 0 0 .354 0l3.396-3.396A.25.25 0 0 0 11.396 7H4.604a.25.25 0 0 0-.177.427Z"></path>
</svg>
</button><tool-tip id="tooltip-ba930f28-104c-4825-b10a-c72e0174fded" for="global-copilot-menu-button" popover="manual" data-direction="s" data-type="label" data-view-component="true" class="sr-only position-absolute">Open Copilot…</tool-tip>

    <template data-target="react-partial-anchor.template">
      <script crossorigin="anonymous" type="application/javascript" src="https://github.githubassets.com/assets/global-copilot-menu-5ca7278e4eba.js" defer="defer"></script>
<link crossorigin="anonymous" media="all" rel="stylesheet" href="https://github.githubassets.com/assets/primer-react.56caf1a9ff4a5de8a71f.module.css" />
<link crossorigin="anonymous" media="all" rel="stylesheet" href="https://github.githubassets.com/assets/global-copilot-menu.972c8de5acbdcb17b799.module.css" />

<react-partial
  partial-name="global-copilot-menu"
  data-ssr="false"
  data-attempted-ssr="false"
  data-react-profiling="false"
>
  
  <script type="application/json" data-target="react-partial.embeddedData">{"props":{}}</script>
  <div data-target="react-partial.reactRoot"></div>
</react-partial>

    </template>
  </react-partial-anchor>
</div>


        <div class="AppHeader-actions position-relative">
             <react-partial-anchor>
      <button id="global-create-menu-anchor" aria-label="Create something new" data-target="react-partial-anchor.anchor" type="button" disabled="disabled" data-view-component="true" class="AppHeader-button global-create-button cursor-wait Button--secondary Button--medium Button width-auto color-fg-muted">  <span class="Button-content">
      <span class="Button-visual Button-leadingVisual">
        <svg aria-hidden="true" height="16" viewBox="0 0 16 16" version="1.1" width="16" data-view-component="true" class="octicon octicon-plus">
    <path d="M7.75 2a.75.75 0 0 1 .75.75V7h4.25a.75.75 0 0 1 0 1.5H8.5v4.25a.75.75 0 0 1-1.5 0V8.5H2.75a.75.75 0 0 1 0-1.5H7V2.75A.75.75 0 0 1 7.75 2Z"></path>
</svg>
      </span>
    <span class="Button-label"><svg aria-hidden="true" height="16" viewBox="0 0 16 16" version="1.1" width="16" data-view-component="true" class="octicon octicon-triangle-down">
    <path d="m4.427 7.427 3.396 3.396a.25.25 0 0 0 .354 0l3.396-3.396A.25.25 0 0 0 11.396 7H4.604a.25.25 0 0 0-.177.427Z"></path>
</svg></span>
  </span>
</button><tool-tip id="tooltip-ceb14af9-7c1f-42d2-bac9-98d4a79c3a85" for="global-create-menu-anchor" popover="manual" data-direction="s" data-type="description" data-view-component="true" class="sr-only position-absolute">Create new...</tool-tip>

      <template data-target="react-partial-anchor.template">
        <script crossorigin="anonymous" type="application/javascript" src="https://github.githubassets.com/assets/vendors-node_modules_github_catalyst_lib_index_js-node_modules_github_hydro-analytics-client_-4da1df-de7253948a7c.js" defer="defer"></script>
<script crossorigin="anonymous" type="application/javascript" src="https://github.githubassets.com/assets/ui_packages_document-metadata_document-metadata_ts-ui_packages_promise-with-resolvers-polyfil-b81d9e-4af9ac1370f0.js" defer="defer"></script>
<script crossorigin="anonymous" type="application/javascript" src="https://github.githubassets.com/assets/global-create-menu-452d1a998918.js" defer="defer"></script>
<link crossorigin="anonymous" media="all" rel="stylesheet" href="https://github.githubassets.com/assets/primer-react.56caf1a9ff4a5de8a71f.module.css" />
<link crossorigin="anonymous" media="all" rel="stylesheet" href="https://github.githubassets.com/assets/global-create-menu.b1ee6a6bae56a89148b1.module.css" />

<react-partial
  partial-name="global-create-menu"
  data-ssr="false"
  data-attempted-ssr="false"
  data-react-profiling="false"
>
  
  <script type="application/json" data-target="react-partial.embeddedData">{"props":{"createRepo":true,"importRepo":true,"codespaces":true,"spark":false,"gist":true,"createOrg":true,"createProject":false,"createProjectUrl":"/14deephub?tab=projects","createLegacyProject":false,"createIssue":false,"org":null,"owner":"37nomad","repo":"Facial-Expression-Recognition-Using-Self-Attention"}}</script>
  <div data-target="react-partial.reactRoot"></div>
</react-partial>

      </template>
    </react-partial-anchor>


            <a href="/issues" data-analytics-event="{&quot;category&quot;:&quot;Global navigation&quot;,&quot;action&quot;:&quot;ISSUES_HEADER&quot;,&quot;label&quot;:null}" id="icon-button-c2bc715b-44f5-44c5-9802-75ef7833ac00" aria-labelledby="tooltip-0646b770-65ed-42f8-8053-822a89cd20f2" data-view-component="true" class="Button Button--iconOnly Button--secondary Button--medium AppHeader-button color-fg-muted">  <svg aria-hidden="true" height="16" viewBox="0 0 16 16" version="1.1" width="16" data-view-component="true" class="octicon octicon-issue-opened Button-visual">
    <path d="M8 9.5a1.5 1.5 0 1 0 0-3 1.5 1.5 0 0 0 0 3Z"></path><path d="M8 0a8 8 0 1 1 0 16A8 8 0 0 1 8 0ZM1.5 8a6.5 6.5 0 1 0 13 0 6.5 6.5 0 0 0-13 0Z"></path>
</svg>
</a><tool-tip id="tooltip-0646b770-65ed-42f8-8053-822a89cd20f2" for="icon-button-c2bc715b-44f5-44c5-9802-75ef7833ac00" popover="manual" data-direction="s" data-type="label" data-view-component="true" class="sr-only position-absolute">Your issues</tool-tip>

            <a href="/pulls" data-analytics-event="{&quot;category&quot;:&quot;Global navigation&quot;,&quot;action&quot;:&quot;PULL_REQUESTS_HEADER&quot;,&quot;label&quot;:null}" id="icon-button-b18b0fb7-682a-4423-9b48-ec476afc931f" aria-labelledby="tooltip-56b34e77-4437-45e8-b4a6-15068e81867a" data-view-component="true" class="Button Button--iconOnly Button--secondary Button--medium AppHeader-button color-fg-muted">  <svg aria-hidden="true" height="16" viewBox="0 0 16 16" version="1.1" width="16" data-view-component="true" class="octicon octicon-git-pull-request Button-visual">
    <path d="M1.5 3.25a2.25 2.25 0 1 1 3 2.122v5.256a2.251 2.251 0 1 1-1.5 0V5.372A2.25 2.25 0 0 1 1.5 3.25Zm5.677-.177L9.573.677A.25.25 0 0 1 10 .854V2.5h1A2.5 2.5 0 0 1 13.5 5v5.628a2.251 2.251 0 1 1-1.5 0V5a1 1 0 0 0-1-1h-1v1.646a.25.25 0 0 1-.427.177L7.177 3.427a.25.25 0 0 1 0-.354ZM3.75 2.5a.75.75 0 1 0 0 1.5.75.75 0 0 0 0-1.5Zm0 9.5a.75.75 0 1 0 0 1.5.75.75 0 0 0 0-1.5Zm8.25.75a.75.75 0 1 0 1.5 0 .75.75 0 0 0-1.5 0Z"></path>
</svg>
</a><tool-tip id="tooltip-56b34e77-4437-45e8-b4a6-15068e81867a" for="icon-button-b18b0fb7-682a-4423-9b48-ec476afc931f" popover="manual" data-direction="s" data-type="label" data-view-component="true" class="sr-only position-absolute">Your pull requests</tool-tip>

        </div>

          <notification-indicator data-channel="eyJjIjoibm90aWZpY2F0aW9uLWNoYW5nZWQ6MTQxMTc3ODIyIiwidCI6MTc1MTA2MDY5NH0=--0407b3c64484fa595ff07ce4fd62999c768fb93adbda2776cc9ca4e90af2215f" data-indicator-mode="none" data-tooltip-global="You have unread notifications" data-tooltip-unavailable="Notifications are unavailable at the moment." data-tooltip-none="You have no unread notifications" data-header-redesign-enabled="true" data-fetch-indicator-src="/notifications/indicator" data-fetch-indicator-enabled="true" data-view-component="true" class="js-socket-channel">
    <a id="AppHeader-notifications-button" href="/notifications" aria-labelledby="notification-indicator-tooltip" data-hotkey="g n" data-target="notification-indicator.link" data-analytics-event="{&quot;category&quot;:&quot;Global navigation&quot;,&quot;action&quot;:&quot;NOTIFICATIONS_HEADER&quot;,&quot;label&quot;:null}" data-view-component="true" class="Button Button--iconOnly Button--secondary Button--medium AppHeader-button  color-fg-muted">  <svg aria-hidden="true" height="16" viewBox="0 0 16 16" version="1.1" width="16" data-view-component="true" class="octicon octicon-inbox Button-visual">
    <path d="M2.8 2.06A1.75 1.75 0 0 1 4.41 1h7.18c.7 0 1.333.417 1.61 1.06l2.74 6.395c.04.093.06.194.06.295v4.5A1.75 1.75 0 0 1 14.25 15H1.75A1.75 1.75 0 0 1 0 13.25v-4.5c0-.101.02-.202.06-.295Zm1.61.44a.25.25 0 0 0-.23.152L1.887 8H4.75a.75.75 0 0 1 .6.3L6.625 10h2.75l1.275-1.7a.75.75 0 0 1 .6-.3h2.863L11.82 2.652a.25.25 0 0 0-.23-.152Zm10.09 7h-2.875l-1.275 1.7a.75.75 0 0 1-.6.3h-3.5a.75.75 0 0 1-.6-.3L4.375 9.5H1.5v3.75c0 .138.112.25.25.25h12.5a.25.25 0 0 0 .25-.25Z"></path>
</svg>
</a>

    <tool-tip id="notification-indicator-tooltip" data-target="notification-indicator.tooltip" for="AppHeader-notifications-button" popover="manual" data-direction="s" data-type="label" data-view-component="true" class="sr-only position-absolute">Notifications</tool-tip>
</notification-indicator>

        <div class="AppHeader-user">
          <deferred-side-panel data-url="/_side-panels/user?repository_id=864053225">
  <include-fragment data-target="deferred-side-panel.fragment" data-nonce="v2:e95418c8-7dba-b59e-f4b9-9856e61841c3" data-view-component="true">
  
    <react-partial-anchor
  
>
  <button data-target="react-partial-anchor.anchor" data-login="14deephub" aria-label="Open user navigation menu" type="button" data-view-component="true" class="cursor-wait Button--invisible Button--medium Button Button--invisible-noVisuals color-bg-transparent p-0">  <span class="Button-content">
    <span class="Button-label"><img src="https://avatars.githubusercontent.com/u/141177822?v=4" alt="" size="32" height="32" width="32" data-view-component="true" class="avatar circle" /></span>
  </span>
</button>
  <template data-target="react-partial-anchor.template">
    <script crossorigin="anonymous" type="application/javascript" src="https://github.githubassets.com/assets/global-user-nav-drawer-07cb9174e617.js" defer="defer"></script>
<link crossorigin="anonymous" media="all" rel="stylesheet" href="https://github.githubassets.com/assets/primer-react.56caf1a9ff4a5de8a71f.module.css" />
<link crossorigin="anonymous" media="all" rel="stylesheet" href="https://github.githubassets.com/assets/global-user-nav-drawer.f5c870dfa3e88b836b2b.module.css" />

<react-partial
  partial-name="global-user-nav-drawer"
  data-ssr="false"
  data-attempted-ssr="false"
  data-react-profiling="false"
>
  
  <script type="application/json" data-target="react-partial.embeddedData">{"props":{"owner":{"login":"14deephub","name":null,"avatarUrl":"https://avatars.githubusercontent.com/u/141177822?v=4"},"drawerId":"global-user-nav-drawer","lazyLoadItemDataFetchUrl":"/_side-panels/user.json","canAddAccount":true,"addAccountPath":"/login?add_account=1\u0026return_to=https%3A%2F%2Fgithub.com%2F37nomad%2FFacial-Expression-Recognition-Using-Self-Attention%2Fblob%2Fmain%2Fmodel-with-mlp-1-head-aug-patch-extraction.ipynb","switchAccountPath":"/switch_account","loginAccountPath":"/login?add_account=1","projectsPath":"/14deephub?tab=projects","gistsUrl":"https://gist.github.com/mine","docsUrl":"https://docs.github.com","yourEnterpriseUrl":null,"enterpriseSettingsUrl":null,"supportUrl":"https://support.github.com","showAccountSwitcher":true,"showCopilot":true,"showEnterprises":true,"showEnterprise":false,"showGists":true,"showOrganizations":true,"showSponsors":true,"showUpgrade":true,"showFeaturesPreviews":true,"showEnterpriseSettings":false,"createMenuProps":{"createRepo":true,"importRepo":true,"codespaces":true,"spark":false,"gist":true,"createOrg":true,"createProject":false,"createProjectUrl":"/14deephub?tab=projects","createLegacyProject":false,"createIssue":false,"org":null,"owner":"37nomad","repo":"Facial-Expression-Recognition-Using-Self-Attention"}}}</script>
  <div data-target="react-partial.reactRoot"></div>
</react-partial>

  </template>
</react-partial-anchor>


  <div data-show-on-forbidden-error hidden>
    <div class="Box">
  <div class="blankslate-container">
    <div data-view-component="true" class="blankslate blankslate-spacious color-bg-default rounded-2">
      

      <h3 data-view-component="true" class="blankslate-heading">        Uh oh!
</h3>
      <p data-view-component="true">        <p class="color-fg-muted my-2 mb-2 ws-normal">There was an error while loading. <a class="Link--inTextBlock" data-turbo="false" href="" aria-label="Please reload this page">Please reload this page</a>.</p>
</p>

</div>  </div>
</div>  </div>
</include-fragment></deferred-side-panel>
        </div>

        <div class="position-absolute mt-2">
            
<site-header-logged-in-user-menu>

</site-header-logged-in-user-menu>

        </div>
      </div>
    </div>


    
        <div class="AppHeader-localBar" >
          <nav data-pjax="#js-repo-pjax-container" aria-label="Repository" data-view-component="true" class="js-repo-nav js-sidenav-container-pjax js-responsive-underlinenav overflow-hidden UnderlineNav">

  <ul data-view-component="true" class="UnderlineNav-body list-style-none">
      <li data-view-component="true" class="d-inline-flex">
  <a id="code-tab" href="/37nomad/Facial-Expression-Recognition-Using-Self-Attention" data-tab-item="i0code-tab" data-selected-links="repo_source repo_downloads repo_commits repo_releases repo_tags repo_branches repo_packages repo_deployments repo_attestations /37nomad/Facial-Expression-Recognition-Using-Self-Attention" data-pjax="#repo-content-pjax-container" data-turbo-frame="repo-content-turbo-frame" data-hotkey="g c" data-analytics-event="{&quot;category&quot;:&quot;Underline navbar&quot;,&quot;action&quot;:&quot;Click tab&quot;,&quot;label&quot;:&quot;Code&quot;,&quot;target&quot;:&quot;UNDERLINE_NAV.TAB&quot;}" data-view-component="true" class="UnderlineNav-item no-wrap js-responsive-underlinenav-item js-selected-navigation-item">
    
              <svg aria-hidden="true" height="16" viewBox="0 0 16 16" version="1.1" width="16" data-view-component="true" class="octicon octicon-code UnderlineNav-octicon d-none d-sm-inline">
    <path d="m11.28 3.22 4.25 4.25a.75.75 0 0 1 0 1.06l-4.25 4.25a.749.749 0 0 1-1.275-.326.749.749 0 0 1 .215-.734L13.94 8l-3.72-3.72a.749.749 0 0 1 .326-1.275.749.749 0 0 1 .734.215Zm-6.56 0a.751.751 0 0 1 1.042.018.751.751 0 0 1 .018 1.042L2.06 8l3.72 3.72a.749.749 0 0 1-.326 1.275.749.749 0 0 1-.734-.215L.47 8.53a.75.75 0 0 1 0-1.06Z"></path>
</svg>
        <span data-content="Code">Code</span>
          <span id="code-repo-tab-count" data-pjax-replace="" data-turbo-replace="" title="Not available" data-view-component="true" class="Counter"></span>


    
</a></li>
      <li data-view-component="true" class="d-inline-flex">
  <a id="issues-tab" href="/37nomad/Facial-Expression-Recognition-Using-Self-Attention/issues" data-tab-item="i1issues-tab" data-selected-links="repo_issues repo_labels repo_milestones /37nomad/Facial-Expression-Recognition-Using-Self-Attention/issues" data-pjax="#repo-content-pjax-container" data-turbo-frame="repo-content-turbo-frame" data-hotkey="g i" data-analytics-event="{&quot;category&quot;:&quot;Underline navbar&quot;,&quot;action&quot;:&quot;Click tab&quot;,&quot;label&quot;:&quot;Issues&quot;,&quot;target&quot;:&quot;UNDERLINE_NAV.TAB&quot;}" data-view-component="true" class="UnderlineNav-item no-wrap js-responsive-underlinenav-item js-selected-navigation-item">
    
              <svg aria-hidden="true" height="16" viewBox="0 0 16 16" version="1.1" width="16" data-view-component="true" class="octicon octicon-issue-opened UnderlineNav-octicon d-none d-sm-inline">
    <path d="M8 9.5a1.5 1.5 0 1 0 0-3 1.5 1.5 0 0 0 0 3Z"></path><path d="M8 0a8 8 0 1 1 0 16A8 8 0 0 1 8 0ZM1.5 8a6.5 6.5 0 1 0 13 0 6.5 6.5 0 0 0-13 0Z"></path>
</svg>
        <span data-content="Issues">Issues</span>
          <span id="issues-repo-tab-count" data-pjax-replace="" data-turbo-replace="" title="0" hidden="hidden" data-view-component="true" class="Counter">0</span>


    
</a></li>
      <li data-view-component="true" class="d-inline-flex">
  <a id="pull-requests-tab" href="/37nomad/Facial-Expression-Recognition-Using-Self-Attention/pulls" data-tab-item="i2pull-requests-tab" data-selected-links="repo_pulls checks /37nomad/Facial-Expression-Recognition-Using-Self-Attention/pulls" data-pjax="#repo-content-pjax-container" data-turbo-frame="repo-content-turbo-frame" data-hotkey="g p" data-analytics-event="{&quot;category&quot;:&quot;Underline navbar&quot;,&quot;action&quot;:&quot;Click tab&quot;,&quot;label&quot;:&quot;Pull requests&quot;,&quot;target&quot;:&quot;UNDERLINE_NAV.TAB&quot;}" data-view-component="true" class="UnderlineNav-item no-wrap js-responsive-underlinenav-item js-selected-navigation-item">
    
              <svg aria-hidden="true" height="16" viewBox="0 0 16 16" version="1.1" width="16" data-view-component="true" class="octicon octicon-git-pull-request UnderlineNav-octicon d-none d-sm-inline">
    <path d="M1.5 3.25a2.25 2.25 0 1 1 3 2.122v5.256a2.251 2.251 0 1 1-1.5 0V5.372A2.25 2.25 0 0 1 1.5 3.25Zm5.677-.177L9.573.677A.25.25 0 0 1 10 .854V2.5h1A2.5 2.5 0 0 1 13.5 5v5.628a2.251 2.251 0 1 1-1.5 0V5a1 1 0 0 0-1-1h-1v1.646a.25.25 0 0 1-.427.177L7.177 3.427a.25.25 0 0 1 0-.354ZM3.75 2.5a.75.75 0 1 0 0 1.5.75.75 0 0 0 0-1.5Zm0 9.5a.75.75 0 1 0 0 1.5.75.75 0 0 0 0-1.5Zm8.25.75a.75.75 0 1 0 1.5 0 .75.75 0 0 0-1.5 0Z"></path>
</svg>
        <span data-content="Pull requests">Pull requests</span>
          <span id="pull-requests-repo-tab-count" data-pjax-replace="" data-turbo-replace="" title="0" hidden="hidden" data-view-component="true" class="Counter">0</span>


    
</a></li>
      <li data-view-component="true" class="d-inline-flex">
  <a id="actions-tab" href="/37nomad/Facial-Expression-Recognition-Using-Self-Attention/actions" data-tab-item="i3actions-tab" data-selected-links="repo_actions /37nomad/Facial-Expression-Recognition-Using-Self-Attention/actions" data-pjax="#repo-content-pjax-container" data-turbo-frame="repo-content-turbo-frame" data-hotkey="g a" data-analytics-event="{&quot;category&quot;:&quot;Underline navbar&quot;,&quot;action&quot;:&quot;Click tab&quot;,&quot;label&quot;:&quot;Actions&quot;,&quot;target&quot;:&quot;UNDERLINE_NAV.TAB&quot;}" data-view-component="true" class="UnderlineNav-item no-wrap js-responsive-underlinenav-item js-selected-navigation-item">
    
              <svg aria-hidden="true" height="16" viewBox="0 0 16 16" version="1.1" width="16" data-view-component="true" class="octicon octicon-play UnderlineNav-octicon d-none d-sm-inline">
    <path d="M8 0a8 8 0 1 1 0 16A8 8 0 0 1 8 0ZM1.5 8a6.5 6.5 0 1 0 13 0 6.5 6.5 0 0 0-13 0Zm4.879-2.773 4.264 2.559a.25.25 0 0 1 0 .428l-4.264 2.559A.25.25 0 0 1 6 10.559V5.442a.25.25 0 0 1 .379-.215Z"></path>
</svg>
        <span data-content="Actions">Actions</span>
          <span id="actions-repo-tab-count" data-pjax-replace="" data-turbo-replace="" title="Not available" data-view-component="true" class="Counter"></span>


    
</a></li>
      <li data-view-component="true" class="d-inline-flex">
  <a id="projects-tab" href="/37nomad/Facial-Expression-Recognition-Using-Self-Attention/projects" data-tab-item="i4projects-tab" data-selected-links="repo_projects new_repo_project repo_project /37nomad/Facial-Expression-Recognition-Using-Self-Attention/projects" data-pjax="#repo-content-pjax-container" data-turbo-frame="repo-content-turbo-frame" data-hotkey="g b" data-analytics-event="{&quot;category&quot;:&quot;Underline navbar&quot;,&quot;action&quot;:&quot;Click tab&quot;,&quot;label&quot;:&quot;Projects&quot;,&quot;target&quot;:&quot;UNDERLINE_NAV.TAB&quot;}" data-view-component="true" class="UnderlineNav-item no-wrap js-responsive-underlinenav-item js-selected-navigation-item">
    
              <svg aria-hidden="true" height="16" viewBox="0 0 16 16" version="1.1" width="16" data-view-component="true" class="octicon octicon-table UnderlineNav-octicon d-none d-sm-inline">
    <path d="M0 1.75C0 .784.784 0 1.75 0h12.5C15.216 0 16 .784 16 1.75v12.5A1.75 1.75 0 0 1 14.25 16H1.75A1.75 1.75 0 0 1 0 14.25ZM6.5 6.5v8h7.75a.25.25 0 0 0 .25-.25V6.5Zm8-1.5V1.75a.25.25 0 0 0-.25-.25H6.5V5Zm-13 1.5v7.75c0 .138.112.25.25.25H5v-8ZM5 5V1.5H1.75a.25.25 0 0 0-.25.25V5Z"></path>
</svg>
        <span data-content="Projects">Projects</span>
          <span id="projects-repo-tab-count" data-pjax-replace="" data-turbo-replace="" title="0" hidden="hidden" data-view-component="true" class="Counter">0</span>


    
</a></li>
      <li data-view-component="true" class="d-inline-flex">
  <a id="security-tab" href="/37nomad/Facial-Expression-Recognition-Using-Self-Attention/security" data-tab-item="i5security-tab" data-selected-links="security overview alerts policy token_scanning code_scanning /37nomad/Facial-Expression-Recognition-Using-Self-Attention/security" data-pjax="#repo-content-pjax-container" data-turbo-frame="repo-content-turbo-frame" data-hotkey="g s" data-analytics-event="{&quot;category&quot;:&quot;Underline navbar&quot;,&quot;action&quot;:&quot;Click tab&quot;,&quot;label&quot;:&quot;Security&quot;,&quot;target&quot;:&quot;UNDERLINE_NAV.TAB&quot;}" data-view-component="true" class="UnderlineNav-item no-wrap js-responsive-underlinenav-item js-selected-navigation-item">
    
              <svg aria-hidden="true" height="16" viewBox="0 0 16 16" version="1.1" width="16" data-view-component="true" class="octicon octicon-shield UnderlineNav-octicon d-none d-sm-inline">
    <path d="M7.467.133a1.748 1.748 0 0 1 1.066 0l5.25 1.68A1.75 1.75 0 0 1 15 3.48V7c0 1.566-.32 3.182-1.303 4.682-.983 1.498-2.585 2.813-5.032 3.855a1.697 1.697 0 0 1-1.33 0c-2.447-1.042-4.049-2.357-5.032-3.855C1.32 10.182 1 8.566 1 7V3.48a1.75 1.75 0 0 1 1.217-1.667Zm.61 1.429a.25.25 0 0 0-.153 0l-5.25 1.68a.25.25 0 0 0-.174.238V7c0 1.358.275 2.666 1.057 3.86.784 1.194 2.121 2.34 4.366 3.297a.196.196 0 0 0 .154 0c2.245-.956 3.582-2.104 4.366-3.298C13.225 9.666 13.5 8.36 13.5 7V3.48a.251.251 0 0 0-.174-.237l-5.25-1.68ZM8.75 4.75v3a.75.75 0 0 1-1.5 0v-3a.75.75 0 0 1 1.5 0ZM9 10.5a1 1 0 1 1-2 0 1 1 0 0 1 2 0Z"></path>
</svg>
        <span data-content="Security">Security</span>
          <include-fragment src="/37nomad/Facial-Expression-Recognition-Using-Self-Attention/security/overall-count" accept="text/fragment+html" data-nonce="v2:e95418c8-7dba-b59e-f4b9-9856e61841c3" data-view-component="true">
  
  <div data-show-on-forbidden-error hidden>
    <div class="Box">
  <div class="blankslate-container">
    <div data-view-component="true" class="blankslate blankslate-spacious color-bg-default rounded-2">
      

      <h3 data-view-component="true" class="blankslate-heading">        Uh oh!
</h3>
      <p data-view-component="true">        <p class="color-fg-muted my-2 mb-2 ws-normal">There was an error while loading. <a class="Link--inTextBlock" data-turbo="false" href="" aria-label="Please reload this page">Please reload this page</a>.</p>
</p>

</div>  </div>
</div>  </div>
</include-fragment>

    
</a></li>
      <li data-view-component="true" class="d-inline-flex">
  <a id="insights-tab" href="/37nomad/Facial-Expression-Recognition-Using-Self-Attention/pulse" data-tab-item="i6insights-tab" data-selected-links="repo_graphs repo_contributors dependency_graph dependabot_updates pulse people community /37nomad/Facial-Expression-Recognition-Using-Self-Attention/pulse" data-pjax="#repo-content-pjax-container" data-turbo-frame="repo-content-turbo-frame" data-analytics-event="{&quot;category&quot;:&quot;Underline navbar&quot;,&quot;action&quot;:&quot;Click tab&quot;,&quot;label&quot;:&quot;Insights&quot;,&quot;target&quot;:&quot;UNDERLINE_NAV.TAB&quot;}" data-view-component="true" class="UnderlineNav-item no-wrap js-responsive-underlinenav-item js-selected-navigation-item">
    
              <svg aria-hidden="true" height="16" viewBox="0 0 16 16" version="1.1" width="16" data-view-component="true" class="octicon octicon-graph UnderlineNav-octicon d-none d-sm-inline">
    <path d="M1.5 1.75V13.5h13.75a.75.75 0 0 1 0 1.5H.75a.75.75 0 0 1-.75-.75V1.75a.75.75 0 0 1 1.5 0Zm14.28 2.53-5.25 5.25a.75.75 0 0 1-1.06 0L7 7.06 4.28 9.78a.751.751 0 0 1-1.042-.018.751.751 0 0 1-.018-1.042l3.25-3.25a.75.75 0 0 1 1.06 0L10 7.94l4.72-4.72a.751.751 0 0 1 1.042.018.751.751 0 0 1 .018 1.042Z"></path>
</svg>
        <span data-content="Insights">Insights</span>
          <span id="insights-repo-tab-count" data-pjax-replace="" data-turbo-replace="" title="Not available" data-view-component="true" class="Counter"></span>


    
</a></li>
</ul>
    <div style="visibility:hidden;" data-view-component="true" class="UnderlineNav-actions js-responsive-underlinenav-overflow position-absolute pr-3 pr-md-4 pr-lg-5 right-0">      <action-menu data-select-variant="none" data-view-component="true">
  <focus-group direction="vertical" mnemonics retain>
    <button id="action-menu-a86aa468-12b5-4d05-b9b4-1c1ac667f9fd-button" popovertarget="action-menu-a86aa468-12b5-4d05-b9b4-1c1ac667f9fd-overlay" aria-controls="action-menu-a86aa468-12b5-4d05-b9b4-1c1ac667f9fd-list" aria-haspopup="true" aria-labelledby="tooltip-a01915c9-65a0-4596-906b-df50b0794538" type="button" data-view-component="true" class="Button Button--iconOnly Button--secondary Button--medium UnderlineNav-item">  <svg aria-hidden="true" height="16" viewBox="0 0 16 16" version="1.1" width="16" data-view-component="true" class="octicon octicon-kebab-horizontal Button-visual">
    <path d="M8 9a1.5 1.5 0 1 0 0-3 1.5 1.5 0 0 0 0 3ZM1.5 9a1.5 1.5 0 1 0 0-3 1.5 1.5 0 0 0 0 3Zm13 0a1.5 1.5 0 1 0 0-3 1.5 1.5 0 0 0 0 3Z"></path>
</svg>
</button><tool-tip id="tooltip-a01915c9-65a0-4596-906b-df50b0794538" for="action-menu-a86aa468-12b5-4d05-b9b4-1c1ac667f9fd-button" popover="manual" data-direction="s" data-type="label" data-view-component="true" class="sr-only position-absolute">Additional navigation options</tool-tip>


<anchored-position data-target="action-menu.overlay" id="action-menu-a86aa468-12b5-4d05-b9b4-1c1ac667f9fd-overlay" anchor="action-menu-a86aa468-12b5-4d05-b9b4-1c1ac667f9fd-button" align="start" side="outside-bottom" anchor-offset="normal" popover="auto" data-view-component="true">
  <div data-view-component="true" class="Overlay Overlay--size-auto">
    
      <div data-view-component="true" class="Overlay-body Overlay-body--paddingNone">          <action-list>
  <div data-view-component="true">
    <ul aria-labelledby="action-menu-a86aa468-12b5-4d05-b9b4-1c1ac667f9fd-button" id="action-menu-a86aa468-12b5-4d05-b9b4-1c1ac667f9fd-list" role="menu" data-view-component="true" class="ActionListWrap--inset ActionListWrap">
        <li hidden="hidden" data-menu-item="i0code-tab" data-targets="action-list.items" role="none" data-view-component="true" class="ActionListItem">
    
    
    <a tabindex="-1" id="item-805e58f5-9520-4bff-b4ca-b4a315b1ed2a" href="/37nomad/Facial-Expression-Recognition-Using-Self-Attention" role="menuitem" data-view-component="true" class="ActionListContent ActionListContent--visual16">
        <span class="ActionListItem-visual ActionListItem-visual--leading">
          <svg aria-hidden="true" height="16" viewBox="0 0 16 16" version="1.1" width="16" data-view-component="true" class="octicon octicon-code">
    <path d="m11.28 3.22 4.25 4.25a.75.75 0 0 1 0 1.06l-4.25 4.25a.749.749 0 0 1-1.275-.326.749.749 0 0 1 .215-.734L13.94 8l-3.72-3.72a.749.749 0 0 1 .326-1.275.749.749 0 0 1 .734.215Zm-6.56 0a.751.751 0 0 1 1.042.018.751.751 0 0 1 .018 1.042L2.06 8l3.72 3.72a.749.749 0 0 1-.326 1.275.749.749 0 0 1-.734-.215L.47 8.53a.75.75 0 0 1 0-1.06Z"></path>
</svg>
        </span>
      
        <span data-view-component="true" class="ActionListItem-label">
          Code
</span>      
</a>
  
</li>
        <li hidden="hidden" data-menu-item="i1issues-tab" data-targets="action-list.items" role="none" data-view-component="true" class="ActionListItem">
    
    
    <a tabindex="-1" id="item-10ac8a13-4830-4f85-863a-ead724546891" href="/37nomad/Facial-Expression-Recognition-Using-Self-Attention/issues" role="menuitem" data-view-component="true" class="ActionListContent ActionListContent--visual16">
        <span class="ActionListItem-visual ActionListItem-visual--leading">
          <svg aria-hidden="true" height="16" viewBox="0 0 16 16" version="1.1" width="16" data-view-component="true" class="octicon octicon-issue-opened">
    <path d="M8 9.5a1.5 1.5 0 1 0 0-3 1.5 1.5 0 0 0 0 3Z"></path><path d="M8 0a8 8 0 1 1 0 16A8 8 0 0 1 8 0ZM1.5 8a6.5 6.5 0 1 0 13 0 6.5 6.5 0 0 0-13 0Z"></path>
</svg>
        </span>
      
        <span data-view-component="true" class="ActionListItem-label">
          Issues
</span>      
</a>
  
</li>
        <li hidden="hidden" data-menu-item="i2pull-requests-tab" data-targets="action-list.items" role="none" data-view-component="true" class="ActionListItem">
    
    
    <a tabindex="-1" id="item-ffbfddb5-7bd5-460b-944a-46601ebeb5ff" href="/37nomad/Facial-Expression-Recognition-Using-Self-Attention/pulls" role="menuitem" data-view-component="true" class="ActionListContent ActionListContent--visual16">
        <span class="ActionListItem-visual ActionListItem-visual--leading">
          <svg aria-hidden="true" height="16" viewBox="0 0 16 16" version="1.1" width="16" data-view-component="true" class="octicon octicon-git-pull-request">
    <path d="M1.5 3.25a2.25 2.25 0 1 1 3 2.122v5.256a2.251 2.251 0 1 1-1.5 0V5.372A2.25 2.25 0 0 1 1.5 3.25Zm5.677-.177L9.573.677A.25.25 0 0 1 10 .854V2.5h1A2.5 2.5 0 0 1 13.5 5v5.628a2.251 2.251 0 1 1-1.5 0V5a1 1 0 0 0-1-1h-1v1.646a.25.25 0 0 1-.427.177L7.177 3.427a.25.25 0 0 1 0-.354ZM3.75 2.5a.75.75 0 1 0 0 1.5.75.75 0 0 0 0-1.5Zm0 9.5a.75.75 0 1 0 0 1.5.75.75 0 0 0 0-1.5Zm8.25.75a.75.75 0 1 0 1.5 0 .75.75 0 0 0-1.5 0Z"></path>
</svg>
        </span>
      
        <span data-view-component="true" class="ActionListItem-label">
          Pull requests
</span>      
</a>
  
</li>
        <li hidden="hidden" data-menu-item="i3actions-tab" data-targets="action-list.items" role="none" data-view-component="true" class="ActionListItem">
    
    
    <a tabindex="-1" id="item-2e5ca19a-5b20-4ca5-8104-f863c7f7be7b" href="/37nomad/Facial-Expression-Recognition-Using-Self-Attention/actions" role="menuitem" data-view-component="true" class="ActionListContent ActionListContent--visual16">
        <span class="ActionListItem-visual ActionListItem-visual--leading">
          <svg aria-hidden="true" height="16" viewBox="0 0 16 16" version="1.1" width="16" data-view-component="true" class="octicon octicon-play">
    <path d="M8 0a8 8 0 1 1 0 16A8 8 0 0 1 8 0ZM1.5 8a6.5 6.5 0 1 0 13 0 6.5 6.5 0 0 0-13 0Zm4.879-2.773 4.264 2.559a.25.25 0 0 1 0 .428l-4.264 2.559A.25.25 0 0 1 6 10.559V5.442a.25.25 0 0 1 .379-.215Z"></path>
</svg>
        </span>
      
        <span data-view-component="true" class="ActionListItem-label">
          Actions
</span>      
</a>
  
</li>
        <li hidden="hidden" data-menu-item="i4projects-tab" data-targets="action-list.items" role="none" data-view-component="true" class="ActionListItem">
    
    
    <a tabindex="-1" id="item-519f1142-f527-4116-abd8-e763240e1546" href="/37nomad/Facial-Expression-Recognition-Using-Self-Attention/projects" role="menuitem" data-view-component="true" class="ActionListContent ActionListContent--visual16">
        <span class="ActionListItem-visual ActionListItem-visual--leading">
          <svg aria-hidden="true" height="16" viewBox="0 0 16 16" version="1.1" width="16" data-view-component="true" class="octicon octicon-table">
    <path d="M0 1.75C0 .784.784 0 1.75 0h12.5C15.216 0 16 .784 16 1.75v12.5A1.75 1.75 0 0 1 14.25 16H1.75A1.75 1.75 0 0 1 0 14.25ZM6.5 6.5v8h7.75a.25.25 0 0 0 .25-.25V6.5Zm8-1.5V1.75a.25.25 0 0 0-.25-.25H6.5V5Zm-13 1.5v7.75c0 .138.112.25.25.25H5v-8ZM5 5V1.5H1.75a.25.25 0 0 0-.25.25V5Z"></path>
</svg>
        </span>
      
        <span data-view-component="true" class="ActionListItem-label">
          Projects
</span>      
</a>
  
</li>
        <li hidden="hidden" data-menu-item="i5security-tab" data-targets="action-list.items" role="none" data-view-component="true" class="ActionListItem">
    
    
    <a tabindex="-1" id="item-02a98461-29bb-406f-a6ac-c719cc5c4236" href="/37nomad/Facial-Expression-Recognition-Using-Self-Attention/security" role="menuitem" data-view-component="true" class="ActionListContent ActionListContent--visual16">
        <span class="ActionListItem-visual ActionListItem-visual--leading">
          <svg aria-hidden="true" height="16" viewBox="0 0 16 16" version="1.1" width="16" data-view-component="true" class="octicon octicon-shield">
    <path d="M7.467.133a1.748 1.748 0 0 1 1.066 0l5.25 1.68A1.75 1.75 0 0 1 15 3.48V7c0 1.566-.32 3.182-1.303 4.682-.983 1.498-2.585 2.813-5.032 3.855a1.697 1.697 0 0 1-1.33 0c-2.447-1.042-4.049-2.357-5.032-3.855C1.32 10.182 1 8.566 1 7V3.48a1.75 1.75 0 0 1 1.217-1.667Zm.61 1.429a.25.25 0 0 0-.153 0l-5.25 1.68a.25.25 0 0 0-.174.238V7c0 1.358.275 2.666 1.057 3.86.784 1.194 2.121 2.34 4.366 3.297a.196.196 0 0 0 .154 0c2.245-.956 3.582-2.104 4.366-3.298C13.225 9.666 13.5 8.36 13.5 7V3.48a.251.251 0 0 0-.174-.237l-5.25-1.68ZM8.75 4.75v3a.75.75 0 0 1-1.5 0v-3a.75.75 0 0 1 1.5 0ZM9 10.5a1 1 0 1 1-2 0 1 1 0 0 1 2 0Z"></path>
</svg>
        </span>
      
        <span data-view-component="true" class="ActionListItem-label">
          Security
</span>      
</a>
  
</li>
        <li hidden="hidden" data-menu-item="i6insights-tab" data-targets="action-list.items" role="none" data-view-component="true" class="ActionListItem">
    
    
    <a tabindex="-1" id="item-0ce04aad-b6e3-428f-b673-d3a707829903" href="/37nomad/Facial-Expression-Recognition-Using-Self-Attention/pulse" role="menuitem" data-view-component="true" class="ActionListContent ActionListContent--visual16">
        <span class="ActionListItem-visual ActionListItem-visual--leading">
          <svg aria-hidden="true" height="16" viewBox="0 0 16 16" version="1.1" width="16" data-view-component="true" class="octicon octicon-graph">
    <path d="M1.5 1.75V13.5h13.75a.75.75 0 0 1 0 1.5H.75a.75.75 0 0 1-.75-.75V1.75a.75.75 0 0 1 1.5 0Zm14.28 2.53-5.25 5.25a.75.75 0 0 1-1.06 0L7 7.06 4.28 9.78a.751.751 0 0 1-1.042-.018.751.751 0 0 1-.018-1.042l3.25-3.25a.75.75 0 0 1 1.06 0L10 7.94l4.72-4.72a.751.751 0 0 1 1.042.018.751.751 0 0 1 .018 1.042Z"></path>
</svg>
        </span>
      
        <span data-view-component="true" class="ActionListItem-label">
          Insights
</span>      
</a>
  
</li>
</ul>    
</div></action-list>


</div>
      
</div></anchored-position>  </focus-group>
</action-menu></div>
</nav>
          
        </div>
</header>


      <div hidden="hidden" data-view-component="true" class="js-stale-session-flash stale-session-flash flash flash-warn flash-full">
  
        <svg aria-hidden="true" height="16" viewBox="0 0 16 16" version="1.1" width="16" data-view-component="true" class="octicon octicon-alert">
    <path d="M6.457 1.047c.659-1.234 2.427-1.234 3.086 0l6.082 11.378A1.75 1.75 0 0 1 14.082 15H1.918a1.75 1.75 0 0 1-1.543-2.575Zm1.763.707a.25.25 0 0 0-.44 0L1.698 13.132a.25.25 0 0 0 .22.368h12.164a.25.25 0 0 0 .22-.368Zm.53 3.996v2.5a.75.75 0 0 1-1.5 0v-2.5a.75.75 0 0 1 1.5 0ZM9 11a1 1 0 1 1-2 0 1 1 0 0 1 2 0Z"></path>
</svg>
        <span class="js-stale-session-flash-signed-in" hidden>You signed in with another tab or window. <a class="Link--inTextBlock" href="">Reload</a> to refresh your session.</span>
        <span class="js-stale-session-flash-signed-out" hidden>You signed out in another tab or window. <a class="Link--inTextBlock" href="">Reload</a> to refresh your session.</span>
        <span class="js-stale-session-flash-switched" hidden>You switched accounts on another tab or window. <a class="Link--inTextBlock" href="">Reload</a> to refresh your session.</span>

    <button id="icon-button-b2c20d4e-5623-4d54-9787-902af9941b11" aria-labelledby="tooltip-5d08b3ac-92c2-403a-9708-ea2d5894cdbb" type="button" data-view-component="true" class="Button Button--iconOnly Button--invisible Button--medium flash-close js-flash-close">  <svg aria-hidden="true" height="16" viewBox="0 0 16 16" version="1.1" width="16" data-view-component="true" class="octicon octicon-x Button-visual">
    <path d="M3.72 3.72a.75.75 0 0 1 1.06 0L8 6.94l3.22-3.22a.749.749 0 0 1 1.275.326.749.749 0 0 1-.215.734L9.06 8l3.22 3.22a.749.749 0 0 1-.326 1.275.749.749 0 0 1-.734-.215L8 9.06l-3.22 3.22a.751.751 0 0 1-1.042-.018.751.751 0 0 1-.018-1.042L6.94 8 3.72 4.78a.75.75 0 0 1 0-1.06Z"></path>
</svg>
</button><tool-tip id="tooltip-5d08b3ac-92c2-403a-9708-ea2d5894cdbb" for="icon-button-b2c20d4e-5623-4d54-9787-902af9941b11" popover="manual" data-direction="s" data-type="label" data-view-component="true" class="sr-only position-absolute">Dismiss alert</tool-tip>


  
</div>
          
    </div>

  <div id="start-of-content" class="show-on-focus"></div>








    <div id="js-flash-container" class="flash-container" data-turbo-replace>




  <template class="js-flash-template">
    
<div class="flash flash-full   {{ className }}">
  <div >
    <button autofocus class="flash-close js-flash-close" type="button" aria-label="Dismiss this message">
      <svg aria-hidden="true" height="16" viewBox="0 0 16 16" version="1.1" width="16" data-view-component="true" class="octicon octicon-x">
    <path d="M3.72 3.72a.75.75 0 0 1 1.06 0L8 6.94l3.22-3.22a.749.749 0 0 1 1.275.326.749.749 0 0 1-.215.734L9.06 8l3.22 3.22a.749.749 0 0 1-.326 1.275.749.749 0 0 1-.734-.215L8 9.06l-3.22 3.22a.751.751 0 0 1-1.042-.018.751.751 0 0 1-.018-1.042L6.94 8 3.72 4.78a.75.75 0 0 1 0-1.06Z"></path>
</svg>
    </button>
    <div aria-atomic="true" role="alert" class="js-flash-alert">
      
      <div>{{ message }}</div>

    </div>
  </div>
</div>
  </template>
</div>


    
  <notification-shelf-watcher data-base-url="https://github.com/notifications/beta/shelf" data-channel="eyJjIjoibm90aWZpY2F0aW9uLWNoYW5nZWQ6MTQxMTc3ODIyIiwidCI6MTc1MTA2MDY5NH0=--0407b3c64484fa595ff07ce4fd62999c768fb93adbda2776cc9ca4e90af2215f" data-view-component="true" class="js-socket-channel"></notification-shelf-watcher>
  <div hidden data-initial data-target="notification-shelf-watcher.placeholder"></div>






  <div
    class="application-main "
    data-commit-hovercards-enabled
    data-discussion-hovercards-enabled
    data-issue-and-pr-hovercards-enabled
    data-project-hovercards-enabled
  >
        <div itemscope itemtype="http://schema.org/SoftwareSourceCode" class="">
    <main id="js-repo-pjax-container" >
      
      






    
  <div id="repository-container-header" data-turbo-replace hidden ></div>




<turbo-frame id="repo-content-turbo-frame" target="_top" data-turbo-action="advance" class="">
    <div id="repo-content-pjax-container" class="repository-content " >
      <a href="https://github.dev/" class="d-none js-github-dev-shortcut" data-hotkey=".,Mod+Alt+.">Open in github.dev</a>
  <a href="https://github.dev/" class="d-none js-github-dev-new-tab-shortcut" data-hotkey="Shift+.,Shift+&gt;,&gt;" target="_blank" rel="noopener noreferrer">Open in a new github.dev tab</a>
    <a class="d-none" data-hotkey=",,Mod+Alt+," target="_blank" href="/codespaces/new/37nomad/Facial-Expression-Recognition-Using-Self-Attention/tree/main?resume=1">Open in codespace</a>




    
      
    








<react-app
  app-name="react-code-view"
  initial-path="/37nomad/Facial-Expression-Recognition-Using-Self-Attention/blob/main/model-with-mlp-1-head-aug-patch-extraction.ipynb"
    style="display: block; min-height: calc(100vh - 64px);"
  data-attempted-ssr="true"
  data-ssr="true"
  data-lazy="false"
  data-alternate="false"
  data-data-router-enabled="false"
  data-react-profiling="false"
>
  
  <script type="application/json" data-target="react-app.embeddedData">{"payload":{"allShortcutsEnabled":true,"fileTree":{"":{"items":[{"name":".ipynb_checkpoints","path":".ipynb_checkpoints","contentType":"directory"},{"name":"FER Readme","path":"FER Readme","contentType":"directory"},{"name":"epoch-models","path":"epoch-models","contentType":"directory"},{"name":"README.md","path":"README.md","contentType":"file"},{"name":"model-with-mlp-1-head-aug-patch-extraction.ipynb","path":"model-with-mlp-1-head-aug-patch-extraction.ipynb","contentType":"file"}],"totalCount":5}},"fileTreeProcessingTime":8.360180999999999,"foldersToFetch":[],"incompleteFileTree":false,"repo":{"id":864053225,"defaultBranch":"main","name":"Facial-Expression-Recognition-Using-Self-Attention","ownerLogin":"37nomad","currentUserCanPush":false,"isFork":false,"isEmpty":false,"createdAt":"2024-09-27T17:34:54.000+05:30","ownerAvatar":"https://avatars.githubusercontent.com/u/145599837?v=4","public":true,"private":false,"isOrgOwned":false},"codeLineWrapEnabled":false,"symbolsExpanded":false,"treeExpanded":true,"refInfo":{"name":"main","listCacheKey":"v0:1727515191.0","canEdit":true,"refType":"branch","currentOid":"85fe1800164efd869c7d4923349d0db11a57547c"},"path":"model-with-mlp-1-head-aug-patch-extraction.ipynb","currentUser":{"id":141177822,"login":"14deephub","userEmail":"deepanshu_o@ch.iitr.ac.in"},"blob":{"rawLines":["{"," \"cells\": [","  {","   \"cell_type\": \"code\",","   \"execution_count\": 132,","   \"id\": \"d8b5acde\",","   \"metadata\": {","    \"execution\": {","     \"iopub.execute_input\": \"2024-10-27T05:51:00.569974Z\",","     \"iopub.status.busy\": \"2024-10-27T05:51:00.569611Z\",","     \"iopub.status.idle\": \"2024-10-27T05:51:00.576994Z\",","     \"shell.execute_reply\": \"2024-10-27T05:51:00.576064Z\",","     \"shell.execute_reply.started\": \"2024-10-27T05:51:00.569940Z\"","    },","    \"id\": \"579e9c4f-bb81-401a-9280-d215be513669\"","   },","   \"outputs\": [],","   \"source\": [","    \"import torch\\n\",","    \"import torch.nn as nn\\n\",","    \"import math\\n\",","    \"import torch.utils.model_zoo as model_zoo\\n\",","    \"import torchvision.transforms as transforms\\n\",","    \"from torchvision.datasets import ImageFolder\\n\",","    \"from torch.utils.data import DataLoader, Dataset\\n\",","    \"import os\\n\",","    \"import pandas as pd\\n\",","    \"from PIL import Image\\n\",","    \"import torch.optim as optim\\n\",","    \"from torch.optim import AdamW\\n\",","    \"from tqdm import tqdm\\n\",","    \"import numpy as np \\n\",","    \"from sklearn.metrics import accuracy_score, confusion_matrix, ConfusionMatrixDisplay\\n\",","    \"import matplotlib.pyplot as plt\\n\",","    \"import seaborn as sns\\n\",","    \"import torch.nn.functional as F\"","   ]","  },","  {","   \"cell_type\": \"code\",","   \"execution_count\": 133,","   \"id\": \"3820d51b\",","   \"metadata\": {","    \"execution\": {","     \"iopub.execute_input\": \"2024-10-27T05:51:01.060583Z\",","     \"iopub.status.busy\": \"2024-10-27T05:51:01.060225Z\",","     \"iopub.status.idle\": \"2024-10-27T05:51:01.065567Z\",","     \"shell.execute_reply\": \"2024-10-27T05:51:01.064250Z\",","     \"shell.execute_reply.started\": \"2024-10-27T05:51:01.060545Z\"","    },","    \"id\": \"18e6d001-c057-4580-a5ff-d1f20c1b1f1b\"","   },","   \"outputs\": [],","   \"source\": [","    \"model_urls = {\\n\",","    \"    'resnet18': 'https://download.pytorch.org/models/resnet18-5c106cde.pth',\\n\",","    \"    # 'resnet34': 'https://download.pytorch.org/models/resnet34-333f7ec4.pth',\\n\",","    \"    # 'resnet50': 'https://download.pytorch.org/models/resnet50-19c8e357.pth',\\n\",","    \"    # 'resnet101': 'https://download.pytorch.org/models/resnet101-5d3b4d8f.pth',\\n\",","    \"    # 'resnet152': 'https://download.pytorch.org/models/resnet152-b121ed2d.pth',\\n\",","    \"}\"","   ]","  },","  {","   \"cell_type\": \"code\",","   \"execution_count\": 134,","   \"id\": \"efe78a43\",","   \"metadata\": {","    \"execution\": {","     \"iopub.execute_input\": \"2024-10-27T05:51:01.422556Z\",","     \"iopub.status.busy\": \"2024-10-27T05:51:01.422235Z\",","     \"iopub.status.idle\": \"2024-10-27T05:51:01.427246Z\",","     \"shell.execute_reply\": \"2024-10-27T05:51:01.426374Z\",","     \"shell.execute_reply.started\": \"2024-10-27T05:51:01.422524Z\"","    },","    \"id\": \"489ff69f-8164-49fa-b930-ca293d6bf96a\"","   },","   \"outputs\": [],","   \"source\": [","    \"def conv3x3(in_planes, out_planes, stride=1):\\n\",","    \"    \\\"3x3 convolution with padding\\\"\\n\",","    \"    return nn.Conv2d(in_planes, out_planes, kernel_size=3, stride=stride,\\n\",","    \"                     padding=1, bias=False)\"","   ]","  },","  {","   \"cell_type\": \"code\",","   \"execution_count\": 135,","   \"id\": \"00e5fc60\",","   \"metadata\": {","    \"execution\": {","     \"iopub.execute_input\": \"2024-10-27T05:51:01.736307Z\",","     \"iopub.status.busy\": \"2024-10-27T05:51:01.735987Z\",","     \"iopub.status.idle\": \"2024-10-27T05:51:01.743586Z\",","     \"shell.execute_reply\": \"2024-10-27T05:51:01.742695Z\",","     \"shell.execute_reply.started\": \"2024-10-27T05:51:01.736273Z\"","    },","    \"id\": \"ddcf8890-3b5f-4cf2-9556-2396fc691ed9\"","   },","   \"outputs\": [],","   \"source\": [","    \"class ChannelAttention(nn.Module):\\n\",","    \"    def __init__(self, in_planes, ratio=16):\\n\",","    \"        super(ChannelAttention, self).__init__()\\n\",","    \"        self.avg_pool = nn.AdaptiveAvgPool2d(1) # 1×1×64\\n\",","    \"        self.max_pool = nn.AdaptiveMaxPool2d(1) # 1×1×64\\n\",","    \"\\n\",","    \"        self.fc = nn.Sequential(nn.Conv2d(in_planes, in_planes // 16, 1, bias=False), # 1×1×4\\n\",","    \"                               nn.ReLU(), # 1×1×4\\n\",","    \"                               nn.Conv2d(in_planes // 16, in_planes, 1, bias=False)) # 1×1×64\\n\",","    \"        self.sigmoid = nn.Sigmoid() # 1×1×64\\n\",","    \"\\n\",","    \"    def forward(self, x):\\n\",","    \"        avg_out = self.fc(self.avg_pool(x)) # 1×1×64\\n\",","    \"        max_out = self.fc(self.max_pool(x)) # 1×1×64\\n\",","    \"        out = avg_out + max_out # 1×1×64\\n\",","    \"        return self.sigmoid(out) # 1×1×64\"","   ]","  },","  {","   \"cell_type\": \"code\",","   \"execution_count\": 136,","   \"id\": \"1e920ac1\",","   \"metadata\": {","    \"execution\": {","     \"iopub.execute_input\": \"2024-10-27T05:51:02.086191Z\",","     \"iopub.status.busy\": \"2024-10-27T05:51:02.085888Z\",","     \"iopub.status.idle\": \"2024-10-27T05:51:02.092974Z\",","     \"shell.execute_reply\": \"2024-10-27T05:51:02.091973Z\",","     \"shell.execute_reply.started\": \"2024-10-27T05:51:02.086160Z\"","    },","    \"id\": \"0260a2df-76c8-413f-a7bf-a1c3b6b97c1f\"","   },","   \"outputs\": [],","   \"source\": [","    \"class SpatialAttention(nn.Module):\\n\",","    \"    def __init__(self, kernel_size=7):\\n\",","    \"        super(SpatialAttention, self).__init__()\\n\",","    \"\\n\",","    \"        self.conv1 = nn.Conv2d(2, 1, kernel_size, padding=kernel_size//2, bias=False)\\n\",","    \"        self.sigmoid = nn.Sigmoid()\\n\",","    \"\\n\",","    \"    def forward(self, x):\\n\",","    \"        avg_out = torch.mean(x, dim=1, keepdim=True) # 56×56×1\\n\",","    \"        max_out, _ = torch.max(x, dim=1, keepdim=True) # 56×56×1\\n\",","    \"        x = torch.cat([avg_out, max_out], dim=1) # 56×56×2\\n\",","    \"        x = self.conv1(x) # 56×56×1\\n\",","    \"        return self.sigmoid(x) # 56×56×1\"","   ]","  },","  {","   \"cell_type\": \"code\",","   \"execution_count\": 137,","   \"id\": \"b0a6fa85\",","   \"metadata\": {","    \"execution\": {","     \"iopub.execute_input\": \"2024-10-27T05:51:02.457762Z\",","     \"iopub.status.busy\": \"2024-10-27T05:51:02.457056Z\",","     \"iopub.status.idle\": \"2024-10-27T05:51:02.467592Z\",","     \"shell.execute_reply\": \"2024-10-27T05:51:02.466549Z\",","     \"shell.execute_reply.started\": \"2024-10-27T05:51:02.457713Z\"","    },","    \"id\": \"41fecb88-333e-4ba1-86e9-a86fd507c273\"","   },","   \"outputs\": [],","   \"source\": [","    \"class BasicBlock(nn.Module):\\n\",","    \"    expansion = 1\\n\",","    \"\\n\",","    \"    def __init__(self, inplanes, planes, stride=1, downsample=None):\\n\",","    \"        super(BasicBlock, self).__init__()\\n\",","    \"        self.conv1 = conv3x3(inplanes, planes, stride) # 56*56*64 \\n\",","    \"        self.bn1 = nn.BatchNorm2d(planes) # 56*56*64 \\n\",","    \"        self.relu = nn.ReLU(inplace=True) # 56*56*64 \\n\",","    \"        self.conv2 = conv3x3(planes, planes) # 56*56*64 \\n\",","    \"        self.bn2 = nn.BatchNorm2d(planes)\\n\",","    \"\\n\",","    \"        self.ca = ChannelAttention(planes)\\n\",","    \"        self.sa = SpatialAttention()\\n\",","    \"\\n\",","    \"        self.downsample = downsample\\n\",","    \"        self.stride = stride\\n\",","    \"\\n\",","    \"    def forward(self, x):\\n\",","    \"        residual = x # (56×56×64, 56×56×64), (56×56×64, 28x28x128), (28x28x128, 14x14x256)\\n\",","    \"\\n\",","    \"        out = self.conv1(x) # (56*56*64, 56×56×64), (28*28*128, 28*28*128), (14x14x256, 14x14x256)\\n\",","    \"        out = self.bn1(out) # (56*56*64, 56×56×64), (28*28*128, 28*28*128), (14x14x256, 14x14x256)\\n\",","    \"        out = self.relu(out) # (56*56*64, 56×56×64), (28*28*128, 28*28*128), (14x14x256, 14x14x256)\\n\",","    \"\\n\",","    \"        out = self.conv2(out) # (56*56*64, 56×56×64), (28*28*128, 28*28*128), (14x14x256, 14x14x256)\\n\",","    \"        out = self.bn2(out) # (56*56*64, 56×56×64), (28*28*128, 28*28*128), (14x14x256, 14x14x256)\\n\",","    \"\\n\",","    \"        out = self.ca(out) * out # (1*1*64) * (56*56*64) = (56*56*64; 56×56×64); (28*28*128; 28*28*128); (14x14x256, 14x14x256);\\n\",","    \"        out = self.sa(out) * out # (56×56×1) * (56×56×64) = (56×56×64; 56×56×64); (28x28x128; 28*28*128); (14x14x256, 14x14x256);\\n\",","    \"\\n\",","    \"        if self.downsample is not None:\\n\",","    \"            residual = self.downsample(x) # 28*28*128, 14x14x256 \\n\",","    \"\\n\",","    \"        out += residual # (56×56×64, 56×56×64), (28*28*128, 28*28*128), (14x14x256, 14x14x256)\\n\",","    \"        out = self.relu(out) # (56×56×64, 56×56×64), (28*28*128, 28*28*128), (14x14x256, 14x14x256)\\n\",","    \"\\n\",","    \"        return out\"","   ]","  },","  {","   \"cell_type\": \"code\",","   \"execution_count\": 138,","   \"id\": \"4d586a30\",","   \"metadata\": {","    \"execution\": {","     \"iopub.execute_input\": \"2024-10-27T05:51:02.900969Z\",","     \"iopub.status.busy\": \"2024-10-27T05:51:02.900215Z\",","     \"iopub.status.idle\": \"2024-10-27T05:51:02.909622Z\",","     \"shell.execute_reply\": \"2024-10-27T05:51:02.908770Z\",","     \"shell.execute_reply.started\": \"2024-10-27T05:51:02.900936Z\"","    }","   },","   \"outputs\": [],","   \"source\": [","    \"class PatchExtraction(nn.Module):\\n\",","    \"    def __init__(self):\\n\",","    \"        super(PatchExtraction, self).__init__()\\n\",","    \"\\n\",","    \"        self.depthwise_conv1 = nn.Conv2d(256, 256, kernel_size=4, stride=4, padding=1, groups=256)  # Input: 14x14x256, Output: 4×4×256     \\n\",","    \"        self.pointwise_conv1 = nn.Conv2d(256, 256, kernel_size=1, stride=1, padding=0)  # Output: 4×4×256\\n\",","    \"        \\n\",","    \"        self.depthwise_conv2 = nn.Conv2d(256, 256, kernel_size=2, stride=2, padding=0, groups=256)  # Output: 2×2×256\\n\",","    \"        self.pointwise_conv2 = nn.Conv2d(256, 256, kernel_size=1, stride=1, padding=0)  # Output: 2×2×256\\n\",","    \"\\n\",","    \"        self.conv3 = nn.Conv2d(256, 256, kernel_size=1, stride=1, padding=0)  # Output: 2×2×256\\n\",","    \"\\n\",","    \"    def forward(self, x):\\n\",","    \"        x = F.relu(self.depthwise_conv1(x))\\n\",","    \"        x = F.relu(self.pointwise_conv1(x))\\n\",","    \"\\n\",","    \"        x = F.relu(self.depthwise_conv2(x))\\n\",","    \"        x = F.relu(self.pointwise_conv2(x))\\n\",","    \"\\n\",","    \"        x = F.relu(self.conv3(x))\\n\",","    \"        \\n\",","    \"        return x\"","   ]","  },","  {","   \"cell_type\": \"code\",","   \"execution_count\": 139,","   \"id\": \"27eefd53\",","   \"metadata\": {","    \"execution\": {","     \"iopub.execute_input\": \"2024-10-27T05:51:03.505986Z\",","     \"iopub.status.busy\": \"2024-10-27T05:51:03.505131Z\",","     \"iopub.status.idle\": \"2024-10-27T05:51:03.525409Z\",","     \"shell.execute_reply\": \"2024-10-27T05:51:03.524407Z\",","     \"shell.execute_reply.started\": \"2024-10-27T05:51:03.505946Z\"","    },","    \"id\": \"42b16778-f805-4570-8455-179026a3c972\"","   },","   \"outputs\": [],","   \"source\": [","    \"class ResNet(nn.Module):\\n\",","    \"\\n\",","    \"    def __init__(self, block, layers, num_heads, num_classes=7):\\n\",","    \"        self.inplanes = 64\\n\",","    \"        self.num_heads = num_heads\\n\",","    \"        super(ResNet, self).__init__()\\n\",","    \"        self.conv1 = nn.Conv2d(3, 64, kernel_size=7, stride=2, padding=3,\\n\",","    \"                               bias=False) # 112*112*64\\n\",","    \"        self.bn1 = nn.BatchNorm2d(64) # 112*112*64\\n\",","    \"        self.relu = nn.ReLU(inplace=True) # 112*112*64\\n\",","    \"        self.maxpool = nn.MaxPool2d(kernel_size=3, stride=2, padding=1) # 56*56*64\\n\",","    \"        self.layer1 = self._make_layer(block, 64, layers[0]) # 56×56×64\\n\",","    \"        self.layer2 = self._make_layer(block, 128, layers[1], stride=2) # 28*28*128\\n\",","    \"        self.layer3 = self._make_layer(block, 256, layers[2], stride=2) # 14*14*256 \\n\",","    \"        self.patch_extraction = PatchExtraction() #  2×2×256\\n\",","    \"\\n\",","    \"        self.attention = nn.MultiheadAttention(256, num_heads)\\n\",","    \"        # Input will be changed to the size 4x32x256 (see below forward code) which will be used as query key value \\n\",","    \"        # weight matrix will have the size 256*(256) as default value (256) is default value we can change this by using vdim and kdim attributes of the class\\n\",","    \"        # else weight matrix will have embed_dim * kdim for key matrix , after multiplying 4x32x256 will be the ouptut like this we will be having key query \\n\",","    \"        # value matrix (Q)x(K.T)  query and key transpose multiplication will produce of size 4x32x4 and dividing it with sqrt(256) , this dividing saves the \\n\",","    \"        # variance and makes it around 1 and also it gets trained without gradient saturation and finally it applies soft max on to this making each row value\\n\",","    \"        #sum up to 1 of 4x4 matrix this for 32 batch size and multiplying it with 4x32x256 i.e 4x32x4 with 4x32x256 value matrix outputs the matrix 4x32x256\\n\",","    \"        self.layer_norm = nn.LayerNorm(256)\\n\",","    \"        self.global_avg_pool = nn.AdaptiveAvgPool2d(1) \\n\",","    \"\\n\",","    \"        self.classifier = nn.Linear(256, num_classes)\\n\",","    \"\\n\",","    \"        for m in self.classifier.modules():\\n\",","    \"            if isinstance(m, nn.Linear):\\n\",","    \"                fan_out = m.weight.size(0)  \\n\",","    \"                fan_in = m.weight.size(1) if m.weight.dim() \u003e 1 else 0  \\n\",","    \"                init_range = 1.0 / math.sqrt(fan_in + fan_out)\\n\",","    \"                m.weight.data.uniform_(-init_range, init_range)\\n\",","    \"                if m.bias is not None:\\n\",","    \"                    m.bias.data.zero_()\\n\",","    \"\\n\",","    \"    def _make_layer(self, block, planes, blocks, stride=1):\\n\",","    \"        downsample = None\\n\",","    \"        if stride != 1 or self.inplanes != planes * block.expansion:\\n\",","    \"            downsample = nn.Sequential(\\n\",","    \"                nn.Conv2d(self.inplanes, planes * block.expansion,\\n\",","    \"                          kernel_size=1, stride=stride, bias=False), # 28*28*128, 14×14×256, \\n\",","    \"                nn.BatchNorm2d(planes * block.expansion), # 28*28*128, 14×14×256\\n\",","    \"            )\\n\",","    \"\\n\",","    \"        layers = []\\n\",","    \"        layers.append(block(self.inplanes, planes, stride, downsample))\\n\",","    \"        self.inplanes = planes * block.expansion\\n\",","    \"        for i in range(1, blocks):\\n\",","    \"            layers.append(block(self.inplanes, planes))\\n\",","    \"\\n\",","    \"        return nn.Sequential(*layers)\\n\",","    \"\\n\",","    \"    def forward(self, x):\\n\",","    \"        x = self.conv1(x)\\n\",","    \"        x = self.bn1(x)\\n\",","    \"        x = self.relu(x)\\n\",","    \"        x = self.maxpool(x)\\n\",","    \"\\n\",","    \"        x = self.layer1(x)\\n\",","    \"        x = self.layer2(x)\\n\",","    \"        x = self.layer3(x)\\n\",","    \"\\n\",","    \"        x = self.patch_extraction(x) \\n\",","    \"\\n\",","    \"        batch_size, channels, height, width = x.shape\\n\",","    \"        x = x.view(batch_size, channels, height*width).permute(2,0,1)\\n\",","    \"\\n\",","    \"        query = x\\n\",","    \"        key = x\\n\",","    \"        value = x\\n\",","    \"\\n\",","    \"        attn_output, _ = self.attention(query, key, value)\\n\",","    \"        x = self.layer_norm(attn_output + x)\\n\",","    \"        x = x.permute(1,2,0).view(batch_size, channels, height, width) # 32*256*2*2\\n\",","    \"        x = self.global_avg_pool(x).view(batch_size, -1) # 32*256\\n\",","    \"\\n\",","    \"        logits = self.classifier(x)\\n\",","    \"\\n\",","    \"        return logits\"","   ]","  },","  {","   \"cell_type\": \"code\",","   \"execution_count\": 288,","   \"id\": \"d09ec97b\",","   \"metadata\": {","    \"execution\": {","     \"iopub.execute_input\": \"2024-10-27T08:34:56.687318Z\",","     \"iopub.status.busy\": \"2024-10-27T08:34:56.686517Z\",","     \"iopub.status.idle\": \"2024-10-27T08:34:56.693444Z\",","     \"shell.execute_reply\": \"2024-10-27T08:34:56.692553Z\",","     \"shell.execute_reply.started\": \"2024-10-27T08:34:56.687276Z\"","    }","   },","   \"outputs\": [],","   \"source\": [","    \"def resnet18_cbam(pretrained=True, **kwargs):\\n\",","    \"    \\\"\\\"\\\"Constructs a ResNet-18 model.\\n\",","    \"\\n\",","    \"    Args:\\n\",","    \"        pretrained (bool): If True, returns a model pre-trained on ImageNet\\n\",","    \"    \\\"\\\"\\\"\\n\",","    \"    num_heads = 1\\n\",","    \"    model = ResNet(BasicBlock, [2, 2, 2, 2], num_heads)\\n\",","    \"#     if pretrained:\\n\",","    \"#         pretrained_state_dict = model_zoo.load_url(model_urls['resnet18'])\\n\",","    \"#         now_state_dict        = model.state_dict()\\n\",","    \"#         now_state_dict.update(pretrained_state_dict)\\n\",","    \"#         model.load_state_dict(now_state_dict, strict=False)\\n\",","    \"    \\n\",","    \"    if pretrained:\\n\",","    \"        checkpoint = torch.load(r\\\"/kaggle/input/qdawsfegdrhfjghk/aug_epoch_12_acc_82.20_newmodel.pth\\\")\\n\",","    \"        model.load_state_dict(checkpoint['model_state_dict'],strict=False)\\n\",","    \"\\n\",","    \"    \\n\",","    \"    return model\"","   ]","  },","  {","   \"cell_type\": \"code\",","   \"execution_count\": 289,","   \"id\": \"6ecdcac2\",","   \"metadata\": {","    \"execution\": {","     \"iopub.execute_input\": \"2024-10-27T08:34:58.017229Z\",","     \"iopub.status.busy\": \"2024-10-27T08:34:58.016577Z\",","     \"iopub.status.idle\": \"2024-10-27T08:34:58.719346Z\",","     \"shell.execute_reply\": \"2024-10-27T08:34:58.718015Z\",","     \"shell.execute_reply.started\": \"2024-10-27T08:34:58.017190Z\"","    }","   },","   \"outputs\": [","    {","     \"name\": \"stderr\",","     \"output_type\": \"stream\",","     \"text\": [","      \"/tmp/ipykernel_30/3634161233.py:17: FutureWarning: You are using `torch.load` with `weights_only=False` (the current default value), which uses the default pickle module implicitly. It is possible to construct malicious pickle data which will execute arbitrary code during unpickling (See https://github.com/pytorch/pytorch/blob/main/SECURITY.md#untrusted-models for more details). In a future release, the default value for `weights_only` will be flipped to `True`. This limits the functions that could be executed during unpickling. Arbitrary objects will no longer be allowed to be loaded via this mode unless they are explicitly allowlisted by the user via `torch.serialization.add_safe_globals`. We recommend you start setting `weights_only=True` for any use case where you don't have full control of the loaded file. Please open an issue on GitHub for any issues related to this experimental feature.\\n\",","      \"  checkpoint = torch.load(r\\\"/kaggle/input/qdawsfegdrhfjghk/aug_epoch_12_acc_82.20_newmodel.pth\\\")\\n\"","     ]","    }","   ],","   \"source\": [","    \"model = resnet18_cbam()\"","   ]","  },","  {","   \"cell_type\": \"code\",","   \"execution_count\": 292,","   \"id\": \"e5efb0f7\",","   \"metadata\": {","    \"execution\": {","     \"iopub.execute_input\": \"2024-10-27T08:35:02.860040Z\",","     \"iopub.status.busy\": \"2024-10-27T08:35:02.859301Z\",","     \"iopub.status.idle\": \"2024-10-27T08:35:02.866377Z\",","     \"shell.execute_reply\": \"2024-10-27T08:35:02.865273Z\",","     \"shell.execute_reply.started\": \"2024-10-27T08:35:02.859998Z\"","    }","   },","   \"outputs\": [","    {","     \"data\": {","      \"text/plain\": [","       \"device(type='cuda')\"","      ]","     },","     \"execution_count\": 292,","     \"metadata\": {},","     \"output_type\": \"execute_result\"","    }","   ],","   \"source\": [","    \"device = torch.device('cuda' if torch.cuda.is_available() else 'cpu')\\n\",","    \"device\"","   ]","  },","  {","   \"cell_type\": \"code\",","   \"execution_count\": 293,","   \"id\": \"f8a0158b\",","   \"metadata\": {","    \"execution\": {","     \"iopub.execute_input\": \"2024-10-27T08:35:03.079002Z\",","     \"iopub.status.busy\": \"2024-10-27T08:35:03.078669Z\",","     \"iopub.status.idle\": \"2024-10-27T08:35:03.093381Z\",","     \"shell.execute_reply\": \"2024-10-27T08:35:03.091715Z\",","     \"shell.execute_reply.started\": \"2024-10-27T08:35:03.078969Z\"","    },","    \"scrolled\": true","   },","   \"outputs\": [],","   \"source\": [","    \"model = model.to(device)\"","   ]","  },","  {","   \"cell_type\": \"code\",","   \"execution_count\": 294,","   \"id\": \"64b143e8\",","   \"metadata\": {","    \"execution\": {","     \"iopub.execute_input\": \"2024-10-27T08:35:06.297608Z\",","     \"iopub.status.busy\": \"2024-10-27T08:35:06.297226Z\",","     \"iopub.status.idle\": \"2024-10-27T08:35:06.302558Z\",","     \"shell.execute_reply\": \"2024-10-27T08:35:06.301587Z\",","     \"shell.execute_reply.started\": \"2024-10-27T08:35:06.297570Z\"","    },","    \"id\": \"03cd3076-fd58-4de5-a993-fac853812bce\"","   },","   \"outputs\": [],","   \"source\": [","    \"transform = transforms.Compose([\\n\",","    \"    transforms.Resize((224, 224)),\\n\",","    \"    transforms.ToTensor(),\\n\",","    \"])\"","   ]","  },","  {","   \"cell_type\": \"code\",","   \"execution_count\": 295,","   \"id\": \"6ccab0f6\",","   \"metadata\": {","    \"execution\": {","     \"iopub.execute_input\": \"2024-10-27T08:35:06.687934Z\",","     \"iopub.status.busy\": \"2024-10-27T08:35:06.687232Z\",","     \"iopub.status.idle\": \"2024-10-27T08:35:06.693388Z\",","     \"shell.execute_reply\": \"2024-10-27T08:35:06.692358Z\",","     \"shell.execute_reply.started\": \"2024-10-27T08:35:06.687894Z\"","    }","   },","   \"outputs\": [],","   \"source\": [","    \"aug_transform = transforms.Compose([\\n\",","    \"    transforms.Resize((224, 224)),  # Resize the image to 224x224\\n\",","    \"    transforms.RandomHorizontalFlip(),  # Randomly flip the image horizontally\\n\",","    \"    transforms.RandomRotation(10),  # Randomly rotate the image by up to 5 degrees\\n\",","    \"    transforms.ColorJitter(brightness=0.2, contrast=0.2, saturation=0.2, hue=0.1),  # Slightly change brightness and contrast\\n\",","    \"    transforms.ToTensor(),  # Convert the image to a PyTorch tensor\\n\",","    \"])\"","   ]","  },","  {","   \"cell_type\": \"markdown\",","   \"id\": \"0c86a09c\",","   \"metadata\": {","    \"id\": \"a2eb0ecd-292c-41ab-b5ee-d250558f39d9\"","   },","   \"source\": [","    \"# Class Labels are 0-Indexed CAREFULL\"","   ]","  },","  {","   \"cell_type\": \"code\",","   \"execution_count\": 150,","   \"id\": \"c08cc324\",","   \"metadata\": {","    \"execution\": {","     \"iopub.execute_input\": \"2024-10-27T05:51:13.052087Z\",","     \"iopub.status.busy\": \"2024-10-27T05:51:13.051799Z\",","     \"iopub.status.idle\": \"2024-10-27T05:51:13.060228Z\",","     \"shell.execute_reply\": \"2024-10-27T05:51:13.059406Z\",","     \"shell.execute_reply.started\": \"2024-10-27T05:51:13.052055Z\"","    },","    \"id\": \"b7badb95-b47f-42ab-85dc-d1e02aa63d0b\"","   },","   \"outputs\": [],","   \"source\": [","    \"class CustomImageDataset(Dataset):\\n\",","    \"    def __init__(self, image_dir, csv_file, transform=None):\\n\",","    \"        self.image_dir = image_dir\\n\",","    \"        self.transform = transform\\n\",","    \"\\n\",","    \"        self.data_frame = pd.read_csv(csv_file)\\n\",","    \"\\n\",","    \"        assert 'image' in self.data_frame.columns\\n\",","    \"        assert 'label' in self.data_frame.columns\\n\",","    \"\\n\",","    \"    def __len__(self):\\n\",","    \"        return len(self.data_frame)\\n\",","    \"\\n\",","    \"    def __getitem__(self, idx):\\n\",","    \"        img_name = self.data_frame.iloc[idx, 0]  \\n\",","    \"        class_label = self.data_frame.iloc[idx, 1] - 1  \\n\",","    \"\\n\",","    \"        class_folder = os.path.join(self.image_dir, str(class_label+1))  \\n\",","    \"        img_path = os.path.join(class_folder, img_name)\\n\",","    \"\\n\",","    \"        image = Image.open(img_path).convert('RGB')\\n\",","    \"\\n\",","    \"        if self.transform:\\n\",","    \"            image = self.transform(image)\\n\",","    \"\\n\",","    \"        return image, class_label\"","   ]","  },","  {","   \"cell_type\": \"code\",","   \"execution_count\": 151,","   \"id\": \"96b29e69\",","   \"metadata\": {","    \"execution\": {","     \"iopub.execute_input\": \"2024-10-27T05:51:13.839968Z\",","     \"iopub.status.busy\": \"2024-10-27T05:51:13.839215Z\",","     \"iopub.status.idle\": \"2024-10-27T05:51:13.844305Z\",","     \"shell.execute_reply\": \"2024-10-27T05:51:13.843304Z\",","     \"shell.execute_reply.started\": \"2024-10-27T05:51:13.839928Z\"","    },","    \"id\": \"aa27ec16-927e-4e09-b749-8a6d18011972\"","   },","   \"outputs\": [],","   \"source\": [","    \"image_directory = r\\\"/kaggle/input/raf-db-dataset/DATASET/train\\\"  \\n\",","    \"csv_file_path = r\\\"/kaggle/input/raf-db-dataset/train_labels.csv\\\"\"","   ]","  },","  {","   \"cell_type\": \"code\",","   \"execution_count\": 152,","   \"id\": \"913926b7\",","   \"metadata\": {","    \"execution\": {","     \"iopub.execute_input\": \"2024-10-27T05:51:14.083946Z\",","     \"iopub.status.busy\": \"2024-10-27T05:51:14.083624Z\",","     \"iopub.status.idle\": \"2024-10-27T05:51:14.107421Z\",","     \"shell.execute_reply\": \"2024-10-27T05:51:14.106413Z\",","     \"shell.execute_reply.started\": \"2024-10-27T05:51:14.083913Z\"","    },","    \"id\": \"a4ebf758-cb70-4921-aac6-3fc093533fc4\"","   },","   \"outputs\": [],","   \"source\": [","    \"train_dataset = CustomImageDataset(image_dir=image_directory, csv_file=csv_file_path, transform=transform)\"","   ]","  },","  {","   \"cell_type\": \"code\",","   \"execution_count\": 153,","   \"id\": \"a968594f\",","   \"metadata\": {","    \"execution\": {","     \"iopub.execute_input\": \"2024-10-27T05:51:14.311729Z\",","     \"iopub.status.busy\": \"2024-10-27T05:51:14.311402Z\",","     \"iopub.status.idle\": \"2024-10-27T05:51:14.327427Z\",","     \"shell.execute_reply\": \"2024-10-27T05:51:14.326669Z\",","     \"shell.execute_reply.started\": \"2024-10-27T05:51:14.311694Z\"","    }","   },","   \"outputs\": [],","   \"source\": [","    \"aug_train_dataset = CustomImageDataset(image_directory, csv_file_path, aug_transform)\"","   ]","  },","  {","   \"cell_type\": \"code\",","   \"execution_count\": 154,","   \"id\": \"824f4f5d\",","   \"metadata\": {","    \"execution\": {","     \"iopub.execute_input\": \"2024-10-27T05:51:14.537851Z\",","     \"iopub.status.busy\": \"2024-10-27T05:51:14.537532Z\",","     \"iopub.status.idle\": \"2024-10-27T05:51:14.543088Z\",","     \"shell.execute_reply\": \"2024-10-27T05:51:14.542215Z\",","     \"shell.execute_reply.started\": \"2024-10-27T05:51:14.537818Z\"","    }","   },","   \"outputs\": [],","   \"source\": [","    \"train_loader = DataLoader(train_dataset, batch_size=32, num_workers=4, pin_memory=True, shuffle=True)\"","   ]","  },","  {","   \"cell_type\": \"code\",","   \"execution_count\": 155,","   \"id\": \"035eb1d2\",","   \"metadata\": {","    \"execution\": {","     \"iopub.execute_input\": \"2024-10-27T05:51:15.360306Z\",","     \"iopub.status.busy\": \"2024-10-27T05:51:15.359963Z\",","     \"iopub.status.idle\": \"2024-10-27T05:51:15.364743Z\",","     \"shell.execute_reply\": \"2024-10-27T05:51:15.363880Z\",","     \"shell.execute_reply.started\": \"2024-10-27T05:51:15.360270Z\"","    }","   },","   \"outputs\": [],","   \"source\": [","    \"aug_train_loader = DataLoader(aug_train_dataset, batch_size=32, num_workers=4, pin_memory=True, shuffle=True)\"","   ]","  },","  {","   \"cell_type\": \"code\",","   \"execution_count\": 156,","   \"id\": \"7fbcf0c4\",","   \"metadata\": {","    \"execution\": {","     \"iopub.execute_input\": \"2024-10-27T05:51:15.596907Z\",","     \"iopub.status.busy\": \"2024-10-27T05:51:15.596586Z\",","     \"iopub.status.idle\": \"2024-10-27T05:51:15.617450Z\",","     \"shell.execute_reply\": \"2024-10-27T05:51:15.616523Z\",","     \"shell.execute_reply.started\": \"2024-10-27T05:51:15.596873Z\"","    },","    \"id\": \"f74qGWRn4mYD\"","   },","   \"outputs\": [],","   \"source\": [","    \"torch.cuda.empty_cache()\"","   ]","  },","  {","   \"cell_type\": \"code\",","   \"execution_count\": 158,","   \"id\": \"aafce9d5\",","   \"metadata\": {","    \"execution\": {","     \"iopub.execute_input\": \"2024-10-27T05:51:16.023477Z\",","     \"iopub.status.busy\": \"2024-10-27T05:51:16.023182Z\",","     \"iopub.status.idle\": \"2024-10-27T05:51:16.028979Z\",","     \"shell.execute_reply\": \"2024-10-27T05:51:16.028012Z\",","     \"shell.execute_reply.started\": \"2024-10-27T05:51:16.023441Z\"","    },","    \"id\": \"e6c77aa4-7e13-483f-938a-64df57fea96f\"","   },","   \"outputs\": [],","   \"source\": [","    \"criterion = nn.CrossEntropyLoss()\\n\",","    \"optimizer = optim.AdamW(model.parameters(), lr=0.001, weight_decay=0.01)\"","   ]","  },","  {","   \"cell_type\": \"code\",","   \"execution_count\": 159,","   \"id\": \"17ac4e6c\",","   \"metadata\": {","    \"execution\": {","     \"iopub.execute_input\": \"2024-10-27T05:51:16.240805Z\",","     \"iopub.status.busy\": \"2024-10-27T05:51:16.240241Z\",","     \"iopub.status.idle\": \"2024-10-27T05:51:16.244986Z\",","     \"shell.execute_reply\": \"2024-10-27T05:51:16.244184Z\",","     \"shell.execute_reply.started\": \"2024-10-27T05:51:16.240758Z\"","    },","    \"id\": \"6BiC9Ry0nqd-\"","   },","   \"outputs\": [],","   \"source\": [","    \"os.makedirs('models', exist_ok=True)\"","   ]","  },","  {","   \"cell_type\": \"code\",","   \"execution_count\": 160,","   \"id\": \"bdbab063\",","   \"metadata\": {","    \"colab\": {","     \"base_uri\": \"https://localhost:8080/\",","     \"height\": 55","    },","    \"execution\": {","     \"iopub.execute_input\": \"2024-10-27T05:51:16.469988Z\",","     \"iopub.status.busy\": \"2024-10-27T05:51:16.469275Z\",","     \"iopub.status.idle\": \"2024-10-27T05:51:16.479674Z\",","     \"shell.execute_reply\": \"2024-10-27T05:51:16.478510Z\",","     \"shell.execute_reply.started\": \"2024-10-27T05:51:16.469935Z\"","    },","    \"id\": \"TOE5GMazqsMl\",","    \"outputId\": \"c30bc8a6-b2f4-42ae-9b4c-73bda762e30a\"","   },","   \"outputs\": [","    {","     \"data\": {","      \"text/plain\": [","       \"'/kaggle/working'\"","      ]","     },","     \"execution_count\": 160,","     \"metadata\": {},","     \"output_type\": \"execute_result\"","    }","   ],","   \"source\": [","    \"os.getcwd()\"","   ]","  },","  {","   \"cell_type\": \"code\",","   \"execution_count\": 161,","   \"id\": \"2d59d8b4\",","   \"metadata\": {","    \"execution\": {","     \"iopub.execute_input\": \"2024-10-27T05:51:16.681009Z\",","     \"iopub.status.busy\": \"2024-10-27T05:51:16.680632Z\",","     \"iopub.status.idle\": \"2024-10-27T05:51:16.686669Z\",","     \"shell.execute_reply\": \"2024-10-27T05:51:16.685939Z\",","     \"shell.execute_reply.started\": \"2024-10-27T05:51:16.680973Z\"","    }","   },","   \"outputs\": [],","   \"source\": [","    \"test_image_directory = r\\\"/kaggle/input/raf-db-dataset/DATASET/test\\\"\\n\",","    \"test_csv_file_path = r\\\"/kaggle/input/raf-db-dataset/test_labels.csv\\\"\"","   ]","  },","  {","   \"cell_type\": \"code\",","   \"execution_count\": 162,","   \"id\": \"59163cc5\",","   \"metadata\": {","    \"execution\": {","     \"iopub.execute_input\": \"2024-10-27T05:51:17.547383Z\",","     \"iopub.status.busy\": \"2024-10-27T05:51:17.546676Z\",","     \"iopub.status.idle\": \"2024-10-27T05:51:17.557433Z\",","     \"shell.execute_reply\": \"2024-10-27T05:51:17.556322Z\",","     \"shell.execute_reply.started\": \"2024-10-27T05:51:17.547343Z\"","    }","   },","   \"outputs\": [],","   \"source\": [","    \"test_dataset = CustomImageDataset(test_image_directory, test_csv_file_path, transform)\"","   ]","  },","  {","   \"cell_type\": \"code\",","   \"execution_count\": 163,","   \"id\": \"c865f0d6\",","   \"metadata\": {","    \"execution\": {","     \"iopub.execute_input\": \"2024-10-27T05:51:17.808044Z\",","     \"iopub.status.busy\": \"2024-10-27T05:51:17.807698Z\",","     \"iopub.status.idle\": \"2024-10-27T05:51:17.812527Z\",","     \"shell.execute_reply\": \"2024-10-27T05:51:17.811666Z\",","     \"shell.execute_reply.started\": \"2024-10-27T05:51:17.808011Z\"","    }","   },","   \"outputs\": [],","   \"source\": [","    \"test_loader = DataLoader(test_dataset, batch_size=32, num_workers=4, pin_memory=True, shuffle=True)\"","   ]","  },","  {","   \"cell_type\": \"code\",","   \"execution_count\": 164,","   \"id\": \"815efa56\",","   \"metadata\": {","    \"execution\": {","     \"iopub.execute_input\": \"2024-10-27T05:51:18.541843Z\",","     \"iopub.status.busy\": \"2024-10-27T05:51:18.541430Z\",","     \"iopub.status.idle\": \"2024-10-27T05:51:18.553907Z\",","     \"shell.execute_reply\": \"2024-10-27T05:51:18.552969Z\",","     \"shell.execute_reply.started\": \"2024-10-27T05:51:18.541803Z\"","    },","    \"id\": \"29a08383-0aa7-4122-86ae-3bcf8da03420\"","   },","   \"outputs\": [],","   \"source\": [","    \"def train(model, train_loader, test_loader, criterion, optimizer, device, num_epochs=20):\\n\",","    \"    best_accuracy = 75\\n\",","    \"    model.train()\\n\",","    \"    for epoch in range(1, num_epochs+1):\\n\",","    \"        running_loss = 0.0\\n\",","    \"\\n\",","    \"        for images, labels in tqdm(train_loader):\\n\",","    \"            images, labels = images.to(device), labels.to(device)\\n\",","    \"\\n\",","    \"            optimizer.zero_grad()\\n\",","    \"\\n\",","    \"            outputs=model(images)\\n\",","    \"            loss = criterion(outputs,labels)\\n\",","    \"\\n\",","    \"            loss.backward()\\n\",","    \"            optimizer.step()\\n\",","    \"\\n\",","    \"            running_loss += loss.item()\\n\",","    \"        epoch_loss = running_loss / len(train_loader)\\n\",","    \"        print(f'Epoch [{epoch}/{num_epochs}], Loss: {epoch_loss:.4f}')\\n\",","    \"        if epoch \u003e 1 :\\n\",","    \"            model.eval()\\n\",","    \"            correct = 0\\n\",","    \"            total = 0\\n\",","    \"            with torch.no_grad():\\n\",","    \"                for images, labels in tqdm(test_loader):\\n\",","    \"                    images = images.to(device)\\n\",","    \"                    labels = labels.to(device)\\n\",","    \"                    \\n\",","    \"                    logits = model(images)\\n\",","    \"                    \\n\",","    \"                    _, predicted = torch.max(logits, 1)\\n\",","    \"                    total += labels.size(0)  \\n\",","    \"                    correct += (predicted == labels).sum().item()\\n\",","    \"            accuracy = 100*(correct/total)\\n\",","    \"            print(f\\\"test_Acc : {accuracy}\\\")\\n\",","    \"                \\n\",","    \"            if accuracy \u003e best_accuracy or epoch%20==0:\\n\",","    \"                best_accuracy = accuracy\\n\",","    \"                torch.save({'iter': epoch,\\n\",","    \"                        'model_state_dict': model.state_dict(),\\n\",","    \"                        'optimizer_state_dict': optimizer.state_dict(),},\\n\",","    \"                        os.path.join('models', f\\\"aug_epoch_{epoch}_acc_{accuracy:.2f}_newmodel.pth\\\"))\\n\",","    \"                print('Model saved.')\\n\",","    \"            model.train()\"","   ]","  },","  {","   \"cell_type\": \"code\",","   \"execution_count\": 95,","   \"id\": \"31ed7bab\",","   \"metadata\": {","    \"colab\": {","     \"base_uri\": \"https://localhost:8080/\"","    },","    \"execution\": {","     \"iopub.execute_input\": \"2024-10-27T05:02:29.106272Z\",","     \"iopub.status.busy\": \"2024-10-27T05:02:29.105879Z\",","     \"iopub.status.idle\": \"2024-10-27T05:16:14.963501Z\",","     \"shell.execute_reply\": \"2024-10-27T05:16:14.962452Z\",","     \"shell.execute_reply.started\": \"2024-10-27T05:02:29.106232Z\"","    },","    \"id\": \"58970af0-2447-4401-aeee-de55d874ca94\",","    \"outputId\": \"b138da59-58d3-410c-a550-7dfb98216bd1\"","   },","   \"outputs\": [","    {","     \"name\": \"stderr\",","     \"output_type\": \"stream\",","     \"text\": [","      \"100%|██████████| 384/384 [00:37\u003c00:00, 10.14it/s]\\n\"","     ]","    },","    {","     \"name\": \"stdout\",","     \"output_type\": \"stream\",","     \"text\": [","      \"Epoch [1/20], Loss: 1.3731\\n\"","     ]","    },","    {","     \"name\": \"stderr\",","     \"output_type\": \"stream\",","     \"text\": [","      \"100%|██████████| 384/384 [00:37\u003c00:00, 10.31it/s]\\n\"","     ]","    },","    {","     \"name\": \"stdout\",","     \"output_type\": \"stream\",","     \"text\": [","      \"Epoch [2/20], Loss: 0.9905\\n\"","     ]","    },","    {","     \"name\": \"stderr\",","     \"output_type\": \"stream\",","     \"text\": [","      \"100%|██████████| 96/96 [00:05\u003c00:00, 18.99it/s]\\n\"","     ]","    },","    {","     \"name\": \"stdout\",","     \"output_type\": \"stream\",","     \"text\": [","      \"test_Acc : 68.48109517601043\\n\"","     ]","    },","    {","     \"name\": \"stderr\",","     \"output_type\": \"stream\",","     \"text\": [","      \"100%|██████████| 384/384 [00:37\u003c00:00, 10.29it/s]\\n\"","     ]","    },","    {","     \"name\": \"stdout\",","     \"output_type\": \"stream\",","     \"text\": [","      \"Epoch [3/20], Loss: 0.7745\\n\"","     ]","    },","    {","     \"name\": \"stderr\",","     \"output_type\": \"stream\",","     \"text\": [","      \"100%|██████████| 96/96 [00:04\u003c00:00, 23.95it/s]\\n\"","     ]","    },","    {","     \"name\": \"stdout\",","     \"output_type\": \"stream\",","     \"text\": [","      \"test_Acc : 70.73011734028684\\n\",","      \"Model saved.\\n\"","     ]","    },","    {","     \"name\": \"stderr\",","     \"output_type\": \"stream\",","     \"text\": [","      \"100%|██████████| 384/384 [00:37\u003c00:00, 10.28it/s]\\n\"","     ]","    },","    {","     \"name\": \"stdout\",","     \"output_type\": \"stream\",","     \"text\": [","      \"Epoch [4/20], Loss: 0.6318\\n\"","     ]","    },","    {","     \"name\": \"stderr\",","     \"output_type\": \"stream\",","     \"text\": [","      \"100%|██████████| 96/96 [00:03\u003c00:00, 24.03it/s]\\n\"","     ]","    },","    {","     \"name\": \"stdout\",","     \"output_type\": \"stream\",","     \"text\": [","      \"test_Acc : 73.82659713168188\\n\",","      \"Model saved.\\n\"","     ]","    },","    {","     \"name\": \"stderr\",","     \"output_type\": \"stream\",","     \"text\": [","      \"100%|██████████| 384/384 [00:37\u003c00:00, 10.29it/s]\\n\"","     ]","    },","    {","     \"name\": \"stdout\",","     \"output_type\": \"stream\",","     \"text\": [","      \"Epoch [5/20], Loss: 0.5022\\n\"","     ]","    },","    {","     \"name\": \"stderr\",","     \"output_type\": \"stream\",","     \"text\": [","      \"100%|██████████| 96/96 [00:03\u003c00:00, 24.45it/s]\\n\"","     ]","    },","    {","     \"name\": \"stdout\",","     \"output_type\": \"stream\",","     \"text\": [","      \"test_Acc : 75.91264667535854\\n\",","      \"Model saved.\\n\"","     ]","    },","    {","     \"name\": \"stderr\",","     \"output_type\": \"stream\",","     \"text\": [","      \"100%|██████████| 384/384 [00:37\u003c00:00, 10.29it/s]\\n\"","     ]","    },","    {","     \"name\": \"stdout\",","     \"output_type\": \"stream\",","     \"text\": [","      \"Epoch [6/20], Loss: 0.3788\\n\"","     ]","    },","    {","     \"name\": \"stderr\",","     \"output_type\": \"stream\",","     \"text\": [","      \"100%|██████████| 96/96 [00:03\u003c00:00, 24.32it/s]\\n\"","     ]","    },","    {","     \"name\": \"stdout\",","     \"output_type\": \"stream\",","     \"text\": [","      \"test_Acc : 76.17340286831812\\n\",","      \"Model saved.\\n\"","     ]","    },","    {","     \"name\": \"stderr\",","     \"output_type\": \"stream\",","     \"text\": [","      \"100%|██████████| 384/384 [00:37\u003c00:00, 10.29it/s]\\n\"","     ]","    },","    {","     \"name\": \"stdout\",","     \"output_type\": \"stream\",","     \"text\": [","      \"Epoch [7/20], Loss: 0.2866\\n\"","     ]","    },","    {","     \"name\": \"stderr\",","     \"output_type\": \"stream\",","     \"text\": [","      \"100%|██████████| 96/96 [00:04\u003c00:00, 23.42it/s]\\n\"","     ]","    },","    {","     \"name\": \"stdout\",","     \"output_type\": \"stream\",","     \"text\": [","      \"test_Acc : 76.49934810951761\\n\",","      \"Model saved.\\n\"","     ]","    },","    {","     \"name\": \"stderr\",","     \"output_type\": \"stream\",","     \"text\": [","      \"100%|██████████| 384/384 [00:37\u003c00:00, 10.28it/s]\\n\"","     ]","    },","    {","     \"name\": \"stdout\",","     \"output_type\": \"stream\",","     \"text\": [","      \"Epoch [8/20], Loss: 0.2066\\n\"","     ]","    },","    {","     \"name\": \"stderr\",","     \"output_type\": \"stream\",","     \"text\": [","      \"100%|██████████| 96/96 [00:03\u003c00:00, 24.18it/s]\\n\"","     ]","    },","    {","     \"name\": \"stdout\",","     \"output_type\": \"stream\",","     \"text\": [","      \"test_Acc : 76.76010430247719\\n\",","      \"Model saved.\\n\"","     ]","    },","    {","     \"name\": \"stderr\",","     \"output_type\": \"stream\",","     \"text\": [","      \"100%|██████████| 384/384 [00:37\u003c00:00, 10.29it/s]\\n\"","     ]","    },","    {","     \"name\": \"stdout\",","     \"output_type\": \"stream\",","     \"text\": [","      \"Epoch [9/20], Loss: 0.1458\\n\"","     ]","    },","    {","     \"name\": \"stderr\",","     \"output_type\": \"stream\",","     \"text\": [","      \"100%|██████████| 96/96 [00:04\u003c00:00, 23.49it/s]\\n\"","     ]","    },","    {","     \"name\": \"stdout\",","     \"output_type\": \"stream\",","     \"text\": [","      \"test_Acc : 75.19556714471969\\n\"","     ]","    },","    {","     \"name\": \"stderr\",","     \"output_type\": \"stream\",","     \"text\": [","      \"100%|██████████| 384/384 [00:37\u003c00:00, 10.27it/s]\\n\"","     ]","    },","    {","     \"name\": \"stdout\",","     \"output_type\": \"stream\",","     \"text\": [","      \"Epoch [10/20], Loss: 0.1244\\n\"","     ]","    },","    {","     \"name\": \"stderr\",","     \"output_type\": \"stream\",","     \"text\": [","      \"100%|██████████| 96/96 [00:04\u003c00:00, 23.39it/s]\\n\"","     ]","    },","    {","     \"name\": \"stdout\",","     \"output_type\": \"stream\",","     \"text\": [","      \"test_Acc : 75.13037809647979\\n\"","     ]","    },","    {","     \"name\": \"stderr\",","     \"output_type\": \"stream\",","     \"text\": [","      \"100%|██████████| 384/384 [00:37\u003c00:00, 10.27it/s]\\n\"","     ]","    },","    {","     \"name\": \"stdout\",","     \"output_type\": \"stream\",","     \"text\": [","      \"Epoch [11/20], Loss: 0.0999\\n\"","     ]","    },","    {","     \"name\": \"stderr\",","     \"output_type\": \"stream\",","     \"text\": [","      \"100%|██████████| 96/96 [00:03\u003c00:00, 24.35it/s]\\n\"","     ]","    },","    {","     \"name\": \"stdout\",","     \"output_type\": \"stream\",","     \"text\": [","      \"test_Acc : 76.53194263363756\\n\"","     ]","    },","    {","     \"name\": \"stderr\",","     \"output_type\": \"stream\",","     \"text\": [","      \"100%|██████████| 384/384 [00:37\u003c00:00, 10.29it/s]\\n\"","     ]","    },","    {","     \"name\": \"stdout\",","     \"output_type\": \"stream\",","     \"text\": [","      \"Epoch [12/20], Loss: 0.0575\\n\"","     ]","    },","    {","     \"name\": \"stderr\",","     \"output_type\": \"stream\",","     \"text\": [","      \"100%|██████████| 96/96 [00:04\u003c00:00, 22.59it/s]\\n\"","     ]","    },","    {","     \"name\": \"stdout\",","     \"output_type\": \"stream\",","     \"text\": [","      \"test_Acc : 76.36897001303781\\n\"","     ]","    },","    {","     \"name\": \"stderr\",","     \"output_type\": \"stream\",","     \"text\": [","      \"100%|██████████| 384/384 [00:37\u003c00:00, 10.28it/s]\\n\"","     ]","    },","    {","     \"name\": \"stdout\",","     \"output_type\": \"stream\",","     \"text\": [","      \"Epoch [13/20], Loss: 0.0656\\n\"","     ]","    },","    {","     \"name\": \"stderr\",","     \"output_type\": \"stream\",","     \"text\": [","      \"100%|██████████| 96/96 [00:03\u003c00:00, 24.31it/s]\\n\"","     ]","    },","    {","     \"name\": \"stdout\",","     \"output_type\": \"stream\",","     \"text\": [","      \"test_Acc : 77.15123859191657\\n\",","      \"Model saved.\\n\"","     ]","    },","    {","     \"name\": \"stderr\",","     \"output_type\": \"stream\",","     \"text\": [","      \"100%|██████████| 384/384 [00:37\u003c00:00, 10.29it/s]\\n\"","     ]","    },","    {","     \"name\": \"stdout\",","     \"output_type\": \"stream\",","     \"text\": [","      \"Epoch [14/20], Loss: 0.0921\\n\"","     ]","    },","    {","     \"name\": \"stderr\",","     \"output_type\": \"stream\",","     \"text\": [","      \"100%|██████████| 96/96 [00:03\u003c00:00, 24.05it/s]\\n\"","     ]","    },","    {","     \"name\": \"stdout\",","     \"output_type\": \"stream\",","     \"text\": [","      \"test_Acc : 77.73794002607562\\n\",","      \"Model saved.\\n\"","     ]","    },","    {","     \"name\": \"stderr\",","     \"output_type\": \"stream\",","     \"text\": [","      \"100%|██████████| 384/384 [00:37\u003c00:00, 10.27it/s]\\n\"","     ]","    },","    {","     \"name\": \"stdout\",","     \"output_type\": \"stream\",","     \"text\": [","      \"Epoch [15/20], Loss: 0.0495\\n\"","     ]","    },","    {","     \"name\": \"stderr\",","     \"output_type\": \"stream\",","     \"text\": [","      \"100%|██████████| 96/96 [00:03\u003c00:00, 24.33it/s]\\n\"","     ]","    },","    {","     \"name\": \"stdout\",","     \"output_type\": \"stream\",","     \"text\": [","      \"test_Acc : 78.16166883963494\\n\",","      \"Model saved.\\n\"","     ]","    },","    {","     \"name\": \"stderr\",","     \"output_type\": \"stream\",","     \"text\": [","      \"100%|██████████| 384/384 [00:37\u003c00:00, 10.29it/s]\\n\"","     ]","    },","    {","     \"name\": \"stdout\",","     \"output_type\": \"stream\",","     \"text\": [","      \"Epoch [16/20], Loss: 0.0695\\n\"","     ]","    },","    {","     \"name\": \"stderr\",","     \"output_type\": \"stream\",","     \"text\": [","      \"100%|██████████| 96/96 [00:04\u003c00:00, 23.93it/s]\\n\"","     ]","    },","    {","     \"name\": \"stdout\",","     \"output_type\": \"stream\",","     \"text\": [","      \"test_Acc : 75.65189048239895\\n\"","     ]","    },","    {","     \"name\": \"stderr\",","     \"output_type\": \"stream\",","     \"text\": [","      \"100%|██████████| 384/384 [00:37\u003c00:00, 10.30it/s]\\n\"","     ]","    },","    {","     \"name\": \"stdout\",","     \"output_type\": \"stream\",","     \"text\": [","      \"Epoch [17/20], Loss: 0.0451\\n\"","     ]","    },","    {","     \"name\": \"stderr\",","     \"output_type\": \"stream\",","     \"text\": [","      \"100%|██████████| 96/96 [00:04\u003c00:00, 23.85it/s]\\n\"","     ]","    },","    {","     \"name\": \"stdout\",","     \"output_type\": \"stream\",","     \"text\": [","      \"test_Acc : 77.11864406779661\\n\"","     ]","    },","    {","     \"name\": \"stderr\",","     \"output_type\": \"stream\",","     \"text\": [","      \"100%|██████████| 384/384 [00:37\u003c00:00, 10.30it/s]\\n\"","     ]","    },","    {","     \"name\": \"stdout\",","     \"output_type\": \"stream\",","     \"text\": [","      \"Epoch [18/20], Loss: 0.0422\\n\"","     ]","    },","    {","     \"name\": \"stderr\",","     \"output_type\": \"stream\",","     \"text\": [","      \"100%|██████████| 96/96 [00:04\u003c00:00, 23.79it/s]\\n\"","     ]","    },","    {","     \"name\": \"stdout\",","     \"output_type\": \"stream\",","     \"text\": [","      \"test_Acc : 75.78226857887876\\n\"","     ]","    },","    {","     \"name\": \"stderr\",","     \"output_type\": \"stream\",","     \"text\": [","      \"100%|██████████| 384/384 [00:37\u003c00:00, 10.29it/s]\\n\"","     ]","    },","    {","     \"name\": \"stdout\",","     \"output_type\": \"stream\",","     \"text\": [","      \"Epoch [19/20], Loss: 0.0545\\n\"","     ]","    },","    {","     \"name\": \"stderr\",","     \"output_type\": \"stream\",","     \"text\": [","      \"100%|██████████| 96/96 [00:04\u003c00:00, 22.00it/s]\\n\"","     ]","    },","    {","     \"name\": \"stdout\",","     \"output_type\": \"stream\",","     \"text\": [","      \"test_Acc : 76.95567144719688\\n\"","     ]","    },","    {","     \"name\": \"stderr\",","     \"output_type\": \"stream\",","     \"text\": [","      \"100%|██████████| 384/384 [00:37\u003c00:00, 10.30it/s]\\n\"","     ]","    },","    {","     \"name\": \"stdout\",","     \"output_type\": \"stream\",","     \"text\": [","      \"Epoch [20/20], Loss: 0.0529\\n\"","     ]","    },","    {","     \"name\": \"stderr\",","     \"output_type\": \"stream\",","     \"text\": [","      \"100%|██████████| 96/96 [00:04\u003c00:00, 23.82it/s]\"","     ]","    },","    {","     \"name\": \"stdout\",","     \"output_type\": \"stream\",","     \"text\": [","      \"test_Acc : 77.54237288135593\\n\",","      \"Model saved.\\n\"","     ]","    },","    {","     \"name\": \"stderr\",","     \"output_type\": \"stream\",","     \"text\": [","      \"\\n\"","     ]","    }","   ],","   \"source\": [","    \"train(model, train_loader, test_loader, criterion, optimizer, device, num_epochs=20)\"","   ]","  },","  {","   \"cell_type\": \"code\",","   \"execution_count\": 165,","   \"id\": \"abc15593\",","   \"metadata\": {","    \"execution\": {","     \"iopub.execute_input\": \"2024-10-27T05:51:24.845573Z\",","     \"iopub.status.busy\": \"2024-10-27T05:51:24.845197Z\",","     \"iopub.status.idle\": \"2024-10-27T06:24:28.463593Z\",","     \"shell.execute_reply\": \"2024-10-27T06:24:28.462456Z\",","     \"shell.execute_reply.started\": \"2024-10-27T05:51:24.845535Z\"","    }","   },","   \"outputs\": [","    {","     \"name\": \"stderr\",","     \"output_type\": \"stream\",","     \"text\": [","      \"100%|██████████| 384/384 [00:47\u003c00:00,  8.11it/s]\\n\"","     ]","    },","    {","     \"name\": \"stdout\",","     \"output_type\": \"stream\",","     \"text\": [","      \"Epoch [1/40], Loss: 0.6193\\n\"","     ]","    },","    {","     \"name\": \"stderr\",","     \"output_type\": \"stream\",","     \"text\": [","      \"100%|██████████| 384/384 [00:45\u003c00:00,  8.42it/s]\\n\"","     ]","    },","    {","     \"name\": \"stdout\",","     \"output_type\": \"stream\",","     \"text\": [","      \"Epoch [2/40], Loss: 0.5053\\n\"","     ]","    },","    {","     \"name\": \"stderr\",","     \"output_type\": \"stream\",","     \"text\": [","      \"100%|██████████| 96/96 [00:04\u003c00:00, 19.97it/s]\\n\"","     ]","    },","    {","     \"name\": \"stdout\",","     \"output_type\": \"stream\",","     \"text\": [","      \"test_Acc : 79.5632333767927\\n\",","      \"Model saved.\\n\"","     ]","    },","    {","     \"name\": \"stderr\",","     \"output_type\": \"stream\",","     \"text\": [","      \"100%|██████████| 384/384 [00:45\u003c00:00,  8.44it/s]\\n\"","     ]","    },","    {","     \"name\": \"stdout\",","     \"output_type\": \"stream\",","     \"text\": [","      \"Epoch [3/40], Loss: 0.4596\\n\"","     ]","    },","    {","     \"name\": \"stderr\",","     \"output_type\": \"stream\",","     \"text\": [","      \"100%|██████████| 96/96 [00:04\u003c00:00, 22.85it/s]\\n\"","     ]","    },","    {","     \"name\": \"stdout\",","     \"output_type\": \"stream\",","     \"text\": [","      \"test_Acc : 80.24771838331161\\n\",","      \"Model saved.\\n\"","     ]","    },","    {","     \"name\": \"stderr\",","     \"output_type\": \"stream\",","     \"text\": [","      \"100%|██████████| 384/384 [00:45\u003c00:00,  8.45it/s]\\n\"","     ]","    },","    {","     \"name\": \"stdout\",","     \"output_type\": \"stream\",","     \"text\": [","      \"Epoch [4/40], Loss: 0.4096\\n\"","     ]","    },","    {","     \"name\": \"stderr\",","     \"output_type\": \"stream\",","     \"text\": [","      \"100%|██████████| 96/96 [00:03\u003c00:00, 24.39it/s]\\n\"","     ]","    },","    {","     \"name\": \"stdout\",","     \"output_type\": \"stream\",","     \"text\": [","      \"test_Acc : 79.85658409387223\\n\"","     ]","    },","    {","     \"name\": \"stderr\",","     \"output_type\": \"stream\",","     \"text\": [","      \"100%|██████████| 384/384 [00:45\u003c00:00,  8.46it/s]\\n\"","     ]","    },","    {","     \"name\": \"stdout\",","     \"output_type\": \"stream\",","     \"text\": [","      \"Epoch [5/40], Loss: 0.3955\\n\"","     ]","    },","    {","     \"name\": \"stderr\",","     \"output_type\": \"stream\",","     \"text\": [","      \"100%|██████████| 96/96 [00:04\u003c00:00, 22.03it/s]\\n\"","     ]","    },","    {","     \"name\": \"stdout\",","     \"output_type\": \"stream\",","     \"text\": [","      \"test_Acc : 79.40026075619296\\n\"","     ]","    },","    {","     \"name\": \"stderr\",","     \"output_type\": \"stream\",","     \"text\": [","      \"100%|██████████| 384/384 [00:45\u003c00:00,  8.44it/s]\\n\"","     ]","    },","    {","     \"name\": \"stdout\",","     \"output_type\": \"stream\",","     \"text\": [","      \"Epoch [6/40], Loss: 0.3616\\n\"","     ]","    },","    {","     \"name\": \"stderr\",","     \"output_type\": \"stream\",","     \"text\": [","      \"100%|██████████| 96/96 [00:03\u003c00:00, 24.13it/s]\\n\"","     ]","    },","    {","     \"name\": \"stdout\",","     \"output_type\": \"stream\",","     \"text\": [","      \"test_Acc : 78.0638852672751\\n\"","     ]","    },","    {","     \"name\": \"stderr\",","     \"output_type\": \"stream\",","     \"text\": [","      \"100%|██████████| 384/384 [00:45\u003c00:00,  8.36it/s]\\n\"","     ]","    },","    {","     \"name\": \"stdout\",","     \"output_type\": \"stream\",","     \"text\": [","      \"Epoch [7/40], Loss: 0.3418\\n\"","     ]","    },","    {","     \"name\": \"stderr\",","     \"output_type\": \"stream\",","     \"text\": [","      \"100%|██████████| 96/96 [00:04\u003c00:00, 23.87it/s]\\n\"","     ]","    },","    {","     \"name\": \"stdout\",","     \"output_type\": \"stream\",","     \"text\": [","      \"test_Acc : 79.23728813559322\\n\"","     ]","    },","    {","     \"name\": \"stderr\",","     \"output_type\": \"stream\",","     \"text\": [","      \"100%|██████████| 384/384 [00:45\u003c00:00,  8.45it/s]\\n\"","     ]","    },","    {","     \"name\": \"stdout\",","     \"output_type\": \"stream\",","     \"text\": [","      \"Epoch [8/40], Loss: 0.3234\\n\"","     ]","    },","    {","     \"name\": \"stderr\",","     \"output_type\": \"stream\",","     \"text\": [","      \"100%|██████████| 96/96 [00:03\u003c00:00, 24.29it/s]\\n\"","     ]","    },","    {","     \"name\": \"stdout\",","     \"output_type\": \"stream\",","     \"text\": [","      \"test_Acc : 79.13950456323337\\n\"","     ]","    },","    {","     \"name\": \"stderr\",","     \"output_type\": \"stream\",","     \"text\": [","      \"100%|██████████| 384/384 [00:46\u003c00:00,  8.34it/s]\\n\"","     ]","    },","    {","     \"name\": \"stdout\",","     \"output_type\": \"stream\",","     \"text\": [","      \"Epoch [9/40], Loss: 0.2921\\n\"","     ]","    },","    {","     \"name\": \"stderr\",","     \"output_type\": \"stream\",","     \"text\": [","      \"100%|██████████| 96/96 [00:03\u003c00:00, 24.45it/s]\\n\"","     ]","    },","    {","     \"name\": \"stdout\",","     \"output_type\": \"stream\",","     \"text\": [","      \"test_Acc : 80.50847457627118\\n\",","      \"Model saved.\\n\"","     ]","    },","    {","     \"name\": \"stderr\",","     \"output_type\": \"stream\",","     \"text\": [","      \"100%|██████████| 384/384 [00:45\u003c00:00,  8.46it/s]\\n\"","     ]","    },","    {","     \"name\": \"stdout\",","     \"output_type\": \"stream\",","     \"text\": [","      \"Epoch [10/40], Loss: 0.2692\\n\"","     ]","    },","    {","     \"name\": \"stderr\",","     \"output_type\": \"stream\",","     \"text\": [","      \"100%|██████████| 96/96 [00:03\u003c00:00, 24.08it/s]\\n\"","     ]","    },","    {","     \"name\": \"stdout\",","     \"output_type\": \"stream\",","     \"text\": [","      \"test_Acc : 79.79139504563233\\n\"","     ]","    },","    {","     \"name\": \"stderr\",","     \"output_type\": \"stream\",","     \"text\": [","      \"100%|██████████| 384/384 [00:46\u003c00:00,  8.32it/s]\\n\"","     ]","    },","    {","     \"name\": \"stdout\",","     \"output_type\": \"stream\",","     \"text\": [","      \"Epoch [11/40], Loss: 0.2696\\n\"","     ]","    },","    {","     \"name\": \"stderr\",","     \"output_type\": \"stream\",","     \"text\": [","      \"100%|██████████| 96/96 [00:03\u003c00:00, 24.29it/s]\\n\"","     ]","    },","    {","     \"name\": \"stdout\",","     \"output_type\": \"stream\",","     \"text\": [","      \"test_Acc : 79.82398956975229\\n\"","     ]","    },","    {","     \"name\": \"stderr\",","     \"output_type\": \"stream\",","     \"text\": [","      \"100%|██████████| 384/384 [00:45\u003c00:00,  8.45it/s]\\n\"","     ]","    },","    {","     \"name\": \"stdout\",","     \"output_type\": \"stream\",","     \"text\": [","      \"Epoch [12/40], Loss: 0.2412\\n\"","     ]","    },","    {","     \"name\": \"stderr\",","     \"output_type\": \"stream\",","     \"text\": [","      \"100%|██████████| 96/96 [00:04\u003c00:00, 23.98it/s]\\n\"","     ]","    },","    {","     \"name\": \"stdout\",","     \"output_type\": \"stream\",","     \"text\": [","      \"test_Acc : 82.20338983050848\\n\",","      \"Model saved.\\n\"","     ]","    },","    {","     \"name\": \"stderr\",","     \"output_type\": \"stream\",","     \"text\": [","      \"100%|██████████| 384/384 [00:45\u003c00:00,  8.37it/s]\\n\"","     ]","    },","    {","     \"name\": \"stdout\",","     \"output_type\": \"stream\",","     \"text\": [","      \"Epoch [13/40], Loss: 0.2327\\n\"","     ]","    },","    {","     \"name\": \"stderr\",","     \"output_type\": \"stream\",","     \"text\": [","      \"100%|██████████| 96/96 [00:03\u003c00:00, 24.04it/s]\\n\"","     ]","    },","    {","     \"name\": \"stdout\",","     \"output_type\": \"stream\",","     \"text\": [","      \"test_Acc : 79.4328552803129\\n\"","     ]","    },","    {","     \"name\": \"stderr\",","     \"output_type\": \"stream\",","     \"text\": [","      \"100%|██████████| 384/384 [00:45\u003c00:00,  8.47it/s]\\n\"","     ]","    },","    {","     \"name\": \"stdout\",","     \"output_type\": \"stream\",","     \"text\": [","      \"Epoch [14/40], Loss: 0.2184\\n\"","     ]","    },","    {","     \"name\": \"stderr\",","     \"output_type\": \"stream\",","     \"text\": [","      \"100%|██████████| 96/96 [00:04\u003c00:00, 23.98it/s]\\n\"","     ]","    },","    {","     \"name\": \"stdout\",","     \"output_type\": \"stream\",","     \"text\": [","      \"test_Acc : 81.16036505867015\\n\"","     ]","    },","    {","     \"name\": \"stderr\",","     \"output_type\": \"stream\",","     \"text\": [","      \"100%|██████████| 384/384 [00:46\u003c00:00,  8.31it/s]\\n\"","     ]","    },","    {","     \"name\": \"stdout\",","     \"output_type\": \"stream\",","     \"text\": [","      \"Epoch [15/40], Loss: 0.2104\\n\"","     ]","    },","    {","     \"name\": \"stderr\",","     \"output_type\": \"stream\",","     \"text\": [","      \"100%|██████████| 96/96 [00:03\u003c00:00, 24.28it/s]\\n\"","     ]","    },","    {","     \"name\": \"stdout\",","     \"output_type\": \"stream\",","     \"text\": [","      \"test_Acc : 81.25814863103\\n\"","     ]","    },","    {","     \"name\": \"stderr\",","     \"output_type\": \"stream\",","     \"text\": [","      \"100%|██████████| 384/384 [00:45\u003c00:00,  8.46it/s]\\n\"","     ]","    },","    {","     \"name\": \"stdout\",","     \"output_type\": \"stream\",","     \"text\": [","      \"Epoch [16/40], Loss: 0.1949\\n\"","     ]","    },","    {","     \"name\": \"stderr\",","     \"output_type\": \"stream\",","     \"text\": [","      \"100%|██████████| 96/96 [00:04\u003c00:00, 21.90it/s]\\n\"","     ]","    },","    {","     \"name\": \"stdout\",","     \"output_type\": \"stream\",","     \"text\": [","      \"test_Acc : 81.87744458930901\\n\"","     ]","    },","    {","     \"name\": \"stderr\",","     \"output_type\": \"stream\",","     \"text\": [","      \"100%|██████████| 384/384 [00:45\u003c00:00,  8.47it/s]\\n\"","     ]","    },","    {","     \"name\": \"stdout\",","     \"output_type\": \"stream\",","     \"text\": [","      \"Epoch [17/40], Loss: 0.1816\\n\"","     ]","    },","    {","     \"name\": \"stderr\",","     \"output_type\": \"stream\",","     \"text\": [","      \"100%|██████████| 96/96 [00:04\u003c00:00, 23.77it/s]\\n\"","     ]","    },","    {","     \"name\": \"stdout\",","     \"output_type\": \"stream\",","     \"text\": [","      \"test_Acc : 79.33507170795306\\n\"","     ]","    },","    {","     \"name\": \"stderr\",","     \"output_type\": \"stream\",","     \"text\": [","      \"100%|██████████| 384/384 [00:45\u003c00:00,  8.39it/s]\\n\"","     ]","    },","    {","     \"name\": \"stdout\",","     \"output_type\": \"stream\",","     \"text\": [","      \"Epoch [18/40], Loss: 0.1769\\n\"","     ]","    },","    {","     \"name\": \"stderr\",","     \"output_type\": \"stream\",","     \"text\": [","      \"100%|██████████| 96/96 [00:04\u003c00:00, 23.87it/s]\\n\"","     ]","    },","    {","     \"name\": \"stdout\",","     \"output_type\": \"stream\",","     \"text\": [","      \"test_Acc : 81.87744458930901\\n\"","     ]","    },","    {","     \"name\": \"stderr\",","     \"output_type\": \"stream\",","     \"text\": [","      \"100%|██████████| 384/384 [00:45\u003c00:00,  8.46it/s]\\n\"","     ]","    },","    {","     \"name\": \"stdout\",","     \"output_type\": \"stream\",","     \"text\": [","      \"Epoch [19/40], Loss: 0.1810\\n\"","     ]","    },","    {","     \"name\": \"stderr\",","     \"output_type\": \"stream\",","     \"text\": [","      \"100%|██████████| 96/96 [00:04\u003c00:00, 23.91it/s]\\n\"","     ]","    },","    {","     \"name\": \"stdout\",","     \"output_type\": \"stream\",","     \"text\": [","      \"test_Acc : 81.25814863103\\n\"","     ]","    },","    {","     \"name\": \"stderr\",","     \"output_type\": \"stream\",","     \"text\": [","      \"100%|██████████| 384/384 [00:46\u003c00:00,  8.35it/s]\\n\"","     ]","    },","    {","     \"name\": \"stdout\",","     \"output_type\": \"stream\",","     \"text\": [","      \"Epoch [20/40], Loss: 0.1646\\n\"","     ]","    },","    {","     \"name\": \"stderr\",","     \"output_type\": \"stream\",","     \"text\": [","      \"100%|██████████| 96/96 [00:03\u003c00:00, 24.19it/s]\\n\"","     ]","    },","    {","     \"name\": \"stdout\",","     \"output_type\": \"stream\",","     \"text\": [","      \"test_Acc : 79.82398956975229\\n\",","      \"Model saved.\\n\"","     ]","    },","    {","     \"name\": \"stderr\",","     \"output_type\": \"stream\",","     \"text\": [","      \"100%|██████████| 384/384 [00:45\u003c00:00,  8.41it/s]\\n\"","     ]","    },","    {","     \"name\": \"stdout\",","     \"output_type\": \"stream\",","     \"text\": [","      \"Epoch [21/40], Loss: 0.1539\\n\"","     ]","    },","    {","     \"name\": \"stderr\",","     \"output_type\": \"stream\",","     \"text\": [","      \"100%|██████████| 96/96 [00:03\u003c00:00, 24.33it/s]\\n\"","     ]","    },","    {","     \"name\": \"stdout\",","     \"output_type\": \"stream\",","     \"text\": [","      \"test_Acc : 80.14993481095176\\n\",","      \"Model saved.\\n\"","     ]","    },","    {","     \"name\": \"stderr\",","     \"output_type\": \"stream\",","     \"text\": [","      \"100%|██████████| 384/384 [00:46\u003c00:00,  8.34it/s]\\n\"","     ]","    },","    {","     \"name\": \"stdout\",","     \"output_type\": \"stream\",","     \"text\": [","      \"Epoch [22/40], Loss: 0.1509\\n\"","     ]","    },","    {","     \"name\": \"stderr\",","     \"output_type\": \"stream\",","     \"text\": [","      \"100%|██████████| 96/96 [00:04\u003c00:00, 24.00it/s]\\n\"","     ]","    },","    {","     \"name\": \"stdout\",","     \"output_type\": \"stream\",","     \"text\": [","      \"test_Acc : 80.80182529335072\\n\",","      \"Model saved.\\n\"","     ]","    },","    {","     \"name\": \"stderr\",","     \"output_type\": \"stream\",","     \"text\": [","      \"100%|██████████| 384/384 [00:45\u003c00:00,  8.46it/s]\\n\"","     ]","    },","    {","     \"name\": \"stdout\",","     \"output_type\": \"stream\",","     \"text\": [","      \"Epoch [23/40], Loss: 0.1530\\n\"","     ]","    },","    {","     \"name\": \"stderr\",","     \"output_type\": \"stream\",","     \"text\": [","      \"100%|██████████| 96/96 [00:03\u003c00:00, 24.04it/s]\\n\"","     ]","    },","    {","     \"name\": \"stdout\",","     \"output_type\": \"stream\",","     \"text\": [","      \"test_Acc : 79.46544980443285\\n\"","     ]","    },","    {","     \"name\": \"stderr\",","     \"output_type\": \"stream\",","     \"text\": [","      \"100%|██████████| 384/384 [00:45\u003c00:00,  8.36it/s]\\n\"","     ]","    },","    {","     \"name\": \"stdout\",","     \"output_type\": \"stream\",","     \"text\": [","      \"Epoch [24/40], Loss: 0.1493\\n\"","     ]","    },","    {","     \"name\": \"stderr\",","     \"output_type\": \"stream\",","     \"text\": [","      \"100%|██████████| 96/96 [00:04\u003c00:00, 23.75it/s]\\n\"","     ]","    },","    {","     \"name\": \"stdout\",","     \"output_type\": \"stream\",","     \"text\": [","      \"test_Acc : 78.78096479791395\\n\"","     ]","    },","    {","     \"name\": \"stderr\",","     \"output_type\": \"stream\",","     \"text\": [","      \"100%|██████████| 384/384 [00:45\u003c00:00,  8.52it/s]\\n\"","     ]","    },","    {","     \"name\": \"stdout\",","     \"output_type\": \"stream\",","     \"text\": [","      \"Epoch [25/40], Loss: 0.1278\\n\"","     ]","    },","    {","     \"name\": \"stderr\",","     \"output_type\": \"stream\",","     \"text\": [","      \"100%|██████████| 96/96 [00:03\u003c00:00, 24.21it/s]\\n\"","     ]","    },","    {","     \"name\": \"stdout\",","     \"output_type\": \"stream\",","     \"text\": [","      \"test_Acc : 80.01955671447197\\n\"","     ]","    },","    {","     \"name\": \"stderr\",","     \"output_type\": \"stream\",","     \"text\": [","      \"100%|██████████| 384/384 [00:45\u003c00:00,  8.42it/s]\\n\"","     ]","    },","    {","     \"name\": \"stdout\",","     \"output_type\": \"stream\",","     \"text\": [","      \"Epoch [26/40], Loss: 0.1265\\n\"","     ]","    },","    {","     \"name\": \"stderr\",","     \"output_type\": \"stream\",","     \"text\": [","      \"100%|██████████| 96/96 [00:03\u003c00:00, 24.42it/s]\\n\"","     ]","    },","    {","     \"name\": \"stdout\",","     \"output_type\": \"stream\",","     \"text\": [","      \"test_Acc : 80.76923076923077\\n\"","     ]","    },","    {","     \"name\": \"stderr\",","     \"output_type\": \"stream\",","     \"text\": [","      \"100%|██████████| 384/384 [00:45\u003c00:00,  8.50it/s]\\n\"","     ]","    },","    {","     \"name\": \"stdout\",","     \"output_type\": \"stream\",","     \"text\": [","      \"Epoch [27/40], Loss: 0.1238\\n\"","     ]","    },","    {","     \"name\": \"stderr\",","     \"output_type\": \"stream\",","     \"text\": [","      \"100%|██████████| 96/96 [00:03\u003c00:00, 24.14it/s]\\n\"","     ]","    },","    {","     \"name\": \"stdout\",","     \"output_type\": \"stream\",","     \"text\": [","      \"test_Acc : 80.34550195567145\\n\"","     ]","    },","    {","     \"name\": \"stderr\",","     \"output_type\": \"stream\",","     \"text\": [","      \"100%|██████████| 384/384 [00:45\u003c00:00,  8.42it/s]\\n\"","     ]","    },","    {","     \"name\": \"stdout\",","     \"output_type\": \"stream\",","     \"text\": [","      \"Epoch [28/40], Loss: 0.1267\\n\"","     ]","    },","    {","     \"name\": \"stderr\",","     \"output_type\": \"stream\",","     \"text\": [","      \"100%|██████████| 96/96 [00:04\u003c00:00, 23.86it/s]\\n\"","     ]","    },","    {","     \"name\": \"stdout\",","     \"output_type\": \"stream\",","     \"text\": [","      \"test_Acc : 81.51890482398957\\n\",","      \"Model saved.\\n\"","     ]","    },","    {","     \"name\": \"stderr\",","     \"output_type\": \"stream\",","     \"text\": [","      \"100%|██████████| 384/384 [00:45\u003c00:00,  8.49it/s]\\n\"","     ]","    },","    {","     \"name\": \"stdout\",","     \"output_type\": \"stream\",","     \"text\": [","      \"Epoch [29/40], Loss: 0.1182\\n\"","     ]","    },","    {","     \"name\": \"stderr\",","     \"output_type\": \"stream\",","     \"text\": [","      \"100%|██████████| 96/96 [00:04\u003c00:00, 22.45it/s]\\n\"","     ]","    },","    {","     \"name\": \"stdout\",","     \"output_type\": \"stream\",","     \"text\": [","      \"test_Acc : 80.14993481095176\\n\"","     ]","    },","    {","     \"name\": \"stderr\",","     \"output_type\": \"stream\",","     \"text\": [","      \"100%|██████████| 384/384 [00:45\u003c00:00,  8.50it/s]\\n\"","     ]","    },","    {","     \"name\": \"stdout\",","     \"output_type\": \"stream\",","     \"text\": [","      \"Epoch [30/40], Loss: 0.1071\\n\"","     ]","    },","    {","     \"name\": \"stderr\",","     \"output_type\": \"stream\",","     \"text\": [","      \"100%|██████████| 96/96 [00:03\u003c00:00, 24.39it/s]\\n\"","     ]","    },","    {","     \"name\": \"stdout\",","     \"output_type\": \"stream\",","     \"text\": [","      \"test_Acc : 80.80182529335072\\n\"","     ]","    },","    {","     \"name\": \"stderr\",","     \"output_type\": \"stream\",","     \"text\": [","      \"100%|██████████| 384/384 [00:45\u003c00:00,  8.48it/s]\\n\"","     ]","    },","    {","     \"name\": \"stdout\",","     \"output_type\": \"stream\",","     \"text\": [","      \"Epoch [31/40], Loss: 0.1120\\n\"","     ]","    },","    {","     \"name\": \"stderr\",","     \"output_type\": \"stream\",","     \"text\": [","      \"100%|██████████| 96/96 [00:04\u003c00:00, 23.31it/s]\\n\"","     ]","    },","    {","     \"name\": \"stdout\",","     \"output_type\": \"stream\",","     \"text\": [","      \"test_Acc : 81.97522816166884\\n\",","      \"Model saved.\\n\"","     ]","    },","    {","     \"name\": \"stderr\",","     \"output_type\": \"stream\",","     \"text\": [","      \"100%|██████████| 384/384 [00:45\u003c00:00,  8.46it/s]\\n\"","     ]","    },","    {","     \"name\": \"stdout\",","     \"output_type\": \"stream\",","     \"text\": [","      \"Epoch [32/40], Loss: 0.1087\\n\"","     ]","    },","    {","     \"name\": \"stderr\",","     \"output_type\": \"stream\",","     \"text\": [","      \"100%|██████████| 96/96 [00:03\u003c00:00, 24.49it/s]\\n\"","     ]","    },","    {","     \"name\": \"stdout\",","     \"output_type\": \"stream\",","     \"text\": [","      \"test_Acc : 81.58409387222947\\n\"","     ]","    },","    {","     \"name\": \"stderr\",","     \"output_type\": \"stream\",","     \"text\": [","      \"100%|██████████| 384/384 [00:45\u003c00:00,  8.38it/s]\\n\"","     ]","    },","    {","     \"name\": \"stdout\",","     \"output_type\": \"stream\",","     \"text\": [","      \"Epoch [33/40], Loss: 0.1094\\n\"","     ]","    },","    {","     \"name\": \"stderr\",","     \"output_type\": \"stream\",","     \"text\": [","      \"100%|██████████| 96/96 [00:03\u003c00:00, 24.53it/s]\\n\"","     ]","    },","    {","     \"name\": \"stdout\",","     \"output_type\": \"stream\",","     \"text\": [","      \"test_Acc : 81.77966101694916\\n\"","     ]","    },","    {","     \"name\": \"stderr\",","     \"output_type\": \"stream\",","     \"text\": [","      \"100%|██████████| 384/384 [00:45\u003c00:00,  8.49it/s]\\n\"","     ]","    },","    {","     \"name\": \"stdout\",","     \"output_type\": \"stream\",","     \"text\": [","      \"Epoch [34/40], Loss: 0.1145\\n\"","     ]","    },","    {","     \"name\": \"stderr\",","     \"output_type\": \"stream\",","     \"text\": [","      \"100%|██████████| 96/96 [00:03\u003c00:00, 24.37it/s]\\n\"","     ]","    },","    {","     \"name\": \"stdout\",","     \"output_type\": \"stream\",","     \"text\": [","      \"test_Acc : 81.58409387222947\\n\"","     ]","    },","    {","     \"name\": \"stderr\",","     \"output_type\": \"stream\",","     \"text\": [","      \"100%|██████████| 384/384 [00:46\u003c00:00,  8.32it/s]\\n\"","     ]","    },","    {","     \"name\": \"stdout\",","     \"output_type\": \"stream\",","     \"text\": [","      \"Epoch [35/40], Loss: 0.1000\\n\"","     ]","    },","    {","     \"name\": \"stderr\",","     \"output_type\": \"stream\",","     \"text\": [","      \"100%|██████████| 96/96 [00:04\u003c00:00, 23.71it/s]\\n\"","     ]","    },","    {","     \"name\": \"stdout\",","     \"output_type\": \"stream\",","     \"text\": [","      \"test_Acc : 82.13820078226858\\n\",","      \"Model saved.\\n\"","     ]","    },","    {","     \"name\": \"stderr\",","     \"output_type\": \"stream\",","     \"text\": [","      \"100%|██████████| 384/384 [00:45\u003c00:00,  8.44it/s]\\n\"","     ]","    },","    {","     \"name\": \"stdout\",","     \"output_type\": \"stream\",","     \"text\": [","      \"Epoch [36/40], Loss: 0.0966\\n\"","     ]","    },","    {","     \"name\": \"stderr\",","     \"output_type\": \"stream\",","     \"text\": [","      \"100%|██████████| 96/96 [00:04\u003c00:00, 23.62it/s]\\n\"","     ]","    },","    {","     \"name\": \"stdout\",","     \"output_type\": \"stream\",","     \"text\": [","      \"test_Acc : 80.47588005215124\\n\"","     ]","    },","    {","     \"name\": \"stderr\",","     \"output_type\": \"stream\",","     \"text\": [","      \"100%|██████████| 384/384 [00:45\u003c00:00,  8.40it/s]\\n\"","     ]","    },","    {","     \"name\": \"stdout\",","     \"output_type\": \"stream\",","     \"text\": [","      \"Epoch [37/40], Loss: 0.0955\\n\"","     ]","    },","    {","     \"name\": \"stderr\",","     \"output_type\": \"stream\",","     \"text\": [","      \"100%|██████████| 96/96 [00:03\u003c00:00, 24.42it/s]\\n\"","     ]","    },","    {","     \"name\": \"stdout\",","     \"output_type\": \"stream\",","     \"text\": [","      \"test_Acc : 80.60625814863103\\n\"","     ]","    },","    {","     \"name\": \"stderr\",","     \"output_type\": \"stream\",","     \"text\": [","      \"100%|██████████| 384/384 [00:45\u003c00:00,  8.48it/s]\\n\"","     ]","    },","    {","     \"name\": \"stdout\",","     \"output_type\": \"stream\",","     \"text\": [","      \"Epoch [38/40], Loss: 0.1049\\n\"","     ]","    },","    {","     \"name\": \"stderr\",","     \"output_type\": \"stream\",","     \"text\": [","      \"100%|██████████| 96/96 [00:03\u003c00:00, 24.27it/s]\\n\"","     ]","    },","    {","     \"name\": \"stdout\",","     \"output_type\": \"stream\",","     \"text\": [","      \"test_Acc : 79.49804432855281\\n\"","     ]","    },","    {","     \"name\": \"stderr\",","     \"output_type\": \"stream\",","     \"text\": [","      \"100%|██████████| 384/384 [00:45\u003c00:00,  8.41it/s]\\n\"","     ]","    },","    {","     \"name\": \"stdout\",","     \"output_type\": \"stream\",","     \"text\": [","      \"Epoch [39/40], Loss: 0.0929\\n\"","     ]","    },","    {","     \"name\": \"stderr\",","     \"output_type\": \"stream\",","     \"text\": [","      \"100%|██████████| 96/96 [00:03\u003c00:00, 24.33it/s]\\n\"","     ]","    },","    {","     \"name\": \"stdout\",","     \"output_type\": \"stream\",","     \"text\": [","      \"test_Acc : 81.45371577574967\\n\"","     ]","    },","    {","     \"name\": \"stderr\",","     \"output_type\": \"stream\",","     \"text\": [","      \"100%|██████████| 384/384 [00:45\u003c00:00,  8.46it/s]\\n\"","     ]","    },","    {","     \"name\": \"stdout\",","     \"output_type\": \"stream\",","     \"text\": [","      \"Epoch [40/40], Loss: 0.0984\\n\"","     ]","    },","    {","     \"name\": \"stderr\",","     \"output_type\": \"stream\",","     \"text\": [","      \"100%|██████████| 96/96 [00:04\u003c00:00, 23.74it/s]\\n\"","     ]","    },","    {","     \"name\": \"stdout\",","     \"output_type\": \"stream\",","     \"text\": [","      \"test_Acc : 79.79139504563233\\n\",","      \"Model saved.\\n\"","     ]","    }","   ],","   \"source\": [","    \"train(model, aug_train_loader, test_loader, criterion, optimizer, device, num_epochs=40)\"","   ]","  },","  {","   \"cell_type\": \"code\",","   \"execution_count\": 296,","   \"id\": \"379231eb\",","   \"metadata\": {","    \"execution\": {","     \"iopub.execute_input\": \"2024-10-27T08:35:25.743105Z\",","     \"iopub.status.busy\": \"2024-10-27T08:35:25.742673Z\",","     \"iopub.status.idle\": \"2024-10-27T08:35:31.244657Z\",","     \"shell.execute_reply\": \"2024-10-27T08:35:31.243351Z\",","     \"shell.execute_reply.started\": \"2024-10-27T08:35:25.743064Z\"","    }","   },","   \"outputs\": [","    {","     \"name\": \"stderr\",","     \"output_type\": \"stream\",","     \"text\": [","      \"100%|██████████| 96/96 [00:05\u003c00:00, 17.50it/s]\\n\"","     ]","    },","    {","     \"data\": {","      \"text/plain\": [","       \"82.20338983050848\"","      ]","     },","     \"execution_count\": 296,","     \"metadata\": {},","     \"output_type\": \"execute_result\"","    }","   ],","   \"source\": [","    \"model.eval()\\n\",","    \"correct = 0\\n\",","    \"total = 0\\n\",","    \"with torch.no_grad():\\n\",","    \"    for images, labels in tqdm(test_loader):\\n\",","    \"        images = images.to(device)\\n\",","    \"        labels = labels.to(device)\\n\",","    \"        \\n\",","    \"        logits = model(images)\\n\",","    \"        \\n\",","    \"        _, predicted = torch.max(logits, 1)\\n\",","    \"        total += labels.size(0) \\n\",","    \"        correct += (predicted == labels).sum().item()\\n\",","    \"accuracy = 100*(correct/total)\\n\",","    \"\\n\",","    \"\\n\",","    \"\\n\",","    \"\\n\",","    \"accuracy\\n\"","   ]","  },","  {","   \"cell_type\": \"code\",","   \"execution_count\": 298,","   \"id\": \"2ed8d849\",","   \"metadata\": {","    \"execution\": {","     \"iopub.execute_input\": \"2024-10-27T08:36:02.001317Z\",","     \"iopub.status.busy\": \"2024-10-27T08:36:02.000397Z\",","     \"iopub.status.idle\": \"2024-10-27T08:36:06.303899Z\",","     \"shell.execute_reply\": \"2024-10-27T08:36:06.302695Z\",","     \"shell.execute_reply.started\": \"2024-10-27T08:36:02.001253Z\"","    },","    \"id\": \"3f08e78f-164c-44f4-ab33-76d3355754af\"","   },","   \"outputs\": [","    {","     \"name\": \"stderr\",","     \"output_type\": \"stream\",","     \"text\": [","      \"100%|██████████| 96/96 [00:04\u003c00:00, 22.38it/s]\\n\"","     ]","    }","   ],","   \"source\": [","    \"all_preds=[]\\n\",","    \"all_labels=[]\\n\",","    \"with torch.no_grad():\\n\",","    \"    for images, labels in tqdm(test_loader):\\n\",","    \"        images = images.to(device)\\n\",","    \"        labels = labels.to(device)\\n\",","    \"        outputs = model(images)\\n\",","    \"        _, predicted = torch.max(outputs,1)\\n\",","    \"#         predicted+=1\\n\",","    \"        \\n\",","    \"        all_preds.extend(predicted.cpu().numpy())\\n\",","    \"        all_labels.extend(labels.cpu().numpy())\\n\",","    \"\\n\",","    \"all_preds = np.array(all_preds)\\n\",","    \"all_labels = np.array(all_labels)\"","   ]","  },","  {","   \"cell_type\": \"code\",","   \"execution_count\": 299,","   \"id\": \"4446c79b\",","   \"metadata\": {","    \"execution\": {","     \"iopub.execute_input\": \"2024-10-27T08:36:07.415844Z\",","     \"iopub.status.busy\": \"2024-10-27T08:36:07.415433Z\",","     \"iopub.status.idle\": \"2024-10-27T08:36:07.433482Z\",","     \"shell.execute_reply\": \"2024-10-27T08:36:07.432595Z\",","     \"shell.execute_reply.started\": \"2024-10-27T08:36:07.415802Z\"","    }","   },","   \"outputs\": [","    {","     \"data\": {","      \"text/plain\": [","       \"0.8220338983050848\"","      ]","     },","     \"execution_count\": 299,","     \"metadata\": {},","     \"output_type\": \"execute_result\"","    }","   ],","   \"source\": [","    \"accuracy = accuracy_score(all_labels, all_preds)\\n\",","    \"accuracy\"","   ]","  },","  {","   \"cell_type\": \"code\",","   \"execution_count\": 300,","   \"id\": \"2ae8a128\",","   \"metadata\": {","    \"execution\": {","     \"iopub.execute_input\": \"2024-10-27T08:36:10.563002Z\",","     \"iopub.status.busy\": \"2024-10-27T08:36:10.562342Z\",","     \"iopub.status.idle\": \"2024-10-27T08:36:10.572364Z\",","     \"shell.execute_reply\": \"2024-10-27T08:36:10.571158Z\",","     \"shell.execute_reply.started\": \"2024-10-27T08:36:10.562959Z\"","    }","   },","   \"outputs\": [","    {","     \"data\": {","      \"text/plain\": [","       \"array([[ 258,    8,    4,   12,   14,    5,   28],\\n\",","       \"       [  13,   39,    2,    3,   10,    3,    4],\\n\",","       \"       [   1,    2,   76,   12,   24,   12,   33],\\n\",","       \"       [   8,    0,   14, 1093,   15,    3,   52],\\n\",","       \"       [   2,    2,   18,   22,  364,    3,   67],\\n\",","       \"       [   5,   10,   13,   14,   10,  102,    8],\\n\",","       \"       [  10,    1,   18,   29,   30,    2,  590]])\"","      ]","     },","     \"execution_count\": 300,","     \"metadata\": {},","     \"output_type\": \"execute_result\"","    }","   ],","   \"source\": [","    \"cm = confusion_matrix(all_labels, all_preds)\\n\",","    \"cm\"","   ]","  },","  {","   \"cell_type\": \"code\",","   \"execution_count\": 301,","   \"id\": \"086747fd\",","   \"metadata\": {","    \"execution\": {","     \"iopub.execute_input\": \"2024-10-27T08:36:12.395566Z\",","     \"iopub.status.busy\": \"2024-10-27T08:36:12.395156Z\",","     \"iopub.status.idle\": \"2024-10-27T08:36:12.829087Z\",","     \"shell.execute_reply\": \"2024-10-27T08:36:12.828191Z\",","     \"shell.execute_reply.started\": \"2024-10-27T08:36:12.395522Z\"","    }","   },","   \"outputs\": [","    {","     \"data\": {","      \"image/png\": \"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\",","      \"text/plain\": [","       \"\u003cFigure size 1000x700 with 2 Axes\u003e\"","      ]","     },","     \"metadata\": {},","     \"output_type\": \"display_data\"","    }","   ],","   \"source\": [","    \"plt.figure(figsize=(10, 7))\\n\",","    \"sns.heatmap(cm, annot=True, fmt='d', cmap='Blues', xticklabels=[f'Class {i}' for i in range(6)], yticklabels=[f'Class {i}' for i in range(6)])\\n\",","    \"plt.ylabel('True Label')\\n\",","    \"plt.xlabel('Predicted Label')\\n\",","    \"plt.title('Confusion Matrix')\\n\",","    \"plt.show()\"","   ]","  },","  {","   \"cell_type\": \"code\",","   \"execution_count\": null,","   \"id\": \"93edcc25\",","   \"metadata\": {},","   \"outputs\": [],","   \"source\": []","  }"," ],"," \"metadata\": {","  \"accelerator\": \"GPU\",","  \"colab\": {","   \"gpuType\": \"T4\",","   \"provenance\": []","  },","  \"kaggle\": {","   \"accelerator\": \"nvidiaTeslaT4\",","   \"dataSources\": [","    {","     \"datasetId\": 3758654,","     \"sourceId\": 6504606,","     \"sourceType\": \"datasetVersion\"","    },","    {","     \"datasetId\": 5956378,","     \"sourceId\": 9732886,","     \"sourceType\": \"datasetVersion\"","    },","    {","     \"datasetId\": 5956988,","     \"sourceId\": 9733710,","     \"sourceType\": \"datasetVersion\"","    }","   ],","   \"dockerImageVersionId\": 30787,","   \"isGpuEnabled\": true,","   \"isInternetEnabled\": true,","   \"language\": \"python\",","   \"sourceType\": \"notebook\"","  },","  \"kernelspec\": {","   \"display_name\": \"Python 3 (ipykernel)\",","   \"language\": \"python\",","   \"name\": \"python3\"","  },","  \"language_info\": {","   \"codemirror_mode\": {","    \"name\": \"ipython\",","    \"version\": 3","   },","   \"file_extension\": \".py\",","   \"mimetype\": \"text/x-python\",","   \"name\": \"python\",","   \"nbconvert_exporter\": \"python\",","   \"pygments_lexer\": \"ipython3\",","   \"version\": \"3.11.7\"","  }"," },"," \"nbformat\": 4,"," \"nbformat_minor\": 5","}"],"stylingDirectives":null,"colorizedLines":null,"csv":null,"csvError":null,"dependabotInfo":{"showConfigurationBanner":false,"configFilePath":null,"networkDependabotPath":"/37nomad/Facial-Expression-Recognition-Using-Self-Attention/network/updates","dismissConfigurationNoticePath":"/settings/dismiss-notice/dependabot_configuration_notice","configurationNoticeDismissed":false},"displayName":"model-with-mlp-1-head-aug-patch-extraction.ipynb","displayUrl":"https://notebooks.githubusercontent.com/view/ipynb?browser=safari\u0026bypass_fastly=true\u0026color_mode=auto\u0026commit=85fe1800164efd869c7d4923349d0db11a57547c\u0026device=unknown_device\u0026docs_host=https%3A%2F%2Fdocs.github.com\u0026enc_url=68747470733a2f2f7261772e67697468756275736572636f6e74656e742e636f6d2f33376e6f6d61642f46616369616c2d45787072657373696f6e2d5265636f676e6974696f6e2d5573696e672d53656c662d417474656e74696f6e2f383566653138303031363465666438363963376434393233333439643064623131613537353437632f6d6f64656c2d776974682d6d6c702d312d686561642d6175672d70617463682d65787472616374696f6e2e6970796e62\u0026logged_in=true\u0026nwo=37nomad%2FFacial-Expression-Recognition-Using-Self-Attention\u0026path=model-with-mlp-1-head-aug-patch-extraction.ipynb\u0026platform=mac\u0026repository_id=864053225\u0026repository_type=Repository\u0026version=18","headerInfo":{"blobSize":"128 KB","deleteTooltip":"Fork this repository and delete the file","editTooltip":"Fork this repository and edit the file","ghDesktopPath":"https://desktop.github.com","isGitLfs":false,"onBranch":true,"shortPath":"76925ef","siteNavLoginPath":"/login?return_to=https%3A%2F%2Fgithub.com%2F37nomad%2FFacial-Expression-Recognition-Using-Self-Attention%2Fblob%2Fmain%2Fmodel-with-mlp-1-head-aug-patch-extraction.ipynb","isCSV":false,"isRichtext":false,"toc":null,"lineInfo":{"truncatedLoc":"2839","truncatedSloc":"2839"},"mode":"file"},"image":false,"isCodeownersFile":null,"isPlain":false,"isValidLegacyIssueTemplate":false,"issueTemplate":null,"discussionTemplate":null,"language":"Jupyter Notebook","languageID":185,"large":false,"planSupportInfo":{"repoIsFork":null,"repoOwnedByCurrentUser":null,"requestFullPath":"/37nomad/Facial-Expression-Recognition-Using-Self-Attention/blob/main/model-with-mlp-1-head-aug-patch-extraction.ipynb","showFreeOrgGatedFeatureMessage":null,"showPlanSupportBanner":null,"upgradeDataAttributes":null,"upgradePath":null},"publishBannersInfo":{"dismissActionNoticePath":"/settings/dismiss-notice/publish_action_from_dockerfile","releasePath":"/37nomad/Facial-Expression-Recognition-Using-Self-Attention/releases/new?marketplace=true","showPublishActionBanner":false},"rawBlobUrl":"https://github.com/37nomad/Facial-Expression-Recognition-Using-Self-Attention/raw/refs/heads/main/model-with-mlp-1-head-aug-patch-extraction.ipynb","renderImageOrRaw":false,"richText":null,"renderedFileInfo":{"identityUUID":"aab95310-e357-445a-8294-3b6db5f291b5","renderFileType":"ipynb","size":130998},"shortPath":null,"symbolsEnabled":true,"tabSize":8,"topBannersInfo":{"overridingGlobalFundingFile":false,"globalPreferredFundingPath":null,"showInvalidCitationWarning":false,"citationHelpUrl":"https://docs.github.com/github/creating-cloning-and-archiving-repositories/creating-a-repository-on-github/about-citation-files","actionsOnboardingTip":null},"truncated":false,"viewable":true,"workflowRedirectUrl":null,"symbols":{"timed_out":false,"not_analyzed":true,"symbols":[]}},"copilotInfo":{"documentationUrl":"https://docs.github.com/copilot/overview-of-github-copilot/about-github-copilot-for-individuals","notices":{"codeViewPopover":{"dismissed":false,"dismissPath":"/settings/dismiss-notice/code_view_copilot_popover"}},"userAccess":{"hasSubscriptionEnded":false,"orgHasCFBAccess":false,"userHasCFIAccess":false,"userHasOrgs":false,"userIsOrgAdmin":false,"userIsOrgMember":false,"business":null,"featureRequestInfo":null}},"copilotAccessAllowed":false,"modelsAccessAllowed":false,"modelsRepoIntegrationEnabled":false,"csrf_tokens":{"/37nomad/Facial-Expression-Recognition-Using-Self-Attention/branches":{"post":"_ksJ7YFxZ4rxbgQUjbZAfWptnq1c4n3CuGt8BSKlDvUu6zF5-Q1wZjs3gqYmwjP9Rpf44OGVwgewotj8awRhHg"},"/repos/preferences":{"post":"tmrYJF5sq3Cm9upN3ivIhhxnkb8Ci3BZgNixDXIqAXFvhwPf9clhrpa17BJ3JRleiu_4E3E1MJMQxd2MpqK1RA"}}},"title":"Facial-Expression-Recognition-Using-Self-Attention/model-with-mlp-1-head-aug-patch-extraction.ipynb at main · 37nomad/Facial-Expression-Recognition-Using-Self-Attention","appPayload":{"helpUrl":"https://docs.github.com","findFileWorkerPath":"/assets-cdn/worker/find-file-worker-263cab1760dd.js","findInFileWorkerPath":"/assets-cdn/worker/find-in-file-worker-1b17b3e7786a.js","githubDevUrl":"https://github.dev/","enabled_features":{"code_nav_ui_events":false,"react_blob_overlay":true,"accessible_code_button":true}}}</script>
  <div data-target="react-app.reactRoot"><style data-styled="true" data-styled-version="5.3.11">.gISSDQ{width:100%;}/*!sc*/
@media screen and (min-width:544px){.gISSDQ{width:100%;}}/*!sc*/
@media screen and (min-width:768px){.gISSDQ{width:auto;}}/*!sc*/
.birIjn{max-height:100%;height:100%;display:-webkit-box;display:-webkit-flex;display:-ms-flexbox;display:flex;-webkit-flex-direction:column;-ms-flex-direction:column;flex-direction:column;}/*!sc*/
@media screen and (max-width:768px){.birIjn{display:none;}}/*!sc*/
@media screen and (min-width:768px){.birIjn{max-height:100vh;height:100vh;}}/*!sc*/
.jfIeyl{display:-webkit-box;display:-webkit-flex;display:-ms-flexbox;display:flex;width:100%;margin-bottom:16px;-webkit-align-items:center;-webkit-box-align:center;-ms-flex-align:center;align-items:center;}/*!sc*/
.kOkWgo{font-size:16px;margin-left:8px;}/*!sc*/
.JMXqM[data-size="medium"]{display:-webkit-box;display:-webkit-flex;display:-ms-flexbox;display:flex;min-width:0;}/*!sc*/
.JMXqM[data-size="medium"] svg{color:var(--fgColor-muted,var(--color-fg-muted,#848d97));}/*!sc*/
.JMXqM[data-size="medium"] > span{width:inherit;}/*!sc*/
.gUkoLg{-webkit-box-pack:center;-webkit-justify-content:center;-ms-flex-pack:center;justify-content:center;}/*!sc*/
.bZBlpz{display:-webkit-box;display:-webkit-flex;display:-ms-flexbox;display:flex;width:100%;}/*!sc*/
.bJjzmO{margin-right:4px;color:var(--fgColor-muted,var(--color-fg-muted,#848d97));}/*!sc*/
.ffLUq{font-size:14px;min-width:0;overflow:hidden;text-overflow:ellipsis;white-space:nowrap;}/*!sc*/
.bmcJak{min-width:0;}/*!sc*/
.dPUXSa[data-size="medium"][data-no-visuals]{border-top-left-radius:0;border-bottom-left-radius:0;}/*!sc*/
@media screen and (max-width:768px){.jLLPHh{display:none;}}/*!sc*/
.fFMzrG{position:absolute;inset:0 -2px;cursor:col-resize;background-color:transparent;-webkit-transition-delay:0.1s;transition-delay:0.1s;}/*!sc*/
.fFMzrG:hover{background-color:var(--bgColor-neutral-muted,var(--color-neutral-muted,rgba(110,118,129,0.4)));}/*!sc*/
.leYMvG{margin-left:auto;margin-right:auto;-webkit-flex-direction:column;-ms-flex-direction:column;flex-direction:column;padding-bottom:40px;max-width:100%;margin-top:0;}/*!sc*/
.KMPzq{display:inherit;}/*!sc*/
.cEytCf{display:-webkit-box;display:-webkit-flex;display:-ms-flexbox;display:flex;-webkit-flex-direction:row;-ms-flex-direction:row;flex-direction:row;font-size:16px;min-width:0;-webkit-flex-shrink:1;-ms-flex-negative:1;flex-shrink:1;-webkit-flex-wrap:wrap;-ms-flex-wrap:wrap;flex-wrap:wrap;max-width:100%;-webkit-align-items:center;-webkit-box-align:center;-ms-flex-align:center;align-items:center;}/*!sc*/
.fzFXnm{max-width:100%;}/*!sc*/
.iMnkmv{max-width:100%;list-style:none;display:inline-block;}/*!sc*/
.ghzDag{display:inline-block;max-width:100%;}/*!sc*/
.kHuKdh{font-weight:600;}/*!sc*/
.hXyrdx{padding-left:4px;padding-right:4px;font-weight:400;color:var(--fgColor-muted,var(--color-fg-muted,#848d97));font-size:16px;}/*!sc*/
.jGhzSQ{font-weight:600;display:inline-block;max-width:100%;font-size:16px;}/*!sc*/
.fjrFuv[data-size="medium"][data-no-visuals]{display:none;}/*!sc*/
.dJxjrT{margin-left:16px;margin-right:16px;}/*!sc*/
.ldRxiI{display:-webkit-box;display:-webkit-flex;display:-ms-flexbox;display:flex;-webkit-flex-direction:row;-ms-flex-direction:row;flex-direction:row;}/*!sc*/
.fVkfyA{width:100%;height:-webkit-fit-content;height:-moz-fit-content;height:fit-content;min-width:0;margin-right:0;}/*!sc*/
.gNAmSV{height:40px;padding-left:4px;padding-bottom:16px;}/*!sc*/
.jlVuVO[data-size="small"]{color:var(--fgColor-default,var(--color-fg-default,#e6edf3));display:none;}/*!sc*/
@media screen and (min-width:544px){.jlVuVO[data-size="small"]{display:none;}}/*!sc*/
@media screen and (min-width:768px){.jlVuVO[data-size="small"]{display:none;}}/*!sc*/
@media screen and (min-width:1012px){.jlVuVO[data-size="small"]{display:none;}}/*!sc*/
@media screen and (min-width:1280px){.jlVuVO[data-size="small"]{display:block;}}/*!sc*/
.jdLMhu{top:0px;z-index:4;background:var(--bgColor-default,var(--color-canvas-default));position:-webkit-sticky;position:sticky;}/*!sc*/
.hqwSEx{display:none;min-width:0;padding-top:8px;padding-bottom:8px;}/*!sc*/
.fHind{display:-webkit-box;display:-webkit-flex;display:-ms-flexbox;display:flex;-webkit-flex-direction:row;-ms-flex-direction:row;flex-direction:row;font-size:14px;min-width:0;-webkit-flex-shrink:1;-ms-flex-negative:1;flex-shrink:1;-webkit-flex-wrap:wrap;-ms-flex-wrap:wrap;flex-wrap:wrap;max-width:100%;-webkit-align-items:center;-webkit-box-align:center;-ms-flex-align:center;align-items:center;}/*!sc*/
.bQeXnn{padding-left:4px;padding-right:4px;font-weight:400;color:var(--fgColor-muted,var(--color-fg-muted,#848d97));font-size:14px;}/*!sc*/
.dnZoUW{font-weight:600;display:inline-block;max-width:100%;font-size:14px;}/*!sc*/
.gFKFyc{border-radius:6px 6px 0px 0px;}/*!sc*/
.lefpaC linkButtonSx:hover:not([disabled]){-webkit-text-decoration:none;text-decoration:none;}/*!sc*/
.lefpaC linkButtonSx:focus:not([disabled]){-webkit-text-decoration:none;text-decoration:none;}/*!sc*/
.lefpaC linkButtonSx:active:not([disabled]){-webkit-text-decoration:none;text-decoration:none;}/*!sc*/
.ivobqY[data-size="small"][data-no-visuals]{border-top-left-radius:0;border-bottom-left-radius:0;}/*!sc*/
.iCOsHh[data-size="small"][data-no-visuals]:hover:not([disabled]){-webkit-text-decoration:none;text-decoration:none;}/*!sc*/
.iCOsHh[data-size="small"][data-no-visuals]:focus:not([disabled]){-webkit-text-decoration:none;text-decoration:none;}/*!sc*/
.iCOsHh[data-size="small"][data-no-visuals]:active:not([disabled]){-webkit-text-decoration:none;text-decoration:none;}/*!sc*/
.hycJXc{border:1px solid;border-top:none;border-color:var(--borderColor-default,var(--color-border-default,#30363d));border-radius:0px 0px 6px 6px;min-width:273px;}/*!sc*/
.iWAocR{background-color:var(--bgColor-default,var(--color-canvas-default));border:0px;border-width:0;border-radius:0px 0px 6px 6px;padding:0;min-width:0;margin-top:46px;overflow:auto;}/*!sc*/
.cCoXib{position:fixed;top:0;right:0;height:100%;width:15px;-webkit-transition:-webkit-transform 0.3s;-webkit-transition:transform 0.3s;transition:transform 0.3s;z-index:1;}/*!sc*/
.cCoXib:hover{-webkit-transform:scaleX(1.5);-ms-transform:scaleX(1.5);transform:scaleX(1.5);}/*!sc*/
.fgsa-DI{display:-webkit-box;display:-webkit-flex;display:-ms-flexbox;display:flex;-webkit-flex-direction:column;-ms-flex-direction:column;flex-direction:column;-webkit-align-items:center;-webkit-box-align:center;-ms-flex-align:center;align-items:center;padding-top:16px;padding-bottom:16px;}/*!sc*/
data-styled.g1[id="Box-sc-g0xbh4-0"]{content:"gISSDQ,birIjn,jfIeyl,kOkWgo,JMXqM,gUkoLg,bZBlpz,bJjzmO,ffLUq,bmcJak,dPUXSa,jLLPHh,fFMzrG,leYMvG,KMPzq,cEytCf,fzFXnm,iMnkmv,ghzDag,kHuKdh,hXyrdx,jGhzSQ,fjrFuv,dJxjrT,ldRxiI,fVkfyA,gNAmSV,jlVuVO,jdLMhu,hqwSEx,fHind,bQeXnn,dnZoUW,gFKFyc,lefpaC,ivobqY,iCOsHh,hycJXc,iWAocR,cCoXib,fgsa-DI,"}/*!sc*/
.brGdpi{position:absolute;width:1px;height:1px;padding:0;margin:-1px;overflow:hidden;-webkit-clip:rect(0,0,0,0);clip:rect(0,0,0,0);white-space:nowrap;border-width:0;}/*!sc*/
data-styled.g3[id="_VisuallyHidden__VisuallyHidden-sc-11jhm7a-0"]{content:"brGdpi,"}/*!sc*/
.fiSvBN{position:relative;display:inline-block;}/*!sc*/
.fiSvBN::after{position:absolute;z-index:1000000;display:none;padding:0.5em 0.75em;font:normal normal 11px/1.5 -apple-system,BlinkMacSystemFont,"Segoe UI","Noto Sans",Helvetica,Arial,sans-serif,"Apple Color Emoji","Segoe UI Emoji";-webkit-font-smoothing:subpixel-antialiased;color:var(--tooltip-fgColor,var(--fgColor-onEmphasis,var(--color-fg-on-emphasis,#ffffff)));text-align:center;-webkit-text-decoration:none;text-decoration:none;text-shadow:none;text-transform:none;-webkit-letter-spacing:normal;-moz-letter-spacing:normal;-ms-letter-spacing:normal;letter-spacing:normal;word-wrap:break-word;white-space:pre;pointer-events:none;content:attr(aria-label);background:var(--tooltip-bgColor,var(--bgColor-emphasis,var(--color-neutral-emphasis-plus,#6e7681)));border-radius:6px;opacity:0;}/*!sc*/
@-webkit-keyframes tooltip-appear{from{opacity:0;}to{opacity:1;}}/*!sc*/
@keyframes tooltip-appear{from{opacity:0;}to{opacity:1;}}/*!sc*/
.fiSvBN:hover::after,.fiSvBN:active::after,.fiSvBN:focus::after,.fiSvBN:focus-within::after{display:inline-block;-webkit-text-decoration:none;text-decoration:none;-webkit-animation-name:tooltip-appear;animation-name:tooltip-appear;-webkit-animation-duration:0.1s;animation-duration:0.1s;-webkit-animation-fill-mode:forwards;animation-fill-mode:forwards;-webkit-animation-timing-function:ease-in;animation-timing-function:ease-in;-webkit-animation-delay:0s;animation-delay:0s;}/*!sc*/
.fiSvBN.tooltipped-no-delay:hover::after,.fiSvBN.tooltipped-no-delay:active::after,.fiSvBN.tooltipped-no-delay:focus::after,.fiSvBN.tooltipped-no-delay:focus-within::after{-webkit-animation-delay:0s;animation-delay:0s;}/*!sc*/
.fiSvBN.tooltipped-multiline:hover::after,.fiSvBN.tooltipped-multiline:active::after,.fiSvBN.tooltipped-multiline:focus::after,.fiSvBN.tooltipped-multiline:focus-within::after{display:table-cell;}/*!sc*/
.fiSvBN.tooltipped-s::after,.fiSvBN.tooltipped-se::after,.fiSvBN.tooltipped-sw::after{top:100%;right:50%;margin-top:6px;}/*!sc*/
.fiSvBN.tooltipped-se::after{right:auto;left:50%;margin-left:-16px;}/*!sc*/
.fiSvBN.tooltipped-sw::after{margin-right:-16px;}/*!sc*/
.fiSvBN.tooltipped-n::after,.fiSvBN.tooltipped-ne::after,.fiSvBN.tooltipped-nw::after{right:50%;bottom:100%;margin-bottom:6px;}/*!sc*/
.fiSvBN.tooltipped-ne::after{right:auto;left:50%;margin-left:-16px;}/*!sc*/
.fiSvBN.tooltipped-nw::after{margin-right:-16px;}/*!sc*/
.fiSvBN.tooltipped-s::after,.fiSvBN.tooltipped-n::after{-webkit-transform:translateX(50%);-ms-transform:translateX(50%);transform:translateX(50%);}/*!sc*/
.fiSvBN.tooltipped-w::after{right:100%;bottom:50%;margin-right:6px;-webkit-transform:translateY(50%);-ms-transform:translateY(50%);transform:translateY(50%);}/*!sc*/
.fiSvBN.tooltipped-e::after{bottom:50%;left:100%;margin-left:6px;-webkit-transform:translateY(50%);-ms-transform:translateY(50%);transform:translateY(50%);}/*!sc*/
.fiSvBN.tooltipped-multiline::after{width:-webkit-max-content;width:-moz-max-content;width:max-content;max-width:250px;word-wrap:break-word;white-space:pre-line;border-collapse:separate;}/*!sc*/
.fiSvBN.tooltipped-multiline.tooltipped-s::after,.fiSvBN.tooltipped-multiline.tooltipped-n::after{right:auto;left:50%;-webkit-transform:translateX(-50%);-ms-transform:translateX(-50%);transform:translateX(-50%);}/*!sc*/
.fiSvBN.tooltipped-multiline.tooltipped-w::after,.fiSvBN.tooltipped-multiline.tooltipped-e::after{right:100%;}/*!sc*/
.fiSvBN.tooltipped-align-right-2::after{right:0;margin-right:0;}/*!sc*/
.fiSvBN.tooltipped-align-left-2::after{left:0;margin-left:0;}/*!sc*/
data-styled.g6[id="Tooltip__TooltipBase-sc-17tf59c-0"]{content:"fiSvBN,"}/*!sc*/
.bgsFir{display:inline-block;overflow:hidden;text-overflow:ellipsis;vertical-align:top;white-space:nowrap;max-width:100%;}/*!sc*/
data-styled.g7[id="Truncate__StyledTruncate-sc-23o1d2-0"]{content:"bgsFir,"}/*!sc*/
</style><meta data-hydrostats="publish"/> <!-- --> <!-- --> <button hidden="" data-testid="header-permalink-button" data-hotkey-scope="read-only-cursor-text-area"></button><button hidden=""></button><div><div style="--spacing:var(--spacing-none)" class="prc-PageLayout-PageLayoutRoot-1zlEO"><div class="prc-PageLayout-PageLayoutWrapper-s2ao4" data-width="full"><div class="prc-PageLayout-PageLayoutContent-jzDMn"><div tabindex="0" class="Box-sc-g0xbh4-0 gISSDQ"><div class="prc-PageLayout-PaneWrapper-nGO0U ReposFileTreePane-module__Pane--wS7IV ReposFileTreePane-module__HidePane--Gj4XZ" style="--offset-header:0px;--spacing-row:var(--spacing-none);--spacing-column:var(--spacing-none)" data-is-hidden="false" data-position="start" data-sticky="true"><div class="prc-PageLayout-HorizontalDivider-CYLp5 prc-PageLayout-PaneHorizontalDivider-4exOb" data-variant="none" data-position="start" style="--spacing-divider:var(--spacing-none);--spacing:var(--spacing-none)"></div><div class="prc-PageLayout-Pane-Vl5LI" data-resizable="true" style="--spacing:var(--spacing-none);--pane-min-width:256px;--pane-max-width:calc(100vw - var(--pane-max-width-diff));--pane-width-size:var(--pane-width-large);--pane-width:320px"><div class="react-tree-pane-contents"><div id="repos-file-tree" class="Box-sc-g0xbh4-0 birIjn"><div class="ReposFileTreePane-module__Box_1--Bz4Aw"><div class="Box-sc-g0xbh4-0 jfIeyl"><h2 class="use-tree-pane-module__Heading--DlnQ2 prc-Heading-Heading-6CmGO"><button type="button" aria-label="Expand file tree" data-testid="expand-file-tree-button-mobile" class="prc-Button-ButtonBase-c50BI ExpandFileTreeButton-module__Button_1--M2dXF" data-loading="false" data-size="medium" data-variant="invisible" aria-describedby=":Rl6mplab:-loading-announcement"><span data-component="buttonContent" data-align="center" class="prc-Button-ButtonContent-HKbr-"><span data-component="leadingVisual" class="prc-Button-Visual-2epfX prc-Button-VisualWrap-Db-eB"><svg aria-hidden="true" focusable="false" class="octicon octicon-arrow-left" viewBox="0 0 16 16" width="16" height="16" fill="currentColor" display="inline-block" overflow="visible" style="vertical-align:text-bottom"><path d="M7.78 12.53a.75.75 0 0 1-1.06 0L2.47 8.28a.75.75 0 0 1 0-1.06l4.25-4.25a.751.751 0 0 1 1.042.018.751.751 0 0 1 .018 1.042L4.81 7h7.44a.75.75 0 0 1 0 1.5H4.81l2.97 2.97a.75.75 0 0 1 0 1.06Z"></path></svg></span><span data-component="text" class="prc-Button-Label-pTQ3x">Files</span></span></button><button data-component="IconButton" type="button" data-testid="collapse-file-tree-button" aria-expanded="true" aria-controls="repos-file-tree" class="prc-Button-ButtonBase-c50BI position-relative ExpandFileTreeButton-module__expandButton--gL4is ExpandFileTreeButton-module__filesButtonBreakpoint--WfX9t fgColor-muted prc-Button-IconButton-szpyj" data-loading="false" data-no-visuals="true" data-size="medium" data-variant="invisible" aria-describedby=":R756mplab:-loading-announcement" aria-labelledby=":R156mplab:"><svg aria-hidden="true" focusable="false" class="octicon octicon-sidebar-expand" viewBox="0 0 16 16" width="16" height="16" fill="currentColor" display="inline-block" overflow="visible" style="vertical-align:text-bottom"><path d="m4.177 7.823 2.396-2.396A.25.25 0 0 1 7 5.604v4.792a.25.25 0 0 1-.427.177L4.177 8.177a.25.25 0 0 1 0-.354Z"></path><path d="M0 1.75C0 .784.784 0 1.75 0h12.5C15.216 0 16 .784 16 1.75v12.5A1.75 1.75 0 0 1 14.25 16H1.75A1.75 1.75 0 0 1 0 14.25Zm1.75-.25a.25.25 0 0 0-.25.25v12.5c0 .138.112.25.25.25H9.5v-13Zm12.5 13a.25.25 0 0 0 .25-.25V1.75a.25.25 0 0 0-.25-.25H11v13Z"></path></svg></button><span class="prc-TooltipV2-Tooltip-cYMVY" data-direction="se" aria-hidden="true" id=":R156mplab:">Collapse file tree</span><button hidden="" data-testid="" data-hotkey-scope="read-only-cursor-text-area"></button></h2><h2 class="Box-sc-g0xbh4-0 kOkWgo prc-Heading-Heading-6CmGO">Files</h2></div><div class="ReposFileTreePane-module__Box_2--uC_pl"><div class="ReposFileTreePane-module__Box_3--Tgoja"><button type="button" aria-haspopup="true" aria-expanded="false" tabindex="0" aria-label="main branch" data-testid="anchor-button" class="Box-sc-g0xbh4-0 JMXqM prc-Button-ButtonBase-c50BI react-repos-tree-pane-ref-selector width-full ref-selector-class" data-loading="false" data-size="medium" data-variant="default" aria-describedby="branch-picker-repos-header-ref-selector-loading-announcement" id="branch-picker-repos-header-ref-selector"><span data-component="buttonContent" class="Box-sc-g0xbh4-0 gUkoLg prc-Button-ButtonContent-HKbr-"><span data-component="text" class="prc-Button-Label-pTQ3x"><div class="Box-sc-g0xbh4-0 bZBlpz"><div class="Box-sc-g0xbh4-0 bJjzmO"><svg aria-hidden="true" focusable="false" class="octicon octicon-git-branch" viewBox="0 0 16 16" width="16" height="16" fill="currentColor" display="inline-block" overflow="visible" style="vertical-align:text-bottom"><path d="M9.5 3.25a2.25 2.25 0 1 1 3 2.122V6A2.5 2.5 0 0 1 10 8.5H6a1 1 0 0 0-1 1v1.128a2.251 2.251 0 1 1-1.5 0V5.372a2.25 2.25 0 1 1 1.5 0v1.836A2.493 2.493 0 0 1 6 7h4a1 1 0 0 0 1-1v-.628A2.25 2.25 0 0 1 9.5 3.25Zm-6 0a.75.75 0 1 0 1.5 0 .75.75 0 0 0-1.5 0Zm8.25-.75a.75.75 0 1 0 0 1.5.75.75 0 0 0 0-1.5ZM4.25 12a.75.75 0 1 0 0 1.5.75.75 0 0 0 0-1.5Z"></path></svg></div><div class="Box-sc-g0xbh4-0 ffLUq ref-selector-button-text-container"><span class="Box-sc-g0xbh4-0 bmcJak prc-Text-Text-0ima0"> <!-- -->main</span></div></div></span><span data-component="trailingVisual" class="prc-Button-Visual-2epfX prc-Button-VisualWrap-Db-eB"><svg aria-hidden="true" focusable="false" class="octicon octicon-triangle-down" viewBox="0 0 16 16" width="16" height="16" fill="currentColor" display="inline-block" overflow="visible" style="vertical-align:text-bottom"><path d="m4.427 7.427 3.396 3.396a.25.25 0 0 0 .354 0l3.396-3.396A.25.25 0 0 0 11.396 7H4.604a.25.25 0 0 0-.177.427Z"></path></svg></span></span></button><button hidden="" data-hotkey-scope="read-only-cursor-text-area"></button></div><div class="ReposFileTreePane-module__Box_4--brBpx"><a data-component="IconButton" type="button" class="prc-Button-ButtonBase-c50BI ReposFileTreePane-module__IconButton--tNSTv prc-Button-IconButton-szpyj" data-loading="false" data-no-visuals="true" data-size="medium" data-variant="default" aria-describedby=":R6q6mplab:-loading-announcement" aria-labelledby=":Rq6mplab:" href="/37nomad/Facial-Expression-Recognition-Using-Self-Attention/new/main" data-discover="true"><svg aria-hidden="true" focusable="false" class="octicon octicon-plus" viewBox="0 0 16 16" width="16" height="16" fill="currentColor" display="inline-block" overflow="visible" style="vertical-align:text-bottom"><path d="M7.75 2a.75.75 0 0 1 .75.75V7h4.25a.75.75 0 0 1 0 1.5H8.5v4.25a.75.75 0 0 1-1.5 0V8.5H2.75a.75.75 0 0 1 0-1.5H7V2.75A.75.75 0 0 1 7.75 2Z"></path></svg></a><span class="prc-TooltipV2-Tooltip-cYMVY" data-direction="n" aria-hidden="true" id=":Rq6mplab:">Add file</span><button data-component="IconButton" type="button" class="Box-sc-g0xbh4-0 dPUXSa prc-Button-ButtonBase-c50BI SearchButton-module__IconButton--LGy8b prc-Button-IconButton-szpyj" data-loading="false" data-no-visuals="true" data-size="medium" data-variant="default" aria-describedby=":Rra6mplab:-loading-announcement" aria-labelledby=":R3a6mplab:"><svg aria-hidden="true" focusable="false" class="octicon octicon-search" viewBox="0 0 16 16" width="16" height="16" fill="currentColor" display="inline-block" overflow="visible" style="vertical-align:text-bottom"><path d="M10.68 11.74a6 6 0 0 1-7.922-8.982 6 6 0 0 1 8.982 7.922l3.04 3.04a.749.749 0 0 1-.326 1.275.749.749 0 0 1-.734-.215ZM11.5 7a4.499 4.499 0 1 0-8.997 0A4.499 4.499 0 0 0 11.5 7Z"></path></svg></button><span class="prc-TooltipV2-Tooltip-cYMVY" data-direction="nw" aria-hidden="true" id=":R3a6mplab:">Search this repository</span><button hidden="" data-testid="" data-hotkey-scope="read-only-cursor-text-area"></button></div></div></div><div class="Box-sc-g0xbh4-0 jLLPHh ReposFileTreePane-module__FileResultsList--t38MI FileResultsList-module__Box_1--ZnWjQ"><span class="FileResultsList-module__FilesSearchBox--J5FtW FilesSearchBox-module__TextInput--LKpMn TextInput-wrapper prc-components-TextInputWrapper-i1ofR prc-components-TextInputBaseWrapper-ueK9q" data-leading-visual="true" data-trailing-visual="true" aria-busy="false"><span class="TextInput-icon" id=":R5amplab:" aria-hidden="true"><svg aria-hidden="true" focusable="false" class="octicon octicon-search" viewBox="0 0 16 16" width="16" height="16" fill="currentColor" display="inline-block" overflow="visible" style="vertical-align:text-bottom"><path d="M10.68 11.74a6 6 0 0 1-7.922-8.982 6 6 0 0 1 8.982 7.922l3.04 3.04a.749.749 0 0 1-.326 1.275.749.749 0 0 1-.734-.215ZM11.5 7a4.499 4.499 0 1 0-8.997 0A4.499 4.499 0 0 0 11.5 7Z"></path></svg></span><input type="text" aria-label="Go to file" role="combobox" aria-controls="file-results-list" aria-expanded="false" aria-haspopup="dialog" autoCorrect="off" spellcheck="false" placeholder="Go to file" aria-describedby=":R5amplab: :R5amplabH1:" data-component="input" class="prc-components-Input-Ic-y8" value=""/><span class="TextInput-icon" id=":R5amplabH1:" aria-hidden="true"><div class="FilesSearchBox-module__Box--Ye6rL"><kbd>t</kbd></div></span></span></div><button hidden="" data-testid="" data-hotkey-scope="read-only-cursor-text-area"></button><button hidden=""></button><div class="Box-sc-g0xbh4-0 jLLPHh ReposFileTreePane-module__Box_5--tQNH_"><div class="react-tree-show-tree-items"><div class="ReposFileTreeView-module__Box--V2jWA" data-testid="repos-file-tree-container"><nav aria-label="File Tree Navigation"><span role="status" aria-live="polite" aria-atomic="true" class="_VisuallyHidden__VisuallyHidden-sc-11jhm7a-0 brGdpi"></span><ul role="tree" aria-label="Files" data-truncate-text="true" class="prc-TreeView-TreeViewRootUlStyles-eZtxW"><li class="PRIVATE_TreeView-item prc-TreeView-TreeViewItem-ShJr0" tabindex="0" id=".ipynb_checkpoints-item" role="treeitem" aria-labelledby=":R3pimplab:" aria-describedby=":R3pimplabH1:" aria-level="1" aria-expanded="false" aria-selected="false"><div class="PRIVATE_TreeView-item-container prc-TreeView-TreeViewItemContainer--2Rkn" style="--level:1;content-visibility:auto;contain-intrinsic-size:auto 2rem"><div style="grid-area:spacer;display:flex"><div style="width:100%;display:flex"></div></div><div class="PRIVATE_TreeView-item-toggle PRIVATE_TreeView-item-toggle--hover PRIVATE_TreeView-item-toggle--end prc-TreeView-TreeViewItemToggle-gWUdE prc-TreeView-TreeViewItemToggleHover-nEgP- prc-TreeView-TreeViewItemToggleEnd-t-AEB"><svg aria-hidden="true" focusable="false" class="octicon octicon-chevron-right" viewBox="0 0 12 12" width="12" height="12" fill="currentColor" display="inline-block" overflow="visible" style="vertical-align:text-bottom"><path d="M4.7 10c-.2 0-.4-.1-.5-.2-.3-.3-.3-.8 0-1.1L6.9 6 4.2 3.3c-.3-.3-.3-.8 0-1.1.3-.3.8-.3 1.1 0l3.3 3.2c.3.3.3.8 0 1.1L5.3 9.7c-.2.2-.4.3-.6.3Z"></path></svg></div><div id=":R3pimplab:" class="PRIVATE_TreeView-item-content prc-TreeView-TreeViewItemContent-f0r0b"><div class="PRIVATE_VisuallyHidden prc-TreeView-TreeViewVisuallyHidden-4-mPv" aria-hidden="true" id=":R3pimplabH1:"></div><div class="PRIVATE_TreeView-item-visual prc-TreeView-TreeViewItemVisual-dRlGq" aria-hidden="true"><div class="PRIVATE_TreeView-directory-icon prc-TreeView-TreeViewDirectoryIcon-PHbeP"><svg aria-hidden="true" focusable="false" class="octicon octicon-file-directory-fill" viewBox="0 0 16 16" width="16" height="16" fill="currentColor" display="inline-block" overflow="visible" style="vertical-align:text-bottom"><path d="M1.75 1A1.75 1.75 0 0 0 0 2.75v10.5C0 14.216.784 15 1.75 15h12.5A1.75 1.75 0 0 0 16 13.25v-8.5A1.75 1.75 0 0 0 14.25 3H7.5a.25.25 0 0 1-.2-.1l-.9-1.2C6.07 1.26 5.55 1 5 1H1.75Z"></path></svg></div></div><span class="PRIVATE_TreeView-item-content-text prc-TreeView-TreeViewItemContentText-smZM-"><span>.ipynb_checkpoints</span></span></div></div></li><li class="PRIVATE_TreeView-item prc-TreeView-TreeViewItem-ShJr0" tabindex="0" id="FER Readme-item" role="treeitem" aria-labelledby=":R5pimplab:" aria-describedby=":R5pimplabH1:" aria-level="1" aria-expanded="false" aria-selected="false"><div class="PRIVATE_TreeView-item-container prc-TreeView-TreeViewItemContainer--2Rkn" style="--level:1;content-visibility:auto;contain-intrinsic-size:auto 2rem"><div style="grid-area:spacer;display:flex"><div style="width:100%;display:flex"></div></div><div class="PRIVATE_TreeView-item-toggle PRIVATE_TreeView-item-toggle--hover PRIVATE_TreeView-item-toggle--end prc-TreeView-TreeViewItemToggle-gWUdE prc-TreeView-TreeViewItemToggleHover-nEgP- prc-TreeView-TreeViewItemToggleEnd-t-AEB"><svg aria-hidden="true" focusable="false" class="octicon octicon-chevron-right" viewBox="0 0 12 12" width="12" height="12" fill="currentColor" display="inline-block" overflow="visible" style="vertical-align:text-bottom"><path d="M4.7 10c-.2 0-.4-.1-.5-.2-.3-.3-.3-.8 0-1.1L6.9 6 4.2 3.3c-.3-.3-.3-.8 0-1.1.3-.3.8-.3 1.1 0l3.3 3.2c.3.3.3.8 0 1.1L5.3 9.7c-.2.2-.4.3-.6.3Z"></path></svg></div><div id=":R5pimplab:" class="PRIVATE_TreeView-item-content prc-TreeView-TreeViewItemContent-f0r0b"><div class="PRIVATE_VisuallyHidden prc-TreeView-TreeViewVisuallyHidden-4-mPv" aria-hidden="true" id=":R5pimplabH1:"></div><div class="PRIVATE_TreeView-item-visual prc-TreeView-TreeViewItemVisual-dRlGq" aria-hidden="true"><div class="PRIVATE_TreeView-directory-icon prc-TreeView-TreeViewDirectoryIcon-PHbeP"><svg aria-hidden="true" focusable="false" class="octicon octicon-file-directory-fill" viewBox="0 0 16 16" width="16" height="16" fill="currentColor" display="inline-block" overflow="visible" style="vertical-align:text-bottom"><path d="M1.75 1A1.75 1.75 0 0 0 0 2.75v10.5C0 14.216.784 15 1.75 15h12.5A1.75 1.75 0 0 0 16 13.25v-8.5A1.75 1.75 0 0 0 14.25 3H7.5a.25.25 0 0 1-.2-.1l-.9-1.2C6.07 1.26 5.55 1 5 1H1.75Z"></path></svg></div></div><span class="PRIVATE_TreeView-item-content-text prc-TreeView-TreeViewItemContentText-smZM-"><span>FER Readme</span></span></div></div></li><li class="PRIVATE_TreeView-item prc-TreeView-TreeViewItem-ShJr0" tabindex="0" id="epoch-models-item" role="treeitem" aria-labelledby=":R7pimplab:" aria-describedby=":R7pimplabH1:" aria-level="1" aria-expanded="false" aria-selected="false"><div class="PRIVATE_TreeView-item-container prc-TreeView-TreeViewItemContainer--2Rkn" style="--level:1;content-visibility:auto;contain-intrinsic-size:auto 2rem"><div style="grid-area:spacer;display:flex"><div style="width:100%;display:flex"></div></div><div class="PRIVATE_TreeView-item-toggle PRIVATE_TreeView-item-toggle--hover PRIVATE_TreeView-item-toggle--end prc-TreeView-TreeViewItemToggle-gWUdE prc-TreeView-TreeViewItemToggleHover-nEgP- prc-TreeView-TreeViewItemToggleEnd-t-AEB"><svg aria-hidden="true" focusable="false" class="octicon octicon-chevron-right" viewBox="0 0 12 12" width="12" height="12" fill="currentColor" display="inline-block" overflow="visible" style="vertical-align:text-bottom"><path d="M4.7 10c-.2 0-.4-.1-.5-.2-.3-.3-.3-.8 0-1.1L6.9 6 4.2 3.3c-.3-.3-.3-.8 0-1.1.3-.3.8-.3 1.1 0l3.3 3.2c.3.3.3.8 0 1.1L5.3 9.7c-.2.2-.4.3-.6.3Z"></path></svg></div><div id=":R7pimplab:" class="PRIVATE_TreeView-item-content prc-TreeView-TreeViewItemContent-f0r0b"><div class="PRIVATE_VisuallyHidden prc-TreeView-TreeViewVisuallyHidden-4-mPv" aria-hidden="true" id=":R7pimplabH1:"></div><div class="PRIVATE_TreeView-item-visual prc-TreeView-TreeViewItemVisual-dRlGq" aria-hidden="true"><div class="PRIVATE_TreeView-directory-icon prc-TreeView-TreeViewDirectoryIcon-PHbeP"><svg aria-hidden="true" focusable="false" class="octicon octicon-file-directory-fill" viewBox="0 0 16 16" width="16" height="16" fill="currentColor" display="inline-block" overflow="visible" style="vertical-align:text-bottom"><path d="M1.75 1A1.75 1.75 0 0 0 0 2.75v10.5C0 14.216.784 15 1.75 15h12.5A1.75 1.75 0 0 0 16 13.25v-8.5A1.75 1.75 0 0 0 14.25 3H7.5a.25.25 0 0 1-.2-.1l-.9-1.2C6.07 1.26 5.55 1 5 1H1.75Z"></path></svg></div></div><span class="PRIVATE_TreeView-item-content-text prc-TreeView-TreeViewItemContentText-smZM-"><span>epoch-models</span></span></div></div></li><li class="PRIVATE_TreeView-item prc-TreeView-TreeViewItem-ShJr0" tabindex="0" id="README.md-item" role="treeitem" aria-labelledby=":R9pimplab:" aria-describedby=":R9pimplabH1:" aria-level="1" aria-selected="false"><div class="PRIVATE_TreeView-item-container prc-TreeView-TreeViewItemContainer--2Rkn" style="--level:1;content-visibility:auto;contain-intrinsic-size:auto 2rem"><div style="grid-area:spacer;display:flex"><div style="width:100%;display:flex"></div></div><div id=":R9pimplab:" class="PRIVATE_TreeView-item-content prc-TreeView-TreeViewItemContent-f0r0b"><div class="PRIVATE_VisuallyHidden prc-TreeView-TreeViewVisuallyHidden-4-mPv" aria-hidden="true" id=":R9pimplabH1:"></div><div class="PRIVATE_TreeView-item-visual prc-TreeView-TreeViewItemVisual-dRlGq" aria-hidden="true"><svg aria-hidden="true" focusable="false" class="octicon octicon-file" viewBox="0 0 16 16" width="16" height="16" fill="currentColor" display="inline-block" overflow="visible" style="vertical-align:text-bottom"><path d="M2 1.75C2 .784 2.784 0 3.75 0h6.586c.464 0 .909.184 1.237.513l2.914 2.914c.329.328.513.773.513 1.237v9.586A1.75 1.75 0 0 1 13.25 16h-9.5A1.75 1.75 0 0 1 2 14.25Zm1.75-.25a.25.25 0 0 0-.25.25v12.5c0 .138.112.25.25.25h9.5a.25.25 0 0 0 .25-.25V6h-2.75A1.75 1.75 0 0 1 9 4.25V1.5Zm6.75.062V4.25c0 .138.112.25.25.25h2.688l-.011-.013-2.914-2.914-.013-.011Z"></path></svg></div><span class="PRIVATE_TreeView-item-content-text prc-TreeView-TreeViewItemContentText-smZM-"><span>README.md</span></span></div></div></li><li class="PRIVATE_TreeView-item prc-TreeView-TreeViewItem-ShJr0" tabindex="0" id="model-with-mlp-1-head-aug-patch-extraction.ipynb-item" role="treeitem" aria-labelledby=":Rbpimplab:" aria-describedby=":RbpimplabH1:" aria-level="1" aria-current="true" aria-selected="false"><div class="PRIVATE_TreeView-item-container prc-TreeView-TreeViewItemContainer--2Rkn" style="--level:1"><div style="grid-area:spacer;display:flex"><div style="width:100%;display:flex"></div></div><div id=":Rbpimplab:" class="PRIVATE_TreeView-item-content prc-TreeView-TreeViewItemContent-f0r0b"><div class="PRIVATE_VisuallyHidden prc-TreeView-TreeViewVisuallyHidden-4-mPv" aria-hidden="true" id=":RbpimplabH1:"></div><div class="PRIVATE_TreeView-item-visual prc-TreeView-TreeViewItemVisual-dRlGq" aria-hidden="true"><svg aria-hidden="true" focusable="false" class="octicon octicon-file" viewBox="0 0 16 16" width="16" height="16" fill="currentColor" display="inline-block" overflow="visible" style="vertical-align:text-bottom"><path d="M2 1.75C2 .784 2.784 0 3.75 0h6.586c.464 0 .909.184 1.237.513l2.914 2.914c.329.328.513.773.513 1.237v9.586A1.75 1.75 0 0 1 13.25 16h-9.5A1.75 1.75 0 0 1 2 14.25Zm1.75-.25a.25.25 0 0 0-.25.25v12.5c0 .138.112.25.25.25h9.5a.25.25 0 0 0 .25-.25V6h-2.75A1.75 1.75 0 0 1 9 4.25V1.5Zm6.75.062V4.25c0 .138.112.25.25.25h2.688l-.011-.013-2.914-2.914-.013-.011Z"></path></svg></div><span class="PRIVATE_TreeView-item-content-text prc-TreeView-TreeViewItemContentText-smZM-"><span>model-with-mlp-1-head-aug-patch-extraction.ipynb</span></span></div></div></li></ul></nav></div></div></div></div></div></div><div class="prc-PageLayout-VerticalDivider-4A4Qm prc-PageLayout-PaneVerticalDivider-1c9vy" data-variant="none" data-position="start" style="--spacing:var(--spacing-none)"><div role="slider" aria-label="Draggable pane splitter" aria-valuemin="0" aria-valuemax="0" aria-valuenow="0" aria-valuetext="Pane width 0 pixels" tabindex="0" class="Box-sc-g0xbh4-0 fFMzrG"></div></div></div></div><div class="prc-PageLayout-ContentWrapper-b-QRo CodeView-module__SplitPageLayout_Content--qxR1C" data-is-hidden="false"><div class="prc-PageLayout-Content--F7-I" data-width="full" style="--spacing:var(--spacing-none)"><div data-selector="repos-split-pane-content" tabindex="0" class="Box-sc-g0xbh4-0 leYMvG"><div class="Box-sc-g0xbh4-0 KMPzq"><div class="container CodeViewHeader-module__Box--PofRM"><div class="px-3 pt-3 pb-0" id="StickyHeader"><div class="CodeViewHeader-module__Box_1--KpLzV"><div class="CodeViewHeader-module__Box_2--xzDOt"><div class="CodeViewHeader-module__Box_6--iStzT"><div class="Box-sc-g0xbh4-0 cEytCf"><nav data-testid="breadcrumbs" aria-labelledby="repos-header-breadcrumb--wide-heading" id="repos-header-breadcrumb--wide" class="Box-sc-g0xbh4-0 fzFXnm"><h2 class="sr-only ScreenReaderHeading-module__userSelectNone--vW4Cq prc-Heading-Heading-6CmGO" data-testid="screen-reader-heading" id="repos-header-breadcrumb--wide-heading">Breadcrumbs</h2><ol class="Box-sc-g0xbh4-0 iMnkmv"><li class="Box-sc-g0xbh4-0 ghzDag"><a class="Box-sc-g0xbh4-0 kHuKdh prc-Link-Link-85e08" sx="[object Object]" data-testid="breadcrumbs-repo-link" href="/37nomad/Facial-Expression-Recognition-Using-Self-Attention/tree/main" data-discover="true">Facial-Expression-Recognition-Using-Self-Attention</a></li></ol></nav><div data-testid="breadcrumbs-filename" class="Box-sc-g0xbh4-0 ghzDag"><span class="Box-sc-g0xbh4-0 hXyrdx prc-Text-Text-0ima0" aria-hidden="true">/</span><h1 class="Box-sc-g0xbh4-0 jGhzSQ prc-Heading-Heading-6CmGO" tabindex="-1" id="file-name-id-wide">model-with-mlp-1-head-aug-patch-extraction.ipynb</h1></div><button data-component="IconButton" type="button" class="prc-Button-ButtonBase-c50BI ml-2 prc-Button-IconButton-szpyj" data-loading="false" data-no-visuals="true" data-size="small" data-variant="invisible" aria-describedby=":Rvb9lab:-loading-announcement" aria-labelledby=":R3b9lab:"><svg aria-hidden="true" focusable="false" class="octicon octicon-copy" viewBox="0 0 16 16" width="16" height="16" fill="currentColor" display="inline-block" overflow="visible" style="vertical-align:text-bottom"><path d="M0 6.75C0 5.784.784 5 1.75 5h1.5a.75.75 0 0 1 0 1.5h-1.5a.25.25 0 0 0-.25.25v7.5c0 .138.112.25.25.25h7.5a.25.25 0 0 0 .25-.25v-1.5a.75.75 0 0 1 1.5 0v1.5A1.75 1.75 0 0 1 9.25 16h-7.5A1.75 1.75 0 0 1 0 14.25Z"></path><path d="M5 1.75C5 .784 5.784 0 6.75 0h7.5C15.216 0 16 .784 16 1.75v7.5A1.75 1.75 0 0 1 14.25 11h-7.5A1.75 1.75 0 0 1 5 9.25Zm1.75-.25a.25.25 0 0 0-.25.25v7.5c0 .138.112.25.25.25h7.5a.25.25 0 0 0 .25-.25v-7.5a.25.25 0 0 0-.25-.25Z"></path></svg></button><span class="CopyToClipboardButton-module__tooltip--Dq1IB prc-TooltipV2-Tooltip-cYMVY" data-direction="nw" aria-label="Copy path" aria-hidden="true" id=":R3b9lab:">Copy path</span></div></div><div class="react-code-view-header-element--wide"><div class="CodeViewHeader-module__Box_7--FZfkg"><div class="d-flex gap-2"> <button type="button" class="Box-sc-g0xbh4-0 fjrFuv prc-Button-ButtonBase-c50BI NavigationMenu-module__Button--SJihq" data-loading="false" data-no-visuals="true" data-size="medium" data-variant="default" aria-describedby=":R1ahj9lab:-loading-announcement"><span data-component="buttonContent" class="Box-sc-g0xbh4-0 gUkoLg prc-Button-ButtonContent-HKbr-"><span data-component="text" class="prc-Button-Label-pTQ3x">Blame</span></span></button><button hidden="" data-testid="" data-hotkey-scope="read-only-cursor-text-area"></button><button data-component="IconButton" type="button" data-testid="more-file-actions-button-nav-menu-wide" aria-haspopup="true" aria-expanded="false" tabindex="0" class="prc-Button-ButtonBase-c50BI js-blob-dropdown-click NavigationMenu-module__IconButton--NqJ_L prc-Button-IconButton-szpyj" data-loading="false" data-no-visuals="true" data-size="medium" data-variant="default" aria-describedby=":Rihj9lab:-loading-announcement" aria-labelledby=":Rfihj9lab:" id=":Rihj9lab:"><svg aria-hidden="true" focusable="false" class="octicon octicon-kebab-horizontal" viewBox="0 0 16 16" width="16" height="16" fill="currentColor" display="inline-block" overflow="visible" style="vertical-align:text-bottom"><path d="M8 9a1.5 1.5 0 1 0 0-3 1.5 1.5 0 0 0 0 3ZM1.5 9a1.5 1.5 0 1 0 0-3 1.5 1.5 0 0 0 0 3Zm13 0a1.5 1.5 0 1 0 0-3 1.5 1.5 0 0 0 0 3Z"></path></svg></button><span class="prc-TooltipV2-Tooltip-cYMVY" data-direction="nw" aria-hidden="true" id=":Rfihj9lab:">More file actions</span> </div></div></div><div class="react-code-view-header-element--narrow"><div class="CodeViewHeader-module__Box_7--FZfkg"><div class="d-flex gap-2"> <button type="button" class="Box-sc-g0xbh4-0 fjrFuv prc-Button-ButtonBase-c50BI NavigationMenu-module__Button--SJihq" data-loading="false" data-no-visuals="true" data-size="medium" data-variant="default" aria-describedby=":R1ahr9lab:-loading-announcement"><span data-component="buttonContent" class="Box-sc-g0xbh4-0 gUkoLg prc-Button-ButtonContent-HKbr-"><span data-component="text" class="prc-Button-Label-pTQ3x">Blame</span></span></button><button hidden="" data-testid="" data-hotkey-scope="read-only-cursor-text-area"></button><button data-component="IconButton" type="button" data-testid="more-file-actions-button-nav-menu-narrow" aria-haspopup="true" aria-expanded="false" tabindex="0" class="prc-Button-ButtonBase-c50BI js-blob-dropdown-click NavigationMenu-module__IconButton--NqJ_L prc-Button-IconButton-szpyj" data-loading="false" data-no-visuals="true" data-size="medium" data-variant="default" aria-describedby=":Rihr9lab:-loading-announcement" aria-labelledby=":Rfihr9lab:" id=":Rihr9lab:"><svg aria-hidden="true" focusable="false" class="octicon octicon-kebab-horizontal" viewBox="0 0 16 16" width="16" height="16" fill="currentColor" display="inline-block" overflow="visible" style="vertical-align:text-bottom"><path d="M8 9a1.5 1.5 0 1 0 0-3 1.5 1.5 0 0 0 0 3ZM1.5 9a1.5 1.5 0 1 0 0-3 1.5 1.5 0 0 0 0 3Zm13 0a1.5 1.5 0 1 0 0-3 1.5 1.5 0 0 0 0 3Z"></path></svg></button><span class="prc-TooltipV2-Tooltip-cYMVY" data-direction="nw" aria-hidden="true" id=":Rfihr9lab:">More file actions</span> </div></div></div></div></div></div></div></div><div class="Box-sc-g0xbh4-0 dJxjrT react-code-view-bottom-padding"> <div class="BlobTopBanners-module__Box--g_bGk"></div> <!-- --> <!-- --> </div><div class="Box-sc-g0xbh4-0 dJxjrT"> <!-- --> <!-- --> <div class="d-flex flex-column border rounded-2 mb-3 pl-1"><div class="LatestCommit-module__Box--En0AE"><h2 class="sr-only ScreenReaderHeading-module__userSelectNone--vW4Cq prc-Heading-Heading-6CmGO" data-testid="screen-reader-heading">Latest commit</h2><div style="width:120px" class="Skeleton Skeleton--text" data-testid="loading"> </div><div class="d-flex flex-shrink-0 gap-2"><div data-testid="latest-commit-details" class="d-none d-sm-flex flex-items-center"></div><div class="d-flex gap-2"><h2 class="sr-only ScreenReaderHeading-module__userSelectNone--vW4Cq prc-Heading-Heading-6CmGO" data-testid="screen-reader-heading">History</h2><a href="/37nomad/Facial-Expression-Recognition-Using-Self-Attention/commits/main/model-with-mlp-1-head-aug-patch-extraction.ipynb" class="prc-Button-ButtonBase-c50BI d-none d-lg-flex LinkButton-module__code-view-link-button--xvCGA flex-items-center fgColor-default" data-loading="false" data-size="small" data-variant="invisible" aria-describedby=":R1bdal9lab:-loading-announcement"><span data-component="buttonContent" data-align="center" class="prc-Button-ButtonContent-HKbr-"><span data-component="leadingVisual" class="prc-Button-Visual-2epfX prc-Button-VisualWrap-Db-eB"><svg aria-hidden="true" focusable="false" class="octicon octicon-history" viewBox="0 0 16 16" width="16" height="16" fill="currentColor" display="inline-block" overflow="visible" style="vertical-align:text-bottom"><path d="m.427 1.927 1.215 1.215a8.002 8.002 0 1 1-1.6 5.685.75.75 0 1 1 1.493-.154 6.5 6.5 0 1 0 1.18-4.458l1.358 1.358A.25.25 0 0 1 3.896 6H.25A.25.25 0 0 1 0 5.75V2.104a.25.25 0 0 1 .427-.177ZM7.75 4a.75.75 0 0 1 .75.75v2.992l2.028.812a.75.75 0 0 1-.557 1.392l-2.5-1A.751.751 0 0 1 7 8.25v-3.5A.75.75 0 0 1 7.75 4Z"></path></svg></span><span data-component="text" class="prc-Button-Label-pTQ3x"><span class="fgColor-default">History</span></span></span></a><div class="d-sm-none"></div><div class="d-flex d-lg-none"><span role="tooltip" aria-label="History" id="history-icon-button-tooltip" class="Tooltip__TooltipBase-sc-17tf59c-0 fiSvBN tooltipped-n"><a aria-label="View commit history for this file." href="/37nomad/Facial-Expression-Recognition-Using-Self-Attention/commits/main/model-with-mlp-1-head-aug-patch-extraction.ipynb" class="prc-Button-ButtonBase-c50BI LinkButton-module__code-view-link-button--xvCGA flex-items-center fgColor-default" data-loading="false" data-size="small" data-variant="invisible" aria-describedby=":R6bdal9lab:-loading-announcement history-icon-button-tooltip"><span data-component="buttonContent" data-align="center" class="prc-Button-ButtonContent-HKbr-"><span data-component="leadingVisual" class="prc-Button-Visual-2epfX prc-Button-VisualWrap-Db-eB"><svg aria-hidden="true" focusable="false" class="octicon octicon-history" viewBox="0 0 16 16" width="16" height="16" fill="currentColor" display="inline-block" overflow="visible" style="vertical-align:text-bottom"><path d="m.427 1.927 1.215 1.215a8.002 8.002 0 1 1-1.6 5.685.75.75 0 1 1 1.493-.154 6.5 6.5 0 1 0 1.18-4.458l1.358 1.358A.25.25 0 0 1 3.896 6H.25A.25.25 0 0 1 0 5.75V2.104a.25.25 0 0 1 .427-.177ZM7.75 4a.75.75 0 0 1 .75.75v2.992l2.028.812a.75.75 0 0 1-.557 1.392l-2.5-1A.751.751 0 0 1 7 8.25v-3.5A.75.75 0 0 1 7.75 4Z"></path></svg></span></span></a></span></div></div></div></div></div><div class="Box-sc-g0xbh4-0 ldRxiI"><div class="Box-sc-g0xbh4-0 fVkfyA container"><div class="Box-sc-g0xbh4-0 gNAmSV react-code-size-details-banner"><div class="react-code-size-details-banner CodeSizeDetails-module__Box--QdxnQ"><div class="text-mono CodeSizeDetails-module__Box_1--_uFDs"><div title="128 KB" data-testid="blob-size" class="Truncate__StyledTruncate-sc-23o1d2-0 bgsFir CodeSizeDetails-module__Truncate_1--er0Uk"><span>2839 lines (2839 loc) · 128 KB</span></div></div></div><div class="react-code-size-details-banner"><button style="--button-color:fg.default" type="button" aria-haspopup="true" aria-expanded="false" tabindex="0" class="Box-sc-g0xbh4-0 jlVuVO prc-Button-ButtonBase-c50BI" data-loading="false" data-size="small" data-variant="invisible" aria-describedby=":R9fal9lab:-loading-announcement" id=":R9fal9lab:"><span data-component="buttonContent" class="Box-sc-g0xbh4-0 gUkoLg prc-Button-ButtonContent-HKbr-"><span data-component="leadingVisual" class="prc-Button-Visual-2epfX prc-Button-VisualWrap-Db-eB"><svg aria-hidden="true" focusable="false" class="octicon octicon-copilot" viewBox="0 0 16 16" width="16" height="16" fill="currentColor" display="inline-block" overflow="visible" style="vertical-align:text-bottom"><path d="M7.998 15.035c-4.562 0-7.873-2.914-7.998-3.749V9.338c.085-.628.677-1.686 1.588-2.065.013-.07.024-.143.036-.218.029-.183.06-.384.126-.612-.201-.508-.254-1.084-.254-1.656 0-.87.128-1.769.693-2.484.579-.733 1.494-1.124 2.724-1.261 1.206-.134 2.262.034 2.944.765.05.053.096.108.139.165.044-.057.094-.112.143-.165.682-.731 1.738-.899 2.944-.765 1.23.137 2.145.528 2.724 1.261.566.715.693 1.614.693 2.484 0 .572-.053 1.148-.254 1.656.066.228.098.429.126.612.012.076.024.148.037.218.924.385 1.522 1.471 1.591 2.095v1.872c0 .766-3.351 3.795-8.002 3.795Zm0-1.485c2.28 0 4.584-1.11 5.002-1.433V7.862l-.023-.116c-.49.21-1.075.291-1.727.291-1.146 0-2.059-.327-2.71-.991A3.222 3.222 0 0 1 8 6.303a3.24 3.24 0 0 1-.544.743c-.65.664-1.563.991-2.71.991-.652 0-1.236-.081-1.727-.291l-.023.116v4.255c.419.323 2.722 1.433 5.002 1.433ZM6.762 2.83c-.193-.206-.637-.413-1.682-.297-1.019.113-1.479.404-1.713.7-.247.312-.369.789-.369 1.554 0 .793.129 1.171.308 1.371.162.181.519.379 1.442.379.853 0 1.339-.235 1.638-.54.315-.322.527-.827.617-1.553.117-.935-.037-1.395-.241-1.614Zm4.155-.297c-1.044-.116-1.488.091-1.681.297-.204.219-.359.679-.242 1.614.091.726.303 1.231.618 1.553.299.305.784.54 1.638.54.922 0 1.28-.198 1.442-.379.179-.2.308-.578.308-1.371 0-.765-.123-1.242-.37-1.554-.233-.296-.693-.587-1.713-.7Z"></path><path d="M6.25 9.037a.75.75 0 0 1 .75.75v1.501a.75.75 0 0 1-1.5 0V9.787a.75.75 0 0 1 .75-.75Zm4.25.75v1.501a.75.75 0 0 1-1.5 0V9.787a.75.75 0 0 1 1.5 0Z"></path></svg></span><span data-component="text" class="prc-Button-Label-pTQ3x">Code 55% faster with GitHub Copilot</span></span></button></div></div><div class="Box-sc-g0xbh4-0 jdLMhu react-blob-view-header-sticky" id="repos-sticky-header"><div class="BlobViewHeader-module__Box--pvsIA"><div class="react-blob-sticky-header"><div class="Box-sc-g0xbh4-0 hqwSEx"><div class="FileNameStickyHeader-module__Box_5--xBJ2J"><div class="Box-sc-g0xbh4-0 fHind"><nav data-testid="breadcrumbs" aria-labelledby="sticky-breadcrumb-heading" id="sticky-breadcrumb" class="Box-sc-g0xbh4-0 fzFXnm"><h2 class="sr-only ScreenReaderHeading-module__userSelectNone--vW4Cq prc-Heading-Heading-6CmGO" data-testid="screen-reader-heading" id="sticky-breadcrumb-heading">Breadcrumbs</h2><ol class="Box-sc-g0xbh4-0 iMnkmv"><li class="Box-sc-g0xbh4-0 ghzDag"><a class="Box-sc-g0xbh4-0 kHuKdh prc-Link-Link-85e08" sx="[object Object]" data-testid="breadcrumbs-repo-link" href="/37nomad/Facial-Expression-Recognition-Using-Self-Attention/tree/main" data-discover="true">Facial-Expression-Recognition-Using-Self-Attention</a></li></ol></nav><div data-testid="breadcrumbs-filename" class="Box-sc-g0xbh4-0 ghzDag"><span class="Box-sc-g0xbh4-0 bQeXnn prc-Text-Text-0ima0" aria-hidden="true">/</span><h1 class="Box-sc-g0xbh4-0 dnZoUW prc-Heading-Heading-6CmGO" tabindex="-1" id="sticky-file-name-id">model-with-mlp-1-head-aug-patch-extraction.ipynb</h1></div></div><button type="button" class="prc-Button-ButtonBase-c50BI FileNameStickyHeader-module__Button--SaiiH FileNameStickyHeader-module__GoToTopButton--9lB4x" data-loading="false" data-size="small" data-variant="invisible" aria-describedby=":R4mfal9lab:-loading-announcement"><span data-component="buttonContent" data-align="center" class="prc-Button-ButtonContent-HKbr-"><span data-component="leadingVisual" class="prc-Button-Visual-2epfX prc-Button-VisualWrap-Db-eB"><svg aria-hidden="true" focusable="false" class="octicon octicon-arrow-up" viewBox="0 0 16 16" width="16" height="16" fill="currentColor" display="inline-block" overflow="visible" style="vertical-align:text-bottom"><path d="M3.47 7.78a.75.75 0 0 1 0-1.06l4.25-4.25a.75.75 0 0 1 1.06 0l4.25 4.25a.751.751 0 0 1-.018 1.042.751.751 0 0 1-1.042.018L9 4.81v7.44a.75.75 0 0 1-1.5 0V4.81L4.53 7.78a.75.75 0 0 1-1.06 0Z"></path></svg></span><span data-component="text" class="prc-Button-Label-pTQ3x">Top</span></span></button></div></div></div><div class="Box-sc-g0xbh4-0 gFKFyc BlobViewHeader-module__Box_1--PPihg"><h2 class="sr-only ScreenReaderHeading-module__userSelectNone--vW4Cq prc-Heading-Heading-6CmGO" data-testid="screen-reader-heading">File metadata and controls</h2><div class="BlobViewHeader-module__Box_2--G_jCG"><ul aria-label="File view" class="prc-SegmentedControl-SegmentedControl-e7570 BlobTabButtons-module__SegmentedControl--JMGov" data-size="small"><li class="prc-SegmentedControl-Item-7Aq6h" data-selected=""><button aria-current="true" class="prc-SegmentedControl-Button-ojWXD" type="button" style="--separator-color:transparent"><span class="prc-SegmentedControl-Content-gnQ4n segmentedControl-content"><div class="prc-SegmentedControl-Text-c5gSh segmentedControl-text" data-text="Preview">Preview</div></span></button></li><li class="prc-SegmentedControl-Item-7Aq6h"><button aria-current="false" class="prc-SegmentedControl-Button-ojWXD" type="button" style="--separator-color:var(--borderColor-default, var(--color-border-default, #30363d))"><span class="prc-SegmentedControl-Content-gnQ4n segmentedControl-content"><div class="prc-SegmentedControl-Text-c5gSh segmentedControl-text" data-text="Code">Code</div></span></button></li><li class="prc-SegmentedControl-Item-7Aq6h"><button aria-current="false" class="prc-SegmentedControl-Button-ojWXD" type="button" style="--separator-color:var(--borderColor-default, var(--color-border-default, #30363d))"><span class="prc-SegmentedControl-Content-gnQ4n segmentedControl-content"><div class="prc-SegmentedControl-Text-c5gSh segmentedControl-text" data-text="Blame">Blame</div></span></button></li></ul><button hidden="" data-testid="" data-hotkey-scope="read-only-cursor-text-area"></button><button hidden="" data-testid="" data-hotkey-scope="read-only-cursor-text-area"></button><button hidden="" data-testid="" data-hotkey-scope="read-only-cursor-text-area"></button><div class="react-code-size-details-in-header CodeSizeDetails-module__Box--QdxnQ"><div class="text-mono CodeSizeDetails-module__Box_1--_uFDs"><div title="128 KB" data-testid="blob-size" class="Truncate__StyledTruncate-sc-23o1d2-0 bgsFir CodeSizeDetails-module__Truncate_1--er0Uk"><span>2839 lines (2839 loc) · 128 KB</span></div></div></div><div class="react-code-size-details-in-header"><button style="--button-color:fg.default" type="button" aria-haspopup="true" aria-expanded="false" tabindex="0" class="Box-sc-g0xbh4-0 jlVuVO prc-Button-ButtonBase-c50BI" data-loading="false" data-size="small" data-variant="invisible" aria-describedby=":Rt6fal9lab:-loading-announcement" id=":Rt6fal9lab:"><span data-component="buttonContent" class="Box-sc-g0xbh4-0 gUkoLg prc-Button-ButtonContent-HKbr-"><span data-component="leadingVisual" class="prc-Button-Visual-2epfX prc-Button-VisualWrap-Db-eB"><svg aria-hidden="true" focusable="false" class="octicon octicon-copilot" viewBox="0 0 16 16" width="16" height="16" fill="currentColor" display="inline-block" overflow="visible" style="vertical-align:text-bottom"><path d="M7.998 15.035c-4.562 0-7.873-2.914-7.998-3.749V9.338c.085-.628.677-1.686 1.588-2.065.013-.07.024-.143.036-.218.029-.183.06-.384.126-.612-.201-.508-.254-1.084-.254-1.656 0-.87.128-1.769.693-2.484.579-.733 1.494-1.124 2.724-1.261 1.206-.134 2.262.034 2.944.765.05.053.096.108.139.165.044-.057.094-.112.143-.165.682-.731 1.738-.899 2.944-.765 1.23.137 2.145.528 2.724 1.261.566.715.693 1.614.693 2.484 0 .572-.053 1.148-.254 1.656.066.228.098.429.126.612.012.076.024.148.037.218.924.385 1.522 1.471 1.591 2.095v1.872c0 .766-3.351 3.795-8.002 3.795Zm0-1.485c2.28 0 4.584-1.11 5.002-1.433V7.862l-.023-.116c-.49.21-1.075.291-1.727.291-1.146 0-2.059-.327-2.71-.991A3.222 3.222 0 0 1 8 6.303a3.24 3.24 0 0 1-.544.743c-.65.664-1.563.991-2.71.991-.652 0-1.236-.081-1.727-.291l-.023.116v4.255c.419.323 2.722 1.433 5.002 1.433ZM6.762 2.83c-.193-.206-.637-.413-1.682-.297-1.019.113-1.479.404-1.713.7-.247.312-.369.789-.369 1.554 0 .793.129 1.171.308 1.371.162.181.519.379 1.442.379.853 0 1.339-.235 1.638-.54.315-.322.527-.827.617-1.553.117-.935-.037-1.395-.241-1.614Zm4.155-.297c-1.044-.116-1.488.091-1.681.297-.204.219-.359.679-.242 1.614.091.726.303 1.231.618 1.553.299.305.784.54 1.638.54.922 0 1.28-.198 1.442-.379.179-.2.308-.578.308-1.371 0-.765-.123-1.242-.37-1.554-.233-.296-.693-.587-1.713-.7Z"></path><path d="M6.25 9.037a.75.75 0 0 1 .75.75v1.501a.75.75 0 0 1-1.5 0V9.787a.75.75 0 0 1 .75-.75Zm4.25.75v1.501a.75.75 0 0 1-1.5 0V9.787a.75.75 0 0 1 1.5 0Z"></path></svg></span><span data-component="text" class="prc-Button-Label-pTQ3x">Code 55% faster with GitHub Copilot</span></span></button></div></div><div class="BlobViewHeader-module__Box_3--Kvpex"><div class="react-blob-header-edit-and-raw-actions BlobViewHeader-module__Box_4--vFP89"><div class="Box-sc-g0xbh4-0 prc-ButtonGroup-ButtonGroup-vcMeG"><div><a href="https://github.com/37nomad/Facial-Expression-Recognition-Using-Self-Attention/raw/refs/heads/main/model-with-mlp-1-head-aug-patch-extraction.ipynb" data-testid="raw-button" class="Box-sc-g0xbh4-0 lefpaC prc-Button-ButtonBase-c50BI BlobViewHeader-module__LinkButton--DMph4" data-loading="false" data-no-visuals="true" data-size="small" data-variant="default" aria-describedby=":R1b76fal9lab:-loading-announcement"><span data-component="buttonContent" class="Box-sc-g0xbh4-0 gUkoLg prc-Button-ButtonContent-HKbr-"><span data-component="text" class="prc-Button-Label-pTQ3x">Raw</span></span></a></div><div><button data-component="IconButton" type="button" data-testid="copy-raw-button" class="prc-Button-ButtonBase-c50BI prc-Button-IconButton-szpyj" data-loading="false" data-no-visuals="true" data-size="small" data-variant="default" aria-describedby=":R1mb76fal9lab:-loading-announcement" aria-labelledby=":R6b76fal9lab:"><svg aria-hidden="true" focusable="false" class="octicon octicon-copy" viewBox="0 0 16 16" width="16" height="16" fill="currentColor" display="inline-block" overflow="visible" style="vertical-align:text-bottom"><path d="M0 6.75C0 5.784.784 5 1.75 5h1.5a.75.75 0 0 1 0 1.5h-1.5a.25.25 0 0 0-.25.25v7.5c0 .138.112.25.25.25h7.5a.25.25 0 0 0 .25-.25v-1.5a.75.75 0 0 1 1.5 0v1.5A1.75 1.75 0 0 1 9.25 16h-7.5A1.75 1.75 0 0 1 0 14.25Z"></path><path d="M5 1.75C5 .784 5.784 0 6.75 0h7.5C15.216 0 16 .784 16 1.75v7.5A1.75 1.75 0 0 1 14.25 11h-7.5A1.75 1.75 0 0 1 5 9.25Zm1.75-.25a.25.25 0 0 0-.25.25v7.5c0 .138.112.25.25.25h7.5a.25.25 0 0 0 .25-.25v-7.5a.25.25 0 0 0-.25-.25Z"></path></svg></button><span class="prc-TooltipV2-Tooltip-cYMVY" data-direction="n" aria-hidden="true" id=":R6b76fal9lab:">Copy raw file</span></div><div><button data-component="IconButton" type="button" data-testid="download-raw-button" class="Box-sc-g0xbh4-0 ivobqY prc-Button-ButtonBase-c50BI prc-Button-IconButton-szpyj" data-loading="false" data-no-visuals="true" data-size="small" data-variant="default" aria-describedby=":Rfb76fal9lab:-loading-announcement" aria-labelledby=":R3b76fal9lab:"><svg aria-hidden="true" focusable="false" class="octicon octicon-download" viewBox="0 0 16 16" width="16" height="16" fill="currentColor" display="inline-block" overflow="visible" style="vertical-align:text-bottom"><path d="M2.75 14A1.75 1.75 0 0 1 1 12.25v-2.5a.75.75 0 0 1 1.5 0v2.5c0 .138.112.25.25.25h10.5a.25.25 0 0 0 .25-.25v-2.5a.75.75 0 0 1 1.5 0v2.5A1.75 1.75 0 0 1 13.25 14Z"></path><path d="M7.25 7.689V2a.75.75 0 0 1 1.5 0v5.689l1.97-1.969a.749.749 0 1 1 1.06 1.06l-3.25 3.25a.749.749 0 0 1-1.06 0L4.22 6.78a.749.749 0 1 1 1.06-1.06l1.97 1.969Z"></path></svg></button><span class="prc-TooltipV2-Tooltip-cYMVY" data-direction="n" aria-hidden="true" id=":R3b76fal9lab:">Download raw file</span></div></div><button hidden="" data-testid="raw-button-shortcut" data-hotkey-scope="read-only-cursor-text-area"></button><button hidden="" data-testid="copy-raw-button-shortcut" data-hotkey-scope="read-only-cursor-text-area"></button><button hidden="" data-testid="download-raw-button-shortcut" data-hotkey-scope="read-only-cursor-text-area"></button><a class="js-github-dev-shortcut d-none prc-Link-Link-85e08" href="https://github.dev/"></a><button hidden="" data-testid="" data-hotkey-scope="read-only-cursor-text-area"></button><a class="js-github-dev-new-tab-shortcut d-none prc-Link-Link-85e08" href="https://github.dev/" target="_blank"></a><button hidden="" data-testid="" data-hotkey-scope="read-only-cursor-text-area"></button><div class="Box-sc-g0xbh4-0 prc-ButtonGroup-ButtonGroup-vcMeG"><div><a sx="[object Object]" data-component="IconButton" type="button" data-testid="edit-button" class="Box-sc-g0xbh4-0 iCOsHh prc-Button-ButtonBase-c50BI BlobViewHeader-module__IconButton_1--MzNlL prc-Button-IconButton-szpyj" data-loading="false" data-no-visuals="true" data-size="small" data-variant="default" aria-describedby=":Rdl76fal9lab:-loading-announcement" aria-labelledby=":R1l76fal9lab:" href="/37nomad/Facial-Expression-Recognition-Using-Self-Attention/edit/main/model-with-mlp-1-head-aug-patch-extraction.ipynb" data-discover="true"><svg aria-hidden="true" focusable="false" class="octicon octicon-pencil" viewBox="0 0 16 16" width="16" height="16" fill="currentColor" display="inline-block" overflow="visible" style="vertical-align:text-bottom"><path d="M11.013 1.427a1.75 1.75 0 0 1 2.474 0l1.086 1.086a1.75 1.75 0 0 1 0 2.474l-8.61 8.61c-.21.21-.47.364-.756.445l-3.251.93a.75.75 0 0 1-.927-.928l.929-3.25c.081-.286.235-.547.445-.758l8.61-8.61Zm.176 4.823L9.75 4.81l-6.286 6.287a.253.253 0 0 0-.064.108l-.558 1.953 1.953-.558a.253.253 0 0 0 .108-.064Zm1.238-3.763a.25.25 0 0 0-.354 0L10.811 3.75l1.439 1.44 1.263-1.263a.25.25 0 0 0 0-.354Z"></path></svg></a><span class="prc-TooltipV2-Tooltip-cYMVY" data-direction="nw" aria-hidden="true" id=":R1l76fal9lab:">Fork this repository and edit the file</span></div><div><button data-component="IconButton" type="button" data-testid="more-edit-button" aria-haspopup="true" aria-expanded="false" tabindex="0" class="prc-Button-ButtonBase-c50BI prc-Button-IconButton-szpyj" data-loading="false" data-no-visuals="true" data-size="small" data-variant="default" aria-describedby=":R2l76fal9lab:-loading-announcement" aria-labelledby=":R1ul76fal9lab:" id=":R2l76fal9lab:"><svg aria-hidden="true" focusable="false" class="octicon octicon-triangle-down" viewBox="0 0 16 16" width="16" height="16" fill="currentColor" display="inline-block" overflow="visible" style="vertical-align:text-bottom"><path d="m4.427 7.427 3.396 3.396a.25.25 0 0 0 .354 0l3.396-3.396A.25.25 0 0 0 11.396 7H4.604a.25.25 0 0 0-.177.427Z"></path></svg></button><span class="prc-TooltipV2-Tooltip-cYMVY" data-direction="nw" aria-hidden="true" id=":R1ul76fal9lab:">More edit options</span></div></div><button hidden="" data-testid="" data-hotkey="e,Shift+E" data-hotkey-scope="read-only-cursor-text-area"></button></div><div class="react-blob-header-edit-and-raw-actions-combined"><button data-component="IconButton" type="button" title="More file actions" data-testid="more-file-actions-button" aria-haspopup="true" aria-expanded="false" tabindex="0" class="prc-Button-ButtonBase-c50BI js-blob-dropdown-click BlobViewHeader-module__IconButton--uO1fA prc-Button-IconButton-szpyj" data-loading="false" data-no-visuals="true" data-size="small" data-variant="invisible" aria-describedby=":R5v6fal9lab:-loading-announcement" aria-labelledby=":R3tv6fal9lab:" id=":R5v6fal9lab:"><svg aria-hidden="true" focusable="false" class="octicon octicon-kebab-horizontal" viewBox="0 0 16 16" width="16" height="16" fill="currentColor" display="inline-block" overflow="visible" style="vertical-align:text-bottom"><path d="M8 9a1.5 1.5 0 1 0 0-3 1.5 1.5 0 0 0 0 3ZM1.5 9a1.5 1.5 0 1 0 0-3 1.5 1.5 0 0 0 0 3Zm13 0a1.5 1.5 0 1 0 0-3 1.5 1.5 0 0 0 0 3Z"></path></svg></button><span class="prc-TooltipV2-Tooltip-cYMVY" data-direction="nw" aria-hidden="true" id=":R3tv6fal9lab:">Edit and raw actions</span></div></div></div></div><div></div></div><div class="Box-sc-g0xbh4-0 hycJXc"><section aria-labelledby="file-name-id-wide file-name-id-mobile" class="Box-sc-g0xbh4-0 iWAocR"><!--$!--><template></template><div class="Box-sc-g0xbh4-0 fgsa-DI"><span class="prc-Spinner-Box-qNUI9"><svg height="32px" width="32px" viewBox="0 0 16 16" fill="none" aria-hidden="true" aria-label="Loading" class="prc-Spinner-SpinnerAnimation-e7Gf-"><circle cx="8" cy="8" r="7" stroke="currentColor" stroke-opacity="0.25" stroke-width="2" vector-effect="non-scaling-stroke"></circle><path d="M15 8a7.002 7.002 0 00-7-7" stroke="currentColor" stroke-width="2" stroke-linecap="round" vector-effect="non-scaling-stroke"></path></svg></span></div><!--/$--></section></div></div></div> <!-- --> <!-- --> </div></div></div></div></div></div></div><div id="find-result-marks-container" class="Box-sc-g0xbh4-0 cCoXib"></div><button hidden="" data-testid="" data-hotkey-scope="read-only-cursor-text-area"></button><button hidden=""></button></div> <!-- --> <!-- --> <script type="application/json" id="__PRIMER_DATA_:R0:__">{"resolvedServerColorMode":"night"}</script></div>
</react-app>
</turbo-frame>



  </div>

</turbo-frame>

    </main>
  </div>

  </div>

          <footer class="footer pt-8 pb-6 f6 color-fg-muted p-responsive" role="contentinfo" >
  <h2 class='sr-only'>Footer</h2>

  


  <div class="d-flex flex-justify-center flex-items-center flex-column-reverse flex-lg-row flex-wrap flex-lg-nowrap">
    <div class="d-flex flex-items-center flex-shrink-0 mx-2">
      <a aria-label="GitHub Homepage" class="footer-octicon mr-2" href="https://github.com">
        <svg aria-hidden="true" height="24" viewBox="0 0 24 24" version="1.1" width="24" data-view-component="true" class="octicon octicon-mark-github">
    <path d="M12 1C5.923 1 1 5.923 1 12c0 4.867 3.149 8.979 7.521 10.436.55.096.756-.233.756-.522 0-.262-.013-1.128-.013-2.049-2.764.509-3.479-.674-3.699-1.292-.124-.317-.66-1.293-1.127-1.554-.385-.207-.936-.715-.014-.729.866-.014 1.485.797 1.691 1.128.99 1.663 2.571 1.196 3.204.907.096-.715.385-1.196.701-1.471-2.448-.275-5.005-1.224-5.005-5.432 0-1.196.426-2.186 1.128-2.956-.111-.275-.496-1.402.11-2.915 0 0 .921-.288 3.024 1.128a10.193 10.193 0 0 1 2.75-.371c.936 0 1.871.123 2.75.371 2.104-1.43 3.025-1.128 3.025-1.128.605 1.513.221 2.64.111 2.915.701.77 1.127 1.747 1.127 2.956 0 4.222-2.571 5.157-5.019 5.432.399.344.743 1.004.743 2.035 0 1.471-.014 2.654-.014 3.025 0 .289.206.632.756.522C19.851 20.979 23 16.854 23 12c0-6.077-4.922-11-11-11Z"></path>
</svg>
</a>
      <span>
        &copy; 2025 GitHub,&nbsp;Inc.
      </span>
    </div>

    <nav aria-label="Footer">
      <h3 class="sr-only" id="sr-footer-heading">Footer navigation</h3>

      <ul class="list-style-none d-flex flex-justify-center flex-wrap mb-2 mb-lg-0" aria-labelledby="sr-footer-heading">

          <li class="mx-2">
            <a data-analytics-event="{&quot;category&quot;:&quot;Footer&quot;,&quot;action&quot;:&quot;go to Terms&quot;,&quot;label&quot;:&quot;text:terms&quot;}" href="https://docs.github.com/site-policy/github-terms/github-terms-of-service" data-view-component="true" class="Link--secondary Link">Terms</a>
          </li>

          <li class="mx-2">
            <a data-analytics-event="{&quot;category&quot;:&quot;Footer&quot;,&quot;action&quot;:&quot;go to privacy&quot;,&quot;label&quot;:&quot;text:privacy&quot;}" href="https://docs.github.com/site-policy/privacy-policies/github-privacy-statement" data-view-component="true" class="Link--secondary Link">Privacy</a>
          </li>

          <li class="mx-2">
            <a data-analytics-event="{&quot;category&quot;:&quot;Footer&quot;,&quot;action&quot;:&quot;go to security&quot;,&quot;label&quot;:&quot;text:security&quot;}" href="https://github.com/security" data-view-component="true" class="Link--secondary Link">Security</a>
          </li>

          <li class="mx-2">
            <a data-analytics-event="{&quot;category&quot;:&quot;Footer&quot;,&quot;action&quot;:&quot;go to status&quot;,&quot;label&quot;:&quot;text:status&quot;}" href="https://www.githubstatus.com/" data-view-component="true" class="Link--secondary Link">Status</a>
          </li>

          <li class="mx-2">
            <a data-analytics-event="{&quot;category&quot;:&quot;Footer&quot;,&quot;action&quot;:&quot;go to docs&quot;,&quot;label&quot;:&quot;text:docs&quot;}" href="https://docs.github.com/" data-view-component="true" class="Link--secondary Link">Docs</a>
          </li>

          <li class="mx-2">
            <a data-analytics-event="{&quot;category&quot;:&quot;Footer&quot;,&quot;action&quot;:&quot;go to contact&quot;,&quot;label&quot;:&quot;text:contact&quot;}" href="https://support.github.com?tags=dotcom-footer" data-view-component="true" class="Link--secondary Link">Contact</a>
          </li>

          <li class="mx-2" >
  <cookie-consent-link>
    <button
      type="button"
      class="Link--secondary underline-on-hover border-0 p-0 color-bg-transparent"
      data-action="click:cookie-consent-link#showConsentManagement"
      data-analytics-event="{&quot;location&quot;:&quot;footer&quot;,&quot;action&quot;:&quot;cookies&quot;,&quot;context&quot;:&quot;subfooter&quot;,&quot;tag&quot;:&quot;link&quot;,&quot;label&quot;:&quot;cookies_link_subfooter_footer&quot;}"
    >
       Manage cookies
    </button>
  </cookie-consent-link>
</li>

<li class="mx-2">
  <cookie-consent-link>
    <button
      type="button"
      class="Link--secondary underline-on-hover border-0 p-0 color-bg-transparent"
      data-action="click:cookie-consent-link#showConsentManagement"
      data-analytics-event="{&quot;location&quot;:&quot;footer&quot;,&quot;action&quot;:&quot;dont_share_info&quot;,&quot;context&quot;:&quot;subfooter&quot;,&quot;tag&quot;:&quot;link&quot;,&quot;label&quot;:&quot;dont_share_info_link_subfooter_footer&quot;}"
    >
      Do not share my personal information
    </button>
  </cookie-consent-link>
</li>

      </ul>
    </nav>
  </div>
</footer>



    <ghcc-consent id="ghcc" class="position-fixed bottom-0 left-0" style="z-index: 999999"
      data-locale="en"
      data-initial-cookie-consent-allowed=""
      data-cookie-consent-required="false"
    ></ghcc-consent>



  <div id="ajax-error-message" class="ajax-error-message flash flash-error" hidden>
    <svg aria-hidden="true" height="16" viewBox="0 0 16 16" version="1.1" width="16" data-view-component="true" class="octicon octicon-alert">
    <path d="M6.457 1.047c.659-1.234 2.427-1.234 3.086 0l6.082 11.378A1.75 1.75 0 0 1 14.082 15H1.918a1.75 1.75 0 0 1-1.543-2.575Zm1.763.707a.25.25 0 0 0-.44 0L1.698 13.132a.25.25 0 0 0 .22.368h12.164a.25.25 0 0 0 .22-.368Zm.53 3.996v2.5a.75.75 0 0 1-1.5 0v-2.5a.75.75 0 0 1 1.5 0ZM9 11a1 1 0 1 1-2 0 1 1 0 0 1 2 0Z"></path>
</svg>
    <button type="button" class="flash-close js-ajax-error-dismiss" aria-label="Dismiss error">
      <svg aria-hidden="true" height="16" viewBox="0 0 16 16" version="1.1" width="16" data-view-component="true" class="octicon octicon-x">
    <path d="M3.72 3.72a.75.75 0 0 1 1.06 0L8 6.94l3.22-3.22a.749.749 0 0 1 1.275.326.749.749 0 0 1-.215.734L9.06 8l3.22 3.22a.749.749 0 0 1-.326 1.275.749.749 0 0 1-.734-.215L8 9.06l-3.22 3.22a.751.751 0 0 1-1.042-.018.751.751 0 0 1-.018-1.042L6.94 8 3.72 4.78a.75.75 0 0 1 0-1.06Z"></path>
</svg>
    </button>
    You can’t perform that action at this time.
  </div>

    <template id="site-details-dialog">
  <details class="details-reset details-overlay details-overlay-dark lh-default color-fg-default hx_rsm" open>
    <summary role="button" aria-label="Close dialog"></summary>
    <details-dialog class="Box Box--overlay d-flex flex-column anim-fade-in fast hx_rsm-dialog hx_rsm-modal">
      <button class="Box-btn-octicon m-0 btn-octicon position-absolute right-0 top-0" type="button" aria-label="Close dialog" data-close-dialog>
        <svg aria-hidden="true" height="16" viewBox="0 0 16 16" version="1.1" width="16" data-view-component="true" class="octicon octicon-x">
    <path d="M3.72 3.72a.75.75 0 0 1 1.06 0L8 6.94l3.22-3.22a.749.749 0 0 1 1.275.326.749.749 0 0 1-.215.734L9.06 8l3.22 3.22a.749.749 0 0 1-.326 1.275.749.749 0 0 1-.734-.215L8 9.06l-3.22 3.22a.751.751 0 0 1-1.042-.018.751.751 0 0 1-.018-1.042L6.94 8 3.72 4.78a.75.75 0 0 1 0-1.06Z"></path>
</svg>
      </button>
      <div class="octocat-spinner my-6 js-details-dialog-spinner"></div>
    </details-dialog>
  </details>
</template>

    <div class="Popover js-hovercard-content position-absolute" style="display: none; outline: none;">
  <div class="Popover-message Popover-message--bottom-left Popover-message--large Box color-shadow-large" style="width:360px;">
  </div>
</div>

    <template id="snippet-clipboard-copy-button">
  <div class="zeroclipboard-container position-absolute right-0 top-0">
    <clipboard-copy aria-label="Copy" class="ClipboardButton btn js-clipboard-copy m-2 p-0" data-copy-feedback="Copied!" data-tooltip-direction="w">
      <svg aria-hidden="true" height="16" viewBox="0 0 16 16" version="1.1" width="16" data-view-component="true" class="octicon octicon-copy js-clipboard-copy-icon m-2">
    <path d="M0 6.75C0 5.784.784 5 1.75 5h1.5a.75.75 0 0 1 0 1.5h-1.5a.25.25 0 0 0-.25.25v7.5c0 .138.112.25.25.25h7.5a.25.25 0 0 0 .25-.25v-1.5a.75.75 0 0 1 1.5 0v1.5A1.75 1.75 0 0 1 9.25 16h-7.5A1.75 1.75 0 0 1 0 14.25Z"></path><path d="M5 1.75C5 .784 5.784 0 6.75 0h7.5C15.216 0 16 .784 16 1.75v7.5A1.75 1.75 0 0 1 14.25 11h-7.5A1.75 1.75 0 0 1 5 9.25Zm1.75-.25a.25.25 0 0 0-.25.25v7.5c0 .138.112.25.25.25h7.5a.25.25 0 0 0 .25-.25v-7.5a.25.25 0 0 0-.25-.25Z"></path>
</svg>
      <svg aria-hidden="true" height="16" viewBox="0 0 16 16" version="1.1" width="16" data-view-component="true" class="octicon octicon-check js-clipboard-check-icon color-fg-success d-none m-2">
    <path d="M13.78 4.22a.75.75 0 0 1 0 1.06l-7.25 7.25a.75.75 0 0 1-1.06 0L2.22 9.28a.751.751 0 0 1 .018-1.042.751.751 0 0 1 1.042-.018L6 10.94l6.72-6.72a.75.75 0 0 1 1.06 0Z"></path>
</svg>
    </clipboard-copy>
  </div>
</template>
<template id="snippet-clipboard-copy-button-unpositioned">
  <div class="zeroclipboard-container">
    <clipboard-copy aria-label="Copy" class="ClipboardButton btn btn-invisible js-clipboard-copy m-2 p-0 d-flex flex-justify-center flex-items-center" data-copy-feedback="Copied!" data-tooltip-direction="w">
      <svg aria-hidden="true" height="16" viewBox="0 0 16 16" version="1.1" width="16" data-view-component="true" class="octicon octicon-copy js-clipboard-copy-icon">
    <path d="M0 6.75C0 5.784.784 5 1.75 5h1.5a.75.75 0 0 1 0 1.5h-1.5a.25.25 0 0 0-.25.25v7.5c0 .138.112.25.25.25h7.5a.25.25 0 0 0 .25-.25v-1.5a.75.75 0 0 1 1.5 0v1.5A1.75 1.75 0 0 1 9.25 16h-7.5A1.75 1.75 0 0 1 0 14.25Z"></path><path d="M5 1.75C5 .784 5.784 0 6.75 0h7.5C15.216 0 16 .784 16 1.75v7.5A1.75 1.75 0 0 1 14.25 11h-7.5A1.75 1.75 0 0 1 5 9.25Zm1.75-.25a.25.25 0 0 0-.25.25v7.5c0 .138.112.25.25.25h7.5a.25.25 0 0 0 .25-.25v-7.5a.25.25 0 0 0-.25-.25Z"></path>
</svg>
      <svg aria-hidden="true" height="16" viewBox="0 0 16 16" version="1.1" width="16" data-view-component="true" class="octicon octicon-check js-clipboard-check-icon color-fg-success d-none">
    <path d="M13.78 4.22a.75.75 0 0 1 0 1.06l-7.25 7.25a.75.75 0 0 1-1.06 0L2.22 9.28a.751.751 0 0 1 .018-1.042.751.751 0 0 1 1.042-.018L6 10.94l6.72-6.72a.75.75 0 0 1 1.06 0Z"></path>
</svg>
    </clipboard-copy>
  </div>
</template>


    <style>
      .user-mention[href$="/14deephub"] {
        color: var(--color-user-mention-fg);
        background-color: var(--bgColor-attention-muted, var(--color-attention-subtle));
        border-radius: 2px;
        margin-left: -2px;
        margin-right: -2px;
      }
      .user-mention[href$="/14deephub"]:before,
      .user-mention[href$="/14deephub"]:after {
        content: '';
        display: inline-block;
        width: 2px;
      }
    </style>


    </div>
    <div id="js-global-screen-reader-notice" class="sr-only mt-n1" aria-live="polite" aria-atomic="true" ></div>
    <div id="js-global-screen-reader-notice-assertive" class="sr-only mt-n1" aria-live="assertive" aria-atomic="true"></div>
  </body>
</html>

